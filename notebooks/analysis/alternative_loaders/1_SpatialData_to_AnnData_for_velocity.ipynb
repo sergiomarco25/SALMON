{
 "cells": [
  {
   "cell_type": "markdown",
   "id": "20955012",
   "metadata": {},
   "source": [
    "# Aim of the notebook\n",
    "In this notebook we will convert a SpatialData object to an anndata containing sufficient information to perform spatial RNA velocity"
   ]
  },
  {
   "cell_type": "code",
   "execution_count": 1,
   "id": "0076c18e",
   "metadata": {},
   "outputs": [
    {
     "name": "stderr",
     "output_type": "stream",
     "text": [
      "/home/sergio/anaconda3/envs/spatialdata/lib/python3.9/site-packages/dask/dataframe/_pyarrow_compat.py:21: UserWarning: You are using pyarrow version 12.0.0 which is known to be insecure. See https://www.cve.org/CVERecord?id=CVE-2023-47248 for further details. Please upgrade to pyarrow>=14.0.1 or install pyarrow-hotfix to patch your current version.\n",
      "  warnings.warn(\n"
     ]
    }
   ],
   "source": [
    "import spatialdata as sd\n",
    "import scanpy as sc\n",
    "import spatialdata_plot"
   ]
  },
  {
   "cell_type": "markdown",
   "id": "d7dbc5a1",
   "metadata": {},
   "source": [
    "We define the path where the SpatialData object is stored (as zarr)"
   ]
  },
  {
   "cell_type": "code",
   "execution_count": 2,
   "id": "b75e544a",
   "metadata": {},
   "outputs": [],
   "source": [
    "f='/media/sergio/Meninges/SpatialData_formatted/meninges_h27a'"
   ]
  },
  {
   "cell_type": "markdown",
   "id": "03455698",
   "metadata": {},
   "source": [
    "Next, we read the SpatialData object"
   ]
  },
  {
   "cell_type": "code",
   "execution_count": 3,
   "id": "5aa70c9b",
   "metadata": {},
   "outputs": [
    {
     "name": "stdout",
     "output_type": "stream",
     "text": [
      "\u001b[34mINFO    \u001b[0m Feature key `feature_name`could be of type `pd.Categorical`. Consider casting it.                         \n",
      "\u001b[34mINFO    \u001b[0m Feature key `feature_name`could be of type `pd.Categorical`. Consider casting it.                         \n"
     ]
    },
    {
     "name": "stderr",
     "output_type": "stream",
     "text": [
      "/home/sergio/anaconda3/envs/spatialdata/lib/python3.9/site-packages/anndata/_core/anndata.py:117: ImplicitModificationWarning: Transforming to str index.\n",
      "  warnings.warn(\"Transforming to str index.\", ImplicitModificationWarning)\n"
     ]
    }
   ],
   "source": [
    "sdata=sd.SpatialData.read(f)"
   ]
  },
  {
   "cell_type": "markdown",
   "id": "74af1b89",
   "metadata": {},
   "source": [
    "Next we extract both the expression of individual cells (AnnData) and the transcript information"
   ]
  },
  {
   "cell_type": "code",
   "execution_count": 12,
   "id": "5fbedb48",
   "metadata": {},
   "outputs": [],
   "source": [
    "adata=sdata.tables['table']\n",
    "transcripts=sdata.points['transcripts']"
   ]
  },
  {
   "cell_type": "code",
   "execution_count": 19,
   "id": "3892e27d",
   "metadata": {},
   "outputs": [
    {
     "name": "stderr",
     "output_type": "stream",
     "text": [
      "\n",
      "KeyboardInterrupt\n",
      "\n"
     ]
    }
   ],
   "source": [
    "# define maximum distance to nucleus\n",
    "max_distance_to_nucleus=5\n",
    "transcripts=transcripts[transcripts['nucleus_distance'].compute()<max_distance_to_nucleus]"
   ]
  },
  {
   "cell_type": "code",
   "execution_count": null,
   "id": "be11aa84",
   "metadata": {},
   "outputs": [
    {
     "name": "stderr",
     "output_type": "stream",
     "text": [
      "/home/sergio/anaconda3/envs/spatialdata/lib/python3.9/site-packages/dask/core.py:127: UserWarning: Boolean Series key will be reindexed to match DataFrame index.\n",
      "  return func(*(_execute_task(a, cache) for a in args))\n"
     ]
    }
   ],
   "source": [
    "import pandas as pd\n",
    "ex=pd.crosstab(transcripts['feature_name'],transcripts['cell_id'])"
   ]
  },
  {
   "cell_type": "code",
   "execution_count": null,
   "id": "673f17a3",
   "metadata": {},
   "outputs": [],
   "source": [
    "ex.head()"
   ]
  },
  {
   "cell_type": "code",
   "execution_count": null,
   "id": "6a5c5aef",
   "metadata": {},
   "outputs": [],
   "source": [
    "#get cytoplasmic expression\n",
    "spotsc=transcripts[transcripts['overlaps_nucleus'].compute()==0]\n",
    "tc=spotsc.loc[:,['feature_name','cell_id']].compute()"
   ]
  },
  {
   "cell_type": "code",
   "execution_count": 5,
   "id": "a9bf682b",
   "metadata": {},
   "outputs": [
    {
     "name": "stderr",
     "output_type": "stream",
     "text": [
      "/home/sergio/anaconda3/envs/spatialdata/lib/python3.9/site-packages/dask/dataframe/core.py:4975: UserWarning: Boolean Series key will be reindexed to match DataFrame index.\n",
      "  meta = self._meta[_extract_meta(key)]\n"
     ]
    }
   ],
   "source": [
    "#get nuclear expression\n",
    "spotsn=transcripts[transcripts['overlaps_nucleus'].compute()==1]\n",
    "tn=spotsn.loc[:,['feature_name','cell_id']].compute()"
   ]
  },
  {
   "cell_type": "code",
   "execution_count": null,
   "id": "9e97fdd2",
   "metadata": {},
   "outputs": [],
   "source": [
    "# create the cellxgene matrix for nuc counts and cytoplasmic\n",
    "nuc=pd.crosstab(tn['cell_id'],tn['gene'])\n",
    "cyt=pd.crosstab(tc['cell_id'],tc['gene'])"
   ]
  },
  {
   "cell_type": "code",
   "execution_count": null,
   "id": "179e659c",
   "metadata": {},
   "outputs": [],
   "source": []
  },
  {
   "cell_type": "code",
   "execution_count": null,
   "id": "7783e52a",
   "metadata": {},
   "outputs": [],
   "source": [
    "#tr2['centroid_distance']=np.sqrt((tr2['x']-tr2['x_cell'])**2+(tr2['y']-tr2['y_cell'])**2)\n",
    "adata.obs['cell_id']=adata.obs.index\n",
    "# divide data in nuclei and cytopasm\n",
    "#adata.var.index=adata.raw.var.index\n",
    "adata=adata[adata.obs['cell_id'].isin(nuc.index)]\n",
    "adata=adata[adata.obs['cell_id'].isin(cyt.index)]\n",
    "nucsort=nuc.loc[adata.obs['cell_id'],adata.var.index]\n",
    "cytsort=cyt.loc[adata.obs['cell_id'],adata.var.index]\n",
    "adata.layers['spliced']=np.array(cytsort)\n",
    "adata.layers['unspliced']=np.array(nucsort)"
   ]
  },
  {
   "cell_type": "code",
   "execution_count": null,
   "id": "3597f706",
   "metadata": {},
   "outputs": [],
   "source": [
    "adata.write()"
   ]
  }
 ],
 "metadata": {
  "kernelspec": {
   "display_name": "SpatialData2",
   "language": "python",
   "name": "spatialdata2"
  },
  "language_info": {
   "codemirror_mode": {
    "name": "ipython",
    "version": 3
   },
   "file_extension": ".py",
   "mimetype": "text/x-python",
   "name": "python",
   "nbconvert_exporter": "python",
   "pygments_lexer": "ipython3",
   "version": "3.9.16"
  }
 },
 "nbformat": 4,
 "nbformat_minor": 5
}
