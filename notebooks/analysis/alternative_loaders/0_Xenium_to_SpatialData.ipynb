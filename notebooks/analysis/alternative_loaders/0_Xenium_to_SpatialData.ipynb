{
 "cells": [
  {
   "cell_type": "markdown",
   "id": "2284eb64",
   "metadata": {},
   "source": [
    "# Aim of the notebook"
   ]
  },
  {
   "cell_type": "markdown",
   "id": "b55399b3",
   "metadata": {},
   "source": [
    "The aim of this notebook is to format Xenium's default output to SpatialData format"
   ]
  },
  {
   "cell_type": "markdown",
   "id": "9c6bc695",
   "metadata": {},
   "source": [
    "## Load packages"
   ]
  },
  {
   "cell_type": "code",
   "execution_count": 1,
   "id": "b2ae0d48",
   "metadata": {},
   "outputs": [
    {
     "name": "stderr",
     "output_type": "stream",
     "text": [
      "/home/sergio/anaconda3/envs/spatialdata/lib/python3.9/site-packages/geopandas/_compat.py:124: UserWarning: The Shapely GEOS version (3.11.1-CAPI-1.17.1) is incompatible with the GEOS version PyGEOS was compiled with (3.10.4-CAPI-1.16.2). Conversions between both will be slow.\n",
      "  warnings.warn(\n",
      "/home/sergio/anaconda3/envs/spatialdata/lib/python3.9/site-packages/spatialdata/__init__.py:9: UserWarning: Geopandas was set to use PyGEOS, changing to shapely 2.0 with:\n",
      "\n",
      "\tgeopandas.options.use_pygeos = True\n",
      "\n",
      "If you intended to use PyGEOS, set the option to False.\n",
      "  _check_geopandas_using_shapely()\n"
     ]
    }
   ],
   "source": [
    "import spatialdata as sd\n",
    "from spatialdata_io import xenium"
   ]
  },
  {
   "cell_type": "markdown",
   "id": "7fb2dfc2",
   "metadata": {},
   "source": [
    "We next define the input and output paths"
   ]
  },
  {
   "cell_type": "code",
   "execution_count": 82,
   "id": "e843eed1",
   "metadata": {},
   "outputs": [],
   "source": [
    "path='/media/sergio/Meninges/meninges/20230705__20230705_MENINGES_ELIN_run2/output-XETG00047__0005264__HE27a__20230705__134603'\n",
    "path_to_write='/media/sergio/Meninges/SpatialData_formatted/meninges_h27a'"
   ]
  },
  {
   "cell_type": "markdown",
   "id": "d2d71e13",
   "metadata": {},
   "source": [
    "We read the SpatialData"
   ]
  },
  {
   "cell_type": "code",
   "execution_count": 83,
   "id": "096b5b4b",
   "metadata": {},
   "outputs": [
    {
     "name": "stdout",
     "output_type": "stream",
     "text": [
      "\u001b[34mINFO    \u001b[0m reading                                                                                                   \n",
      "         \u001b[35m/media/sergio/Meninges/meninges/20230705__20230705_MENINGES_ELIN_run2/output-XETG00047__0005264__HE27a__20\u001b[0m\n",
      "         \u001b[35m230705__134603/\u001b[0m\u001b[95mcell_feature_matrix.h5\u001b[0m                                                                     \n"
     ]
    },
    {
     "name": "stderr",
     "output_type": "stream",
     "text": [
      "/home/sergio/anaconda3/envs/spatialdata/lib/python3.9/site-packages/spatialdata_io/readers/xenium.py:194: UserWarning: Converting `region_key: region` to categorical dtype.\n",
      "  table = TableModel.parse(adata, region=specs[\"region\"], region_key=\"region\", instance_key=str(XeniumKeys.CELL_ID))\n"
     ]
    }
   ],
   "source": [
    "sdata=xenium(path)"
   ]
  },
  {
   "cell_type": "markdown",
   "id": "a6c2c964",
   "metadata": {},
   "source": [
    "Due to some errors, we needed to reformat the some parts of spatialdata file"
   ]
  },
  {
   "cell_type": "code",
   "execution_count": 85,
   "id": "a310337a",
   "metadata": {},
   "outputs": [],
   "source": [
    "sdata.shapes['cell_boundaries'].index=sdata.shapes['nucleus_boundaries'].index\n",
    "sdata.table.obs['cell_id']=sdata.table.obs['cell_id'].astype(str)\n",
    "sdata.points['transcripts']['feature_name']=sdata.points['transcripts']['feature_name'].astype(str)"
   ]
  },
  {
   "cell_type": "markdown",
   "id": "ac4195f1",
   "metadata": {},
   "source": [
    "Finally, we save the file in zarr format"
   ]
  },
  {
   "cell_type": "code",
   "execution_count": 86,
   "id": "85386621",
   "metadata": {},
   "outputs": [],
   "source": [
    "sdata.write(path_to_write)"
   ]
  }
 ],
 "metadata": {
  "kernelspec": {
   "display_name": "SpatialData2",
   "language": "python",
   "name": "spatialdata2"
  },
  "language_info": {
   "codemirror_mode": {
    "name": "ipython",
    "version": 3
   },
   "file_extension": ".py",
   "mimetype": "text/x-python",
   "name": "python",
   "nbconvert_exporter": "python",
   "pygments_lexer": "ipython3",
   "version": "3.9.16"
  }
 },
 "nbformat": 4,
 "nbformat_minor": 5
}
