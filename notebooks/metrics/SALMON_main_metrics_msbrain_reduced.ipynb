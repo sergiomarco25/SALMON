{
 "cells": [
  {
   "cell_type": "code",
   "execution_count": null,
   "id": "e70d45e1",
   "metadata": {},
   "outputs": [],
   "source": [
    "import numpy as np\n",
    "import pandas as pd\n",
    "import scanpy as sc\n",
    "import seaborn as sns\n",
    "import matplotlib.pyplot as plt\n",
    "import squidpy as sq\n",
    "from tqdm import tqdm\n",
    "\n",
    "import sys  \n",
    "sys.path.insert(1,'/home/sergio/Jnotebooks/SALMON')\n",
    "from SALMON.points2regions import *\n",
    "from SALMON.formatting import *\n",
    "from SALMON.metrics import *\n",
    "from SALMON.microenvironment_metrics import *"
   ]
  },
  {
   "cell_type": "code",
   "execution_count": null,
   "id": "116324dc",
   "metadata": {},
   "outputs": [],
   "source": [
    "\n",
    "def perimeter(convexhull=''):\n",
    "    perimeter = 0\n",
    "    for i in range(len(convexhull)):\n",
    "        j = (i + 1) % len(convexhull)\n",
    "        perimeter += np.linalg.norm(convexhull[i] - convexhull[j])\n",
    "    return perimeter\n",
    "\n",
    "def morphology_characteristics(points='a'):\n",
    "    from scipy.spatial import ConvexHull\n",
    "    points=np.array([a['x_location'],a['y_location']]).transpose()\n",
    "    rds=ConvexHull(points)\n",
    "    # computing convex hull\n",
    "    ch=np.array([points[rds.vertices,0], points[rds.vertices,1]]).transpose()\n",
    "    #perimeter calculation\n",
    "    peri=perimeter(ch)\n",
    "    centroid = np.mean(points, axis=0)\n",
    "    distances = np.linalg.norm(ch - centroid, axis=1)\n",
    "    max_distance = np.max(distances)\n",
    "    min_distance = np.min(distances)\n",
    "    eccentricity = max_distance / min_distance\n",
    "    #circularity\n",
    "    circularity = 1 / eccentricity\n",
    "    return peri,eccentricity,circularity "
   ]
  },
  {
   "cell_type": "code",
   "execution_count": null,
   "id": "4ed8a5b8",
   "metadata": {},
   "outputs": [],
   "source": [
    "###to be developed####\n",
    "def compute_knn_read_distance(adatafilt):\n",
    "\n",
    "    subdata=sc.AnnData(obs=adatafilt.uns['spots'])\n",
    "    subdata.obsm['spatial']=np.array([adatafilt.uns['spots']['x_location'],adatafilt.uns['spots']['y_location']]).transpose()\n",
    "    sq.gr.spatial_neighbors(subdata,n_neighs=1,coord_type = 'generic')\n",
    "    n=0\n",
    "    tr=subdata.obsp['spatial_distances'].transpose()\n",
    "    tr2=tr>0\n",
    "    knndist=tr2.dot(subdata.obsm['spatial'])\n",
    "    subdata.obs['closest_spot_distance']=np.sqrt(np.sum((subdata.obsm['spatial']-knndist)**2,axis=1))\n",
    "    #compute, per cell, the density [TO IMPLEMENT]\n",
    "    \n",
    "    return adatafilt"
   ]
  },
  {
   "cell_type": "markdown",
   "id": "62ff7f0b",
   "metadata": {},
   "source": [
    "# read data"
   ]
  },
  {
   "cell_type": "code",
   "execution_count": null,
   "id": "67e4ced8",
   "metadata": {},
   "outputs": [],
   "source": [
    "adata=sc.read('../../datasets/unprocessed_adata/realmouse_1.h5ad')"
   ]
  },
  {
   "cell_type": "markdown",
   "id": "32ed1c38",
   "metadata": {},
   "source": [
    "# Filter reads based on distance"
   ]
  },
  {
   "cell_type": "code",
   "execution_count": null,
   "id": "57e0645c",
   "metadata": {},
   "outputs": [],
   "source": [
    "id2x=dict(zip(adata.obs['cell_id'],adata.obs['x_centroid']))\n",
    "id2y=dict(zip(adata.obs['cell_id'],adata.obs['y_centroid']))\n",
    "# this dataset doesn't have info about distance to nucleus. thus we need to compute it\n",
    "cellx=adata.uns['spots']['cell_id'].map(id2x)\n",
    "celly=adata.uns['spots']['cell_id'].map(id2y)\n",
    "adata.uns['spots']['nucleus_distance']=np.sqrt((adata.uns['spots']['x_location']-cellx)**2+(adata.uns['spots']['y_location']-celly)**2)\n",
    "adata.obsm['spatial']=np.array([adata.obs['x_centroid'],adata.obs['y_centroid']]).transpose()"
   ]
  },
  {
   "cell_type": "code",
   "execution_count": null,
   "id": "ee7e2c75",
   "metadata": {},
   "outputs": [],
   "source": [
    "ss=plt.hist(adata.uns['spots']['nucleus_distance'],bins=200)"
   ]
  },
  {
   "cell_type": "code",
   "execution_count": null,
   "id": "e695139b",
   "metadata": {},
   "outputs": [],
   "source": [
    "adata.obs['x_centroid'].max()\n",
    "adata=adata[adata.obs['x_centroid']<5000]\n",
    "#adata=adata[adata.obs['y_centroid']<5000]"
   ]
  },
  {
   "cell_type": "code",
   "execution_count": null,
   "id": "a374fc75",
   "metadata": {},
   "outputs": [],
   "source": [
    "adata"
   ]
  },
  {
   "cell_type": "code",
   "execution_count": null,
   "id": "e536149e",
   "metadata": {},
   "outputs": [],
   "source": [
    "adata=adata_based_transcripts(adata)"
   ]
  },
  {
   "cell_type": "code",
   "execution_count": null,
   "id": "f417ab65",
   "metadata": {},
   "outputs": [],
   "source": [
    "#adata=filter_distant_reads(adata,max_distance=3)"
   ]
  },
  {
   "cell_type": "code",
   "execution_count": null,
   "id": "387783ec",
   "metadata": {
    "scrolled": true
   },
   "outputs": [],
   "source": [
    "adatafilt=transcript_based_adata(adata)"
   ]
  },
  {
   "cell_type": "code",
   "execution_count": null,
   "id": "7eddf5da",
   "metadata": {},
   "outputs": [],
   "source": [
    "adata"
   ]
  },
  {
   "cell_type": "code",
   "execution_count": null,
   "id": "c3532206",
   "metadata": {},
   "outputs": [],
   "source": [
    "adatafilt.obs.index=adatafilt.obs.index.astype(str).astype('category')\n",
    "adatafilt.obs['cell_id']=adatafilt.obs['cell_id'].astype(str).astype('category')\n",
    "adatafilt.uns['spots']['cell_id']=adatafilt.uns['spots']['cell_id'].astype(str).astype('category')\n",
    "adatafilt.obsm['spatial']=np.array([adatafilt.obs['x_centroid'],adatafilt.obs['y_centroid']]).transpose()\n",
    "adatafilt.uns['spots']['feauture_name']=adatafilt.uns['spots']['feature_name'].astype(str)"
   ]
  },
  {
   "cell_type": "code",
   "execution_count": null,
   "id": "2a2833bc",
   "metadata": {
    "scrolled": false
   },
   "outputs": [],
   "source": [
    "adatafilt=compute_nuclear_centroid(adatafilt)"
   ]
  },
  {
   "cell_type": "code",
   "execution_count": null,
   "id": "164a8c65",
   "metadata": {},
   "outputs": [],
   "source": [
    "adatafilt=define_cell_polarities(adatafilt)"
   ]
  },
  {
   "cell_type": "code",
   "execution_count": null,
   "id": "3e318f04",
   "metadata": {},
   "outputs": [],
   "source": [
    "adatafilt=polarization_based_pca(adatafilt,min_gene_counts=2)"
   ]
  },
  {
   "cell_type": "code",
   "execution_count": null,
   "id": "732d86fe",
   "metadata": {},
   "outputs": [],
   "source": [
    "adatafilt=nuclear_and_cytoplasmic_characteristics(adatafilt,minimum_expression=1)\n",
    "adatafilt=compute_closest_neighbor_distance(adatafilt)\n",
    "adatafilt=local_density_p2r(adatafilt)"
   ]
  },
  {
   "cell_type": "code",
   "execution_count": null,
   "id": "d794dd01",
   "metadata": {},
   "outputs": [],
   "source": [
    "def morphology_alphashape(adata,alphas):\n",
    "    import os\n",
    "    import sys\n",
    "    import pandas as pd\n",
    "    import numpy as np\n",
    "    from descartes import PolygonPatch\n",
    "    import matplotlib.pyplot as plt\n",
    "    sys.path.insert(0, os.path.dirname(os.getcwd()))\n",
    "    import alphashape\n",
    "    from scipy.spatial import ConvexHull\n",
    "    spot=adata.uns['spots']\n",
    "    \n",
    "    for cid in tqdm(adata.obs['cell_id'].unique()):\n",
    "        a=spot[spot['cell_id'].isin([cid])]\n",
    "        points=np.array([a['x_location'],a['y_location']]).transpose()\n",
    "        alpha_shape = alphashape.alphashape(points, alphas)\n",
    "        alpha_shape\n",
    "        \n",
    "    return peri,eccentricity,circularity "
   ]
  },
  {
   "cell_type": "code",
   "execution_count": null,
   "id": "e3952659",
   "metadata": {},
   "outputs": [],
   "source": [
    "adatafilt"
   ]
  },
  {
   "cell_type": "code",
   "execution_count": null,
   "id": "5e43079e",
   "metadata": {},
   "outputs": [],
   "source": [
    "#pe=morphology_alphashape(adata,2.0)"
   ]
  },
  {
   "cell_type": "markdown",
   "id": "2757c9a4",
   "metadata": {},
   "source": [
    "# Process adata and ct identification"
   ]
  },
  {
   "cell_type": "code",
   "execution_count": null,
   "id": "b76fed81",
   "metadata": {},
   "outputs": [],
   "source": [
    "adatafilt.var.index=adatafilt.var['gene_id']\n",
    "adatafilt.raw=adatafilt\n",
    "sc.pp.filter_cells(adatafilt,min_counts=20)\n",
    "sc.pp.normalize_total(adatafilt)\n",
    "sc.pp.log1p(adatafilt)\n"
   ]
  },
  {
   "cell_type": "code",
   "execution_count": null,
   "id": "1b34f30b",
   "metadata": {},
   "outputs": [],
   "source": [
    "sc.pp.neighbors(adatafilt)\n",
    "sc.tl.umap(adatafilt)\n",
    "sc.tl.leiden(adatafilt)"
   ]
  },
  {
   "cell_type": "code",
   "execution_count": null,
   "id": "e516594b",
   "metadata": {},
   "outputs": [],
   "source": [
    "sc.set_figure_params(scanpy=True, dpi=150,figsize=(6,6))\n",
    "sc.pl.umap(adatafilt,color=['intracellular_min_correlation','intracellular_mean_correlation'],vmax='p99.9',vmin='p20',cmap='coolwarm',s=20,ncols=2,frameon=False)"
   ]
  },
  {
   "cell_type": "code",
   "execution_count": null,
   "id": "84f1548c",
   "metadata": {},
   "outputs": [],
   "source": [
    "sc.set_figure_params(scanpy=True, dpi=150,figsize=(6,6))\n",
    "sc.pl.umap(adatafilt,color=['intracellular_mean_correlation'],vmax='p99.9',cmap='coolwarm',vmin=0.8,s=2,ncols=2,frameon=False,colorbar_loc=None)"
   ]
  },
  {
   "cell_type": "code",
   "execution_count": null,
   "id": "7c2a10e1",
   "metadata": {},
   "outputs": [],
   "source": [
    "sc.set_figure_params(scanpy=True, dpi=150,figsize=(6,6))\n",
    "sc.pl.umap(adatafilt,color=['nuc_counts_proportion','cyt_counts_proportion','distance_centroid_to_nuccentroid'],vmax='p99.9',cmap='viridis',s=2,ncols=2,frameon=False)"
   ]
  },
  {
   "cell_type": "code",
   "execution_count": null,
   "id": "f05b6a0b",
   "metadata": {},
   "outputs": [],
   "source": [
    "sc.pl.umap(adatafilt,color=['leiden','nuc_genes_proportion','nuc_and_cyt_genes_proportion','cyt_genes_proportion'],vmax='p99.9',cmap='viridis',s=2,ncols=2)"
   ]
  },
  {
   "cell_type": "code",
   "execution_count": null,
   "id": "4fb941e2",
   "metadata": {},
   "outputs": [],
   "source": [
    "sc.set_figure_params(scanpy=True, dpi=150,figsize=(15,15))\n",
    "plt.rcParams['figure.facecolor'] = 'white'\n",
    "sc.pl.spatial(adatafilt,spot_size=25,color=['leiden'])"
   ]
  },
  {
   "cell_type": "code",
   "execution_count": null,
   "id": "125c035f",
   "metadata": {},
   "outputs": [],
   "source": [
    "adatafilt=calcualte_densities(adatafilt)\n",
    "adatafilt=nuclear_to_cytoplasmic_correlation(adatafilt)"
   ]
  },
  {
   "cell_type": "code",
   "execution_count": null,
   "id": "f023a7e9",
   "metadata": {},
   "outputs": [],
   "source": [
    "adatafilt=gene_nuclear_to_cytoplasmic_correlation(adatafilt)"
   ]
  },
  {
   "cell_type": "code",
   "execution_count": null,
   "id": "f046b93f",
   "metadata": {},
   "outputs": [],
   "source": [
    "adatafilt=centrality_scores(adatafilt)"
   ]
  },
  {
   "cell_type": "code",
   "execution_count": null,
   "id": "9f3d197d",
   "metadata": {},
   "outputs": [],
   "source": [
    "adatafilt=format_data_neighs_radius(adatafilt,'leiden','sample',radius=100)"
   ]
  },
  {
   "cell_type": "code",
   "execution_count": null,
   "id": "9b1b446f",
   "metadata": {},
   "outputs": [],
   "source": [
    "magnitudes=['cell_area','nucleus_area','nuc_and_cyt_genes', 'cyt_genes', 'nuc_genes',\n",
    "'expressed_genes','nuc_and_cyt_genes_proportion', 'cyt_genes_proportion','nuc_genes_proportion', 'cyt_counts', 'nuc_counts',\n",
    "'n_counts', 'cyt_counts_proportion', 'nuc_counts_proportion','distance_centroid_to_nuccentroid',\n",
    "           'cell_density','nuc_density','cyt_density','cyt_nuc_correlation','neighborhood_diversity', 'neighborhood_density',\n",
    "           'intracellular_min_correlation','intracellular_mean_correlation','closest_cell_distance','mean_polarity', 'max_polarity','polarity_pc', 'mean_distance_to_gene_centroids']"
   ]
  },
  {
   "cell_type": "code",
   "execution_count": null,
   "id": "bcf1e37f",
   "metadata": {},
   "outputs": [],
   "source": [
    "scores=adatafilt.obs[magnitudes]"
   ]
  },
  {
   "cell_type": "code",
   "execution_count": null,
   "id": "b44b8ce5",
   "metadata": {},
   "outputs": [],
   "source": [
    "scores.astype(float)"
   ]
  },
  {
   "cell_type": "code",
   "execution_count": null,
   "id": "ebc4c35e",
   "metadata": {
    "scrolled": false
   },
   "outputs": [],
   "source": [
    "scores=adatafilt.obs[magnitudes]\n",
    "scores=scores.astype(float).dropna(axis=0)\n",
    "resu=pd.DataFrame(index=magnitudes,columns=magnitudes)\n",
    "plt.figure(figsize=(15,15),dpi=400)\n",
    "for mag in magnitudes:\n",
    "    for mag2 in magnitudes:\n",
    "        resu.loc[mag,mag2]=np.corrcoef(scores[mag].astype(float),scores[mag2].astype(float))[0,1]\n",
    "sns.clustermap(resu.astype(float),cmap='coolwarm',figsize=(15,15))"
   ]
  },
  {
   "cell_type": "markdown",
   "id": "41b90ab9",
   "metadata": {},
   "source": [
    "# Questions about the data ###"
   ]
  },
  {
   "cell_type": "markdown",
   "id": "f8269f41",
   "metadata": {},
   "source": [
    "## QUESTION 1: How are genes distributed in compartments?"
   ]
  },
  {
   "cell_type": "code",
   "execution_count": null,
   "id": "d28da5c3",
   "metadata": {},
   "outputs": [],
   "source": [
    "sub=adatafilt.obs.loc[:,['nuc_genes_proportion','nuc_and_cyt_genes_proportion','cyt_genes_proportion']]\n",
    "sub2=sub.stack().reset_index()\n",
    "sub2['level_1']=sub2['level_1'].str.replace('_proportion','')\n",
    "sub2.columns=['ind','level_1','proportion']\n",
    "plt.figure(figsize=(3,2))\n",
    "sns.violinplot(data=sub2,y=sub2['level_1'],x=sub2['proportion'])"
   ]
  },
  {
   "cell_type": "markdown",
   "id": "054ca3fd",
   "metadata": {},
   "source": [
    "## QUESTION 2: How are counts distributed in nuclei vs cytoplasm? "
   ]
  },
  {
   "cell_type": "code",
   "execution_count": null,
   "id": "18b32d53",
   "metadata": {},
   "outputs": [],
   "source": [
    "sub=adatafilt.obs.loc[:,['nuc_counts_proportion','cyt_counts_proportion']]\n",
    "sub2=sub.stack().reset_index()\n",
    "sub2['level_1']=sub2['level_1'].str.replace('_proportion','')\n",
    "sub2.columns=['ind','level_1','proportion']\n",
    "plt.figure(figsize=(3,2))\n",
    "sns.violinplot(data=sub2,y=sub2['level_1'],x=sub2['proportion'])"
   ]
  },
  {
   "cell_type": "markdown",
   "id": "ea2a454b",
   "metadata": {},
   "source": [
    "## QUESTION 3: How are the areas of each compatment?"
   ]
  },
  {
   "cell_type": "code",
   "execution_count": null,
   "id": "5ec863cf",
   "metadata": {},
   "outputs": [],
   "source": [
    "sub=adatafilt.obs.loc[:,['nucleus_area','cell_area','cytoplasm_area']]\n",
    "sub2=sub.stack().reset_index()\n",
    "sub2['level_1']=sub2['level_1'].str.replace('_proportion','')\n",
    "sub2.columns=['ind','level_1','read/area']\n",
    "plt.figure(figsize=(6,2),dpi=200)\n",
    "sns.violinplot(data=sub2,y=sub2['level_1'],x=sub2['read/area'])"
   ]
  },
  {
   "cell_type": "markdown",
   "id": "a03ae471",
   "metadata": {},
   "source": [
    "## QUESTION 4: Is the cell Area dependent on cell type?"
   ]
  },
  {
   "cell_type": "code",
   "execution_count": null,
   "id": "f0a6ea2c",
   "metadata": {},
   "outputs": [],
   "source": [
    "sub=adatafilt.obs.loc[:,['cell_area','leiden']]\n",
    "plt.figure(figsize=(20,4),dpi=200)\n",
    "sns.violinplot(data=sub,x=sub['leiden'],y=sub['cell_area'])"
   ]
  },
  {
   "cell_type": "code",
   "execution_count": null,
   "id": "dcc46901",
   "metadata": {},
   "outputs": [],
   "source": [
    "sub=adatafilt.obs.loc[:,['nucleus_area','leiden']]\n",
    "plt.figure(figsize=(20,4),dpi=100)\n",
    "sns.violinplot(data=sub,x=sub['leiden'],y=sub['nucleus_area'])"
   ]
  },
  {
   "cell_type": "markdown",
   "id": "7e2b0a66",
   "metadata": {},
   "source": [
    "## QUESTION 5: How does the compartment density behave?"
   ]
  },
  {
   "cell_type": "code",
   "execution_count": null,
   "id": "381aeb34",
   "metadata": {},
   "outputs": [],
   "source": [
    "sub=adatafilt.obs.loc[:,['nuc_density','cell_density','cyt_density']]\n",
    "sub2=sub.stack().reset_index()\n",
    "sub2['level_1']=sub2['level_1'].str.replace('_proportion','')\n",
    "sub2.columns=['ind','level_1','read/area']\n",
    "plt.figure(figsize=(6,4),dpi=100)\n",
    "sns.violinplot(data=sub2,y=sub2['level_1'],x=sub2['read/area'])"
   ]
  },
  {
   "cell_type": "code",
   "execution_count": null,
   "id": "0a55b93e",
   "metadata": {},
   "outputs": [],
   "source": []
  },
  {
   "cell_type": "code",
   "execution_count": null,
   "id": "91be1c76",
   "metadata": {},
   "outputs": [],
   "source": []
  },
  {
   "cell_type": "code",
   "execution_count": null,
   "id": "c1fa73b2",
   "metadata": {
    "scrolled": true
   },
   "outputs": [],
   "source": [
    "for mg in magnitudes:\n",
    "    sc.pl.violin(adatafilt,mg,groupby='leiden',figsize=(10,3))"
   ]
  },
  {
   "cell_type": "code",
   "execution_count": null,
   "id": "9fa98209",
   "metadata": {},
   "outputs": [],
   "source": [
    "adatafilt.var.sort_values(by='nuc_cyt_correlation',ascending=False).head(20)"
   ]
  },
  {
   "cell_type": "code",
   "execution_count": null,
   "id": "026eeed7",
   "metadata": {},
   "outputs": [],
   "source": [
    "sc.set_figure_params(scanpy=True, dpi=70,figsize=(8,8))\n",
    "sc.pl.umap(adatafilt,color=['cyt_nuc_correlation','leiden'],ncols=2,frameon=False,s=4,cmap='coolwarm')"
   ]
  },
  {
   "cell_type": "code",
   "execution_count": null,
   "id": "8834a243",
   "metadata": {},
   "outputs": [],
   "source": [
    "sc.set_figure_params(scanpy=True, dpi=200,figsize=(15,7))\n",
    "sc.pl.violin(adatafilt,keys='polarity_pc',groupby='leiden',swap_axes=True)"
   ]
  },
  {
   "cell_type": "code",
   "execution_count": null,
   "id": "76a4f884",
   "metadata": {},
   "outputs": [],
   "source": [
    "sc.set_figure_params(scanpy=True, dpi=150,figsize=(15,15))\n",
    "plt.rcParams['figure.facecolor'] = 'white'\n",
    "sc.pl.spatial(adatafilt,spot_size=25,color=['polarity_pc'],cmap='Blues')"
   ]
  },
  {
   "cell_type": "markdown",
   "id": "f5fbe391",
   "metadata": {},
   "source": [
    "# NMF"
   ]
  },
  {
   "cell_type": "code",
   "execution_count": null,
   "id": "3bc98408",
   "metadata": {},
   "outputs": [],
   "source": [
    "# NMF\n",
    "from sklearn.decomposition import NMF\n",
    "import numpy as np\n",
    "\n",
    "# Assuming your expression matrix is stored in a variable named \"expression_matrix\"\n",
    "# Make sure it's a numpy array and contains non-negative values\n",
    "# Replace this with your actual data\n",
    "expression_matrix = adatafilt.X\n",
    "\n",
    "# Define the number of components (factors) for NMF\n",
    "n_components = 10\n",
    "\n",
    "# Initialize the NMF model\n",
    "model = NMF(n_components=n_components, init='random', random_state=0)\n",
    "\n",
    "# Fit the model to your expression matrix\n",
    "W = model.fit_transform(expression_matrix)\n",
    "H = model.components_\n",
    "\n",
    "# Now W and H contain the factorized matrices\n",
    "# W represents the sample-feature matrix\n",
    "# H represents the feature-gene matrix\n"
   ]
  },
  {
   "cell_type": "code",
   "execution_count": null,
   "id": "0b7eabc9",
   "metadata": {},
   "outputs": [],
   "source": [
    "contr=pd.DataFrame(H,columns=adatafilt.var.index)\n",
    "contr2=contr.loc[:,np.max(contr,axis=0)>0.6]\n",
    "sns.clustermap(contr2,figsize=(30,20))"
   ]
  },
  {
   "cell_type": "code",
   "execution_count": null,
   "id": "29b841b0",
   "metadata": {
    "scrolled": true
   },
   "outputs": [],
   "source": [
    "factous=pd.DataFrame(W,columns=['factor'+str(i) for i in  range(0,W.shape[1])])\n",
    "for c in factous.columns:\n",
    "    adatafilt.obs.loc[:,c]=list(factous.loc[:,c])\n",
    "adatafilt.obs['max_factor']=np.max(adatafilt.obs[factous.columns],axis=1)/np.sum(adatafilt.obs[factous.columns],axis=1)\n",
    "sc.pl.umap(adatafilt,color=['max_factor'],ncols=2,frameon=False,s=50,cmap='coolwarm')\n",
    "sc.pl.umap(adatafilt,color=factous.columns,ncols=2,frameon=False,s=50,cmap='coolwarm')"
   ]
  },
  {
   "cell_type": "code",
   "execution_count": null,
   "id": "e316b190",
   "metadata": {},
   "outputs": [],
   "source": [
    "adatafilt.obs[factous.columns]"
   ]
  },
  {
   "cell_type": "code",
   "execution_count": null,
   "id": "0cf3959b",
   "metadata": {},
   "outputs": [],
   "source": [
    "adatafilt.obs[magnitudes]"
   ]
  },
  {
   "cell_type": "code",
   "execution_count": null,
   "id": "951b3d9c",
   "metadata": {},
   "outputs": [],
   "source": [
    "sc.pl.dotplot(adatafilt,factous.columns,groupby='leiden')"
   ]
  },
  {
   "cell_type": "code",
   "execution_count": null,
   "id": "07f631a8",
   "metadata": {},
   "outputs": [],
   "source": [
    "scores=adatafilt.obs[list(magnitudes)+list(factous.columns)+list(['max_factor'])]\n",
    "scores=scores.astype(float).dropna(axis=0)\n",
    "resu=pd.DataFrame(index=magnitudes,columns=list(factous.columns)+list(['max_factor']))\n",
    "plt.figure(figsize=(15,15),dpi=400)\n",
    "for mag in magnitudes:\n",
    "    for mag2 in list(factous.columns)+list(['max_factor']):\n",
    "        resu.loc[mag,mag2]=np.corrcoef(scores[mag].astype(float),scores[mag2].astype(float))[0,1]\n",
    "sns.clustermap(resu.astype(float),cmap='coolwarm',figsize=(15,15),vmax=1,vmin=-1)"
   ]
  },
  {
   "cell_type": "code",
   "execution_count": null,
   "id": "f9035689",
   "metadata": {},
   "outputs": [],
   "source": []
  },
  {
   "cell_type": "code",
   "execution_count": null,
   "id": "9e27f8c9",
   "metadata": {},
   "outputs": [],
   "source": []
  },
  {
   "cell_type": "markdown",
   "id": "3eecd2b8",
   "metadata": {},
   "source": [
    "# Nuclear vs cytoplasmic expression"
   ]
  },
  {
   "cell_type": "code",
   "execution_count": null,
   "id": "9a1b0ef3",
   "metadata": {},
   "outputs": [],
   "source": [
    "nuc_ann=sc.AnnData(adatafilt.uns['nuclear_expression'].loc[adatafilt.obs['cell_id'],:],obs=adatafilt.obs)\n",
    "nuc_ann.obs['nuc_cyt']='nuc'\n",
    "cyt_ann=sc.AnnData(adatafilt.uns['cytoplasmic_expression'].loc[adatafilt.obs['cell_id'],:],obs=adatafilt.obs)\n",
    "cyt_ann.obs['nuc_cyt']='cyt'"
   ]
  },
  {
   "cell_type": "code",
   "execution_count": null,
   "id": "470aa4a4",
   "metadata": {},
   "outputs": [],
   "source": [
    "gen=[e for e in cyt_ann.var.index if 'BLANK' not in e]\n",
    "gen=[e for e in gen if 'Neg' not in e]\n",
    "nuc_ann=nuc_ann[:,gen]\n",
    "cyt_ann=cyt_ann[:,gen]"
   ]
  },
  {
   "cell_type": "code",
   "execution_count": null,
   "id": "40c199bc",
   "metadata": {},
   "outputs": [],
   "source": [
    "nuc_ann.raw=nuc_ann\n",
    "sc.pp.normalize_total(nuc_ann,target_sum=30)\n",
    "print(np.sum(nuc_ann.X,axis=1))\n",
    "sc.pp.log1p(nuc_ann)\n",
    "cyt_ann.raw=cyt_ann\n",
    "sc.pp.normalize_total(cyt_ann,target_sum=30)\n",
    "print(np.sum(cyt_ann.X,axis=1))\n",
    "sc.pp.log1p(cyt_ann)\n",
    "nucdf=nuc_ann.to_df()\n",
    "cytdf=cyt_ann.to_df()\n",
    "nuc_ann_df2=nuc_ann.to_df()-cyt_ann.to_df()\n",
    "cyt_ann_df2=cyt_ann.to_df()-nuc_ann.to_df()\n",
    "nuc_ann=sc.AnnData(nuc_ann_df2,obs=nuc_ann.obs)\n",
    "nuc_ann.layers['raw']=nucdf\n",
    "cyt_ann.layers['raw']=cytdf\n",
    "cyt_ann=sc.AnnData(cyt_ann_df2,obs=cyt_ann.obs)"
   ]
  },
  {
   "cell_type": "code",
   "execution_count": null,
   "id": "e5f5c8ce",
   "metadata": {},
   "outputs": [],
   "source": [
    "expr=adatafilt.to_df()\n",
    "diff=nuc_ann.to_df()\n",
    "diff.columns=diff.columns+'_diff'"
   ]
  },
  {
   "cell_type": "code",
   "execution_count": null,
   "id": "c328ad16",
   "metadata": {},
   "outputs": [],
   "source": []
  },
  {
   "cell_type": "code",
   "execution_count": null,
   "id": "0fa43b7d",
   "metadata": {
    "scrolled": true
   },
   "outputs": [],
   "source": [
    "adata_contrast=sc.concat([nuc_ann])#,cyt_ann])"
   ]
  },
  {
   "cell_type": "code",
   "execution_count": null,
   "id": "647d4601",
   "metadata": {},
   "outputs": [],
   "source": [
    "# this chunk adds the adata_contrast and the adatafilt layers (expression + nuclear/cyt contrast)\n",
    "adata_contrast=sc.AnnData(pd.concat([expr,diff],axis=1),obs=adatafilt.obs)"
   ]
  },
  {
   "cell_type": "code",
   "execution_count": null,
   "id": "a2ed130f",
   "metadata": {},
   "outputs": [],
   "source": [
    "#adata_contrast.layers['raw']=pd.concat([nucdf,cytdf],axis=0)"
   ]
  },
  {
   "cell_type": "code",
   "execution_count": null,
   "id": "839b4ff1",
   "metadata": {},
   "outputs": [],
   "source": [
    "cell2leid=dict(zip(adatafilt.obs['cell_id'],adatafilt.obs['leiden']))"
   ]
  },
  {
   "cell_type": "code",
   "execution_count": null,
   "id": "ce67b5c3",
   "metadata": {},
   "outputs": [],
   "source": [
    "#sc.pp.subsample(adata_contrast,0.1)"
   ]
  },
  {
   "cell_type": "code",
   "execution_count": null,
   "id": "e055e8b6",
   "metadata": {},
   "outputs": [],
   "source": [
    "sc.pp.neighbors(adata_contrast,n_neighbors=10)\n",
    "sc.tl.umap(adata_contrast)"
   ]
  },
  {
   "cell_type": "code",
   "execution_count": null,
   "id": "e3298ee6",
   "metadata": {},
   "outputs": [],
   "source": [
    "sc.tl.leiden(adata_contrast,resolution=1.6)"
   ]
  },
  {
   "cell_type": "code",
   "execution_count": null,
   "id": "cd58232f",
   "metadata": {},
   "outputs": [],
   "source": [
    "adata_contrast.obs['prev_ct']=adata_contrast.obs['cell_id'].map(cell2leid)"
   ]
  },
  {
   "cell_type": "code",
   "execution_count": null,
   "id": "4ae42ac8",
   "metadata": {},
   "outputs": [],
   "source": []
  },
  {
   "cell_type": "code",
   "execution_count": null,
   "id": "51da28e7",
   "metadata": {},
   "outputs": [],
   "source": [
    "sc.pl.umap(adata_contrast,color=['leiden','prev_ct'],cmap='viridis',ncols=1,legend_loc='on data')"
   ]
  },
  {
   "cell_type": "code",
   "execution_count": null,
   "id": "052d8999",
   "metadata": {},
   "outputs": [],
   "source": []
  },
  {
   "cell_type": "code",
   "execution_count": null,
   "id": "87ababc2",
   "metadata": {},
   "outputs": [],
   "source": [
    "sc.pl.umap(adata_contrast,color='nucleus_area_proportion',vmax=0.6)"
   ]
  },
  {
   "cell_type": "code",
   "execution_count": null,
   "id": "c3acbe40",
   "metadata": {},
   "outputs": [],
   "source": [
    "sc.pl.umap(adata_contrast,color='n_counts',vmax=40)"
   ]
  },
  {
   "cell_type": "code",
   "execution_count": null,
   "id": "d4db5307",
   "metadata": {
    "scrolled": false
   },
   "outputs": [],
   "source": [
    "sc.pl.umap(adata_contrast,color=['nuc_genes_proportion','cell_area','nuc_counts_proportion','nucleus_area_proportion','nuc_and_cyt_genes_proportion','cyt_genes_proportion'],cmap='viridis',ncols=2,legend_loc='on data',vmax='p95')"
   ]
  },
  {
   "cell_type": "code",
   "execution_count": null,
   "id": "65788fed",
   "metadata": {
    "scrolled": true
   },
   "outputs": [],
   "source": [
    "sc.set_figure_params(scanpy=True, dpi=150,figsize=(6,6))\n",
    "adata_contrast.obsm['spatial']=np.array([adata_contrast.obs['x_centroid'],adata_contrast.obs['y_centroid']]).transpose()\n",
    "sc.pl.spatial(adata_contrast,spot_size=20,color='leiden')"
   ]
  },
  {
   "cell_type": "code",
   "execution_count": null,
   "id": "f54fe525",
   "metadata": {},
   "outputs": [],
   "source": [
    "sc.set_figure_params(scanpy=True, dpi=150,figsize=(6,6))\n",
    "sc.pl.spatial(adata_contrast,spot_size=20,color='prev_ct')"
   ]
  },
  {
   "cell_type": "code",
   "execution_count": null,
   "id": "caf1ee08",
   "metadata": {},
   "outputs": [],
   "source": [
    "adata_contrast.obsm['spatial']=np.array([adata_contrast.obs['x_centroid'],adata_contrast.obs['y_centroid']]).transpose()\n",
    "sc.pl.spatial(adata_contrast,color='leiden',spot_size=30,groups=['1','14'])"
   ]
  },
  {
   "cell_type": "code",
   "execution_count": null,
   "id": "3de32313",
   "metadata": {},
   "outputs": [],
   "source": [
    "key='leiden'\n",
    "sc.tl.rank_genes_groups(adata_contrast, groupby=key, method='wilcoxon',rankby_abs=True)\n",
    "sc.pl.rank_genes_groups_matrixplot(adata_contrast,groupby=key,n_genes=4, swap_axes=False,use_raw=False,cmap='coolwarm',vmin=-1,vmax=1)#,save='deg.pdf')"
   ]
  },
  {
   "cell_type": "code",
   "execution_count": null,
   "id": "f4c2ee81",
   "metadata": {},
   "outputs": [],
   "source": [
    "key='leiden'\n",
    "sc.pl.heatmap(adata_contrast,adata_contrast.var.index[0:40],groupby=key,cmap='coolwarm',vmax=1,vmin=-1)"
   ]
  },
  {
   "cell_type": "code",
   "execution_count": null,
   "id": "42c4d82c",
   "metadata": {},
   "outputs": [],
   "source": [
    "sc.pl.heatmap(adata_contrast,adata_contrast.var.index[40:80],groupby=key,cmap='coolwarm',vmax=1,vmin=-1)"
   ]
  },
  {
   "cell_type": "code",
   "execution_count": null,
   "id": "23e7506f",
   "metadata": {},
   "outputs": [],
   "source": [
    "sc.pl.heatmap(adata_contrast,adata_contrast.var.index[80:120],groupby=key,cmap='coolwarm',vmax=1,vmin=-1)"
   ]
  },
  {
   "cell_type": "code",
   "execution_count": null,
   "id": "88815f71",
   "metadata": {},
   "outputs": [],
   "source": [
    "sc.pl.spatial(adatafilt,spot_size=20,color='leiden')"
   ]
  },
  {
   "cell_type": "code",
   "execution_count": null,
   "id": "713bd00f",
   "metadata": {},
   "outputs": [],
   "source": [
    "sc.tl.rank_genes_groups(adata_contrast, groupby=key, method='wilcoxon',rankby_abs=True)\n",
    "sc.pl.rank_genes_groups_heatmap(adata_contrast,groupby=key,n_genes=4, swap_axes=False,use_raw=False,cmap='coolwarm',vmin=-1,vmax=1)#,save='deg.pdf')"
   ]
  },
  {
   "cell_type": "code",
   "execution_count": null,
   "id": "b80b5df4",
   "metadata": {},
   "outputs": [],
   "source": [
    "sc.pl.rank_genes_groups_matrixplot(adata_contrast,groupby=key,n_genes=4, swap_axes=False,use_raw=False,cmap='coolwarm',vmin=-1,vmax=1)#,save='deg.pdf')"
   ]
  },
  {
   "cell_type": "code",
   "execution_count": null,
   "id": "d9f23666",
   "metadata": {},
   "outputs": [],
   "source": [
    "sc.pl.umap(adata_contrast,color=['leiden','Slc17a7','prev_ct'],cmap='coolwarm',ncols=2)"
   ]
  },
  {
   "cell_type": "code",
   "execution_count": null,
   "id": "3fec07cb",
   "metadata": {},
   "outputs": [],
   "source": [
    "adata_contrast.obsm['spatial']=np.array([adata_contrast.obs['x_centroid'],adata_contrast.obs['y_centroid']]).transpose()\n",
    "sc.pl.spatial(adata_contrast,color='leiden',spot_size=30,groups=['8','4'])"
   ]
  },
  {
   "cell_type": "markdown",
   "id": "f9554b3a",
   "metadata": {},
   "source": [
    "# Other stuff"
   ]
  },
  {
   "cell_type": "code",
   "execution_count": null,
   "id": "5f740d7e",
   "metadata": {},
   "outputs": [],
   "source": [
    "ssub=adatafilt.obs.loc[adatafilt.obs['n_counts']>500,:]"
   ]
  },
  {
   "cell_type": "code",
   "execution_count": null,
   "id": "a565fc6a",
   "metadata": {},
   "outputs": [],
   "source": [
    "ssub.sort_values(by='polarity_pc',ascending=False)['polarity_pc']"
   ]
  },
  {
   "cell_type": "code",
   "execution_count": null,
   "id": "e3584279",
   "metadata": {},
   "outputs": [],
   "source": [
    "for cidi in ssub.sort_values(by='polarity_pc',ascending=False)['cell_id'][0:10]:\n",
    "    polarity_visualizer(adatafilt,cell_id_sel=cidi,num=3,clust='leiden',gap=30)"
   ]
  },
  {
   "cell_type": "code",
   "execution_count": null,
   "id": "5eb12bc9",
   "metadata": {},
   "outputs": [],
   "source": [
    "polarity_visualizer(adatafilt,cell_id_sel='',num=3,clust='leiden',gap=30)"
   ]
  },
  {
   "cell_type": "code",
   "execution_count": null,
   "id": "e7221497",
   "metadata": {},
   "outputs": [],
   "source": [
    "plt.scatter(adatafilt.obs['polarity_pc'],adatafilt.obs['n_counts'],s=0.05)"
   ]
  },
  {
   "cell_type": "code",
   "execution_count": null,
   "id": "aeee5f7b",
   "metadata": {},
   "outputs": [],
   "source": [
    "nuc=adatafilt.uns['nuclear_expression']\n",
    "nuc.columns=nuc.columns+'_nuc'\n",
    "nuc=nuc.loc[nuc.index.isin(adatafilt.obs['cell_id']),:]\n",
    "cyt=adatafilt.uns['cytoplasmic_expression']\n",
    "cyt.columns=cyt.columns+'_cyt'\n",
    "cyt=cyt.loc[cyt.index.isin(adatafilt.obs['cell_id']),:]"
   ]
  },
  {
   "cell_type": "code",
   "execution_count": null,
   "id": "c34e1c93",
   "metadata": {},
   "outputs": [],
   "source": [
    "adata_double=sc.AnnData(pd.concat([nuc,cyt],axis=1))\n",
    "adata_double.obs=adatafilt.obs"
   ]
  },
  {
   "cell_type": "code",
   "execution_count": null,
   "id": "2e7067ce",
   "metadata": {},
   "outputs": [],
   "source": [
    "adata_double.raw=adata_double\n",
    "sc.pp.filter_cells(adata_double,min_counts=20)\n",
    "sc.pp.normalize_total(adata_double)\n",
    "sc.pp.log1p(adata_double)\n",
    "sc.pp.neighbors(adata_double)\n",
    "sc.tl.umap(adata_double)\n",
    "sc.tl.leiden(adata_double)"
   ]
  },
  {
   "cell_type": "code",
   "execution_count": null,
   "id": "07d654eb",
   "metadata": {},
   "outputs": [],
   "source": [
    "adata_double.obs['expression_leiden']=adatafilt.obs['leiden']"
   ]
  },
  {
   "cell_type": "code",
   "execution_count": null,
   "id": "cf75f03c",
   "metadata": {},
   "outputs": [],
   "source": [
    "sc.pl.umap(adata_double,color=['expression_leiden','leiden','nuc_proportion','nuc_and_cyt_proportion','cyt_proportion'],vmax='p99.9',cmap='viridis',s=2,ncols=2)"
   ]
  },
  {
   "cell_type": "code",
   "execution_count": null,
   "id": "6da5407a",
   "metadata": {},
   "outputs": [],
   "source": [
    "np.sum(adatafilt.uns['spots']['nucleus_distance']<)"
   ]
  },
  {
   "cell_type": "code",
   "execution_count": null,
   "id": "9164bdb6",
   "metadata": {},
   "outputs": [],
   "source": [
    "np.sum(np.sum(adatafilt.uns['spots']['overlaps_nucleus']==0))"
   ]
  },
  {
   "cell_type": "code",
   "execution_count": null,
   "id": "65083fbf",
   "metadata": {},
   "outputs": [],
   "source": [
    "np.sum(np.sum(adatafilt.uns['spots']['overlaps_nucleus']==1))"
   ]
  },
  {
   "cell_type": "code",
   "execution_count": null,
   "id": "0c85cb0e",
   "metadata": {},
   "outputs": [],
   "source": [
    "#plt.figure(figsize=(10,4))\n",
    "gr=adatafilt.obs.groupby('leiden').mean().loc[:,['nuc_counts','cyt_counts']]\n",
    "gr.plot(kind='bar',stacked=True,width=0.96,figsize=(10,4))"
   ]
  },
  {
   "cell_type": "code",
   "execution_count": null,
   "id": "5fc24072",
   "metadata": {},
   "outputs": [],
   "source": [
    "#plt.figure(figsize=(10,4))\n",
    "gr=adatafilt.obs.groupby('leiden').mean().loc[:,['nuc_and_cyt_genes_proportion','cyt_genes_proportion','nuc_genes_proportion']]\n",
    "gr.plot(kind='bar',stacked=True,width=0.96,figsize=(10,4))"
   ]
  },
  {
   "cell_type": "code",
   "execution_count": null,
   "id": "a3dbbac4",
   "metadata": {},
   "outputs": [],
   "source": []
  },
  {
   "cell_type": "code",
   "execution_count": null,
   "id": "2c6206e4",
   "metadata": {},
   "outputs": [],
   "source": [
    "adatafilt.obsm['polarity'][adatafilt.raw.X<3]=np.nan\n",
    "adatafilt.obs['mean_polarization']=np.nanmean(adatafilt.obsm['polarity'],axis=1)\n",
    "adatafilt.obs['max_polarization']=np.nanmax(adatafilt.obsm['polarity'],axis=1)"
   ]
  },
  {
   "cell_type": "code",
   "execution_count": null,
   "id": "c98ff08f",
   "metadata": {
    "scrolled": false
   },
   "outputs": [],
   "source": [
    "sc.pl.umap(adatafilt,color=['leiden','mean_polarization','max_polarization'],vmax='p99.9',cmap='viridis',s=7,ncols=2)"
   ]
  },
  {
   "cell_type": "code",
   "execution_count": null,
   "id": "a5b4593d",
   "metadata": {},
   "outputs": [],
   "source": [
    "sc.tl.rank_genes_groups(adatafilt, groupby='leiden', method='wilcoxon')\n",
    "sc.pl.rank_genes_groups_dotplot(adatafilt, n_genes=2, swap_axes=False)#,save='deg.pdf')"
   ]
  },
  {
   "cell_type": "code",
   "execution_count": null,
   "id": "e633b707",
   "metadata": {},
   "outputs": [],
   "source": [
    "adatafilt.obsm['spatial']=np.array([adatafilt.obs['x_centroid'],adatafilt.obs['y_centroid']]).transpose()"
   ]
  },
  {
   "cell_type": "code",
   "execution_count": null,
   "id": "aecdabf2",
   "metadata": {},
   "outputs": [],
   "source": [
    "sc.set_figure_params(scanpy=True, dpi=150,figsize=(6,6))\n",
    "plt.rcParams['figure.facecolor'] = 'white'\n",
    "sc.pl.spatial(adatafilt,color='leiden',spot_size=50,vmax=5)"
   ]
  },
  {
   "cell_type": "code",
   "execution_count": null,
   "id": "4ac5350e",
   "metadata": {},
   "outputs": [],
   "source": [
    "sc.set_figure_params(scanpy=True, dpi=150,figsize=(6,6))\n",
    "plt.rcParams['figure.facecolor'] = 'white'\n",
    "sc.pl.spatial(adatafilt,color='cell_area',spot_size=20,vmax='p99')"
   ]
  },
  {
   "cell_type": "code",
   "execution_count": null,
   "id": "09fc6ee5",
   "metadata": {},
   "outputs": [],
   "source": [
    "adatapolarization=adatapolarization[:,adatapolarization.var.index[np.sum(adatapolarization.X>0,axis=0)>200]]"
   ]
  },
  {
   "cell_type": "code",
   "execution_count": null,
   "id": "d66ee3e6",
   "metadata": {},
   "outputs": [],
   "source": [
    "adatapolarization"
   ]
  },
  {
   "cell_type": "code",
   "execution_count": null,
   "id": "ffc413ab",
   "metadata": {
    "scrolled": false
   },
   "outputs": [],
   "source": [
    "sc.pl.heatmap(adatapolarization,adatapolarization.var.index,groupby='leiden',vmax=5,use_raw=False)"
   ]
  },
  {
   "cell_type": "code",
   "execution_count": null,
   "id": "c0010635",
   "metadata": {},
   "outputs": [],
   "source": [
    "cells=adatafilt.uns['spots']['cell_id'].unique()\n",
    "feats=adatafilt.uns['spots']['feature_name'].unique()\n",
    "positiondict=dict(zip(list(feats),range(0,len(feats))))\n",
    "resarray=np.zeros([len(cells),len(feats)])\n",
    "resx=np.zeros([len(cells),len(feats)])\n",
    "resy=np.zeros([len(cells),len(feats)])\n",
    "id2x2=dict(zip(adatafilt.obs['cell_id'],adatafilt.obs['x_centroid']))\n",
    "id2y2=dict(zip(adatafilt.obs['cell_id'],adatafilt.obs['y_centroid']))\n",
    "ee=0\n",
    "cell_ids=[]"
   ]
  },
  {
   "cell_type": "code",
   "execution_count": null,
   "id": "d543001e",
   "metadata": {},
   "outputs": [],
   "source": [
    "periall=[]\n",
    "ecceall=[]\n",
    "circuall=[]\n",
    "idisall=[]\n",
    "for g,a in tqdm(adatafilt.uns['spots'].groupby('cell_id')):\n",
    "    try:\n",
    "        peri,eccentricity,circularity=morphology_characteristics(points=a)\n",
    "        periall.append(peri)\n",
    "        ecceall.append(eccentricity)\n",
    "        circuall.append(circularity)\n",
    "        idisall.append(g)\n",
    "    except:\n",
    "        periall.append('nan')\n",
    "        ecceall.append('nan')\n",
    "        circuall.append('nan')\n",
    "        idisall.append(g)"
   ]
  },
  {
   "cell_type": "code",
   "execution_count": null,
   "id": "db90ae77",
   "metadata": {},
   "outputs": [],
   "source": [
    "id2peri=dict(zip(idisall,periall))\n",
    "id2ecc=dict(zip(idisall,ecceall))\n",
    "id2circu=dict(zip(idisall,circuall))"
   ]
  },
  {
   "cell_type": "code",
   "execution_count": null,
   "id": "32a45467",
   "metadata": {},
   "outputs": [],
   "source": [
    "adatafilt.obs['perimeter']=adatafilt.obs['cell_id'].map(id2peri)\n",
    "adatafilt.obs['eccentricity']=adatafilt.obs['cell_id'].map(id2ecc)\n",
    "adatafilt.obs['circularity']=adatafilt.obs['cell_id'].map(id2circu)"
   ]
  },
  {
   "cell_type": "code",
   "execution_count": null,
   "id": "44d2d58f",
   "metadata": {},
   "outputs": [],
   "source": [
    "adatafilt=adatafilt[adatafilt.obs['perimeter']!='nan']\n",
    "adatafilt=adatafilt[~adatafilt.obs['perimeter'].isna()]"
   ]
  },
  {
   "cell_type": "code",
   "execution_count": null,
   "id": "9e8e9d33",
   "metadata": {},
   "outputs": [],
   "source": [
    "adatafilt.obs['perimeter']=adatafilt.obs['perimeter'].astype(float)\n",
    "adatafilt.obs['eccentricity']=adatafilt.obs['eccentricity'].astype(float)\n",
    "adatafilt.obs['circularity']=adatafilt.obs['circularity'].astype(float)"
   ]
  },
  {
   "cell_type": "code",
   "execution_count": null,
   "id": "a1870846",
   "metadata": {},
   "outputs": [],
   "source": [
    "sc.set_figure_params(scanpy=True, dpi=80, dpi_save=150, frameon=True, vector_friendly=True, fontsize=14, figsize=(15,15), color_map=None, format='pdf', facecolor=None, transparent=False, ipython_format='png2x')\n",
    "sc.pl.spatial(adatafilt,color='circularity',spot_size=20,vmax='p99')"
   ]
  },
  {
   "cell_type": "markdown",
   "id": "c12c822c",
   "metadata": {},
   "source": [
    "# Trajectories"
   ]
  },
  {
   "cell_type": "code",
   "execution_count": null,
   "id": "a51a256a",
   "metadata": {},
   "outputs": [],
   "source": [
    "sc.pl.umap(adatafilt,color=['Pdgfra','Sox10','leiden'],vmax='p99.9',cmap='viridis',s=2,ncols=2)"
   ]
  },
  {
   "cell_type": "code",
   "execution_count": null,
   "id": "a3b36be4",
   "metadata": {},
   "outputs": [],
   "source": [
    "adatasub=adatafilt[adatafilt.obs['leiden'].isin(['0','16'])].copy()"
   ]
  },
  {
   "cell_type": "code",
   "execution_count": null,
   "id": "e075f6aa",
   "metadata": {},
   "outputs": [],
   "source": [
    "sc.pp.neighbors(adatasub)\n",
    "sc.tl.paga(adatasub)\n",
    "sc.pl.paga(adatasub,color='leiden',threshold=0.01)\n",
    "sc.tl.umap(adatasub)\n",
    "sc.pl.umap(adatasub,color='leiden')"
   ]
  },
  {
   "cell_type": "code",
   "execution_count": null,
   "id": "ce2295fb",
   "metadata": {},
   "outputs": [],
   "source": [
    "sc.pl.spatial(adatasub,color='leiden',spot_size=25)\n",
    "adatasub.uns['iroot'] = np.flatnonzero(adatasub.obs['leiden']  == '16')[0]\n",
    "sc.tl.dpt(adatasub)"
   ]
  },
  {
   "cell_type": "code",
   "execution_count": null,
   "id": "b6c3bf9c",
   "metadata": {},
   "outputs": [],
   "source": [
    "sc.pl.umap(adatasub,color=['dpt_pseudotime','leiden'])"
   ]
  },
  {
   "cell_type": "code",
   "execution_count": null,
   "id": "e5b69b90",
   "metadata": {},
   "outputs": [],
   "source": [
    "expre=adatasub.to_df()\n",
    "expre['dpt_pseudotime']=adatasub.obs['dpt_pseudotime']\n",
    "sorted_ind=expre.loc[expre['dpt_pseudotime'].sort_values().index,:]\n",
    "sorted_ind=sorted_ind.loc[:,np.max(sorted_ind,axis=0)>2]"
   ]
  },
  {
   "cell_type": "code",
   "execution_count": null,
   "id": "712ae844",
   "metadata": {},
   "outputs": [],
   "source": [
    "mag=sorted_ind.loc[:,:].transpose()\n",
    "mag=mag.div(mag.max(axis=1),axis=0)\n",
    "plt.figure(figsize=(15,8))\n",
    "sns.heatmap(mag)"
   ]
  },
  {
   "cell_type": "code",
   "execution_count": null,
   "id": "78cfb2e9",
   "metadata": {},
   "outputs": [],
   "source": [
    "sorted_ind=adatasub.obs.loc[adatasub.obs['dpt_pseudotime'].sort_values().index,:]\n",
    "mag=sorted_ind.loc[:,magnitudes].transpose()\n",
    "mag=mag.div(mag.max(axis=1),axis=0)\n",
    "plt.figure(figsize=(15,8))\n",
    "sns.heatmap(mag)"
   ]
  },
  {
   "cell_type": "code",
   "execution_count": null,
   "id": "50ca51ec",
   "metadata": {},
   "outputs": [],
   "source": []
  },
  {
   "cell_type": "markdown",
   "id": "f9e4d856",
   "metadata": {},
   "source": [
    "# Morphology related metrics"
   ]
  },
  {
   "cell_type": "code",
   "execution_count": null,
   "id": "d55ed01f",
   "metadata": {},
   "outputs": [],
   "source": [
    "def define_cell_polarities(adatafilt):\n",
    "    cells=adatafilt.uns['spots']['cell_id'].unique()\n",
    "    feats=adatafilt.uns['spots']['feature_name'].unique()\n",
    "    positiondict=dict(zip(list(feats),range(0,len(feats))))\n",
    "    resarray=np.zeros([len(cells),len(feats)])\n",
    "    resx=np.zeros([len(cells),len(feats)])\n",
    "    resy=np.zeros([len(cells),len(feats)])\n",
    "    id2x2=dict(zip(adatafilt.obs['cell_id'],adatafilt.obs['x_centroid']))\n",
    "    id2y2=dict(zip(adatafilt.obs['cell_id'],adatafilt.obs['y_centroid']))\n",
    "    ee=0\n",
    "    cell_ids=[]\n",
    "    for a,g in tqdm(adatafilt.uns['spots'].groupby('cell_id')):\n",
    "        xcell=id2x2[a]\n",
    "        ycell=id2y2[a]\n",
    "        ii=0\n",
    "        meang=g.groupby('feature_name').mean()\n",
    "        meang['polarity']=np.sqrt((meang['x_location']-xcell)**2+(meang['y_location']-ycell)**2)\n",
    "        #dici=dict(zip(meang.index,meang['nucleus_distance']))\n",
    "        resarray[ee,list(meang.index.map(positiondict))]=meang['polarity']\n",
    "        resx[ee,list(meang.index.map(positiondict))]=meang['x_location']-xcell\n",
    "        resy[ee,list(meang.index.map(positiondict))]=meang['y_location']-ycell\n",
    "        ee=ee+1\n",
    "        cell_ids.append(a)\n",
    "    polarity=pd.DataFrame(resarray,index=cell_ids,columns=feats)\n",
    "    xgene=pd.DataFrame(resx,index=cell_ids,columns=feats)\n",
    "    ygene=pd.DataFrame(resy,index=cell_ids,columns=feats)\n",
    "    adatafilt.obsm['polarity']=polarity.loc[adatafilt.obs['cell_id'],:]\n",
    "    adatafilt.obsm['polarity']=adatafilt.obsm['polarity'].loc[:,adatafilt.var['gene_id']]\n",
    "    adatafilt.obsm['xgene']=xgene.loc[adatafilt.obs['cell_id'],:]\n",
    "    adatafilt.obsm['xgene']=adatafilt.obsm['xgene'].loc[:,adatafilt.var['gene_id']]\n",
    "    adatafilt.obsm['ygene']=ygene.loc[adatafilt.obs['cell_id'],:]\n",
    "    adatafilt.obsm['ygene']=adatafilt.obsm['ygene'].loc[:,adatafilt.var['gene_id']]\n",
    "    adatafilt.obsm['polarity'][adatafilt.obsm['polarity']==0]=np.nan\n",
    "    adatafilt.obs['mean_polarity']=np.mean(adatafilt.obsm['polarity'],axis=1)\n",
    "    adatafilt.obs['max_polarity']=np.max(adatafilt.obsm['polarity'],axis=1)\n",
    "    return adatafilt"
   ]
  },
  {
   "cell_type": "code",
   "execution_count": null,
   "id": "9f15ec09",
   "metadata": {},
   "outputs": [],
   "source": []
  },
  {
   "cell_type": "code",
   "execution_count": null,
   "id": "341e2fd1",
   "metadata": {},
   "outputs": [],
   "source": []
  },
  {
   "cell_type": "markdown",
   "id": "f09f2743",
   "metadata": {},
   "source": [
    "# True interactions"
   ]
  },
  {
   "cell_type": "code",
   "execution_count": null,
   "id": "4162b076",
   "metadata": {},
   "outputs": [],
   "source": []
  },
  {
   "cell_type": "code",
   "execution_count": null,
   "id": "b0bb49cf",
   "metadata": {},
   "outputs": [],
   "source": [
    "adatafilt=reliable_polarity(adatafilt,radius=50)\n",
    "adatapolarization.obs['reliable_polarity']=adatafilt.obs['reliable_polarity']"
   ]
  },
  {
   "cell_type": "code",
   "execution_count": null,
   "id": "f0efbab5",
   "metadata": {},
   "outputs": [],
   "source": [
    "sc.pl.umap(adatafilt,color='reliable_polarity')"
   ]
  },
  {
   "cell_type": "code",
   "execution_count": null,
   "id": "1a6746d1",
   "metadata": {},
   "outputs": [],
   "source": [
    "cop=adatapolarization[adatapolarization.obs['good_interaction']=='yes'].copy()"
   ]
  },
  {
   "cell_type": "code",
   "execution_count": null,
   "id": "89dbaab6",
   "metadata": {},
   "outputs": [],
   "source": [
    "comatrix=cop.to_df()"
   ]
  },
  {
   "cell_type": "code",
   "execution_count": null,
   "id": "c99ea67b",
   "metadata": {},
   "outputs": [],
   "source": [
    "pd.DataFrame(np.nanmax(comatrix,axis=0),index=comatrix.columns).sort_values(by=0)"
   ]
  },
  {
   "cell_type": "code",
   "execution_count": null,
   "id": "d0a48744",
   "metadata": {
    "scrolled": true
   },
   "outputs": [],
   "source": [
    "for cell_id in cop.obs.sort_values(by='max_polarization',ascending=False).loc[:,['max_polarization']].head(70).index:\n",
    "    polarity_visualizer(adatafilt,cell_id_sel=cell_id,num=4)"
   ]
  },
  {
   "cell_type": "markdown",
   "id": "62af86d1",
   "metadata": {},
   "source": [
    "# Featurize, but only using extracellular reads in this case"
   ]
  },
  {
   "cell_type": "code",
   "execution_count": null,
   "id": "e7bb0b2d",
   "metadata": {},
   "outputs": [],
   "source": [
    "sc.pp.subsample(adatafilt,0.1)"
   ]
  },
  {
   "cell_type": "code",
   "execution_count": null,
   "id": "04d2aa44",
   "metadata": {},
   "outputs": [],
   "source": [
    "adatafilt.uns['spots']['feature_name']=adatafilt.uns['spots']['feature_name'].replace('_','')\n",
    "adatafilt.uns['spots']['cell_id']=adatafilt.uns['spots']['cell_id'].replace('_','')"
   ]
  },
  {
   "cell_type": "code",
   "execution_count": null,
   "id": "8b599641",
   "metadata": {},
   "outputs": [],
   "source": [
    "adatafilt.var"
   ]
  },
  {
   "cell_type": "code",
   "execution_count": null,
   "id": "d28d77dd",
   "metadata": {},
   "outputs": [],
   "source": [
    "adatafilt.uns['spots']=adatafilt.uns['spots'][adatafilt.uns['spots']['feature_name'].isin(list(adatafilt.var.loc[adatafilt.var['in_panel']=='gene','gene_id']))]"
   ]
  },
  {
   "cell_type": "code",
   "execution_count": null,
   "id": "f261c62d",
   "metadata": {},
   "outputs": [],
   "source": [
    "adataneigh=subcellular_featurization(adatafilt,knn=3)"
   ]
  },
  {
   "cell_type": "markdown",
   "id": "c04ffd4f",
   "metadata": {},
   "source": [
    "pip install libpysal\n",
    "pip install contextily"
   ]
  },
  {
   "cell_type": "code",
   "execution_count": null,
   "id": "23542ddd",
   "metadata": {},
   "outputs": [],
   "source": [
    "adataneigh.raw=adataneigh\n",
    "#sc.pp.filter_cells(adatafilt,min_counts=20)\n",
    "sc.pp.normalize_total(adataneigh)\n",
    "sc.pp.log1p(adataneigh)\n",
    "sc.pp.neighbors(adataneigh)\n",
    "sc.tl.umap(adataneigh)"
   ]
  },
  {
   "cell_type": "code",
   "execution_count": null,
   "id": "2fe2704f",
   "metadata": {},
   "outputs": [],
   "source": [
    "sc.tl.leiden(adataneigh,key_added='neigh_leiden')\n",
    "sc.pl.umap(adataneigh,color=['neigh_leiden'],vmax='p99.9',cmap='viridis',s=7,ncols=2)"
   ]
  },
  {
   "cell_type": "code",
   "execution_count": null,
   "id": "8aedaa70",
   "metadata": {},
   "outputs": [],
   "source": []
  },
  {
   "cell_type": "code",
   "execution_count": null,
   "id": "61aef538",
   "metadata": {},
   "outputs": [],
   "source": []
  },
  {
   "cell_type": "code",
   "execution_count": null,
   "id": "5f7bc46f",
   "metadata": {
    "scrolled": true
   },
   "outputs": [],
   "source": [
    "#adataneigh.obs['cell_id']=input_df['cell_id'].unique()"
   ]
  },
  {
   "cell_type": "code",
   "execution_count": null,
   "id": "8915a7aa",
   "metadata": {},
   "outputs": [],
   "source": [
    "adataneigh.write('/media/sergio/Meninges/unprocessed_adata/dev_HE27a_EdgeClust_pcw6_extracellular.h5ad')"
   ]
  },
  {
   "cell_type": "code",
   "execution_count": null,
   "id": "1f856953",
   "metadata": {},
   "outputs": [],
   "source": [
    "adataneigh.write('/media/sergio/Meninges/unprocessed_adata/dev_HE27a_EdgeClust_pcw6_extracellular.h5ad')"
   ]
  },
  {
   "cell_type": "code",
   "execution_count": null,
   "id": "9f8642ae",
   "metadata": {},
   "outputs": [],
   "source": [
    "sc.pp.filter_cells(adataneigh,min_genes=2)\n",
    "sc.pp.filter_cells(adataneigh,min_counts=1)\n",
    "sc.pp.filter_genes(adataneigh,min_cells=5)\n",
    "adataneigh.layers['raw']=adataneigh.X\n",
    "sc.pp.normalize_total(adataneigh)\n",
    "sc.pp.log1p(adataneigh)\n",
    "sc.pp.pca(adataneigh)\n",
    "sc.pp.neighbors(adataneigh,n_pcs=40,n_neighbors=8)\n",
    "sc.tl.umap(adataneigh,min_dist=0.05)\n",
    "sc.tl.leiden(adataneigh,resolution=1.2)"
   ]
  },
  {
   "cell_type": "code",
   "execution_count": null,
   "id": "44379709",
   "metadata": {},
   "outputs": [],
   "source": [
    "sc.pl.umap(adataneigh,color='leiden')"
   ]
  },
  {
   "cell_type": "code",
   "execution_count": null,
   "id": "d618747c",
   "metadata": {},
   "outputs": [],
   "source": [
    "expression=pd.crosstab(tr2['cell_id'],tr2['feature_name'])"
   ]
  },
  {
   "cell_type": "code",
   "execution_count": null,
   "id": "3320bec9",
   "metadata": {},
   "outputs": [],
   "source": [
    "adata_exp=sc.AnnData(expression)\n",
    "adata_exp=adata_exp[adataneigh.obs.index]"
   ]
  },
  {
   "cell_type": "code",
   "execution_count": null,
   "id": "ddbeb15b",
   "metadata": {},
   "outputs": [],
   "source": [
    "adata_exp.obs['total_counts']=np.sum(adata_exp.X,axis=1)"
   ]
  },
  {
   "cell_type": "code",
   "execution_count": null,
   "id": "1a45c7de",
   "metadata": {},
   "outputs": [],
   "source": [
    "perc=pd.DataFrame(adata_exp.X).div(list(adata_exp.obs['total_counts']),axis=0)"
   ]
  },
  {
   "cell_type": "code",
   "execution_count": null,
   "id": "e5871b00",
   "metadata": {},
   "outputs": [],
   "source": [
    "adata_expected=adata_exp.copy()"
   ]
  },
  {
   "cell_type": "code",
   "execution_count": null,
   "id": "ff08a4e7",
   "metadata": {},
   "outputs": [],
   "source": [
    "=(perc*perc).mul(list(adata_exp.obs['total_counts']),axis=0)"
   ]
  },
  {
   "cell_type": "code",
   "execution_count": null,
   "id": "440f30a2",
   "metadata": {},
   "outputs": [],
   "source": [
    "adata_ref=sc.read('/media/sergio/Meninges/nuclei_adata/adata_dev_meninges_he27_pcw6_with_10xclusters_annotation.h5ad')"
   ]
  },
  {
   "cell_type": "code",
   "execution_count": null,
   "id": "b0d8c8a8",
   "metadata": {},
   "outputs": [],
   "source": [
    "adata_ref2=adata_ref[adata_ref.obs['replicate']=='dev_HE27a']"
   ]
  },
  {
   "cell_type": "code",
   "execution_count": null,
   "id": "7c95472f",
   "metadata": {},
   "outputs": [],
   "source": [
    "id2ct=dict(zip(adata_ref2.obs['cell_id'],adata_ref2.obs['cell types']))"
   ]
  },
  {
   "cell_type": "code",
   "execution_count": null,
   "id": "47b552ee",
   "metadata": {},
   "outputs": [],
   "source": [
    "adataneigh.obs['cell_id']=adataneigh.obs.index"
   ]
  },
  {
   "cell_type": "code",
   "execution_count": null,
   "id": "eed23c0c",
   "metadata": {},
   "outputs": [],
   "source": [
    "adataneigh.obs['cell type']=adataneigh.obs['cell_id'].map(id2ct)"
   ]
  },
  {
   "cell_type": "code",
   "execution_count": null,
   "id": "36e7a7ee",
   "metadata": {},
   "outputs": [],
   "source": [
    "adata_mesenchymal=sc.read('/media/sergio/Meninges/nuclei_adata/adata_dev_meninges_with10xclusters_he24_pcw6_mesenchymal.h5ad')\n",
    "adata_mesenchymal=adata_mesenchymal[adata_mesenchymal.obs['replicate']=='dev_HE27a']"
   ]
  },
  {
   "cell_type": "code",
   "execution_count": null,
   "id": "3c8d21c5",
   "metadata": {},
   "outputs": [],
   "source": [
    "id2ctmes=dict(zip(adata_mesenchymal.obs['cell_id'],adata_mesenchymal.obs['leiden_2_0_sel']))\n",
    "adataneigh.obs['mes_ct']=adataneigh.obs['cell_id'].map(id2ctmes)"
   ]
  },
  {
   "cell_type": "code",
   "execution_count": null,
   "id": "f3ad6186",
   "metadata": {},
   "outputs": [],
   "source": [
    "adata_neural=sc.read('/media/sergio/Meninges/nuclei_adata/adata_dev_meninges_with10xclusters_he24_pcw6_neural.h5ad')\n",
    "adata_neural=adata_neural[adata_neural.obs['replicate']=='dev_HE27a']"
   ]
  },
  {
   "cell_type": "code",
   "execution_count": null,
   "id": "5dc8e345",
   "metadata": {},
   "outputs": [],
   "source": [
    "id2ctneu=dict(zip(adata_neural.obs['cell_id'],adata_neural.obs['leiden_2_0_sel']))\n",
    "adataneigh.obs['neu_ct']=adataneigh.obs['cell_id'].map(id2ctneu)"
   ]
  },
  {
   "cell_type": "code",
   "execution_count": null,
   "id": "0fddfde7",
   "metadata": {},
   "outputs": [],
   "source": [
    "adataneigh.obs['cell type']=adataneigh.obs['cell_id'].map(id2ct)"
   ]
  },
  {
   "cell_type": "code",
   "execution_count": null,
   "id": "99df1212",
   "metadata": {},
   "outputs": [],
   "source": [
    "adataneigh.write('/media/sergio/Meninges/unprocessed_adata/dev_HE27a_EdgeClust_processed.h5ad')"
   ]
  },
  {
   "cell_type": "code",
   "execution_count": null,
   "id": "b7c6fadc",
   "metadata": {},
   "outputs": [],
   "source": [
    "adataneigh=sc.read('/media/sergio/Meninges/unprocessed_adata/dev_HE27a_EdgeClust_processed.h5ad')"
   ]
  },
  {
   "cell_type": "code",
   "execution_count": null,
   "id": "a466c885",
   "metadata": {},
   "outputs": [],
   "source": [
    "id2subcelclust=dict(zip(adataneigh.obs['cell_id'],adataneigh.obs['leiden']))"
   ]
  },
  {
   "cell_type": "code",
   "execution_count": null,
   "id": "287576ab",
   "metadata": {},
   "outputs": [],
   "source": [
    "adata_ref2.obs['subcellular_cluster']=adata_ref2.obs['cell_id'].map(id2subcelclust)"
   ]
  },
  {
   "cell_type": "code",
   "execution_count": null,
   "id": "ac248b76",
   "metadata": {},
   "outputs": [],
   "source": [
    "adata_ref2"
   ]
  },
  {
   "cell_type": "code",
   "execution_count": null,
   "id": "8f89fd65",
   "metadata": {},
   "outputs": [],
   "source": [
    "id2x=dict(zip(adata_ref2.obs['cell_id'],adata_ref2.obs['x_centroid']))\n",
    "id2y=dict(zip(adata_ref2.obs['cell_id'],adata_ref2.obs['y_centroid']))"
   ]
  },
  {
   "cell_type": "code",
   "execution_count": null,
   "id": "7f7a0abe",
   "metadata": {},
   "outputs": [],
   "source": [
    "adataneigh.obs['x_centroid']=adataneigh.obs['cell_id'].map(id2x)\n",
    "adataneigh.obs['y_centroid']=adataneigh.obs['cell_id'].map(id2y)"
   ]
  },
  {
   "cell_type": "code",
   "execution_count": null,
   "id": "a05e707c",
   "metadata": {},
   "outputs": [],
   "source": [
    "#adataneigh2=adataneigh[adataneigh.obs['leiden'].isin(['10','18','1','16','15','28','5','28','24','40','0'])]\n",
    "adataneigh2=adataneigh[adataneigh.obs['leiden'].isin(['31','34','23','7','12','44'])]\n"
   ]
  },
  {
   "cell_type": "code",
   "execution_count": null,
   "id": "69ae3ea9",
   "metadata": {},
   "outputs": [],
   "source": []
  },
  {
   "cell_type": "code",
   "execution_count": null,
   "id": "22239a4e",
   "metadata": {},
   "outputs": [],
   "source": []
  },
  {
   "cell_type": "code",
   "execution_count": null,
   "id": "6c827898",
   "metadata": {},
   "outputs": [],
   "source": [
    "sc.pl.umap(adataneigh2,color=['dpt_pseudotime','leiden'])"
   ]
  },
  {
   "cell_type": "code",
   "execution_count": null,
   "id": "79160852",
   "metadata": {},
   "outputs": [],
   "source": [
    "sc.pp.log1p(adataneigh2)\n",
    "sc.tl.rank_genes_groups(adataneigh2,groupby='leiden')\n",
    "sc.pl.rank_genes_groups(adataneigh2,fontsize=20,n_genes=10)"
   ]
  },
  {
   "cell_type": "code",
   "execution_count": null,
   "id": "c8766c0e",
   "metadata": {},
   "outputs": [],
   "source": [
    "paths = [('path1', ['31','7','12']),\n",
    "         ('path2', ['31','34','23'])]"
   ]
  },
  {
   "cell_type": "code",
   "execution_count": null,
   "id": "3b7e2a0d",
   "metadata": {},
   "outputs": [],
   "source": [
    "GENES=['SOX9_EMX2','TOP2A_EMX2','EMX2_SOX2','HMGCS1_MOXD1','NTRK2_HMGCS1','NTRK2_TOP2A','TRPM3_PAX6','PAX6_COL2A1','RSPO2_RSPO3',\n",
    "'RSPO3_EMX2','OTX2_TRPM3','LMX1A_TRPM3','ACTG2_HMGCS1']"
   ]
  },
  {
   "cell_type": "code",
   "execution_count": null,
   "id": "534653e9",
   "metadata": {
    "scrolled": false
   },
   "outputs": [],
   "source": [
    "_, axs = plt.subplots(ncols=2, figsize=(6, 2.5), gridspec_kw={'wspace': 0.05, 'left': 0.12})\n",
    "plt.subplots_adjust(left=0.05, right=0.98, top=0.82, bottom=0.2)\n",
    "for ipath, (descr, path) in enumerate(paths):\n",
    "    pp, data = sc.pl.paga_path(\n",
    "        adataneigh2, path, GENES,\n",
    "        show_node_names=False,\n",
    "        ax=axs[ipath],\n",
    "        ytick_fontsize=12,\n",
    "        left_margin=0.15,\n",
    "        n_avg=50,\n",
    "        annotations=['dpt_pseudotime'],\n",
    "        show_yticks=True if ipath==0 else False,\n",
    "        show_colorbar=False,\n",
    "        color_map='Greys',\n",
    "        groups_key='leiden',\n",
    "        color_maps_annotations={'dpt_pseudotime': 'viridis'},\n",
    "        title='{} path'.format(descr),\n",
    "        return_data=True,\n",
    "        show=False)\n",
    "    \n",
    "    plt.show()\n",
    "    datas=data.sort_values(by='distance')\n",
    "    plt.figure()\n",
    "    sns.clustermap(datas.iloc[:,:-2].transpose(),col_cluster=False,row_cluster=False,cmap='Greys',col_colors=datas['groups'].astype(int).astype(str).map(dictcol),figsize=(8,10))\n",
    "    plt.show()\n",
    "#    data.to_csv('./write/paga_path_{}.csv'.format(descr))\n",
    "#pl.savefig('./figures/paga_path_paul15.pdf')\n",
    "#plt.show()\n"
   ]
  },
  {
   "cell_type": "code",
   "execution_count": null,
   "id": "902abbbf",
   "metadata": {},
   "outputs": [],
   "source": []
  },
  {
   "cell_type": "markdown",
   "id": "0ea9f628",
   "metadata": {},
   "source": [
    "# Subcellular_clustering_score"
   ]
  },
  {
   "cell_type": "code",
   "execution_count": null,
   "id": "8be4077f",
   "metadata": {},
   "outputs": [],
   "source": [
    "adataneigh=sc.read('/media/sergio/Meninges/unprocessed_adata/dev_HE27a_EdgeClust_processed.h5ad')"
   ]
  },
  {
   "cell_type": "code",
   "execution_count": null,
   "id": "1355708d",
   "metadata": {},
   "outputs": [],
   "source": [
    "gens=np.unique([a.split('_')[0] for a in adataneigh.var.index])"
   ]
  },
  {
   "cell_type": "code",
   "execution_count": null,
   "id": "428a13bc",
   "metadata": {},
   "outputs": [],
   "source": [
    "op1=[a.split('_')[0] for a in adataneigh.var.index]\n",
    "op2=[a.split('_')[1] for a in adataneigh.var.index]"
   ]
  },
  {
   "cell_type": "code",
   "execution_count": null,
   "id": "a5aed43e",
   "metadata": {},
   "outputs": [],
   "source": [
    "adatasol=adataneigh[:,adataneigh.var.index.isin(allself)].copy()"
   ]
  },
  {
   "cell_type": "code",
   "execution_count": null,
   "id": "eb46b635",
   "metadata": {},
   "outputs": [],
   "source": [
    "adatasol.var.index=[el.split('_')[0] for el in adatasol.var.index]"
   ]
  },
  {
   "cell_type": "code",
   "execution_count": null,
   "id": "1d4cae0f",
   "metadata": {},
   "outputs": [],
   "source": [
    "adata_ref=sc.read('/media/sergio/Meninges/nuclei_adata/dev_HE24-Men.h5ad')"
   ]
  },
  {
   "cell_type": "code",
   "execution_count": null,
   "id": "3b679db7",
   "metadata": {},
   "outputs": [],
   "source": [
    "adata_ref.var.index=adata_ref.var['feature_name']"
   ]
  },
  {
   "cell_type": "code",
   "execution_count": null,
   "id": "44587ce1",
   "metadata": {},
   "outputs": [],
   "source": [
    "adata_ref=adata_ref[:,adatasol.var.index]"
   ]
  },
  {
   "cell_type": "code",
   "execution_count": null,
   "id": "017ca31b",
   "metadata": {},
   "outputs": [],
   "source": [
    "adatasol=adatasol[adatasol.obs.index.isin(adata_ref.obs.index),:]\n",
    "adata_ref=adata_ref[adata_ref.obs.index.isin(adatasol.obs.index),:]\n",
    "adatasol=adatasol[adata_ref.obs.index,:]"
   ]
  },
  {
   "cell_type": "code",
   "execution_count": null,
   "id": "24feb0b7",
   "metadata": {},
   "outputs": [],
   "source": [
    "adatasol.shape"
   ]
  },
  {
   "cell_type": "code",
   "execution_count": null,
   "id": "c543101f",
   "metadata": {},
   "outputs": [],
   "source": [
    "adata_ref.shape"
   ]
  },
  {
   "cell_type": "code",
   "execution_count": null,
   "id": "4991035f",
   "metadata": {},
   "outputs": [],
   "source": [
    "adatamoon=adatasol.copy()"
   ]
  },
  {
   "cell_type": "code",
   "execution_count": null,
   "id": "4ae34c3c",
   "metadata": {},
   "outputs": [],
   "source": [
    "adatamoon.X=adatasol.X/((adata_ref.X)+1)"
   ]
  },
  {
   "cell_type": "code",
   "execution_count": null,
   "id": "7166c0eb",
   "metadata": {},
   "outputs": [],
   "source": [
    "adata_ref.obsm['X_umap']=adatamoon.obsm['X_umap']"
   ]
  },
  {
   "cell_type": "code",
   "execution_count": null,
   "id": "2b2f38d7",
   "metadata": {},
   "outputs": [],
   "source": [
    "adata_ref.obs['cell type']=adatamoon.obs['cell type']"
   ]
  },
  {
   "cell_type": "code",
   "execution_count": null,
   "id": "1e4bd289",
   "metadata": {},
   "outputs": [],
   "source": [
    "sc.pl.dotplot(adata_ref,adata_ref.var.index[0:50],groupby='cell type')"
   ]
  },
  {
   "cell_type": "code",
   "execution_count": null,
   "id": "c0484d87",
   "metadata": {
    "scrolled": true
   },
   "outputs": [],
   "source": [
    "sc.pl.dotplot(adatamoon,adatamoon.var.index,groupby='cell type',swap_axes=True)"
   ]
  },
  {
   "cell_type": "code",
   "execution_count": null,
   "id": "ac58cf02",
   "metadata": {},
   "outputs": [],
   "source": [
    "sc.set_figure_params(scanpy=True, dpi=80, dpi_save=150, frameon=True, vector_friendly=True, fontsize=14, figsize=(5,5), color_map=None, format='pdf', facecolor=None, transparent=False, ipython_format='png2x')\n",
    "g='FOLR1'\n",
    "sc.pl.umap(adatamoon,color=[g,'cell type'],vmax='p99',legend_loc='on data',legend_fontsize=5)\n",
    "sc.pl.umap(adata_ref,color=[g],vmax='p99')\n",
    "sc.pl.dotplot(adatamoon,[g],groupby='cell type',swap_axes=True)\n",
    "sc.pl.dotplot(adata_ref,[g],groupby='cell type',swap_axes=True)"
   ]
  },
  {
   "cell_type": "code",
   "execution_count": null,
   "id": "386fc49b",
   "metadata": {},
   "outputs": [],
   "source": [
    "sc.set_figure_params(scanpy=True, dpi=80, dpi_save=150, frameon=True, vector_friendly=True, fontsize=14, figsize=(5,5), color_map=None, format='pdf', facecolor=None, transparent=False, ipython_format='png2x')\n",
    "g='THBS2'\n",
    "sc.pl.umap(adatamoon,color=[g,'cell type'],vmax='p99',legend_loc='on data',legend_fontsize=5)\n",
    "sc.pl.umap(adata_ref,color=[g],vmax='p99')\n",
    "sc.pl.dotplot(adatamoon,[g],groupby='cell type',swap_axes=True)\n",
    "sc.pl.dotplot(adata_ref,[g],groupby='cell type',swap_axes=True)"
   ]
  },
  {
   "cell_type": "code",
   "execution_count": null,
   "id": "1f349847",
   "metadata": {},
   "outputs": [],
   "source": [
    "sc.pl.dotplot(adatamoon,adatamoon.var.index[100:200],groupby='cell type')"
   ]
  },
  {
   "cell_type": "code",
   "execution_count": null,
   "id": "29f10d06",
   "metadata": {},
   "outputs": [],
   "source": [
    "sc.pl.umap(adatamoon,color='cell type',legend_loc='on data',legend_fontsize=4)"
   ]
  },
  {
   "cell_type": "code",
   "execution_count": null,
   "id": "342675e6",
   "metadata": {},
   "outputs": [],
   "source": [
    "adatamoon.layers['raw']=adatamoon.X"
   ]
  },
  {
   "cell_type": "code",
   "execution_count": null,
   "id": "e2f3e12e",
   "metadata": {},
   "outputs": [],
   "source": [
    "\n",
    "sc.tl.rank_genes_groups(adatamoon,groupby='cell type')\n",
    "sc.pl.rank_genes_groups(adatamoon,fontsize=20,n_genes=4)"
   ]
  },
  {
   "cell_type": "code",
   "execution_count": null,
   "id": "aa7ded4c",
   "metadata": {},
   "outputs": [],
   "source": [
    "sc.set_figure_params(scanpy=True, dpi=80, dpi_save=150, frameon=True, vector_friendly=True, fontsize=14, figsize=(15,15), color_map=None, format='pdf', facecolor=None, transparent=False, ipython_format='png2x')\n",
    "sc.pl.umap(adatamoon,color='cell type',legend_loc='on data',legend_fontsize=4)"
   ]
  },
  {
   "cell_type": "code",
   "execution_count": null,
   "id": "b5de9312",
   "metadata": {},
   "outputs": [],
   "source": []
  }
 ],
 "metadata": {
  "kernelspec": {
   "display_name": "Python 3 (ipykernel)",
   "language": "python",
   "name": "python3"
  },
  "language_info": {
   "codemirror_mode": {
    "name": "ipython",
    "version": 3
   },
   "file_extension": ".py",
   "mimetype": "text/x-python",
   "name": "python",
   "nbconvert_exporter": "python",
   "pygments_lexer": "ipython3",
   "version": "3.12.2"
  }
 },
 "nbformat": 4,
 "nbformat_minor": 5
}
