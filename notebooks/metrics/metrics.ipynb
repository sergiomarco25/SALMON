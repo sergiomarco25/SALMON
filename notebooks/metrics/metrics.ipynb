{
 "cells": [
  {
   "cell_type": "code",
   "execution_count": 2,
   "id": "e70d45e1",
   "metadata": {},
   "outputs": [],
   "source": [
    "import numpy as np\n",
    "import pandas as pd\n",
    "import scanpy as sc\n",
    "import seaborn as sns\n",
    "import matplotlib.pyplot as plt\n",
    "#import squidpy as sq\n",
    "from tqdm import tqdm"
   ]
  },
  {
   "cell_type": "code",
   "execution_count": 3,
   "id": "8244e461",
   "metadata": {},
   "outputs": [],
   "source": [
    "import sys\n",
    "import os \n",
    "from pathlib import Path"
   ]
  },
  {
   "cell_type": "code",
   "execution_count": 4,
   "id": "3d0e1b7a",
   "metadata": {},
   "outputs": [
    {
     "data": {
      "text/plain": [
       "'/Users/omercagatay/Desktop/Thesis/git_repo/SALMON/notebooks/metrics'"
      ]
     },
     "execution_count": 4,
     "metadata": {},
     "output_type": "execute_result"
    }
   ],
   "source": [
    "notebook_dir = os.getcwd()\n",
    "notebook_dir"
   ]
  },
  {
   "cell_type": "code",
   "execution_count": 7,
   "id": "a06e95a8",
   "metadata": {},
   "outputs": [
    {
     "data": {
      "text/plain": [
       "PosixPath('/Users/omercagatay/Desktop/Thesis')"
      ]
     },
     "execution_count": 7,
     "metadata": {},
     "output_type": "execute_result"
    }
   ],
   "source": [
    "Path(notebook_dir).parents[3]"
   ]
  },
  {
   "cell_type": "markdown",
   "id": "4ff2a341",
   "metadata": {},
   "source": []
  },
  {
   "cell_type": "code",
   "execution_count": 8,
   "id": "05069b08",
   "metadata": {},
   "outputs": [],
   "source": [
    "os.chdir(Path(notebook_dir).parents[3])"
   ]
  },
  {
   "cell_type": "code",
   "execution_count": 9,
   "id": "34fc8108",
   "metadata": {},
   "outputs": [],
   "source": [
    "import sys  \n",
    "sys.path.insert(1,'/Users/omercagatay/Desktop/Thesis/git_repo/SALMON')\n",
    "from SALMON.points2regions import *\n",
    "from SALMON.formatting import *\n",
    "from SALMON.metrics import *\n",
    "from SALMON.microenvironment_metrics import *"
   ]
  },
  {
   "cell_type": "code",
   "execution_count": 16,
   "id": "116324dc",
   "metadata": {},
   "outputs": [],
   "source": [
    "\n",
    "def perimeter(convexhull=''):\n",
    "    perimeter = 0\n",
    "    for i in range(len(convexhull)):\n",
    "        j = (i + 1) % len(convexhull)\n",
    "        perimeter += np.linalg.norm(convexhull[i] - convexhull[j])\n",
    "    return perimeter\n",
    "\n",
    "def morphology_characteristics(points='a'):\n",
    "    from scipy.spatial import ConvexHull\n",
    "    points=np.array([a['x_location'],a['y_location']]).transpose()\n",
    "    rds=ConvexHull(points)\n",
    "    # computing convex hull\n",
    "    ch=np.array([points[rds.vertices,0], points[rds.vertices,1]]).transpose()\n",
    "    #perimeter calculation\n",
    "    peri=perimeter(ch)\n",
    "    centroid = np.mean(points, axis=0)\n",
    "    distances = np.linalg.norm(ch - centroid, axis=1)\n",
    "    max_distance = np.max(distances)\n",
    "    min_distance = np.min(distances)\n",
    "    eccentricity = max_distance / min_distance\n",
    "    #circularity\n",
    "    circularity = 1 / eccentricity\n",
    "    return peri,eccentricity,circularity "
   ]
  },
  {
   "cell_type": "code",
   "execution_count": null,
   "id": "4ed8a5b8",
   "metadata": {},
   "outputs": [],
   "source": [
    "###to be developed####\n",
    "def compute_knn_read_distance(adatafilt):\n",
    "\n",
    "    subdata = sc.AnnData(obs=adatafilt.uns['spots'])\n",
    "    subdata.obsm['spatial'] = np.array([adatafilt.uns['spots']['x_location'],adatafilt.uns['spots']['y_location']]).transpose()\n",
    "    sq.gr.spatial_neighbors(subdata,n_neighs=1,coord_type = 'generic')\n",
    "    n=0\n",
    "    tr=subdata.obsp['spatial_distances'].transpose()\n",
    "    tr2=tr>0\n",
    "    knndist=tr2.dot(subdata.obsm['spatial'])\n",
    "    subdata.obs['closest_spot_distance']=np.sqrt(np.sum((subdata.obsm['spatial']-knndist)**2,axis=1))\n",
    "    #compute, per cell, the density [TO IMPLEMENT]\n",
    "    \n",
    "    return adatafilt"
   ]
  },
  {
   "cell_type": "markdown",
   "id": "62ff7f0b",
   "metadata": {},
   "source": [
    "# Read Data "
   ]
  },
  {
   "cell_type": "markdown",
   "id": "adfd9e92",
   "metadata": {},
   "source": [
    "## Cell Feature Matrix"
   ]
  },
  {
   "cell_type": "code",
   "execution_count": 12,
   "id": "8aaea178",
   "metadata": {},
   "outputs": [],
   "source": [
    "adata = sc.read_10x_h5('data/Xenium_V1_mouse_pup_outs/cell_feature_matrix.h5') \n",
    "#adata = sc.read('data/Xenium_V1_mouse_pup_outs/adata_filtered.h5ad') "
   ]
  },
  {
   "cell_type": "code",
   "execution_count": 13,
   "id": "3d9ebe86",
   "metadata": {},
   "outputs": [],
   "source": [
    "adata.var = adata.var.rename(columns={\"gene_ids\":\"Ensemble ID\"})\n",
    "adata.var.reset_index(inplace=True, drop = False, names= \"gene_name\")\n",
    "adata.obs.reset_index(inplace=True, drop=False, names= \"cell_id\")"
   ]
  },
  {
   "cell_type": "markdown",
   "id": "e853c889",
   "metadata": {},
   "source": [
    "## Cell Summary "
   ]
  },
  {
   "cell_type": "code",
   "execution_count": 14,
   "id": "bf8d798b",
   "metadata": {},
   "outputs": [],
   "source": [
    "df_cells = pd.read_csv(\"data/Xenium_V1_mouse_pup_outs/cells.csv.gz\")"
   ]
  },
  {
   "cell_type": "code",
   "execution_count": 15,
   "id": "59b78e85",
   "metadata": {},
   "outputs": [
    {
     "data": {
      "text/plain": [
       "cell_id\n",
       "aaaabgpa-1    1\n",
       "jlcihdnp-1    1\n",
       "jlcifjco-1    1\n",
       "jlciffio-1    1\n",
       "jlcienmn-1    1\n",
       "             ..\n",
       "enilhfik-1    1\n",
       "enilhckc-1    1\n",
       "enilegml-1    1\n",
       "enildhge-1    1\n",
       "oinfkihb-1    1\n",
       "Name: count, Length: 1355849, dtype: int64"
      ]
     },
     "execution_count": 15,
     "metadata": {},
     "output_type": "execute_result"
    }
   ],
   "source": [
    "df_cells.cell_id.value_counts()"
   ]
  },
  {
   "cell_type": "code",
   "execution_count": 16,
   "id": "ee1ed151",
   "metadata": {},
   "outputs": [],
   "source": [
    "df_adata_obs = df_cells[['cell_id','x_centroid',\"y_centroid\", \"transcript_counts\", \"total_counts\", \"cell_area\", \"nucleus_area\"]]"
   ]
  },
  {
   "cell_type": "code",
   "execution_count": 17,
   "id": "4fe3fa0f",
   "metadata": {},
   "outputs": [],
   "source": [
    "adata.obs = df_adata_obs.copy()"
   ]
  },
  {
   "cell_type": "code",
   "execution_count": 18,
   "id": "7d5c7ff7",
   "metadata": {},
   "outputs": [],
   "source": [
    "del df_adata_obs\n",
    "del df_cells"
   ]
  },
  {
   "cell_type": "markdown",
   "id": "91bcd11a",
   "metadata": {},
   "source": [
    "## Transcripts"
   ]
  },
  {
   "cell_type": "code",
   "execution_count": 19,
   "id": "ce1d69d5",
   "metadata": {},
   "outputs": [],
   "source": [
    "transcripts = pd.read_csv(\"data/Xenium_V1_mouse_pup_outs/transcripts_filtered.csv\")"
   ]
  },
  {
   "cell_type": "code",
   "execution_count": 20,
   "id": "c46ad2a4",
   "metadata": {},
   "outputs": [],
   "source": [
    "transcripts[\"cell_mapped\"] = transcripts[\"cell_id\"].apply(lambda x: \"unassigned\" if x == \"UNASSIGNED\" else \"assigned\")"
   ]
  },
  {
   "cell_type": "code",
   "execution_count": 21,
   "id": "77a03914",
   "metadata": {},
   "outputs": [],
   "source": [
    "tr = transcripts[transcripts[\"cell_id\"] != \"UNASSIGNED\" ]\n",
    "tr.reset_index(inplace=True, drop=True)\n",
    "tr = tr.drop(columns=[\"Unnamed: 0\"])"
   ]
  },
  {
   "cell_type": "code",
   "execution_count": 23,
   "id": "2ef896a3",
   "metadata": {},
   "outputs": [
    {
     "data": {
      "text/html": [
       "<div>\n",
       "<style scoped>\n",
       "    .dataframe tbody tr th:only-of-type {\n",
       "        vertical-align: middle;\n",
       "    }\n",
       "\n",
       "    .dataframe tbody tr th {\n",
       "        vertical-align: top;\n",
       "    }\n",
       "\n",
       "    .dataframe thead th {\n",
       "        text-align: right;\n",
       "    }\n",
       "</style>\n",
       "<table border=\"1\" class=\"dataframe\">\n",
       "  <thead>\n",
       "    <tr style=\"text-align: right;\">\n",
       "      <th></th>\n",
       "      <th>transcript_id</th>\n",
       "      <th>cell_id</th>\n",
       "      <th>overlaps_nucleus</th>\n",
       "      <th>feature_name</th>\n",
       "      <th>x_location</th>\n",
       "      <th>y_location</th>\n",
       "      <th>z_location</th>\n",
       "      <th>qv</th>\n",
       "      <th>fov_name</th>\n",
       "      <th>nucleus_distance</th>\n",
       "      <th>cell_mapped</th>\n",
       "    </tr>\n",
       "  </thead>\n",
       "  <tbody>\n",
       "    <tr>\n",
       "      <th>0</th>\n",
       "      <td>282162171478024</td>\n",
       "      <td>cfbhgalg-1</td>\n",
       "      <td>0</td>\n",
       "      <td>Fxyd6</td>\n",
       "      <td>1927.0404</td>\n",
       "      <td>4950.6410</td>\n",
       "      <td>27.462738</td>\n",
       "      <td>36.826744</td>\n",
       "      <td>G4</td>\n",
       "      <td>14.152650</td>\n",
       "      <td>assigned</td>\n",
       "    </tr>\n",
       "    <tr>\n",
       "      <th>1</th>\n",
       "      <td>282162171478026</td>\n",
       "      <td>cfbhgalg-1</td>\n",
       "      <td>0</td>\n",
       "      <td>Sypl2</td>\n",
       "      <td>1930.1780</td>\n",
       "      <td>4960.1475</td>\n",
       "      <td>27.615625</td>\n",
       "      <td>40.000000</td>\n",
       "      <td>G4</td>\n",
       "      <td>13.390779</td>\n",
       "      <td>assigned</td>\n",
       "    </tr>\n",
       "    <tr>\n",
       "      <th>2</th>\n",
       "      <td>282162171478034</td>\n",
       "      <td>cfbhgalg-1</td>\n",
       "      <td>0</td>\n",
       "      <td>Anxa2</td>\n",
       "      <td>1939.3625</td>\n",
       "      <td>4963.5310</td>\n",
       "      <td>30.198410</td>\n",
       "      <td>36.826744</td>\n",
       "      <td>G4</td>\n",
       "      <td>11.156137</td>\n",
       "      <td>assigned</td>\n",
       "    </tr>\n",
       "    <tr>\n",
       "      <th>3</th>\n",
       "      <td>282162171478036</td>\n",
       "      <td>cfbhgalg-1</td>\n",
       "      <td>0</td>\n",
       "      <td>Fech</td>\n",
       "      <td>1939.6849</td>\n",
       "      <td>4946.4624</td>\n",
       "      <td>27.285930</td>\n",
       "      <td>40.000000</td>\n",
       "      <td>G4</td>\n",
       "      <td>4.113297</td>\n",
       "      <td>assigned</td>\n",
       "    </tr>\n",
       "    <tr>\n",
       "      <th>4</th>\n",
       "      <td>282162171478056</td>\n",
       "      <td>cfaiacmp-1</td>\n",
       "      <td>0</td>\n",
       "      <td>Cryab</td>\n",
       "      <td>1944.0469</td>\n",
       "      <td>4972.1743</td>\n",
       "      <td>26.068003</td>\n",
       "      <td>40.000000</td>\n",
       "      <td>G4</td>\n",
       "      <td>5.479392</td>\n",
       "      <td>assigned</td>\n",
       "    </tr>\n",
       "    <tr>\n",
       "      <th>...</th>\n",
       "      <td>...</td>\n",
       "      <td>...</td>\n",
       "      <td>...</td>\n",
       "      <td>...</td>\n",
       "      <td>...</td>\n",
       "      <td>...</td>\n",
       "      <td>...</td>\n",
       "      <td>...</td>\n",
       "      <td>...</td>\n",
       "      <td>...</td>\n",
       "      <td>...</td>\n",
       "    </tr>\n",
       "    <tr>\n",
       "      <th>7989142</th>\n",
       "      <td>282187942270866</td>\n",
       "      <td>amiiijhf-1</td>\n",
       "      <td>1</td>\n",
       "      <td>Krt19</td>\n",
       "      <td>5756.5327</td>\n",
       "      <td>5549.8228</td>\n",
       "      <td>26.122461</td>\n",
       "      <td>26.422700</td>\n",
       "      <td>H10</td>\n",
       "      <td>0.000000</td>\n",
       "      <td>assigned</td>\n",
       "    </tr>\n",
       "    <tr>\n",
       "      <th>7989143</th>\n",
       "      <td>282187942270897</td>\n",
       "      <td>amiiijhf-1</td>\n",
       "      <td>1</td>\n",
       "      <td>Krt19</td>\n",
       "      <td>5757.9770</td>\n",
       "      <td>5550.0537</td>\n",
       "      <td>21.278362</td>\n",
       "      <td>40.000000</td>\n",
       "      <td>H10</td>\n",
       "      <td>0.000000</td>\n",
       "      <td>assigned</td>\n",
       "    </tr>\n",
       "    <tr>\n",
       "      <th>7989144</th>\n",
       "      <td>282187942270904</td>\n",
       "      <td>amiibcmi-1</td>\n",
       "      <td>0</td>\n",
       "      <td>Krt19</td>\n",
       "      <td>5758.3780</td>\n",
       "      <td>5534.4660</td>\n",
       "      <td>23.390993</td>\n",
       "      <td>28.166980</td>\n",
       "      <td>H10</td>\n",
       "      <td>1.227634</td>\n",
       "      <td>assigned</td>\n",
       "    </tr>\n",
       "    <tr>\n",
       "      <th>7989145</th>\n",
       "      <td>282187942270950</td>\n",
       "      <td>amiiijhf-1</td>\n",
       "      <td>1</td>\n",
       "      <td>Krt19</td>\n",
       "      <td>5761.3994</td>\n",
       "      <td>5548.9434</td>\n",
       "      <td>25.935236</td>\n",
       "      <td>40.000000</td>\n",
       "      <td>H10</td>\n",
       "      <td>0.000000</td>\n",
       "      <td>assigned</td>\n",
       "    </tr>\n",
       "    <tr>\n",
       "      <th>7989146</th>\n",
       "      <td>282187942270969</td>\n",
       "      <td>amiiijhf-1</td>\n",
       "      <td>0</td>\n",
       "      <td>Krt19</td>\n",
       "      <td>5762.2515</td>\n",
       "      <td>5548.5757</td>\n",
       "      <td>23.364403</td>\n",
       "      <td>40.000000</td>\n",
       "      <td>H10</td>\n",
       "      <td>0.675128</td>\n",
       "      <td>assigned</td>\n",
       "    </tr>\n",
       "  </tbody>\n",
       "</table>\n",
       "<p>7989147 rows × 11 columns</p>\n",
       "</div>"
      ],
      "text/plain": [
       "           transcript_id     cell_id  overlaps_nucleus feature_name  \\\n",
       "0        282162171478024  cfbhgalg-1                 0        Fxyd6   \n",
       "1        282162171478026  cfbhgalg-1                 0        Sypl2   \n",
       "2        282162171478034  cfbhgalg-1                 0        Anxa2   \n",
       "3        282162171478036  cfbhgalg-1                 0         Fech   \n",
       "4        282162171478056  cfaiacmp-1                 0        Cryab   \n",
       "...                  ...         ...               ...          ...   \n",
       "7989142  282187942270866  amiiijhf-1                 1        Krt19   \n",
       "7989143  282187942270897  amiiijhf-1                 1        Krt19   \n",
       "7989144  282187942270904  amiibcmi-1                 0        Krt19   \n",
       "7989145  282187942270950  amiiijhf-1                 1        Krt19   \n",
       "7989146  282187942270969  amiiijhf-1                 0        Krt19   \n",
       "\n",
       "         x_location  y_location  z_location         qv fov_name  \\\n",
       "0         1927.0404   4950.6410   27.462738  36.826744       G4   \n",
       "1         1930.1780   4960.1475   27.615625  40.000000       G4   \n",
       "2         1939.3625   4963.5310   30.198410  36.826744       G4   \n",
       "3         1939.6849   4946.4624   27.285930  40.000000       G4   \n",
       "4         1944.0469   4972.1743   26.068003  40.000000       G4   \n",
       "...             ...         ...         ...        ...      ...   \n",
       "7989142   5756.5327   5549.8228   26.122461  26.422700      H10   \n",
       "7989143   5757.9770   5550.0537   21.278362  40.000000      H10   \n",
       "7989144   5758.3780   5534.4660   23.390993  28.166980      H10   \n",
       "7989145   5761.3994   5548.9434   25.935236  40.000000      H10   \n",
       "7989146   5762.2515   5548.5757   23.364403  40.000000      H10   \n",
       "\n",
       "         nucleus_distance cell_mapped  \n",
       "0               14.152650    assigned  \n",
       "1               13.390779    assigned  \n",
       "2               11.156137    assigned  \n",
       "3                4.113297    assigned  \n",
       "4                5.479392    assigned  \n",
       "...                   ...         ...  \n",
       "7989142          0.000000    assigned  \n",
       "7989143          0.000000    assigned  \n",
       "7989144          1.227634    assigned  \n",
       "7989145          0.000000    assigned  \n",
       "7989146          0.675128    assigned  \n",
       "\n",
       "[7989147 rows x 11 columns]"
      ]
     },
     "execution_count": 23,
     "metadata": {},
     "output_type": "execute_result"
    }
   ],
   "source": [
    "tr"
   ]
  },
  {
   "cell_type": "code",
   "execution_count": 24,
   "id": "c61ac27b",
   "metadata": {},
   "outputs": [],
   "source": [
    "tr_both = tr.groupby('cell_id')['overlaps_nucleus'].agg(\n",
    "    takes_0=lambda x: 1 if 0 in x.values else 0,\n",
    "    takes_1=lambda x: 1 if 1 in x.values else 0,\n",
    "    takes_both=lambda x: 1 if {0, 1}.issubset(x.values) else 0\n",
    ").reset_index()\n",
    "\n",
    "tr = tr.merge(tr_both, on=\"cell_id\", how=\"left\" )\n",
    "tr = tr[tr[\"takes_both\"]==1]\n"
   ]
  },
  {
   "cell_type": "code",
   "execution_count": 44,
   "id": "08a5e88c",
   "metadata": {},
   "outputs": [
    {
     "data": {
      "text/plain": [
       "takes_1\n",
       "1    39745\n",
       "0      235\n",
       "Name: count, dtype: int64"
      ]
     },
     "execution_count": 44,
     "metadata": {},
     "output_type": "execute_result"
    }
   ],
   "source": [
    "tr_both.takes_1.value_counts()"
   ]
  },
  {
   "cell_type": "code",
   "execution_count": 28,
   "id": "749b7ab9",
   "metadata": {},
   "outputs": [
    {
     "data": {
      "text/plain": [
       "takes_both\n",
       "1    39745\n",
       "0      235\n",
       "Name: count, dtype: int64"
      ]
     },
     "execution_count": 28,
     "metadata": {},
     "output_type": "execute_result"
    }
   ],
   "source": [
    "tr_both.takes_both.value_counts()"
   ]
  },
  {
   "cell_type": "code",
   "execution_count": 25,
   "id": "50532357",
   "metadata": {},
   "outputs": [],
   "source": [
    "tr = tr.merge(tr_both, on=\"cell_id\", how=\"left\" )"
   ]
  },
  {
   "cell_type": "code",
   "execution_count": 29,
   "id": "4a6b598a",
   "metadata": {},
   "outputs": [],
   "source": [
    "tr = tr[tr[\"takes_both\"]==1]"
   ]
  },
  {
   "cell_type": "code",
   "execution_count": 31,
   "id": "29e2b056",
   "metadata": {},
   "outputs": [],
   "source": [
    "tr = tr.drop(columns=[\"takes_0\",\"takes_1\",\"takes_both\"])"
   ]
  },
  {
   "cell_type": "code",
   "execution_count": 32,
   "id": "a7c9c2d5",
   "metadata": {},
   "outputs": [],
   "source": [
    "#cell_tr = pd.crosstab(tr['cell_id'],tr['feature_name'])\n",
    "#adata = adata[adata.obs['cell_id'].isin(cell_tr.index)]"
   ]
  },
  {
   "cell_type": "code",
   "execution_count": 33,
   "id": "41e2119a",
   "metadata": {},
   "outputs": [
    {
     "data": {
      "text/plain": [
       "View of AnnData object with n_obs × n_vars = 39980 × 379\n",
       "    obs: 'cell_id', 'x_centroid', 'y_centroid', 'transcript_counts', 'total_counts', 'cell_area', 'nucleus_area'\n",
       "    var: 'gene_name', 'Ensemble ID', 'feature_types', 'genome'"
      ]
     },
     "execution_count": 33,
     "metadata": {},
     "output_type": "execute_result"
    }
   ],
   "source": [
    "adata"
   ]
  },
  {
   "cell_type": "code",
   "execution_count": 32,
   "id": "45cd2bd2",
   "metadata": {},
   "outputs": [],
   "source": [
    "# divide data in nuclei and cytopasm\n",
    "tn = tr[tr['overlaps_nucleus'] == 1]\n",
    "tc = tr[tr['overlaps_nucleus'] == 0]\n",
    "\n",
    "# create the cellxgene matrix for nuc counts and cytoplasmic\n",
    "nuc = pd.crosstab(tn['cell_id'],tn['feature_name'])\n",
    "cyt = pd.crosstab(tc['cell_id'],tc['feature_name'])"
   ]
  },
  {
   "cell_type": "code",
   "execution_count": 37,
   "id": "c2ccf1b9",
   "metadata": {},
   "outputs": [
    {
     "data": {
      "text/plain": [
       "17210      True\n",
       "17211      True\n",
       "17212      True\n",
       "17213      True\n",
       "17214      True\n",
       "           ... \n",
       "1164208    True\n",
       "1164209    True\n",
       "1164210    True\n",
       "1164211    True\n",
       "1164212    True\n",
       "Name: cell_id, Length: 39980, dtype: bool"
      ]
     },
     "execution_count": 37,
     "metadata": {},
     "output_type": "execute_result"
    }
   ],
   "source": [
    "adata.obs[\"cell_id\"] == adata.obs[\"cell_id\"].astype(str).astype('category')"
   ]
  },
  {
   "cell_type": "code",
   "execution_count": 33,
   "id": "7257d4cb",
   "metadata": {},
   "outputs": [],
   "source": [
    "adata.obs.index=adata.obs.index.astype(str).astype('category')"
   ]
  },
  {
   "cell_type": "code",
   "execution_count": 34,
   "id": "4463968c",
   "metadata": {},
   "outputs": [],
   "source": [
    "nuc.index = nuc.index.astype(str).astype(\"category\")\n",
    "cyt.index = cyt.index.astype(str).astype(\"category\")"
   ]
  },
  {
   "cell_type": "code",
   "execution_count": 35,
   "id": "4bfae87c",
   "metadata": {},
   "outputs": [],
   "source": [
    "#get the cells which has a transcripts mappep to it \n",
    "adata = adata[adata.obs['cell_id'].isin(nuc.index)]\n",
    "adata = adata[adata.obs['cell_id'].isin(cyt.index)]"
   ]
  },
  {
   "cell_type": "code",
   "execution_count": 36,
   "id": "5283cbfe",
   "metadata": {},
   "outputs": [
    {
     "name": "stderr",
     "output_type": "stream",
     "text": [
      "/var/folders/n1/3rys77050fl0ptsh50jc4t_40000gn/T/ipykernel_2477/1740076899.py:7: ImplicitModificationWarning: Setting element `.layers['spliced']` of view, initializing view as actual.\n",
      "  adata.layers['spliced'] = np.array(cytsort)\n",
      "/opt/anaconda3/envs/scvelo/lib/python3.12/site-packages/anndata/_core/aligned_df.py:67: ImplicitModificationWarning: Transforming to str index.\n",
      "  warnings.warn(\"Transforming to str index.\", ImplicitModificationWarning)\n"
     ]
    }
   ],
   "source": [
    "# create \"spliced\", \"unspliced\" layers since scvelo looks for them\n",
    "adata.obs.index=adata.obs.index.astype(str).astype('category')\n",
    "nucsort = nuc.loc[adata.obs['cell_id'],adata.var[\"gene_name\"]]\n",
    "adata.obs.index=adata.obs.index.astype(str).astype('category')\n",
    "cytsort = cyt.loc[adata.obs['cell_id'],adata.var[\"gene_name\"]]\n",
    "\n",
    "adata.layers['spliced'] = np.array(cytsort)\n",
    "adata.layers['unspliced'] = np.array(nucsort)"
   ]
  },
  {
   "cell_type": "code",
   "execution_count": 38,
   "id": "599fbefd",
   "metadata": {},
   "outputs": [],
   "source": [
    "adata.uns['spots'] = tr"
   ]
  },
  {
   "cell_type": "code",
   "execution_count": 39,
   "id": "4b290541",
   "metadata": {},
   "outputs": [],
   "source": [
    "adata.obsm[\"spatial\"] = adata.obs[[\"x_centroid\", \"y_centroid\"]].copy().to_numpy()"
   ]
  },
  {
   "cell_type": "code",
   "execution_count": 40,
   "id": "fed496d4",
   "metadata": {},
   "outputs": [],
   "source": [
    "#adata.write(\"data/Xenium_V1_mouse_pup_outs/adata_filtered.h5ad\")"
   ]
  },
  {
   "cell_type": "code",
   "execution_count": 10,
   "id": "78b97eb9",
   "metadata": {},
   "outputs": [],
   "source": [
    "adata = sc.read('data/Xenium_V1_mouse_pup_outs/adata_filtered.h5ad') "
   ]
  },
  {
   "cell_type": "code",
   "execution_count": 11,
   "id": "a35f4be2",
   "metadata": {},
   "outputs": [
    {
     "data": {
      "text/plain": [
       "AnnData object with n_obs × n_vars = 39745 × 379\n",
       "    obs: 'cell_id', 'x_centroid', 'y_centroid', 'transcript_counts', 'total_counts', 'cell_area', 'nucleus_area'\n",
       "    var: 'gene_name', 'Ensemble ID', 'feature_types', 'genome'\n",
       "    uns: 'spots'\n",
       "    obsm: 'spatial'\n",
       "    layers: 'spliced', 'unspliced'"
      ]
     },
     "execution_count": 11,
     "metadata": {},
     "output_type": "execute_result"
    }
   ],
   "source": [
    "adata"
   ]
  },
  {
   "cell_type": "markdown",
   "id": "32ed1c38",
   "metadata": {},
   "source": [
    "# Filter reads based on distance\n",
    "\n",
    "- Xenium output has the nucleus distance information, next cell will be skipped."
   ]
  },
  {
   "cell_type": "code",
   "execution_count": null,
   "id": "57e0645c",
   "metadata": {},
   "outputs": [],
   "source": [
    "id2x=dict(zip(adata.obs['cell_id'],adata.obs['x_centroid']))\n",
    "id2y=dict(zip(adata.obs['cell_id'],adata.obs['y_centroid']))\n",
    "\n",
    "# if the dataset doesn't have info about distance to nucleus. How to compute it:\n",
    "cellx=adata.uns['spots']['cell_id'].map(id2x)\n",
    "celly=adata.uns['spots']['cell_id'].map(id2y)\n",
    "adata.uns['spots']['nucleus_distance']=np.sqrt((adata.uns['spots']['x_location']-cellx)**2+(adata.uns['spots']['y_location']-celly)**2)\n",
    "adata.obsm['spatial']=np.array([adata.obs['x_centroid'],adata.obs['y_centroid']]).transpose()"
   ]
  },
  {
   "cell_type": "code",
   "execution_count": 12,
   "id": "ee7e2c75",
   "metadata": {},
   "outputs": [
    {
     "data": {
      "image/png": "[encoded data removed]",
      "text/plain": [
       "<Figure size 640x480 with 1 Axes>"
      ]
     },
     "metadata": {},
     "output_type": "display_data"
    }
   ],
   "source": [
    "ss = plt.hist(adata.uns['spots']['nucleus_distance'],bins=200)"
   ]
  },
  {
   "cell_type": "code",
   "execution_count": null,
   "id": "e695139b",
   "metadata": {},
   "outputs": [],
   "source": [
    "#adata.obs['x_centroid'].max()\n",
    "#adata=adata[adata.obs['x_centroid']<5000]\n",
    "#adata=adata[adata.obs['y_centroid']<5000]"
   ]
  },
  {
   "cell_type": "code",
   "execution_count": null,
   "id": "f417ab65",
   "metadata": {},
   "outputs": [],
   "source": [
    "#adata=filter_distant_reads(adata,max_distance=3)"
   ]
  },
  {
   "cell_type": "code",
   "execution_count": 61,
   "id": "20d169e7",
   "metadata": {},
   "outputs": [
    {
     "data": {
      "text/plain": [
       "AnnData object with n_obs × n_vars = 39745 × 379\n",
       "    obs: 'cell_id', 'x_centroid', 'y_centroid', 'transcript_counts', 'total_counts', 'cell_area', 'nucleus_area'\n",
       "    var: 'gene_name', 'Ensemble ID', 'feature_types', 'genome'\n",
       "    uns: 'spots'\n",
       "    obsm: 'spatial'\n",
       "    layers: 'spliced', 'unspliced'"
      ]
     },
     "execution_count": 61,
     "metadata": {},
     "output_type": "execute_result"
    }
   ],
   "source": [
    "adata"
   ]
  },
  {
   "cell_type": "code",
   "execution_count": 13,
   "id": "75e52a05",
   "metadata": {},
   "outputs": [
    {
     "data": {
      "text/html": [
       "<div>\n",
       "<style scoped>\n",
       "    .dataframe tbody tr th:only-of-type {\n",
       "        vertical-align: middle;\n",
       "    }\n",
       "\n",
       "    .dataframe tbody tr th {\n",
       "        vertical-align: top;\n",
       "    }\n",
       "\n",
       "    .dataframe thead th {\n",
       "        text-align: right;\n",
       "    }\n",
       "</style>\n",
       "<table border=\"1\" class=\"dataframe\">\n",
       "  <thead>\n",
       "    <tr style=\"text-align: right;\">\n",
       "      <th></th>\n",
       "      <th>transcript_id</th>\n",
       "      <th>cell_id</th>\n",
       "      <th>overlaps_nucleus</th>\n",
       "      <th>feature_name</th>\n",
       "      <th>x_location</th>\n",
       "      <th>y_location</th>\n",
       "      <th>z_location</th>\n",
       "      <th>qv</th>\n",
       "      <th>fov_name</th>\n",
       "      <th>nucleus_distance</th>\n",
       "      <th>cell_mapped</th>\n",
       "    </tr>\n",
       "  </thead>\n",
       "  <tbody>\n",
       "    <tr>\n",
       "      <th>0</th>\n",
       "      <td>282162171478024</td>\n",
       "      <td>cfbhgalg-1</td>\n",
       "      <td>0</td>\n",
       "      <td>Fxyd6</td>\n",
       "      <td>1927.0404</td>\n",
       "      <td>4950.6410</td>\n",
       "      <td>27.462738</td>\n",
       "      <td>36.826744</td>\n",
       "      <td>G4</td>\n",
       "      <td>14.152650</td>\n",
       "      <td>assigned</td>\n",
       "    </tr>\n",
       "    <tr>\n",
       "      <th>1</th>\n",
       "      <td>282162171478026</td>\n",
       "      <td>cfbhgalg-1</td>\n",
       "      <td>0</td>\n",
       "      <td>Sypl2</td>\n",
       "      <td>1930.1780</td>\n",
       "      <td>4960.1475</td>\n",
       "      <td>27.615625</td>\n",
       "      <td>40.000000</td>\n",
       "      <td>G4</td>\n",
       "      <td>13.390779</td>\n",
       "      <td>assigned</td>\n",
       "    </tr>\n",
       "    <tr>\n",
       "      <th>2</th>\n",
       "      <td>282162171478034</td>\n",
       "      <td>cfbhgalg-1</td>\n",
       "      <td>0</td>\n",
       "      <td>Anxa2</td>\n",
       "      <td>1939.3625</td>\n",
       "      <td>4963.5310</td>\n",
       "      <td>30.198410</td>\n",
       "      <td>36.826744</td>\n",
       "      <td>G4</td>\n",
       "      <td>11.156137</td>\n",
       "      <td>assigned</td>\n",
       "    </tr>\n",
       "    <tr>\n",
       "      <th>3</th>\n",
       "      <td>282162171478036</td>\n",
       "      <td>cfbhgalg-1</td>\n",
       "      <td>0</td>\n",
       "      <td>Fech</td>\n",
       "      <td>1939.6849</td>\n",
       "      <td>4946.4624</td>\n",
       "      <td>27.285930</td>\n",
       "      <td>40.000000</td>\n",
       "      <td>G4</td>\n",
       "      <td>4.113297</td>\n",
       "      <td>assigned</td>\n",
       "    </tr>\n",
       "    <tr>\n",
       "      <th>4</th>\n",
       "      <td>282162171478056</td>\n",
       "      <td>cfaiacmp-1</td>\n",
       "      <td>0</td>\n",
       "      <td>Cryab</td>\n",
       "      <td>1944.0469</td>\n",
       "      <td>4972.1743</td>\n",
       "      <td>26.068003</td>\n",
       "      <td>40.000000</td>\n",
       "      <td>G4</td>\n",
       "      <td>5.479392</td>\n",
       "      <td>assigned</td>\n",
       "    </tr>\n",
       "    <tr>\n",
       "      <th>...</th>\n",
       "      <td>...</td>\n",
       "      <td>...</td>\n",
       "      <td>...</td>\n",
       "      <td>...</td>\n",
       "      <td>...</td>\n",
       "      <td>...</td>\n",
       "      <td>...</td>\n",
       "      <td>...</td>\n",
       "      <td>...</td>\n",
       "      <td>...</td>\n",
       "      <td>...</td>\n",
       "    </tr>\n",
       "    <tr>\n",
       "      <th>7989142</th>\n",
       "      <td>282187942270866</td>\n",
       "      <td>amiiijhf-1</td>\n",
       "      <td>1</td>\n",
       "      <td>Krt19</td>\n",
       "      <td>5756.5327</td>\n",
       "      <td>5549.8228</td>\n",
       "      <td>26.122461</td>\n",
       "      <td>26.422700</td>\n",
       "      <td>H10</td>\n",
       "      <td>0.000000</td>\n",
       "      <td>assigned</td>\n",
       "    </tr>\n",
       "    <tr>\n",
       "      <th>7989143</th>\n",
       "      <td>282187942270897</td>\n",
       "      <td>amiiijhf-1</td>\n",
       "      <td>1</td>\n",
       "      <td>Krt19</td>\n",
       "      <td>5757.9770</td>\n",
       "      <td>5550.0537</td>\n",
       "      <td>21.278362</td>\n",
       "      <td>40.000000</td>\n",
       "      <td>H10</td>\n",
       "      <td>0.000000</td>\n",
       "      <td>assigned</td>\n",
       "    </tr>\n",
       "    <tr>\n",
       "      <th>7989144</th>\n",
       "      <td>282187942270904</td>\n",
       "      <td>amiibcmi-1</td>\n",
       "      <td>0</td>\n",
       "      <td>Krt19</td>\n",
       "      <td>5758.3780</td>\n",
       "      <td>5534.4660</td>\n",
       "      <td>23.390993</td>\n",
       "      <td>28.166980</td>\n",
       "      <td>H10</td>\n",
       "      <td>1.227634</td>\n",
       "      <td>assigned</td>\n",
       "    </tr>\n",
       "    <tr>\n",
       "      <th>7989145</th>\n",
       "      <td>282187942270950</td>\n",
       "      <td>amiiijhf-1</td>\n",
       "      <td>1</td>\n",
       "      <td>Krt19</td>\n",
       "      <td>5761.3994</td>\n",
       "      <td>5548.9434</td>\n",
       "      <td>25.935236</td>\n",
       "      <td>40.000000</td>\n",
       "      <td>H10</td>\n",
       "      <td>0.000000</td>\n",
       "      <td>assigned</td>\n",
       "    </tr>\n",
       "    <tr>\n",
       "      <th>7989146</th>\n",
       "      <td>282187942270969</td>\n",
       "      <td>amiiijhf-1</td>\n",
       "      <td>0</td>\n",
       "      <td>Krt19</td>\n",
       "      <td>5762.2515</td>\n",
       "      <td>5548.5757</td>\n",
       "      <td>23.364403</td>\n",
       "      <td>40.000000</td>\n",
       "      <td>H10</td>\n",
       "      <td>0.675128</td>\n",
       "      <td>assigned</td>\n",
       "    </tr>\n",
       "  </tbody>\n",
       "</table>\n",
       "<p>7982965 rows × 11 columns</p>\n",
       "</div>"
      ],
      "text/plain": [
       "           transcript_id     cell_id  overlaps_nucleus feature_name  \\\n",
       "0        282162171478024  cfbhgalg-1                 0        Fxyd6   \n",
       "1        282162171478026  cfbhgalg-1                 0        Sypl2   \n",
       "2        282162171478034  cfbhgalg-1                 0        Anxa2   \n",
       "3        282162171478036  cfbhgalg-1                 0         Fech   \n",
       "4        282162171478056  cfaiacmp-1                 0        Cryab   \n",
       "...                  ...         ...               ...          ...   \n",
       "7989142  282187942270866  amiiijhf-1                 1        Krt19   \n",
       "7989143  282187942270897  amiiijhf-1                 1        Krt19   \n",
       "7989144  282187942270904  amiibcmi-1                 0        Krt19   \n",
       "7989145  282187942270950  amiiijhf-1                 1        Krt19   \n",
       "7989146  282187942270969  amiiijhf-1                 0        Krt19   \n",
       "\n",
       "         x_location  y_location  z_location         qv fov_name  \\\n",
       "0         1927.0404   4950.6410   27.462738  36.826744       G4   \n",
       "1         1930.1780   4960.1475   27.615625  40.000000       G4   \n",
       "2         1939.3625   4963.5310   30.198410  36.826744       G4   \n",
       "3         1939.6849   4946.4624   27.285930  40.000000       G4   \n",
       "4         1944.0469   4972.1743   26.068003  40.000000       G4   \n",
       "...             ...         ...         ...        ...      ...   \n",
       "7989142   5756.5327   5549.8228   26.122461  26.422700      H10   \n",
       "7989143   5757.9770   5550.0537   21.278362  40.000000      H10   \n",
       "7989144   5758.3780   5534.4660   23.390993  28.166980      H10   \n",
       "7989145   5761.3994   5548.9434   25.935236  40.000000      H10   \n",
       "7989146   5762.2515   5548.5757   23.364403  40.000000      H10   \n",
       "\n",
       "         nucleus_distance cell_mapped  \n",
       "0               14.152650    assigned  \n",
       "1               13.390779    assigned  \n",
       "2               11.156137    assigned  \n",
       "3                4.113297    assigned  \n",
       "4                5.479392    assigned  \n",
       "...                   ...         ...  \n",
       "7989142          0.000000    assigned  \n",
       "7989143          0.000000    assigned  \n",
       "7989144          1.227634    assigned  \n",
       "7989145          0.000000    assigned  \n",
       "7989146          0.675128    assigned  \n",
       "\n",
       "[7982965 rows x 11 columns]"
      ]
     },
     "execution_count": 13,
     "metadata": {},
     "output_type": "execute_result"
    }
   ],
   "source": [
    "adata.uns[\"spots\"]"
   ]
  },
  {
   "cell_type": "markdown",
   "id": "dda92a3c",
   "metadata": {},
   "source": [
    "# Functions "
   ]
  },
  {
   "cell_type": "markdown",
   "id": "bd626d8b",
   "metadata": {},
   "source": [
    "- transcript_based_adata() function looks for gene_id "
   ]
  },
  {
   "cell_type": "code",
   "execution_count": 15,
   "id": "78d920f4",
   "metadata": {},
   "outputs": [],
   "source": [
    "adata.var = adata.var.rename(columns={\"gene_name\":\"gene_id\"})"
   ]
  },
  {
   "cell_type": "markdown",
   "id": "8dfddd14",
   "metadata": {},
   "source": [
    "### transcript_based_adata()\n",
    "\n",
    "- Recomputes the adata.X\n",
    "\n",
    "- Through the construction of the anndata object from Xenium outputs, we don't need to run this function again."
   ]
  },
  {
   "cell_type": "code",
   "execution_count": 16,
   "id": "387783ec",
   "metadata": {
    "scrolled": true
   },
   "outputs": [],
   "source": [
    "adatafilt = transcript_based_adata(adata)"
   ]
  },
  {
   "cell_type": "code",
   "execution_count": 17,
   "id": "c3532206",
   "metadata": {},
   "outputs": [],
   "source": [
    "adatafilt.obs.index = adatafilt.obs.index.astype(str).astype('category')\n",
    "adatafilt.obs['cell_id'] = adatafilt.obs['cell_id'].astype(str).astype('category')\n",
    "adatafilt.uns['spots']['cell_id'] = adatafilt.uns['spots']['cell_id'].astype(str).astype('category')\n",
    "#adatafilt.obsm['spatial'] = np.array([adatafilt.obs['x_centroid'],adatafilt.obs['y_centroid']]).transpose()\n",
    "adatafilt.uns['spots']['feauture_name'] = adatafilt.uns['spots']['feature_name'].astype(str)"
   ]
  },
  {
   "cell_type": "markdown",
   "id": "450f2a4c",
   "metadata": {},
   "source": [
    "### compute_nuclear_centroid()\n",
    "\n",
    "calculates:\n",
    "\n",
    "- center of the nucleic transcripts location\n",
    "- distance between the center of all transcripts and nucleic transcripts "
   ]
  },
  {
   "cell_type": "code",
   "execution_count": 31,
   "id": "0ea1bdad",
   "metadata": {},
   "outputs": [
    {
     "data": {
      "text/plain": [
       "ind\n",
       "acpcjcfh-1    2490.826060\n",
       "acpcjpmd-1    2487.099430\n",
       "acpclemn-1    2482.666418\n",
       "acpcloep-1    2482.874376\n",
       "acpcmlbo-1    2486.129232\n",
       "                 ...     \n",
       "mhpomnnj-1    3360.217364\n",
       "mhpopemo-1    3362.493752\n",
       "mhpoplgm-1    3362.831592\n",
       "mhppblnl-1    3364.047773\n",
       "mhppbmhi-1    3353.683380\n",
       "Name: nuclei_centroid_x, Length: 39745, dtype: category\n",
       "Categories (39745, float64): [2490.826060, 2487.099430, 2482.666418, 2482.874376, ..., 3362.493752, 3362.831592, 3364.047773, 3353.683380]"
      ]
     },
     "execution_count": 31,
     "metadata": {},
     "output_type": "execute_result"
    }
   ],
   "source": [
    "adatafilt.obs[\"nuclei_centroid_x\"]"
   ]
  },
  {
   "cell_type": "code",
   "execution_count": 18,
   "id": "2a2833bc",
   "metadata": {
    "scrolled": false
   },
   "outputs": [
    {
     "name": "stderr",
     "output_type": "stream",
     "text": [
      "/Users/omercagatay/Desktop/Thesis/git_repo/SALMON/SALMON/metrics.py:207: FutureWarning: The default of observed=False is deprecated and will be changed to True in a future version of pandas. Pass observed=False to retain current behavior or observed=True to adopt the future default and silence this warning.\n",
      "  for a,g in tqdm(adatafilt.uns['spots'].groupby('cell_id')):\n",
      "100%|██████████| 39745/39745 [00:08<00:00, 4820.10it/s]\n"
     ]
    }
   ],
   "source": [
    "adatafilt = compute_nuclear_centroid(adatafilt)"
   ]
  },
  {
   "cell_type": "code",
   "execution_count": 29,
   "id": "277bcac6",
   "metadata": {},
   "outputs": [
    {
     "data": {
      "text/plain": [
       "AnnData object with n_obs × n_vars = 39745 × 379\n",
       "    obs: 'cell_id', 'x_centroid', 'y_centroid', 'transcript_counts', 'total_counts', 'cell_area', 'nucleus_area', 'nuclei_centroid_x', 'nuclei_centroid_y', 'distance_centroid_to_nuccentroid', 'mean_polarity', 'max_polarity', 'polarity_pc', 'mean_distance_to_gene_centroids', 'nuc_and_cyt_genes', 'cyt_genes', 'nuc_genes', 'expressed_genes', 'nuc_and_cyt_genes_proportion', 'cyt_genes_proportion', 'nuc_genes_proportion', 'cyt_counts', 'nuc_counts', 'cyt_counts_proportion', 'nuc_counts_proportion'\n",
       "    var: 'gene_id', 'Ensemble ID', 'feature_types', 'genome'\n",
       "    uns: 'spots', 'nuclear_expression', 'cytoplasmic_expression'\n",
       "    obsm: 'polarity', 'xgene', 'ygene'"
      ]
     },
     "execution_count": 29,
     "metadata": {},
     "output_type": "execute_result"
    }
   ],
   "source": [
    "adatafilt"
   ]
  },
  {
   "cell_type": "code",
   "execution_count": 19,
   "id": "08b23ba0",
   "metadata": {},
   "outputs": [
    {
     "data": {
      "text/plain": [
       "distance_centroid_to_nuccentroid\n",
       "False    39745\n",
       "Name: count, dtype: int64"
      ]
     },
     "execution_count": 19,
     "metadata": {},
     "output_type": "execute_result"
    }
   ],
   "source": [
    "adatafilt.obs[\"distance_centroid_to_nuccentroid\"].isna().value_counts()"
   ]
  },
  {
   "cell_type": "markdown",
   "id": "b9f9eb57",
   "metadata": {},
   "source": [
    "### define_cell_polarities()\n",
    "\n",
    "- Returns mean distance of the gene specific centroids to the cellular centroid.\n"
   ]
  },
  {
   "cell_type": "code",
   "execution_count": 20,
   "id": "164a8c65",
   "metadata": {},
   "outputs": [
    {
     "name": "stderr",
     "output_type": "stream",
     "text": [
      "/Users/omercagatay/Desktop/Thesis/git_repo/SALMON/SALMON/metrics.py:37: FutureWarning: The default of observed=False is deprecated and will be changed to True in a future version of pandas. Pass observed=False to retain current behavior or observed=True to adopt the future default and silence this warning.\n",
      "  for a,g in tqdm(adatafilt.uns['spots'].groupby('cell_id')):\n",
      "100%|██████████| 39745/39745 [00:48<00:00, 818.33it/s]\n"
     ]
    }
   ],
   "source": [
    "adatafilt = define_cell_polarities(adatafilt)"
   ]
  },
  {
   "cell_type": "markdown",
   "id": "c87d50b8",
   "metadata": {},
   "source": [
    "### polarization_based_pca()"
   ]
  },
  {
   "cell_type": "code",
   "execution_count": 21,
   "id": "3e318f04",
   "metadata": {},
   "outputs": [
    {
     "name": "stderr",
     "output_type": "stream",
     "text": [
      "/Users/omercagatay/Desktop/Thesis/git_repo/SALMON/SALMON/metrics.py:145: FutureWarning: The default of observed=False is deprecated and will be changed to True in a future version of pandas. Pass observed=False to retain current behavior or observed=True to adopt the future default and silence this warning.\n",
      "  for a,g in tqdm(adatafilt.uns['spots'].groupby('cell_id')):\n",
      "100%|██████████| 39745/39745 [00:57<00:00, 696.02it/s]\n"
     ]
    }
   ],
   "source": [
    "adatafilt = polarization_based_pca(adatafilt,min_gene_counts=2)"
   ]
  },
  {
   "cell_type": "code",
   "execution_count": 22,
   "id": "26df52cf",
   "metadata": {},
   "outputs": [
    {
     "data": {
      "text/plain": [
       "AnnData object with n_obs × n_vars = 39745 × 379\n",
       "    obs: 'cell_id', 'x_centroid', 'y_centroid', 'transcript_counts', 'total_counts', 'cell_area', 'nucleus_area', 'nuclei_centroid_x', 'nuclei_centroid_y', 'distance_centroid_to_nuccentroid', 'mean_polarity', 'max_polarity', 'polarity_pc', 'mean_distance_to_gene_centroids'\n",
       "    var: 'gene_id', 'Ensemble ID', 'feature_types', 'genome'\n",
       "    uns: 'spots'\n",
       "    obsm: 'polarity', 'xgene', 'ygene'"
      ]
     },
     "execution_count": 22,
     "metadata": {},
     "output_type": "execute_result"
    }
   ],
   "source": [
    "adatafilt"
   ]
  },
  {
   "cell_type": "markdown",
   "id": "24a8a216",
   "metadata": {},
   "source": [
    "### nuclear_and_cytoplasmic_characteristics()"
   ]
  },
  {
   "cell_type": "code",
   "execution_count": 23,
   "id": "2972699f",
   "metadata": {},
   "outputs": [
    {
     "name": "stderr",
     "output_type": "stream",
     "text": [
      "/Users/omercagatay/Desktop/Thesis/git_repo/SALMON/SALMON/metrics.py:85: ImplicitModificationWarning: Trying to modify attribute `._uns` of view, initializing view as actual.\n",
      "  adata.uns['nuclear_expression']=div_exp.loc[:,nuc_cols]\n"
     ]
    }
   ],
   "source": [
    "adatafilt = nuclear_and_cytoplasmic_characteristics(adatafilt,minimum_expression=1)"
   ]
  },
  {
   "cell_type": "markdown",
   "id": "6c70f516",
   "metadata": {},
   "source": [
    "### compute_closest_neighbor_distance()"
   ]
  },
  {
   "cell_type": "code",
   "execution_count": 35,
   "id": "f2c26a79",
   "metadata": {},
   "outputs": [],
   "source": [
    "adatafilt.obsm[\"spatial\"] = adatafilt.obs[[\"x_centroid\", \"y_centroid\"]].copy().to_numpy()\n",
    "adatafilt = compute_closest_neighbor_distance(adatafilt)"
   ]
  },
  {
   "cell_type": "markdown",
   "id": "ba26b3eb",
   "metadata": {},
   "source": [
    "### local_density_p2r()"
   ]
  },
  {
   "cell_type": "code",
   "execution_count": 36,
   "id": "732d86fe",
   "metadata": {},
   "outputs": [
    {
     "name": "stderr",
     "output_type": "stream",
     "text": [
      "100%|██████████| 39745/39745 [02:06<00:00, 313.77it/s]\n"
     ]
    }
   ],
   "source": [
    "\n",
    "adatafilt = local_density_p2r(adatafilt)"
   ]
  },
  {
   "cell_type": "code",
   "execution_count": null,
   "id": "d794dd01",
   "metadata": {},
   "outputs": [],
   "source": [
    "def morphology_alphashape(adata,alphas):\n",
    "    import os\n",
    "    import sys\n",
    "    import pandas as pd\n",
    "    import numpy as np\n",
    "    from descartes import PolygonPatch\n",
    "    import matplotlib.pyplot as plt\n",
    "    sys.path.insert(0, os.path.dirname(os.getcwd()))\n",
    "    import alphashape\n",
    "    from scipy.spatial import ConvexHull\n",
    "    spot=adata.uns['spots']\n",
    "    \n",
    "    for cid in tqdm(adata.obs['cell_id'].unique()):\n",
    "        a=spot[spot['cell_id'].isin([cid])]\n",
    "        points=np.array([a['x_location'],a['y_location']]).transpose()\n",
    "        alpha_shape = alphashape.alphashape(points, alphas)\n",
    "        alpha_shape\n",
    "        \n",
    "    return peri,eccentricity,circularity "
   ]
  },
  {
   "cell_type": "code",
   "execution_count": null,
   "id": "e3952659",
   "metadata": {},
   "outputs": [],
   "source": [
    "adatafilt"
   ]
  },
  {
   "cell_type": "code",
   "execution_count": null,
   "id": "5e43079e",
   "metadata": {},
   "outputs": [],
   "source": [
    "#pe=morphology_alphashape(adata,2.0)"
   ]
  },
  {
   "cell_type": "markdown",
   "id": "2757c9a4",
   "metadata": {},
   "source": [
    "# Process adata and ct identification"
   ]
  },
  {
   "cell_type": "code",
   "execution_count": 37,
   "id": "b76fed81",
   "metadata": {},
   "outputs": [],
   "source": [
    "adatafilt.var.index=adatafilt.var['gene_id']\n",
    "adatafilt.raw=adatafilt\n",
    "sc.pp.filter_cells(adatafilt,min_counts=20)\n",
    "sc.pp.normalize_total(adatafilt)\n",
    "sc.pp.log1p(adatafilt)\n"
   ]
  },
  {
   "cell_type": "code",
   "execution_count": 38,
   "id": "1b34f30b",
   "metadata": {},
   "outputs": [],
   "source": [
    "sc.pp.neighbors(adatafilt)\n",
    "sc.tl.umap(adatafilt)\n",
    "sc.tl.leiden(adatafilt)"
   ]
  },
  {
   "cell_type": "code",
   "execution_count": 39,
   "id": "e516594b",
   "metadata": {},
   "outputs": [
    {
     "ename": "KeyboardInterrupt",
     "evalue": "",
     "output_type": "error",
     "traceback": [
      "\u001b[0;31m---------------------------------------------------------------------------\u001b[0m",
      "\u001b[0;31mKeyboardInterrupt\u001b[0m                         Traceback (most recent call last)",
      "Cell \u001b[0;32mIn[39], line 2\u001b[0m\n\u001b[1;32m      1\u001b[0m sc\u001b[38;5;241m.\u001b[39mset_figure_params(scanpy\u001b[38;5;241m=\u001b[39m\u001b[38;5;28;01mTrue\u001b[39;00m, dpi\u001b[38;5;241m=\u001b[39m\u001b[38;5;241m150\u001b[39m,figsize\u001b[38;5;241m=\u001b[39m(\u001b[38;5;241m6\u001b[39m,\u001b[38;5;241m6\u001b[39m))\n\u001b[0;32m----> 2\u001b[0m \u001b[43msc\u001b[49m\u001b[38;5;241;43m.\u001b[39;49m\u001b[43mpl\u001b[49m\u001b[38;5;241;43m.\u001b[39;49m\u001b[43mumap\u001b[49m\u001b[43m(\u001b[49m\u001b[43madatafilt\u001b[49m\u001b[43m,\u001b[49m\u001b[43mcolor\u001b[49m\u001b[38;5;241;43m=\u001b[39;49m\u001b[43m[\u001b[49m\u001b[38;5;124;43m'\u001b[39;49m\u001b[38;5;124;43mintracellular_min_correlation\u001b[39;49m\u001b[38;5;124;43m'\u001b[39;49m\u001b[43m,\u001b[49m\u001b[38;5;124;43m'\u001b[39;49m\u001b[38;5;124;43mintracellular_mean_correlation\u001b[39;49m\u001b[38;5;124;43m'\u001b[39;49m\u001b[43m]\u001b[49m\u001b[43m,\u001b[49m\u001b[43mvmax\u001b[49m\u001b[38;5;241;43m=\u001b[39;49m\u001b[38;5;124;43m'\u001b[39;49m\u001b[38;5;124;43mp99.9\u001b[39;49m\u001b[38;5;124;43m'\u001b[39;49m\u001b[43m,\u001b[49m\u001b[43mvmin\u001b[49m\u001b[38;5;241;43m=\u001b[39;49m\u001b[38;5;124;43m'\u001b[39;49m\u001b[38;5;124;43mp20\u001b[39;49m\u001b[38;5;124;43m'\u001b[39;49m\u001b[43m,\u001b[49m\u001b[43mcmap\u001b[49m\u001b[38;5;241;43m=\u001b[39;49m\u001b[38;5;124;43m'\u001b[39;49m\u001b[38;5;124;43mcoolwarm\u001b[39;49m\u001b[38;5;124;43m'\u001b[39;49m\u001b[43m,\u001b[49m\u001b[43ms\u001b[49m\u001b[38;5;241;43m=\u001b[39;49m\u001b[38;5;241;43m20\u001b[39;49m\u001b[43m,\u001b[49m\u001b[43mncols\u001b[49m\u001b[38;5;241;43m=\u001b[39;49m\u001b[38;5;241;43m2\u001b[39;49m\u001b[43m,\u001b[49m\u001b[43mframeon\u001b[49m\u001b[38;5;241;43m=\u001b[39;49m\u001b[38;5;28;43;01mFalse\u001b[39;49;00m\u001b[43m)\u001b[49m\n",
      "File \u001b[0;32m/opt/anaconda3/envs/scvelo/lib/python3.12/site-packages/scanpy/plotting/_tools/scatterplots.py:690\u001b[0m, in \u001b[0;36mumap\u001b[0;34m(adata, **kwargs)\u001b[0m\n\u001b[1;32m    631\u001b[0m \u001b[38;5;129m@_wraps_plot_scatter\u001b[39m\n\u001b[1;32m    632\u001b[0m \u001b[38;5;129m@_doc_params\u001b[39m(\n\u001b[1;32m    633\u001b[0m     adata_color_etc\u001b[38;5;241m=\u001b[39mdoc_adata_color_etc,\n\u001b[0;32m   (...)\u001b[0m\n\u001b[1;32m    637\u001b[0m )\n\u001b[1;32m    638\u001b[0m \u001b[38;5;28;01mdef\u001b[39;00m \u001b[38;5;21mumap\u001b[39m(adata: AnnData, \u001b[38;5;241m*\u001b[39m\u001b[38;5;241m*\u001b[39mkwargs) \u001b[38;5;241m-\u001b[39m\u001b[38;5;241m>\u001b[39m Figure \u001b[38;5;241m|\u001b[39m Axes \u001b[38;5;241m|\u001b[39m \u001b[38;5;28mlist\u001b[39m[Axes] \u001b[38;5;241m|\u001b[39m \u001b[38;5;28;01mNone\u001b[39;00m:\n\u001b[1;32m    639\u001b[0m \u001b[38;5;250m    \u001b[39m\u001b[38;5;124;03m\"\"\"\\\u001b[39;00m\n\u001b[1;32m    640\u001b[0m \u001b[38;5;124;03m    Scatter plot in UMAP basis.\u001b[39;00m\n\u001b[1;32m    641\u001b[0m \n\u001b[0;32m   (...)\u001b[0m\n\u001b[1;32m    688\u001b[0m \u001b[38;5;124;03m    tl.umap\u001b[39;00m\n\u001b[1;32m    689\u001b[0m \u001b[38;5;124;03m    \"\"\"\u001b[39;00m\n\u001b[0;32m--> 690\u001b[0m     \u001b[38;5;28;01mreturn\u001b[39;00m \u001b[43membedding\u001b[49m\u001b[43m(\u001b[49m\u001b[43madata\u001b[49m\u001b[43m,\u001b[49m\u001b[43m \u001b[49m\u001b[38;5;124;43m\"\u001b[39;49m\u001b[38;5;124;43mumap\u001b[39;49m\u001b[38;5;124;43m\"\u001b[39;49m\u001b[43m,\u001b[49m\u001b[43m \u001b[49m\u001b[38;5;241;43m*\u001b[39;49m\u001b[38;5;241;43m*\u001b[39;49m\u001b[43mkwargs\u001b[49m\u001b[43m)\u001b[49m\n",
      "File \u001b[0;32m/opt/anaconda3/envs/scvelo/lib/python3.12/site-packages/scanpy/plotting/_tools/scatterplots.py:453\u001b[0m, in \u001b[0;36membedding\u001b[0;34m(adata, basis, color, mask_obs, gene_symbols, use_raw, sort_order, edges, edges_width, edges_color, neighbors_key, arrows, arrows_kwds, groups, components, dimensions, layer, projection, scale_factor, color_map, cmap, palette, na_color, na_in_legend, size, frameon, legend_fontsize, legend_fontweight, legend_loc, legend_fontoutline, colorbar_loc, vmax, vmin, vcenter, norm, add_outline, outline_width, outline_color, ncols, hspace, wspace, title, show, save, ax, return_fig, marker, **kwargs)\u001b[0m\n\u001b[1;32m    451\u001b[0m \u001b[38;5;66;03m# Adding legends\u001b[39;00m\n\u001b[1;32m    452\u001b[0m \u001b[38;5;28;01mif\u001b[39;00m color_type \u001b[38;5;241m==\u001b[39m \u001b[38;5;124m\"\u001b[39m\u001b[38;5;124mcat\u001b[39m\u001b[38;5;124m\"\u001b[39m:\n\u001b[0;32m--> 453\u001b[0m     \u001b[43m_add_categorical_legend\u001b[49m\u001b[43m(\u001b[49m\n\u001b[1;32m    454\u001b[0m \u001b[43m        \u001b[49m\u001b[43max\u001b[49m\u001b[43m,\u001b[49m\n\u001b[1;32m    455\u001b[0m \u001b[43m        \u001b[49m\u001b[43mcolor_source_vector\u001b[49m\u001b[43m,\u001b[49m\n\u001b[1;32m    456\u001b[0m \u001b[43m        \u001b[49m\u001b[43mpalette\u001b[49m\u001b[38;5;241;43m=\u001b[39;49m\u001b[43m_get_palette\u001b[49m\u001b[43m(\u001b[49m\u001b[43madata\u001b[49m\u001b[43m,\u001b[49m\u001b[43m \u001b[49m\u001b[43mvalue_to_plot\u001b[49m\u001b[43m)\u001b[49m\u001b[43m,\u001b[49m\n\u001b[1;32m    457\u001b[0m \u001b[43m        \u001b[49m\u001b[43mscatter_array\u001b[49m\u001b[38;5;241;43m=\u001b[39;49m\u001b[43mcoords\u001b[49m\u001b[43m,\u001b[49m\n\u001b[1;32m    458\u001b[0m \u001b[43m        \u001b[49m\u001b[43mlegend_loc\u001b[49m\u001b[38;5;241;43m=\u001b[39;49m\u001b[43mlegend_loc\u001b[49m\u001b[43m,\u001b[49m\n\u001b[1;32m    459\u001b[0m \u001b[43m        \u001b[49m\u001b[43mlegend_fontweight\u001b[49m\u001b[38;5;241;43m=\u001b[39;49m\u001b[43mlegend_fontweight\u001b[49m\u001b[43m,\u001b[49m\n\u001b[1;32m    460\u001b[0m \u001b[43m        \u001b[49m\u001b[43mlegend_fontsize\u001b[49m\u001b[38;5;241;43m=\u001b[39;49m\u001b[43mlegend_fontsize\u001b[49m\u001b[43m,\u001b[49m\n\u001b[1;32m    461\u001b[0m \u001b[43m        \u001b[49m\u001b[43mlegend_fontoutline\u001b[49m\u001b[38;5;241;43m=\u001b[39;49m\u001b[43mpath_effect\u001b[49m\u001b[43m,\u001b[49m\n\u001b[1;32m    462\u001b[0m \u001b[43m        \u001b[49m\u001b[43mna_color\u001b[49m\u001b[38;5;241;43m=\u001b[39;49m\u001b[43mna_color\u001b[49m\u001b[43m,\u001b[49m\n\u001b[1;32m    463\u001b[0m \u001b[43m        \u001b[49m\u001b[43mna_in_legend\u001b[49m\u001b[38;5;241;43m=\u001b[39;49m\u001b[43mna_in_legend\u001b[49m\u001b[43m,\u001b[49m\n\u001b[1;32m    464\u001b[0m \u001b[43m        \u001b[49m\u001b[43mmulti_panel\u001b[49m\u001b[38;5;241;43m=\u001b[39;49m\u001b[38;5;28;43mbool\u001b[39;49m\u001b[43m(\u001b[49m\u001b[43mgrid\u001b[49m\u001b[43m)\u001b[49m\u001b[43m,\u001b[49m\n\u001b[1;32m    465\u001b[0m \u001b[43m    \u001b[49m\u001b[43m)\u001b[49m\n\u001b[1;32m    466\u001b[0m \u001b[38;5;28;01melif\u001b[39;00m colorbar_loc \u001b[38;5;129;01mis\u001b[39;00m \u001b[38;5;129;01mnot\u001b[39;00m \u001b[38;5;28;01mNone\u001b[39;00m:\n\u001b[1;32m    467\u001b[0m     plt\u001b[38;5;241m.\u001b[39mcolorbar(\n\u001b[1;32m    468\u001b[0m         cax, ax\u001b[38;5;241m=\u001b[39max, pad\u001b[38;5;241m=\u001b[39m\u001b[38;5;241m0.01\u001b[39m, fraction\u001b[38;5;241m=\u001b[39m\u001b[38;5;241m0.08\u001b[39m, aspect\u001b[38;5;241m=\u001b[39m\u001b[38;5;241m30\u001b[39m, location\u001b[38;5;241m=\u001b[39mcolorbar_loc\n\u001b[1;32m    469\u001b[0m     )\n",
      "File \u001b[0;32m/opt/anaconda3/envs/scvelo/lib/python3.12/site-packages/scanpy/plotting/_tools/scatterplots.py:1129\u001b[0m, in \u001b[0;36m_add_categorical_legend\u001b[0;34m(ax, color_source_vector, palette, legend_loc, legend_fontweight, legend_fontsize, legend_fontoutline, multi_panel, na_color, na_in_legend, scatter_array)\u001b[0m\n\u001b[1;32m   1127\u001b[0m \u001b[38;5;28;01mif\u001b[39;00m legend_loc \u001b[38;5;241m==\u001b[39m \u001b[38;5;124m\"\u001b[39m\u001b[38;5;124mright margin\u001b[39m\u001b[38;5;124m\"\u001b[39m:\n\u001b[1;32m   1128\u001b[0m     \u001b[38;5;28;01mfor\u001b[39;00m label \u001b[38;5;129;01min\u001b[39;00m cats:\n\u001b[0;32m-> 1129\u001b[0m         \u001b[43max\u001b[49m\u001b[38;5;241;43m.\u001b[39;49m\u001b[43mscatter\u001b[49m\u001b[43m(\u001b[49m\u001b[43m[\u001b[49m\u001b[43m]\u001b[49m\u001b[43m,\u001b[49m\u001b[43m \u001b[49m\u001b[43m[\u001b[49m\u001b[43m]\u001b[49m\u001b[43m,\u001b[49m\u001b[43m \u001b[49m\u001b[43mc\u001b[49m\u001b[38;5;241;43m=\u001b[39;49m\u001b[43mpalette\u001b[49m\u001b[43m[\u001b[49m\u001b[43mlabel\u001b[49m\u001b[43m]\u001b[49m\u001b[43m,\u001b[49m\u001b[43m \u001b[49m\u001b[43mlabel\u001b[49m\u001b[38;5;241;43m=\u001b[39;49m\u001b[43mlabel\u001b[49m\u001b[43m)\u001b[49m\n\u001b[1;32m   1130\u001b[0m     ax\u001b[38;5;241m.\u001b[39mlegend(\n\u001b[1;32m   1131\u001b[0m         frameon\u001b[38;5;241m=\u001b[39m\u001b[38;5;28;01mFalse\u001b[39;00m,\n\u001b[1;32m   1132\u001b[0m         loc\u001b[38;5;241m=\u001b[39m\u001b[38;5;124m\"\u001b[39m\u001b[38;5;124mcenter left\u001b[39m\u001b[38;5;124m\"\u001b[39m,\n\u001b[0;32m   (...)\u001b[0m\n\u001b[1;32m   1135\u001b[0m         fontsize\u001b[38;5;241m=\u001b[39mlegend_fontsize,\n\u001b[1;32m   1136\u001b[0m     )\n\u001b[1;32m   1137\u001b[0m \u001b[38;5;28;01melif\u001b[39;00m legend_loc \u001b[38;5;241m==\u001b[39m \u001b[38;5;124m\"\u001b[39m\u001b[38;5;124mon data\u001b[39m\u001b[38;5;124m\"\u001b[39m:\n\u001b[1;32m   1138\u001b[0m     \u001b[38;5;66;03m# identify centroids to put labels\u001b[39;00m\n",
      "File \u001b[0;32m/opt/anaconda3/envs/scvelo/lib/python3.12/site-packages/matplotlib/__init__.py:1465\u001b[0m, in \u001b[0;36m_preprocess_data.<locals>.inner\u001b[0;34m(ax, data, *args, **kwargs)\u001b[0m\n\u001b[1;32m   1462\u001b[0m \u001b[38;5;129m@functools\u001b[39m\u001b[38;5;241m.\u001b[39mwraps(func)\n\u001b[1;32m   1463\u001b[0m \u001b[38;5;28;01mdef\u001b[39;00m \u001b[38;5;21minner\u001b[39m(ax, \u001b[38;5;241m*\u001b[39margs, data\u001b[38;5;241m=\u001b[39m\u001b[38;5;28;01mNone\u001b[39;00m, \u001b[38;5;241m*\u001b[39m\u001b[38;5;241m*\u001b[39mkwargs):\n\u001b[1;32m   1464\u001b[0m     \u001b[38;5;28;01mif\u001b[39;00m data \u001b[38;5;129;01mis\u001b[39;00m \u001b[38;5;28;01mNone\u001b[39;00m:\n\u001b[0;32m-> 1465\u001b[0m         \u001b[38;5;28;01mreturn\u001b[39;00m \u001b[43mfunc\u001b[49m\u001b[43m(\u001b[49m\u001b[43max\u001b[49m\u001b[43m,\u001b[49m\u001b[43m \u001b[49m\u001b[38;5;241;43m*\u001b[39;49m\u001b[38;5;28;43mmap\u001b[39;49m\u001b[43m(\u001b[49m\u001b[43msanitize_sequence\u001b[49m\u001b[43m,\u001b[49m\u001b[43m \u001b[49m\u001b[43margs\u001b[49m\u001b[43m)\u001b[49m\u001b[43m,\u001b[49m\u001b[43m \u001b[49m\u001b[38;5;241;43m*\u001b[39;49m\u001b[38;5;241;43m*\u001b[39;49m\u001b[43mkwargs\u001b[49m\u001b[43m)\u001b[49m\n\u001b[1;32m   1467\u001b[0m     bound \u001b[38;5;241m=\u001b[39m new_sig\u001b[38;5;241m.\u001b[39mbind(ax, \u001b[38;5;241m*\u001b[39margs, \u001b[38;5;241m*\u001b[39m\u001b[38;5;241m*\u001b[39mkwargs)\n\u001b[1;32m   1468\u001b[0m     auto_label \u001b[38;5;241m=\u001b[39m (bound\u001b[38;5;241m.\u001b[39marguments\u001b[38;5;241m.\u001b[39mget(label_namer)\n\u001b[1;32m   1469\u001b[0m                   \u001b[38;5;129;01mor\u001b[39;00m bound\u001b[38;5;241m.\u001b[39mkwargs\u001b[38;5;241m.\u001b[39mget(label_namer))\n",
      "File \u001b[0;32m/opt/anaconda3/envs/scvelo/lib/python3.12/site-packages/matplotlib/axes/_axes.py:4782\u001b[0m, in \u001b[0;36mAxes.scatter\u001b[0;34m(self, x, y, s, c, marker, cmap, norm, vmin, vmax, alpha, linewidths, edgecolors, plotnonfinite, **kwargs)\u001b[0m\n\u001b[1;32m   4779\u001b[0m     \u001b[38;5;28;01mif\u001b[39;00m \u001b[38;5;28mself\u001b[39m\u001b[38;5;241m.\u001b[39m_ymargin \u001b[38;5;241m<\u001b[39m \u001b[38;5;241m0.05\u001b[39m \u001b[38;5;129;01mand\u001b[39;00m x\u001b[38;5;241m.\u001b[39msize \u001b[38;5;241m>\u001b[39m \u001b[38;5;241m0\u001b[39m:\n\u001b[1;32m   4780\u001b[0m         \u001b[38;5;28mself\u001b[39m\u001b[38;5;241m.\u001b[39mset_ymargin(\u001b[38;5;241m0.05\u001b[39m)\n\u001b[0;32m-> 4782\u001b[0m \u001b[38;5;28;43mself\u001b[39;49m\u001b[38;5;241;43m.\u001b[39;49m\u001b[43madd_collection\u001b[49m\u001b[43m(\u001b[49m\u001b[43mcollection\u001b[49m\u001b[43m)\u001b[49m\n\u001b[1;32m   4783\u001b[0m \u001b[38;5;28mself\u001b[39m\u001b[38;5;241m.\u001b[39m_request_autoscale_view()\n\u001b[1;32m   4785\u001b[0m \u001b[38;5;28;01mreturn\u001b[39;00m collection\n",
      "File \u001b[0;32m/opt/anaconda3/envs/scvelo/lib/python3.12/site-packages/matplotlib/axes/_base.py:2268\u001b[0m, in \u001b[0;36m_AxesBase.add_collection\u001b[0;34m(self, collection, autolim)\u001b[0m\n\u001b[1;32m   2263\u001b[0m     collection\u001b[38;5;241m.\u001b[39mset_clip_path(\u001b[38;5;28mself\u001b[39m\u001b[38;5;241m.\u001b[39mpatch)\n\u001b[1;32m   2265\u001b[0m \u001b[38;5;28;01mif\u001b[39;00m autolim:\n\u001b[1;32m   2266\u001b[0m     \u001b[38;5;66;03m# Make sure viewLim is not stale (mostly to match\u001b[39;00m\n\u001b[1;32m   2267\u001b[0m     \u001b[38;5;66;03m# pre-lazy-autoscale behavior, which is not really better).\u001b[39;00m\n\u001b[0;32m-> 2268\u001b[0m     \u001b[38;5;28;43mself\u001b[39;49m\u001b[38;5;241;43m.\u001b[39;49m\u001b[43m_unstale_viewLim\u001b[49m\u001b[43m(\u001b[49m\u001b[43m)\u001b[49m\n\u001b[1;32m   2269\u001b[0m     datalim \u001b[38;5;241m=\u001b[39m collection\u001b[38;5;241m.\u001b[39mget_datalim(\u001b[38;5;28mself\u001b[39m\u001b[38;5;241m.\u001b[39mtransData)\n\u001b[1;32m   2270\u001b[0m     points \u001b[38;5;241m=\u001b[39m datalim\u001b[38;5;241m.\u001b[39mget_points()\n",
      "File \u001b[0;32m/opt/anaconda3/envs/scvelo/lib/python3.12/site-packages/matplotlib/axes/_base.py:844\u001b[0m, in \u001b[0;36m_AxesBase._unstale_viewLim\u001b[0;34m(self)\u001b[0m\n\u001b[1;32m    842\u001b[0m     \u001b[38;5;28;01mfor\u001b[39;00m ax \u001b[38;5;129;01min\u001b[39;00m \u001b[38;5;28mself\u001b[39m\u001b[38;5;241m.\u001b[39m_shared_axes[name]\u001b[38;5;241m.\u001b[39mget_siblings(\u001b[38;5;28mself\u001b[39m):\n\u001b[1;32m    843\u001b[0m         ax\u001b[38;5;241m.\u001b[39m_stale_viewlims[name] \u001b[38;5;241m=\u001b[39m \u001b[38;5;28;01mFalse\u001b[39;00m\n\u001b[0;32m--> 844\u001b[0m \u001b[38;5;28;43mself\u001b[39;49m\u001b[38;5;241;43m.\u001b[39;49m\u001b[43mautoscale_view\u001b[49m\u001b[43m(\u001b[49m\u001b[38;5;241;43m*\u001b[39;49m\u001b[38;5;241;43m*\u001b[39;49m\u001b[43m{\u001b[49m\u001b[38;5;124;43mf\u001b[39;49m\u001b[38;5;124;43m\"\u001b[39;49m\u001b[38;5;124;43mscale\u001b[39;49m\u001b[38;5;132;43;01m{\u001b[39;49;00m\u001b[43mname\u001b[49m\u001b[38;5;132;43;01m}\u001b[39;49;00m\u001b[38;5;124;43m\"\u001b[39;49m\u001b[43m:\u001b[49m\u001b[43m \u001b[49m\u001b[43mscale\u001b[49m\n\u001b[1;32m    845\u001b[0m \u001b[43m                       \u001b[49m\u001b[38;5;28;43;01mfor\u001b[39;49;00m\u001b[43m \u001b[49m\u001b[43mname\u001b[49m\u001b[43m,\u001b[49m\u001b[43m \u001b[49m\u001b[43mscale\u001b[49m\u001b[43m \u001b[49m\u001b[38;5;129;43;01min\u001b[39;49;00m\u001b[43m \u001b[49m\u001b[43mneed_scale\u001b[49m\u001b[38;5;241;43m.\u001b[39;49m\u001b[43mitems\u001b[49m\u001b[43m(\u001b[49m\u001b[43m)\u001b[49m\u001b[43m}\u001b[49m\u001b[43m)\u001b[49m\n",
      "File \u001b[0;32m/opt/anaconda3/envs/scvelo/lib/python3.12/site-packages/matplotlib/axes/_base.py:2866\u001b[0m, in \u001b[0;36m_AxesBase.autoscale_view\u001b[0;34m(self, tight, scalex, scaley)\u001b[0m\n\u001b[1;32m   2860\u001b[0m         x_stickies \u001b[38;5;241m=\u001b[39m np\u001b[38;5;241m.\u001b[39msort(np\u001b[38;5;241m.\u001b[39mconcatenate([\n\u001b[1;32m   2861\u001b[0m             artist\u001b[38;5;241m.\u001b[39msticky_edges\u001b[38;5;241m.\u001b[39mx\n\u001b[1;32m   2862\u001b[0m             \u001b[38;5;28;01mfor\u001b[39;00m ax \u001b[38;5;129;01min\u001b[39;00m \u001b[38;5;28mself\u001b[39m\u001b[38;5;241m.\u001b[39m_shared_axes[\u001b[38;5;124m\"\u001b[39m\u001b[38;5;124mx\u001b[39m\u001b[38;5;124m\"\u001b[39m]\u001b[38;5;241m.\u001b[39mget_siblings(\u001b[38;5;28mself\u001b[39m)\n\u001b[1;32m   2863\u001b[0m             \u001b[38;5;28;01mfor\u001b[39;00m artist \u001b[38;5;129;01min\u001b[39;00m ax\u001b[38;5;241m.\u001b[39mget_children()]))\n\u001b[1;32m   2864\u001b[0m     \u001b[38;5;28;01mif\u001b[39;00m \u001b[38;5;28mself\u001b[39m\u001b[38;5;241m.\u001b[39m_ymargin \u001b[38;5;129;01mand\u001b[39;00m scaley \u001b[38;5;129;01mand\u001b[39;00m \u001b[38;5;28mself\u001b[39m\u001b[38;5;241m.\u001b[39mget_autoscaley_on():\n\u001b[1;32m   2865\u001b[0m         y_stickies \u001b[38;5;241m=\u001b[39m np\u001b[38;5;241m.\u001b[39msort(np\u001b[38;5;241m.\u001b[39mconcatenate([\n\u001b[0;32m-> 2866\u001b[0m             artist\u001b[38;5;241m.\u001b[39msticky_edges\u001b[38;5;241m.\u001b[39my\n\u001b[1;32m   2867\u001b[0m             \u001b[38;5;28;01mfor\u001b[39;00m ax \u001b[38;5;129;01min\u001b[39;00m \u001b[38;5;28mself\u001b[39m\u001b[38;5;241m.\u001b[39m_shared_axes[\u001b[38;5;124m\"\u001b[39m\u001b[38;5;124my\u001b[39m\u001b[38;5;124m\"\u001b[39m]\u001b[38;5;241m.\u001b[39mget_siblings(\u001b[38;5;28mself\u001b[39m)\n\u001b[1;32m   2868\u001b[0m             \u001b[38;5;28;01mfor\u001b[39;00m artist \u001b[38;5;129;01min\u001b[39;00m ax\u001b[38;5;241m.\u001b[39mget_children()]))\n\u001b[1;32m   2869\u001b[0m \u001b[38;5;28;01mif\u001b[39;00m \u001b[38;5;28mself\u001b[39m\u001b[38;5;241m.\u001b[39mget_xscale() \u001b[38;5;241m==\u001b[39m \u001b[38;5;124m'\u001b[39m\u001b[38;5;124mlog\u001b[39m\u001b[38;5;124m'\u001b[39m:\n\u001b[1;32m   2870\u001b[0m     x_stickies \u001b[38;5;241m=\u001b[39m x_stickies[x_stickies \u001b[38;5;241m>\u001b[39m \u001b[38;5;241m0\u001b[39m]\n",
      "\u001b[0;31mKeyboardInterrupt\u001b[0m: "
     ]
    },
    {
     "name": "stdout",
     "output_type": "stream",
     "text": [
      "Error in callback <function flush_figures at 0x38b00f9c0> (for post_execute), with arguments args (),kwargs {}:\n"
     ]
    },
    {
     "ename": "KeyboardInterrupt",
     "evalue": "",
     "output_type": "error",
     "traceback": [
      "\u001b[0;31m---------------------------------------------------------------------------\u001b[0m",
      "\u001b[0;31mKeyboardInterrupt\u001b[0m                         Traceback (most recent call last)",
      "File \u001b[0;32m/opt/anaconda3/envs/scvelo/lib/python3.12/site-packages/matplotlib_inline/backend_inline.py:126\u001b[0m, in \u001b[0;36mflush_figures\u001b[0;34m()\u001b[0m\n\u001b[1;32m    123\u001b[0m \u001b[38;5;28;01mif\u001b[39;00m InlineBackend\u001b[38;5;241m.\u001b[39minstance()\u001b[38;5;241m.\u001b[39mclose_figures:\n\u001b[1;32m    124\u001b[0m     \u001b[38;5;66;03m# ignore the tracking, just draw and close all figures\u001b[39;00m\n\u001b[1;32m    125\u001b[0m     \u001b[38;5;28;01mtry\u001b[39;00m:\n\u001b[0;32m--> 126\u001b[0m         \u001b[38;5;28;01mreturn\u001b[39;00m \u001b[43mshow\u001b[49m\u001b[43m(\u001b[49m\u001b[38;5;28;43;01mTrue\u001b[39;49;00m\u001b[43m)\u001b[49m\n\u001b[1;32m    127\u001b[0m     \u001b[38;5;28;01mexcept\u001b[39;00m \u001b[38;5;167;01mException\u001b[39;00m \u001b[38;5;28;01mas\u001b[39;00m e:\n\u001b[1;32m    128\u001b[0m         \u001b[38;5;66;03m# safely show traceback if in IPython, else raise\u001b[39;00m\n\u001b[1;32m    129\u001b[0m         ip \u001b[38;5;241m=\u001b[39m get_ipython()\n",
      "File \u001b[0;32m/opt/anaconda3/envs/scvelo/lib/python3.12/site-packages/matplotlib_inline/backend_inline.py:90\u001b[0m, in \u001b[0;36mshow\u001b[0;34m(close, block)\u001b[0m\n\u001b[1;32m     88\u001b[0m \u001b[38;5;28;01mtry\u001b[39;00m:\n\u001b[1;32m     89\u001b[0m     \u001b[38;5;28;01mfor\u001b[39;00m figure_manager \u001b[38;5;129;01min\u001b[39;00m Gcf\u001b[38;5;241m.\u001b[39mget_all_fig_managers():\n\u001b[0;32m---> 90\u001b[0m         \u001b[43mdisplay\u001b[49m\u001b[43m(\u001b[49m\n\u001b[1;32m     91\u001b[0m \u001b[43m            \u001b[49m\u001b[43mfigure_manager\u001b[49m\u001b[38;5;241;43m.\u001b[39;49m\u001b[43mcanvas\u001b[49m\u001b[38;5;241;43m.\u001b[39;49m\u001b[43mfigure\u001b[49m\u001b[43m,\u001b[49m\n\u001b[1;32m     92\u001b[0m \u001b[43m            \u001b[49m\u001b[43mmetadata\u001b[49m\u001b[38;5;241;43m=\u001b[39;49m\u001b[43m_fetch_figure_metadata\u001b[49m\u001b[43m(\u001b[49m\u001b[43mfigure_manager\u001b[49m\u001b[38;5;241;43m.\u001b[39;49m\u001b[43mcanvas\u001b[49m\u001b[38;5;241;43m.\u001b[39;49m\u001b[43mfigure\u001b[49m\u001b[43m)\u001b[49m\n\u001b[1;32m     93\u001b[0m \u001b[43m        \u001b[49m\u001b[43m)\u001b[49m\n\u001b[1;32m     94\u001b[0m \u001b[38;5;28;01mfinally\u001b[39;00m:\n\u001b[1;32m     95\u001b[0m     show\u001b[38;5;241m.\u001b[39m_to_draw \u001b[38;5;241m=\u001b[39m []\n",
      "File \u001b[0;32m/opt/anaconda3/envs/scvelo/lib/python3.12/site-packages/IPython/core/display_functions.py:298\u001b[0m, in \u001b[0;36mdisplay\u001b[0;34m(include, exclude, metadata, transient, display_id, raw, clear, *objs, **kwargs)\u001b[0m\n\u001b[1;32m    296\u001b[0m     publish_display_data(data\u001b[38;5;241m=\u001b[39mobj, metadata\u001b[38;5;241m=\u001b[39mmetadata, \u001b[38;5;241m*\u001b[39m\u001b[38;5;241m*\u001b[39mkwargs)\n\u001b[1;32m    297\u001b[0m \u001b[38;5;28;01melse\u001b[39;00m:\n\u001b[0;32m--> 298\u001b[0m     format_dict, md_dict \u001b[38;5;241m=\u001b[39m \u001b[38;5;28;43mformat\u001b[39;49m\u001b[43m(\u001b[49m\u001b[43mobj\u001b[49m\u001b[43m,\u001b[49m\u001b[43m \u001b[49m\u001b[43minclude\u001b[49m\u001b[38;5;241;43m=\u001b[39;49m\u001b[43minclude\u001b[49m\u001b[43m,\u001b[49m\u001b[43m \u001b[49m\u001b[43mexclude\u001b[49m\u001b[38;5;241;43m=\u001b[39;49m\u001b[43mexclude\u001b[49m\u001b[43m)\u001b[49m\n\u001b[1;32m    299\u001b[0m     \u001b[38;5;28;01mif\u001b[39;00m \u001b[38;5;129;01mnot\u001b[39;00m format_dict:\n\u001b[1;32m    300\u001b[0m         \u001b[38;5;66;03m# nothing to display (e.g. _ipython_display_ took over)\u001b[39;00m\n\u001b[1;32m    301\u001b[0m         \u001b[38;5;28;01mcontinue\u001b[39;00m\n",
      "File \u001b[0;32m/opt/anaconda3/envs/scvelo/lib/python3.12/site-packages/IPython/core/formatters.py:182\u001b[0m, in \u001b[0;36mDisplayFormatter.format\u001b[0;34m(self, obj, include, exclude)\u001b[0m\n\u001b[1;32m    180\u001b[0m md \u001b[38;5;241m=\u001b[39m \u001b[38;5;28;01mNone\u001b[39;00m\n\u001b[1;32m    181\u001b[0m \u001b[38;5;28;01mtry\u001b[39;00m:\n\u001b[0;32m--> 182\u001b[0m     data \u001b[38;5;241m=\u001b[39m \u001b[43mformatter\u001b[49m\u001b[43m(\u001b[49m\u001b[43mobj\u001b[49m\u001b[43m)\u001b[49m\n\u001b[1;32m    183\u001b[0m \u001b[38;5;28;01mexcept\u001b[39;00m:\n\u001b[1;32m    184\u001b[0m     \u001b[38;5;66;03m# FIXME: log the exception\u001b[39;00m\n\u001b[1;32m    185\u001b[0m     \u001b[38;5;28;01mraise\u001b[39;00m\n",
      "File \u001b[0;32m/opt/anaconda3/envs/scvelo/lib/python3.12/site-packages/decorator.py:232\u001b[0m, in \u001b[0;36mdecorate.<locals>.fun\u001b[0;34m(*args, **kw)\u001b[0m\n\u001b[1;32m    230\u001b[0m \u001b[38;5;28;01mif\u001b[39;00m \u001b[38;5;129;01mnot\u001b[39;00m kwsyntax:\n\u001b[1;32m    231\u001b[0m     args, kw \u001b[38;5;241m=\u001b[39m fix(args, kw, sig)\n\u001b[0;32m--> 232\u001b[0m \u001b[38;5;28;01mreturn\u001b[39;00m \u001b[43mcaller\u001b[49m\u001b[43m(\u001b[49m\u001b[43mfunc\u001b[49m\u001b[43m,\u001b[49m\u001b[43m \u001b[49m\u001b[38;5;241;43m*\u001b[39;49m\u001b[43m(\u001b[49m\u001b[43mextras\u001b[49m\u001b[43m \u001b[49m\u001b[38;5;241;43m+\u001b[39;49m\u001b[43m \u001b[49m\u001b[43margs\u001b[49m\u001b[43m)\u001b[49m\u001b[43m,\u001b[49m\u001b[43m \u001b[49m\u001b[38;5;241;43m*\u001b[39;49m\u001b[38;5;241;43m*\u001b[39;49m\u001b[43mkw\u001b[49m\u001b[43m)\u001b[49m\n",
      "File \u001b[0;32m/opt/anaconda3/envs/scvelo/lib/python3.12/site-packages/IPython/core/formatters.py:226\u001b[0m, in \u001b[0;36mcatch_format_error\u001b[0;34m(method, self, *args, **kwargs)\u001b[0m\n\u001b[1;32m    224\u001b[0m \u001b[38;5;250m\u001b[39m\u001b[38;5;124;03m\"\"\"show traceback on failed format call\"\"\"\u001b[39;00m\n\u001b[1;32m    225\u001b[0m \u001b[38;5;28;01mtry\u001b[39;00m:\n\u001b[0;32m--> 226\u001b[0m     r \u001b[38;5;241m=\u001b[39m \u001b[43mmethod\u001b[49m\u001b[43m(\u001b[49m\u001b[38;5;28;43mself\u001b[39;49m\u001b[43m,\u001b[49m\u001b[43m \u001b[49m\u001b[38;5;241;43m*\u001b[39;49m\u001b[43margs\u001b[49m\u001b[43m,\u001b[49m\u001b[43m \u001b[49m\u001b[38;5;241;43m*\u001b[39;49m\u001b[38;5;241;43m*\u001b[39;49m\u001b[43mkwargs\u001b[49m\u001b[43m)\u001b[49m\n\u001b[1;32m    227\u001b[0m \u001b[38;5;28;01mexcept\u001b[39;00m \u001b[38;5;167;01mNotImplementedError\u001b[39;00m:\n\u001b[1;32m    228\u001b[0m     \u001b[38;5;66;03m# don't warn on NotImplementedErrors\u001b[39;00m\n\u001b[1;32m    229\u001b[0m     \u001b[38;5;28;01mreturn\u001b[39;00m \u001b[38;5;28mself\u001b[39m\u001b[38;5;241m.\u001b[39m_check_return(\u001b[38;5;28;01mNone\u001b[39;00m, args[\u001b[38;5;241m0\u001b[39m])\n",
      "File \u001b[0;32m/opt/anaconda3/envs/scvelo/lib/python3.12/site-packages/IPython/core/formatters.py:343\u001b[0m, in \u001b[0;36mBaseFormatter.__call__\u001b[0;34m(self, obj)\u001b[0m\n\u001b[1;32m    341\u001b[0m     \u001b[38;5;28;01mpass\u001b[39;00m\n\u001b[1;32m    342\u001b[0m \u001b[38;5;28;01melse\u001b[39;00m:\n\u001b[0;32m--> 343\u001b[0m     \u001b[38;5;28;01mreturn\u001b[39;00m \u001b[43mprinter\u001b[49m\u001b[43m(\u001b[49m\u001b[43mobj\u001b[49m\u001b[43m)\u001b[49m\n\u001b[1;32m    344\u001b[0m \u001b[38;5;66;03m# Finally look for special method names\u001b[39;00m\n\u001b[1;32m    345\u001b[0m method \u001b[38;5;241m=\u001b[39m get_real_method(obj, \u001b[38;5;28mself\u001b[39m\u001b[38;5;241m.\u001b[39mprint_method)\n",
      "File \u001b[0;32m/opt/anaconda3/envs/scvelo/lib/python3.12/site-packages/IPython/core/pylabtools.py:187\u001b[0m, in \u001b[0;36mretina_figure\u001b[0;34m(fig, base64, **kwargs)\u001b[0m\n\u001b[1;32m    178\u001b[0m \u001b[38;5;28;01mdef\u001b[39;00m \u001b[38;5;21mretina_figure\u001b[39m(fig, base64\u001b[38;5;241m=\u001b[39m\u001b[38;5;28;01mFalse\u001b[39;00m, \u001b[38;5;241m*\u001b[39m\u001b[38;5;241m*\u001b[39mkwargs):\n\u001b[1;32m    179\u001b[0m \u001b[38;5;250m    \u001b[39m\u001b[38;5;124;03m\"\"\"format a figure as a pixel-doubled (retina) PNG\u001b[39;00m\n\u001b[1;32m    180\u001b[0m \n\u001b[1;32m    181\u001b[0m \u001b[38;5;124;03m    If `base64` is True, return base64-encoded str instead of raw bytes\u001b[39;00m\n\u001b[0;32m   (...)\u001b[0m\n\u001b[1;32m    185\u001b[0m \u001b[38;5;124;03m        base64 argument\u001b[39;00m\n\u001b[1;32m    186\u001b[0m \u001b[38;5;124;03m    \"\"\"\u001b[39;00m\n\u001b[0;32m--> 187\u001b[0m     pngdata \u001b[38;5;241m=\u001b[39m \u001b[43mprint_figure\u001b[49m\u001b[43m(\u001b[49m\u001b[43mfig\u001b[49m\u001b[43m,\u001b[49m\u001b[43m \u001b[49m\u001b[43mfmt\u001b[49m\u001b[38;5;241;43m=\u001b[39;49m\u001b[38;5;124;43m\"\u001b[39;49m\u001b[38;5;124;43mretina\u001b[39;49m\u001b[38;5;124;43m\"\u001b[39;49m\u001b[43m,\u001b[49m\u001b[43m \u001b[49m\u001b[43mbase64\u001b[49m\u001b[38;5;241;43m=\u001b[39;49m\u001b[38;5;28;43;01mFalse\u001b[39;49;00m\u001b[43m,\u001b[49m\u001b[43m \u001b[49m\u001b[38;5;241;43m*\u001b[39;49m\u001b[38;5;241;43m*\u001b[39;49m\u001b[43mkwargs\u001b[49m\u001b[43m)\u001b[49m\n\u001b[1;32m    188\u001b[0m     \u001b[38;5;66;03m# Make sure that retina_figure acts just like print_figure and returns\u001b[39;00m\n\u001b[1;32m    189\u001b[0m     \u001b[38;5;66;03m# None when the figure is empty.\u001b[39;00m\n\u001b[1;32m    190\u001b[0m     \u001b[38;5;28;01mif\u001b[39;00m pngdata \u001b[38;5;129;01mis\u001b[39;00m \u001b[38;5;28;01mNone\u001b[39;00m:\n",
      "File \u001b[0;32m/opt/anaconda3/envs/scvelo/lib/python3.12/site-packages/IPython/core/pylabtools.py:170\u001b[0m, in \u001b[0;36mprint_figure\u001b[0;34m(fig, fmt, bbox_inches, base64, **kwargs)\u001b[0m\n\u001b[1;32m    167\u001b[0m     \u001b[38;5;28;01mfrom\u001b[39;00m \u001b[38;5;21;01mmatplotlib\u001b[39;00m\u001b[38;5;21;01m.\u001b[39;00m\u001b[38;5;21;01mbackend_bases\u001b[39;00m \u001b[38;5;28;01mimport\u001b[39;00m FigureCanvasBase\n\u001b[1;32m    168\u001b[0m     FigureCanvasBase(fig)\n\u001b[0;32m--> 170\u001b[0m \u001b[43mfig\u001b[49m\u001b[38;5;241;43m.\u001b[39;49m\u001b[43mcanvas\u001b[49m\u001b[38;5;241;43m.\u001b[39;49m\u001b[43mprint_figure\u001b[49m\u001b[43m(\u001b[49m\u001b[43mbytes_io\u001b[49m\u001b[43m,\u001b[49m\u001b[43m \u001b[49m\u001b[38;5;241;43m*\u001b[39;49m\u001b[38;5;241;43m*\u001b[39;49m\u001b[43mkw\u001b[49m\u001b[43m)\u001b[49m\n\u001b[1;32m    171\u001b[0m data \u001b[38;5;241m=\u001b[39m bytes_io\u001b[38;5;241m.\u001b[39mgetvalue()\n\u001b[1;32m    172\u001b[0m \u001b[38;5;28;01mif\u001b[39;00m fmt \u001b[38;5;241m==\u001b[39m \u001b[38;5;124m'\u001b[39m\u001b[38;5;124msvg\u001b[39m\u001b[38;5;124m'\u001b[39m:\n",
      "File \u001b[0;32m/opt/anaconda3/envs/scvelo/lib/python3.12/site-packages/matplotlib/backend_bases.py:2164\u001b[0m, in \u001b[0;36mFigureCanvasBase.print_figure\u001b[0;34m(self, filename, dpi, facecolor, edgecolor, orientation, format, bbox_inches, pad_inches, bbox_extra_artists, backend, **kwargs)\u001b[0m\n\u001b[1;32m   2161\u001b[0m     \u001b[38;5;66;03m# we do this instead of `self.figure.draw_without_rendering`\u001b[39;00m\n\u001b[1;32m   2162\u001b[0m     \u001b[38;5;66;03m# so that we can inject the orientation\u001b[39;00m\n\u001b[1;32m   2163\u001b[0m     \u001b[38;5;28;01mwith\u001b[39;00m \u001b[38;5;28mgetattr\u001b[39m(renderer, \u001b[38;5;124m\"\u001b[39m\u001b[38;5;124m_draw_disabled\u001b[39m\u001b[38;5;124m\"\u001b[39m, nullcontext)():\n\u001b[0;32m-> 2164\u001b[0m         \u001b[38;5;28;43mself\u001b[39;49m\u001b[38;5;241;43m.\u001b[39;49m\u001b[43mfigure\u001b[49m\u001b[38;5;241;43m.\u001b[39;49m\u001b[43mdraw\u001b[49m\u001b[43m(\u001b[49m\u001b[43mrenderer\u001b[49m\u001b[43m)\u001b[49m\n\u001b[1;32m   2165\u001b[0m \u001b[38;5;28;01mif\u001b[39;00m bbox_inches:\n\u001b[1;32m   2166\u001b[0m     \u001b[38;5;28;01mif\u001b[39;00m bbox_inches \u001b[38;5;241m==\u001b[39m \u001b[38;5;124m\"\u001b[39m\u001b[38;5;124mtight\u001b[39m\u001b[38;5;124m\"\u001b[39m:\n",
      "File \u001b[0;32m/opt/anaconda3/envs/scvelo/lib/python3.12/site-packages/matplotlib/artist.py:95\u001b[0m, in \u001b[0;36m_finalize_rasterization.<locals>.draw_wrapper\u001b[0;34m(artist, renderer, *args, **kwargs)\u001b[0m\n\u001b[1;32m     93\u001b[0m \u001b[38;5;129m@wraps\u001b[39m(draw)\n\u001b[1;32m     94\u001b[0m \u001b[38;5;28;01mdef\u001b[39;00m \u001b[38;5;21mdraw_wrapper\u001b[39m(artist, renderer, \u001b[38;5;241m*\u001b[39margs, \u001b[38;5;241m*\u001b[39m\u001b[38;5;241m*\u001b[39mkwargs):\n\u001b[0;32m---> 95\u001b[0m     result \u001b[38;5;241m=\u001b[39m \u001b[43mdraw\u001b[49m\u001b[43m(\u001b[49m\u001b[43martist\u001b[49m\u001b[43m,\u001b[49m\u001b[43m \u001b[49m\u001b[43mrenderer\u001b[49m\u001b[43m,\u001b[49m\u001b[43m \u001b[49m\u001b[38;5;241;43m*\u001b[39;49m\u001b[43margs\u001b[49m\u001b[43m,\u001b[49m\u001b[43m \u001b[49m\u001b[38;5;241;43m*\u001b[39;49m\u001b[38;5;241;43m*\u001b[39;49m\u001b[43mkwargs\u001b[49m\u001b[43m)\u001b[49m\n\u001b[1;32m     96\u001b[0m     \u001b[38;5;28;01mif\u001b[39;00m renderer\u001b[38;5;241m.\u001b[39m_rasterizing:\n\u001b[1;32m     97\u001b[0m         renderer\u001b[38;5;241m.\u001b[39mstop_rasterizing()\n",
      "File \u001b[0;32m/opt/anaconda3/envs/scvelo/lib/python3.12/site-packages/matplotlib/artist.py:72\u001b[0m, in \u001b[0;36mallow_rasterization.<locals>.draw_wrapper\u001b[0;34m(artist, renderer)\u001b[0m\n\u001b[1;32m     69\u001b[0m     \u001b[38;5;28;01mif\u001b[39;00m artist\u001b[38;5;241m.\u001b[39mget_agg_filter() \u001b[38;5;129;01mis\u001b[39;00m \u001b[38;5;129;01mnot\u001b[39;00m \u001b[38;5;28;01mNone\u001b[39;00m:\n\u001b[1;32m     70\u001b[0m         renderer\u001b[38;5;241m.\u001b[39mstart_filter()\n\u001b[0;32m---> 72\u001b[0m     \u001b[38;5;28;01mreturn\u001b[39;00m \u001b[43mdraw\u001b[49m\u001b[43m(\u001b[49m\u001b[43martist\u001b[49m\u001b[43m,\u001b[49m\u001b[43m \u001b[49m\u001b[43mrenderer\u001b[49m\u001b[43m)\u001b[49m\n\u001b[1;32m     73\u001b[0m \u001b[38;5;28;01mfinally\u001b[39;00m:\n\u001b[1;32m     74\u001b[0m     \u001b[38;5;28;01mif\u001b[39;00m artist\u001b[38;5;241m.\u001b[39mget_agg_filter() \u001b[38;5;129;01mis\u001b[39;00m \u001b[38;5;129;01mnot\u001b[39;00m \u001b[38;5;28;01mNone\u001b[39;00m:\n",
      "File \u001b[0;32m/opt/anaconda3/envs/scvelo/lib/python3.12/site-packages/matplotlib/figure.py:3154\u001b[0m, in \u001b[0;36mFigure.draw\u001b[0;34m(self, renderer)\u001b[0m\n\u001b[1;32m   3151\u001b[0m         \u001b[38;5;66;03m# ValueError can occur when resizing a window.\u001b[39;00m\n\u001b[1;32m   3153\u001b[0m \u001b[38;5;28mself\u001b[39m\u001b[38;5;241m.\u001b[39mpatch\u001b[38;5;241m.\u001b[39mdraw(renderer)\n\u001b[0;32m-> 3154\u001b[0m \u001b[43mmimage\u001b[49m\u001b[38;5;241;43m.\u001b[39;49m\u001b[43m_draw_list_compositing_images\u001b[49m\u001b[43m(\u001b[49m\n\u001b[1;32m   3155\u001b[0m \u001b[43m    \u001b[49m\u001b[43mrenderer\u001b[49m\u001b[43m,\u001b[49m\u001b[43m \u001b[49m\u001b[38;5;28;43mself\u001b[39;49m\u001b[43m,\u001b[49m\u001b[43m \u001b[49m\u001b[43martists\u001b[49m\u001b[43m,\u001b[49m\u001b[43m \u001b[49m\u001b[38;5;28;43mself\u001b[39;49m\u001b[38;5;241;43m.\u001b[39;49m\u001b[43msuppressComposite\u001b[49m\u001b[43m)\u001b[49m\n\u001b[1;32m   3157\u001b[0m \u001b[38;5;28;01mfor\u001b[39;00m sfig \u001b[38;5;129;01min\u001b[39;00m \u001b[38;5;28mself\u001b[39m\u001b[38;5;241m.\u001b[39msubfigs:\n\u001b[1;32m   3158\u001b[0m     sfig\u001b[38;5;241m.\u001b[39mdraw(renderer)\n",
      "File \u001b[0;32m/opt/anaconda3/envs/scvelo/lib/python3.12/site-packages/matplotlib/image.py:132\u001b[0m, in \u001b[0;36m_draw_list_compositing_images\u001b[0;34m(renderer, parent, artists, suppress_composite)\u001b[0m\n\u001b[1;32m    130\u001b[0m \u001b[38;5;28;01mif\u001b[39;00m not_composite \u001b[38;5;129;01mor\u001b[39;00m \u001b[38;5;129;01mnot\u001b[39;00m has_images:\n\u001b[1;32m    131\u001b[0m     \u001b[38;5;28;01mfor\u001b[39;00m a \u001b[38;5;129;01min\u001b[39;00m artists:\n\u001b[0;32m--> 132\u001b[0m         \u001b[43ma\u001b[49m\u001b[38;5;241;43m.\u001b[39;49m\u001b[43mdraw\u001b[49m\u001b[43m(\u001b[49m\u001b[43mrenderer\u001b[49m\u001b[43m)\u001b[49m\n\u001b[1;32m    133\u001b[0m \u001b[38;5;28;01melse\u001b[39;00m:\n\u001b[1;32m    134\u001b[0m     \u001b[38;5;66;03m# Composite any adjacent images together\u001b[39;00m\n\u001b[1;32m    135\u001b[0m     image_group \u001b[38;5;241m=\u001b[39m []\n",
      "File \u001b[0;32m/opt/anaconda3/envs/scvelo/lib/python3.12/site-packages/matplotlib/artist.py:72\u001b[0m, in \u001b[0;36mallow_rasterization.<locals>.draw_wrapper\u001b[0;34m(artist, renderer)\u001b[0m\n\u001b[1;32m     69\u001b[0m     \u001b[38;5;28;01mif\u001b[39;00m artist\u001b[38;5;241m.\u001b[39mget_agg_filter() \u001b[38;5;129;01mis\u001b[39;00m \u001b[38;5;129;01mnot\u001b[39;00m \u001b[38;5;28;01mNone\u001b[39;00m:\n\u001b[1;32m     70\u001b[0m         renderer\u001b[38;5;241m.\u001b[39mstart_filter()\n\u001b[0;32m---> 72\u001b[0m     \u001b[38;5;28;01mreturn\u001b[39;00m \u001b[43mdraw\u001b[49m\u001b[43m(\u001b[49m\u001b[43martist\u001b[49m\u001b[43m,\u001b[49m\u001b[43m \u001b[49m\u001b[43mrenderer\u001b[49m\u001b[43m)\u001b[49m\n\u001b[1;32m     73\u001b[0m \u001b[38;5;28;01mfinally\u001b[39;00m:\n\u001b[1;32m     74\u001b[0m     \u001b[38;5;28;01mif\u001b[39;00m artist\u001b[38;5;241m.\u001b[39mget_agg_filter() \u001b[38;5;129;01mis\u001b[39;00m \u001b[38;5;129;01mnot\u001b[39;00m \u001b[38;5;28;01mNone\u001b[39;00m:\n",
      "File \u001b[0;32m/opt/anaconda3/envs/scvelo/lib/python3.12/site-packages/matplotlib/axes/_base.py:3070\u001b[0m, in \u001b[0;36m_AxesBase.draw\u001b[0;34m(self, renderer)\u001b[0m\n\u001b[1;32m   3067\u001b[0m \u001b[38;5;28;01mif\u001b[39;00m artists_rasterized:\n\u001b[1;32m   3068\u001b[0m     _draw_rasterized(\u001b[38;5;28mself\u001b[39m\u001b[38;5;241m.\u001b[39mfigure, artists_rasterized, renderer)\n\u001b[0;32m-> 3070\u001b[0m \u001b[43mmimage\u001b[49m\u001b[38;5;241;43m.\u001b[39;49m\u001b[43m_draw_list_compositing_images\u001b[49m\u001b[43m(\u001b[49m\n\u001b[1;32m   3071\u001b[0m \u001b[43m    \u001b[49m\u001b[43mrenderer\u001b[49m\u001b[43m,\u001b[49m\u001b[43m \u001b[49m\u001b[38;5;28;43mself\u001b[39;49m\u001b[43m,\u001b[49m\u001b[43m \u001b[49m\u001b[43martists\u001b[49m\u001b[43m,\u001b[49m\u001b[43m \u001b[49m\u001b[38;5;28;43mself\u001b[39;49m\u001b[38;5;241;43m.\u001b[39;49m\u001b[43mfigure\u001b[49m\u001b[38;5;241;43m.\u001b[39;49m\u001b[43msuppressComposite\u001b[49m\u001b[43m)\u001b[49m\n\u001b[1;32m   3073\u001b[0m renderer\u001b[38;5;241m.\u001b[39mclose_group(\u001b[38;5;124m'\u001b[39m\u001b[38;5;124maxes\u001b[39m\u001b[38;5;124m'\u001b[39m)\n\u001b[1;32m   3074\u001b[0m \u001b[38;5;28mself\u001b[39m\u001b[38;5;241m.\u001b[39mstale \u001b[38;5;241m=\u001b[39m \u001b[38;5;28;01mFalse\u001b[39;00m\n",
      "File \u001b[0;32m/opt/anaconda3/envs/scvelo/lib/python3.12/site-packages/matplotlib/image.py:132\u001b[0m, in \u001b[0;36m_draw_list_compositing_images\u001b[0;34m(renderer, parent, artists, suppress_composite)\u001b[0m\n\u001b[1;32m    130\u001b[0m \u001b[38;5;28;01mif\u001b[39;00m not_composite \u001b[38;5;129;01mor\u001b[39;00m \u001b[38;5;129;01mnot\u001b[39;00m has_images:\n\u001b[1;32m    131\u001b[0m     \u001b[38;5;28;01mfor\u001b[39;00m a \u001b[38;5;129;01min\u001b[39;00m artists:\n\u001b[0;32m--> 132\u001b[0m         \u001b[43ma\u001b[49m\u001b[38;5;241;43m.\u001b[39;49m\u001b[43mdraw\u001b[49m\u001b[43m(\u001b[49m\u001b[43mrenderer\u001b[49m\u001b[43m)\u001b[49m\n\u001b[1;32m    133\u001b[0m \u001b[38;5;28;01melse\u001b[39;00m:\n\u001b[1;32m    134\u001b[0m     \u001b[38;5;66;03m# Composite any adjacent images together\u001b[39;00m\n\u001b[1;32m    135\u001b[0m     image_group \u001b[38;5;241m=\u001b[39m []\n",
      "File \u001b[0;32m/opt/anaconda3/envs/scvelo/lib/python3.12/site-packages/matplotlib/artist.py:72\u001b[0m, in \u001b[0;36mallow_rasterization.<locals>.draw_wrapper\u001b[0;34m(artist, renderer)\u001b[0m\n\u001b[1;32m     69\u001b[0m     \u001b[38;5;28;01mif\u001b[39;00m artist\u001b[38;5;241m.\u001b[39mget_agg_filter() \u001b[38;5;129;01mis\u001b[39;00m \u001b[38;5;129;01mnot\u001b[39;00m \u001b[38;5;28;01mNone\u001b[39;00m:\n\u001b[1;32m     70\u001b[0m         renderer\u001b[38;5;241m.\u001b[39mstart_filter()\n\u001b[0;32m---> 72\u001b[0m     \u001b[38;5;28;01mreturn\u001b[39;00m \u001b[43mdraw\u001b[49m\u001b[43m(\u001b[49m\u001b[43martist\u001b[49m\u001b[43m,\u001b[49m\u001b[43m \u001b[49m\u001b[43mrenderer\u001b[49m\u001b[43m)\u001b[49m\n\u001b[1;32m     73\u001b[0m \u001b[38;5;28;01mfinally\u001b[39;00m:\n\u001b[1;32m     74\u001b[0m     \u001b[38;5;28;01mif\u001b[39;00m artist\u001b[38;5;241m.\u001b[39mget_agg_filter() \u001b[38;5;129;01mis\u001b[39;00m \u001b[38;5;129;01mnot\u001b[39;00m \u001b[38;5;28;01mNone\u001b[39;00m:\n",
      "File \u001b[0;32m/opt/anaconda3/envs/scvelo/lib/python3.12/site-packages/matplotlib/collections.py:1005\u001b[0m, in \u001b[0;36m_CollectionWithSizes.draw\u001b[0;34m(self, renderer)\u001b[0m\n\u001b[1;32m   1002\u001b[0m \u001b[38;5;129m@artist\u001b[39m\u001b[38;5;241m.\u001b[39mallow_rasterization\n\u001b[1;32m   1003\u001b[0m \u001b[38;5;28;01mdef\u001b[39;00m \u001b[38;5;21mdraw\u001b[39m(\u001b[38;5;28mself\u001b[39m, renderer):\n\u001b[1;32m   1004\u001b[0m     \u001b[38;5;28mself\u001b[39m\u001b[38;5;241m.\u001b[39mset_sizes(\u001b[38;5;28mself\u001b[39m\u001b[38;5;241m.\u001b[39m_sizes, \u001b[38;5;28mself\u001b[39m\u001b[38;5;241m.\u001b[39mfigure\u001b[38;5;241m.\u001b[39mdpi)\n\u001b[0;32m-> 1005\u001b[0m     \u001b[38;5;28;43msuper\u001b[39;49m\u001b[43m(\u001b[49m\u001b[43m)\u001b[49m\u001b[38;5;241;43m.\u001b[39;49m\u001b[43mdraw\u001b[49m\u001b[43m(\u001b[49m\u001b[43mrenderer\u001b[49m\u001b[43m)\u001b[49m\n",
      "File \u001b[0;32m/opt/anaconda3/envs/scvelo/lib/python3.12/site-packages/matplotlib/artist.py:72\u001b[0m, in \u001b[0;36mallow_rasterization.<locals>.draw_wrapper\u001b[0;34m(artist, renderer)\u001b[0m\n\u001b[1;32m     69\u001b[0m     \u001b[38;5;28;01mif\u001b[39;00m artist\u001b[38;5;241m.\u001b[39mget_agg_filter() \u001b[38;5;129;01mis\u001b[39;00m \u001b[38;5;129;01mnot\u001b[39;00m \u001b[38;5;28;01mNone\u001b[39;00m:\n\u001b[1;32m     70\u001b[0m         renderer\u001b[38;5;241m.\u001b[39mstart_filter()\n\u001b[0;32m---> 72\u001b[0m     \u001b[38;5;28;01mreturn\u001b[39;00m \u001b[43mdraw\u001b[49m\u001b[43m(\u001b[49m\u001b[43martist\u001b[49m\u001b[43m,\u001b[49m\u001b[43m \u001b[49m\u001b[43mrenderer\u001b[49m\u001b[43m)\u001b[49m\n\u001b[1;32m     73\u001b[0m \u001b[38;5;28;01mfinally\u001b[39;00m:\n\u001b[1;32m     74\u001b[0m     \u001b[38;5;28;01mif\u001b[39;00m artist\u001b[38;5;241m.\u001b[39mget_agg_filter() \u001b[38;5;129;01mis\u001b[39;00m \u001b[38;5;129;01mnot\u001b[39;00m \u001b[38;5;28;01mNone\u001b[39;00m:\n",
      "File \u001b[0;32m/opt/anaconda3/envs/scvelo/lib/python3.12/site-packages/matplotlib/collections.py:391\u001b[0m, in \u001b[0;36mCollection.draw\u001b[0;34m(self, renderer)\u001b[0m\n\u001b[1;32m    389\u001b[0m \u001b[38;5;28;01melse\u001b[39;00m:\n\u001b[1;32m    390\u001b[0m     combined_transform \u001b[38;5;241m=\u001b[39m transform\n\u001b[0;32m--> 391\u001b[0m extents \u001b[38;5;241m=\u001b[39m \u001b[43mpaths\u001b[49m\u001b[43m[\u001b[49m\u001b[38;5;241;43m0\u001b[39;49m\u001b[43m]\u001b[49m\u001b[38;5;241;43m.\u001b[39;49m\u001b[43mget_extents\u001b[49m\u001b[43m(\u001b[49m\u001b[43mcombined_transform\u001b[49m\u001b[43m)\u001b[49m\n\u001b[1;32m    392\u001b[0m \u001b[38;5;28;01mif\u001b[39;00m (extents\u001b[38;5;241m.\u001b[39mwidth \u001b[38;5;241m<\u001b[39m \u001b[38;5;28mself\u001b[39m\u001b[38;5;241m.\u001b[39mfigure\u001b[38;5;241m.\u001b[39mbbox\u001b[38;5;241m.\u001b[39mwidth\n\u001b[1;32m    393\u001b[0m         \u001b[38;5;129;01mand\u001b[39;00m extents\u001b[38;5;241m.\u001b[39mheight \u001b[38;5;241m<\u001b[39m \u001b[38;5;28mself\u001b[39m\u001b[38;5;241m.\u001b[39mfigure\u001b[38;5;241m.\u001b[39mbbox\u001b[38;5;241m.\u001b[39mheight):\n\u001b[1;32m    394\u001b[0m     do_single_path_optimization \u001b[38;5;241m=\u001b[39m \u001b[38;5;28;01mTrue\u001b[39;00m\n",
      "File \u001b[0;32m/opt/anaconda3/envs/scvelo/lib/python3.12/site-packages/matplotlib/path.py:639\u001b[0m, in \u001b[0;36mPath.get_extents\u001b[0;34m(self, transform, **kwargs)\u001b[0m\n\u001b[1;32m    636\u001b[0m xys \u001b[38;5;241m=\u001b[39m []\n\u001b[1;32m    637\u001b[0m \u001b[38;5;28;01mfor\u001b[39;00m curve, code \u001b[38;5;129;01min\u001b[39;00m \u001b[38;5;28mself\u001b[39m\u001b[38;5;241m.\u001b[39miter_bezier(\u001b[38;5;241m*\u001b[39m\u001b[38;5;241m*\u001b[39mkwargs):\n\u001b[1;32m    638\u001b[0m     \u001b[38;5;66;03m# places where the derivative is zero can be extrema\u001b[39;00m\n\u001b[0;32m--> 639\u001b[0m     _, dzeros \u001b[38;5;241m=\u001b[39m \u001b[43mcurve\u001b[49m\u001b[38;5;241;43m.\u001b[39;49m\u001b[43maxis_aligned_extrema\u001b[49m\u001b[43m(\u001b[49m\u001b[43m)\u001b[49m\n\u001b[1;32m    640\u001b[0m     \u001b[38;5;66;03m# as can the ends of the curve\u001b[39;00m\n\u001b[1;32m    641\u001b[0m     xys\u001b[38;5;241m.\u001b[39mappend(curve([\u001b[38;5;241m0\u001b[39m, \u001b[38;5;241m*\u001b[39mdzeros, \u001b[38;5;241m1\u001b[39m]))\n",
      "File \u001b[0;32m/opt/anaconda3/envs/scvelo/lib/python3.12/site-packages/matplotlib/bezier.py:307\u001b[0m, in \u001b[0;36mBezierSegment.axis_aligned_extrema\u001b[0;34m(self)\u001b[0m\n\u001b[1;32m    305\u001b[0m roots \u001b[38;5;241m=\u001b[39m []\n\u001b[1;32m    306\u001b[0m \u001b[38;5;28;01mfor\u001b[39;00m i, pi \u001b[38;5;129;01min\u001b[39;00m \u001b[38;5;28menumerate\u001b[39m(dCj\u001b[38;5;241m.\u001b[39mT):\n\u001b[0;32m--> 307\u001b[0m     r \u001b[38;5;241m=\u001b[39m \u001b[43mnp\u001b[49m\u001b[38;5;241;43m.\u001b[39;49m\u001b[43mroots\u001b[49m\u001b[43m(\u001b[49m\u001b[43mpi\u001b[49m\u001b[43m[\u001b[49m\u001b[43m:\u001b[49m\u001b[43m:\u001b[49m\u001b[38;5;241;43m-\u001b[39;49m\u001b[38;5;241;43m1\u001b[39;49m\u001b[43m]\u001b[49m\u001b[43m)\u001b[49m\n\u001b[1;32m    308\u001b[0m     roots\u001b[38;5;241m.\u001b[39mappend(r)\n\u001b[1;32m    309\u001b[0m     dims\u001b[38;5;241m.\u001b[39mappend(np\u001b[38;5;241m.\u001b[39mfull_like(r, i))\n",
      "File \u001b[0;32m/opt/anaconda3/envs/scvelo/lib/python3.12/site-packages/numpy/lib/polynomial.py:253\u001b[0m, in \u001b[0;36mroots\u001b[0;34m(p)\u001b[0m\n\u001b[1;32m    250\u001b[0m N \u001b[38;5;241m=\u001b[39m \u001b[38;5;28mlen\u001b[39m(p)\n\u001b[1;32m    251\u001b[0m \u001b[38;5;28;01mif\u001b[39;00m N \u001b[38;5;241m>\u001b[39m \u001b[38;5;241m1\u001b[39m:\n\u001b[1;32m    252\u001b[0m     \u001b[38;5;66;03m# build companion matrix and find its eigenvalues (the roots)\u001b[39;00m\n\u001b[0;32m--> 253\u001b[0m     A \u001b[38;5;241m=\u001b[39m \u001b[43mdiag\u001b[49m\u001b[43m(\u001b[49m\u001b[43mNX\u001b[49m\u001b[38;5;241;43m.\u001b[39;49m\u001b[43mones\u001b[49m\u001b[43m(\u001b[49m\u001b[43m(\u001b[49m\u001b[43mN\u001b[49m\u001b[38;5;241;43m-\u001b[39;49m\u001b[38;5;241;43m2\u001b[39;49m\u001b[43m,\u001b[49m\u001b[43m)\u001b[49m\u001b[43m,\u001b[49m\u001b[43m \u001b[49m\u001b[43mp\u001b[49m\u001b[38;5;241;43m.\u001b[39;49m\u001b[43mdtype\u001b[49m\u001b[43m)\u001b[49m\u001b[43m,\u001b[49m\u001b[43m \u001b[49m\u001b[38;5;241;43m-\u001b[39;49m\u001b[38;5;241;43m1\u001b[39;49m\u001b[43m)\u001b[49m\n\u001b[1;32m    254\u001b[0m     A[\u001b[38;5;241m0\u001b[39m,:] \u001b[38;5;241m=\u001b[39m \u001b[38;5;241m-\u001b[39mp[\u001b[38;5;241m1\u001b[39m:] \u001b[38;5;241m/\u001b[39m p[\u001b[38;5;241m0\u001b[39m]\n\u001b[1;32m    255\u001b[0m     roots \u001b[38;5;241m=\u001b[39m eigvals(A)\n",
      "\u001b[0;31mKeyboardInterrupt\u001b[0m: "
     ]
    }
   ],
   "source": [
    "sc.set_figure_params(scanpy=True, dpi=150,figsize=(6,6))\n",
    "sc.pl.umap(adatafilt,color=['intracellular_min_correlation','intracellular_mean_correlation'],vmax='p99.9',vmin='p20',cmap='coolwarm',s=20,ncols=2,frameon=False)"
   ]
  },
  {
   "cell_type": "code",
   "execution_count": null,
   "id": "84f1548c",
   "metadata": {},
   "outputs": [],
   "source": [
    "sc.set_figure_params(scanpy=True, dpi=150,figsize=(6,6))\n",
    "sc.pl.umap(adatafilt,color=['intracellular_mean_correlation'],vmax='p99.9',cmap='coolwarm',vmin=0.8,s=2,ncols=2,frameon=False,colorbar_loc=None)"
   ]
  },
  {
   "cell_type": "code",
   "execution_count": null,
   "id": "7c2a10e1",
   "metadata": {},
   "outputs": [],
   "source": [
    "sc.set_figure_params(scanpy=True, dpi=150,figsize=(6,6))\n",
    "sc.pl.umap(adatafilt,color=['nuc_counts_proportion','cyt_counts_proportion','distance_centroid_to_nuccentroid'],vmax='p99.9',cmap='viridis',s=2,ncols=2,frameon=False)"
   ]
  },
  {
   "cell_type": "code",
   "execution_count": null,
   "id": "f05b6a0b",
   "metadata": {},
   "outputs": [],
   "source": [
    "sc.pl.umap(adatafilt,color=['leiden','nuc_genes_proportion','nuc_and_cyt_genes_proportion','cyt_genes_proportion'],vmax='p99.9',cmap='viridis',s=2,ncols=2)"
   ]
  },
  {
   "cell_type": "code",
   "execution_count": null,
   "id": "4fb941e2",
   "metadata": {},
   "outputs": [],
   "source": [
    "sc.set_figure_params(scanpy=True, dpi=150,figsize=(15,15))\n",
    "plt.rcParams['figure.facecolor'] = 'white'\n",
    "sc.pl.spatial(adatafilt,spot_size=25,color=['leiden'])"
   ]
  },
  {
   "cell_type": "code",
   "execution_count": null,
   "id": "125c035f",
   "metadata": {},
   "outputs": [],
   "source": [
    "adatafilt=calcualte_densities(adatafilt)\n",
    "adatafilt=nuclear_to_cytoplasmic_correlation(adatafilt)"
   ]
  },
  {
   "cell_type": "code",
   "execution_count": null,
   "id": "f023a7e9",
   "metadata": {},
   "outputs": [],
   "source": [
    "adatafilt=gene_nuclear_to_cytoplasmic_correlation(adatafilt)"
   ]
  },
  {
   "cell_type": "code",
   "execution_count": null,
   "id": "f046b93f",
   "metadata": {},
   "outputs": [],
   "source": [
    "adatafilt=centrality_scores(adatafilt)"
   ]
  },
  {
   "cell_type": "code",
   "execution_count": null,
   "id": "9f3d197d",
   "metadata": {},
   "outputs": [],
   "source": [
    "adatafilt=format_data_neighs_radius(adatafilt,'leiden','sample',radius=100)"
   ]
  },
  {
   "cell_type": "code",
   "execution_count": null,
   "id": "9b1b446f",
   "metadata": {},
   "outputs": [],
   "source": [
    "magnitudes=['cell_area','nucleus_area','nuc_and_cyt_genes', 'cyt_genes', 'nuc_genes',\n",
    "'expressed_genes','nuc_and_cyt_genes_proportion', 'cyt_genes_proportion','nuc_genes_proportion', 'cyt_counts', 'nuc_counts',\n",
    "'n_counts', 'cyt_counts_proportion', 'nuc_counts_proportion','distance_centroid_to_nuccentroid',\n",
    "           'cell_density','nuc_density','cyt_density','cyt_nuc_correlation','neighborhood_diversity', 'neighborhood_density',\n",
    "           'intracellular_min_correlation','intracellular_mean_correlation','closest_cell_distance','mean_polarity', 'max_polarity','polarity_pc', 'mean_distance_to_gene_centroids']"
   ]
  },
  {
   "cell_type": "code",
   "execution_count": null,
   "id": "bcf1e37f",
   "metadata": {},
   "outputs": [],
   "source": [
    "scores=adatafilt.obs[magnitudes]"
   ]
  },
  {
   "cell_type": "code",
   "execution_count": null,
   "id": "b44b8ce5",
   "metadata": {},
   "outputs": [],
   "source": [
    "scores.astype(float)"
   ]
  },
  {
   "cell_type": "code",
   "execution_count": null,
   "id": "ebc4c35e",
   "metadata": {
    "scrolled": false
   },
   "outputs": [],
   "source": [
    "scores=adatafilt.obs[magnitudes]\n",
    "scores=scores.astype(float).dropna(axis=0)\n",
    "resu=pd.DataFrame(index=magnitudes,columns=magnitudes)\n",
    "plt.figure(figsize=(15,15),dpi=400)\n",
    "for mag in magnitudes:\n",
    "    for mag2 in magnitudes:\n",
    "        resu.loc[mag,mag2]=np.corrcoef(scores[mag].astype(float),scores[mag2].astype(float))[0,1]\n",
    "sns.clustermap(resu.astype(float),cmap='coolwarm',figsize=(15,15))"
   ]
  },
  {
   "cell_type": "markdown",
   "id": "41b90ab9",
   "metadata": {},
   "source": [
    "# Questions about the data ###"
   ]
  },
  {
   "cell_type": "markdown",
   "id": "f8269f41",
   "metadata": {},
   "source": [
    "## QUESTION 1: How are genes distributed in compartments?"
   ]
  },
  {
   "cell_type": "code",
   "execution_count": null,
   "id": "d28da5c3",
   "metadata": {},
   "outputs": [],
   "source": [
    "sub=adatafilt.obs.loc[:,['nuc_genes_proportion','nuc_and_cyt_genes_proportion','cyt_genes_proportion']]\n",
    "sub2=sub.stack().reset_index()\n",
    "sub2['level_1']=sub2['level_1'].str.replace('_proportion','')\n",
    "sub2.columns=['ind','level_1','proportion']\n",
    "plt.figure(figsize=(3,2))\n",
    "sns.violinplot(data=sub2,y=sub2['level_1'],x=sub2['proportion'])"
   ]
  },
  {
   "cell_type": "markdown",
   "id": "054ca3fd",
   "metadata": {},
   "source": [
    "## QUESTION 2: How are counts distributed in nuclei vs cytoplasm? "
   ]
  },
  {
   "cell_type": "code",
   "execution_count": null,
   "id": "18b32d53",
   "metadata": {},
   "outputs": [],
   "source": [
    "sub=adatafilt.obs.loc[:,['nuc_counts_proportion','cyt_counts_proportion']]\n",
    "sub2=sub.stack().reset_index()\n",
    "sub2['level_1']=sub2['level_1'].str.replace('_proportion','')\n",
    "sub2.columns=['ind','level_1','proportion']\n",
    "plt.figure(figsize=(3,2))\n",
    "sns.violinplot(data=sub2,y=sub2['level_1'],x=sub2['proportion'])"
   ]
  },
  {
   "cell_type": "markdown",
   "id": "ea2a454b",
   "metadata": {},
   "source": [
    "## QUESTION 3: How are the areas of each compatment?"
   ]
  },
  {
   "cell_type": "code",
   "execution_count": null,
   "id": "5ec863cf",
   "metadata": {},
   "outputs": [],
   "source": [
    "sub=adatafilt.obs.loc[:,['nucleus_area','cell_area','cytoplasm_area']]\n",
    "sub2=sub.stack().reset_index()\n",
    "sub2['level_1']=sub2['level_1'].str.replace('_proportion','')\n",
    "sub2.columns=['ind','level_1','read/area']\n",
    "plt.figure(figsize=(6,2),dpi=200)\n",
    "sns.violinplot(data=sub2,y=sub2['level_1'],x=sub2['read/area'])"
   ]
  },
  {
   "cell_type": "markdown",
   "id": "a03ae471",
   "metadata": {},
   "source": [
    "## QUESTION 4: Is the cell Area dependent on cell type?"
   ]
  },
  {
   "cell_type": "code",
   "execution_count": null,
   "id": "f0a6ea2c",
   "metadata": {},
   "outputs": [],
   "source": [
    "sub=adatafilt.obs.loc[:,['cell_area','leiden']]\n",
    "plt.figure(figsize=(20,4),dpi=200)\n",
    "sns.violinplot(data=sub,x=sub['leiden'],y=sub['cell_area'])"
   ]
  },
  {
   "cell_type": "code",
   "execution_count": null,
   "id": "dcc46901",
   "metadata": {},
   "outputs": [],
   "source": [
    "sub=adatafilt.obs.loc[:,['nucleus_area','leiden']]\n",
    "plt.figure(figsize=(20,4),dpi=100)\n",
    "sns.violinplot(data=sub,x=sub['leiden'],y=sub['nucleus_area'])"
   ]
  },
  {
   "cell_type": "markdown",
   "id": "7e2b0a66",
   "metadata": {},
   "source": [
    "## QUESTION 5: How does the compartment density behave?"
   ]
  },
  {
   "cell_type": "code",
   "execution_count": null,
   "id": "381aeb34",
   "metadata": {},
   "outputs": [],
   "source": [
    "sub=adatafilt.obs.loc[:,['nuc_density','cell_density','cyt_density']]\n",
    "sub2=sub.stack().reset_index()\n",
    "sub2['level_1']=sub2['level_1'].str.replace('_proportion','')\n",
    "sub2.columns=['ind','level_1','read/area']\n",
    "plt.figure(figsize=(6,4),dpi=100)\n",
    "sns.violinplot(data=sub2,y=sub2['level_1'],x=sub2['read/area'])"
   ]
  },
  {
   "cell_type": "code",
   "execution_count": null,
   "id": "0a55b93e",
   "metadata": {},
   "outputs": [],
   "source": []
  },
  {
   "cell_type": "code",
   "execution_count": null,
   "id": "91be1c76",
   "metadata": {},
   "outputs": [],
   "source": []
  },
  {
   "cell_type": "code",
   "execution_count": null,
   "id": "c1fa73b2",
   "metadata": {
    "scrolled": true
   },
   "outputs": [],
   "source": [
    "for mg in magnitudes:\n",
    "    sc.pl.violin(adatafilt,mg,groupby='leiden',figsize=(10,3))"
   ]
  },
  {
   "cell_type": "code",
   "execution_count": null,
   "id": "9fa98209",
   "metadata": {},
   "outputs": [],
   "source": [
    "adatafilt.var.sort_values(by='nuc_cyt_correlation',ascending=False).head(20)"
   ]
  },
  {
   "cell_type": "code",
   "execution_count": null,
   "id": "026eeed7",
   "metadata": {},
   "outputs": [],
   "source": [
    "sc.set_figure_params(scanpy=True, dpi=70,figsize=(8,8))\n",
    "sc.pl.umap(adatafilt,color=['cyt_nuc_correlation','leiden'],ncols=2,frameon=False,s=4,cmap='coolwarm')"
   ]
  },
  {
   "cell_type": "code",
   "execution_count": null,
   "id": "8834a243",
   "metadata": {},
   "outputs": [],
   "source": [
    "sc.set_figure_params(scanpy=True, dpi=200,figsize=(15,7))\n",
    "sc.pl.violin(adatafilt,keys='polarity_pc',groupby='leiden',swap_axes=True)"
   ]
  },
  {
   "cell_type": "code",
   "execution_count": null,
   "id": "76a4f884",
   "metadata": {},
   "outputs": [],
   "source": [
    "sc.set_figure_params(scanpy=True, dpi=150,figsize=(15,15))\n",
    "plt.rcParams['figure.facecolor'] = 'white'\n",
    "sc.pl.spatial(adatafilt,spot_size=25,color=['polarity_pc'],cmap='Blues')"
   ]
  },
  {
   "cell_type": "markdown",
   "id": "f5fbe391",
   "metadata": {},
   "source": [
    "# NMF"
   ]
  },
  {
   "cell_type": "code",
   "execution_count": null,
   "id": "3bc98408",
   "metadata": {},
   "outputs": [],
   "source": [
    "# NMF\n",
    "from sklearn.decomposition import NMF\n",
    "import numpy as np\n",
    "\n",
    "# Assuming your expression matrix is stored in a variable named \"expression_matrix\"\n",
    "# Make sure it's a numpy array and contains non-negative values\n",
    "# Replace this with your actual data\n",
    "expression_matrix = adatafilt.X\n",
    "\n",
    "# Define the number of components (factors) for NMF\n",
    "n_components = 10\n",
    "\n",
    "# Initialize the NMF model\n",
    "model = NMF(n_components=n_components, init='random', random_state=0)\n",
    "\n",
    "# Fit the model to your expression matrix\n",
    "W = model.fit_transform(expression_matrix)\n",
    "H = model.components_\n",
    "\n",
    "# Now W and H contain the factorized matrices\n",
    "# W represents the sample-feature matrix\n",
    "# H represents the feature-gene matrix\n"
   ]
  },
  {
   "cell_type": "code",
   "execution_count": null,
   "id": "0b7eabc9",
   "metadata": {},
   "outputs": [],
   "source": [
    "contr=pd.DataFrame(H,columns=adatafilt.var.index)\n",
    "contr2=contr.loc[:,np.max(contr,axis=0)>0.6]\n",
    "sns.clustermap(contr2,figsize=(30,20))"
   ]
  },
  {
   "cell_type": "code",
   "execution_count": null,
   "id": "29b841b0",
   "metadata": {
    "scrolled": true
   },
   "outputs": [],
   "source": [
    "factous=pd.DataFrame(W,columns=['factor'+str(i) for i in  range(0,W.shape[1])])\n",
    "for c in factous.columns:\n",
    "    adatafilt.obs.loc[:,c]=list(factous.loc[:,c])\n",
    "adatafilt.obs['max_factor']=np.max(adatafilt.obs[factous.columns],axis=1)/np.sum(adatafilt.obs[factous.columns],axis=1)\n",
    "sc.pl.umap(adatafilt,color=['max_factor'],ncols=2,frameon=False,s=50,cmap='coolwarm')\n",
    "sc.pl.umap(adatafilt,color=factous.columns,ncols=2,frameon=False,s=50,cmap='coolwarm')"
   ]
  },
  {
   "cell_type": "code",
   "execution_count": null,
   "id": "e316b190",
   "metadata": {},
   "outputs": [],
   "source": [
    "adatafilt.obs[factous.columns]"
   ]
  },
  {
   "cell_type": "code",
   "execution_count": null,
   "id": "0cf3959b",
   "metadata": {},
   "outputs": [],
   "source": [
    "adatafilt.obs[magnitudes]"
   ]
  },
  {
   "cell_type": "code",
   "execution_count": null,
   "id": "951b3d9c",
   "metadata": {},
   "outputs": [],
   "source": [
    "sc.pl.dotplot(adatafilt,factous.columns,groupby='leiden')"
   ]
  },
  {
   "cell_type": "code",
   "execution_count": null,
   "id": "07f631a8",
   "metadata": {},
   "outputs": [],
   "source": [
    "scores=adatafilt.obs[list(magnitudes)+list(factous.columns)+list(['max_factor'])]\n",
    "scores=scores.astype(float).dropna(axis=0)\n",
    "resu=pd.DataFrame(index=magnitudes,columns=list(factous.columns)+list(['max_factor']))\n",
    "plt.figure(figsize=(15,15),dpi=400)\n",
    "for mag in magnitudes:\n",
    "    for mag2 in list(factous.columns)+list(['max_factor']):\n",
    "        resu.loc[mag,mag2]=np.corrcoef(scores[mag].astype(float),scores[mag2].astype(float))[0,1]\n",
    "sns.clustermap(resu.astype(float),cmap='coolwarm',figsize=(15,15),vmax=1,vmin=-1)"
   ]
  },
  {
   "cell_type": "markdown",
   "id": "3eecd2b8",
   "metadata": {},
   "source": [
    "# Nuclear vs cytoplasmic expression"
   ]
  },
  {
   "cell_type": "code",
   "execution_count": null,
   "id": "9a1b0ef3",
   "metadata": {},
   "outputs": [],
   "source": [
    "nuc_ann=sc.AnnData(adatafilt.uns['nuclear_expression'].loc[adatafilt.obs['cell_id'],:],obs=adatafilt.obs)\n",
    "nuc_ann.obs['nuc_cyt']='nuc'\n",
    "cyt_ann=sc.AnnData(adatafilt.uns['cytoplasmic_expression'].loc[adatafilt.obs['cell_id'],:],obs=adatafilt.obs)\n",
    "cyt_ann.obs['nuc_cyt']='cyt'"
   ]
  },
  {
   "cell_type": "code",
   "execution_count": null,
   "id": "470aa4a4",
   "metadata": {},
   "outputs": [],
   "source": [
    "gen=[e for e in cyt_ann.var.index if 'BLANK' not in e]\n",
    "gen=[e for e in gen if 'Neg' not in e]\n",
    "nuc_ann=nuc_ann[:,gen]\n",
    "cyt_ann=cyt_ann[:,gen]"
   ]
  },
  {
   "cell_type": "code",
   "execution_count": null,
   "id": "40c199bc",
   "metadata": {},
   "outputs": [],
   "source": [
    "nuc_ann.raw=nuc_ann\n",
    "sc.pp.normalize_total(nuc_ann,target_sum=30)\n",
    "print(np.sum(nuc_ann.X,axis=1))\n",
    "sc.pp.log1p(nuc_ann)\n",
    "cyt_ann.raw=cyt_ann\n",
    "sc.pp.normalize_total(cyt_ann,target_sum=30)\n",
    "print(np.sum(cyt_ann.X,axis=1))\n",
    "sc.pp.log1p(cyt_ann)\n",
    "nucdf=nuc_ann.to_df()\n",
    "cytdf=cyt_ann.to_df()\n",
    "nuc_ann_df2=nuc_ann.to_df()-cyt_ann.to_df()\n",
    "cyt_ann_df2=cyt_ann.to_df()-nuc_ann.to_df()\n",
    "nuc_ann=sc.AnnData(nuc_ann_df2,obs=nuc_ann.obs)\n",
    "nuc_ann.layers['raw']=nucdf\n",
    "cyt_ann.layers['raw']=cytdf\n",
    "cyt_ann=sc.AnnData(cyt_ann_df2,obs=cyt_ann.obs)"
   ]
  },
  {
   "cell_type": "code",
   "execution_count": null,
   "id": "e5f5c8ce",
   "metadata": {},
   "outputs": [],
   "source": [
    "expr=adatafilt.to_df()\n",
    "diff=nuc_ann.to_df()\n",
    "diff.columns=diff.columns+'_diff'"
   ]
  },
  {
   "cell_type": "code",
   "execution_count": null,
   "id": "0fa43b7d",
   "metadata": {
    "scrolled": true
   },
   "outputs": [],
   "source": [
    "adata_contrast=sc.concat([nuc_ann])#,cyt_ann])"
   ]
  },
  {
   "cell_type": "code",
   "execution_count": null,
   "id": "647d4601",
   "metadata": {},
   "outputs": [],
   "source": [
    "# this chunk adds the adata_contrast and the adatafilt layers (expression + nuclear/cyt contrast)\n",
    "adata_contrast=sc.AnnData(pd.concat([expr,diff],axis=1),obs=adatafilt.obs)"
   ]
  },
  {
   "cell_type": "code",
   "execution_count": null,
   "id": "a2ed130f",
   "metadata": {},
   "outputs": [],
   "source": [
    "#adata_contrast.layers['raw']=pd.concat([nucdf,cytdf],axis=0)"
   ]
  },
  {
   "cell_type": "code",
   "execution_count": null,
   "id": "839b4ff1",
   "metadata": {},
   "outputs": [],
   "source": [
    "cell2leid=dict(zip(adatafilt.obs['cell_id'],adatafilt.obs['leiden']))"
   ]
  },
  {
   "cell_type": "code",
   "execution_count": null,
   "id": "ce67b5c3",
   "metadata": {},
   "outputs": [],
   "source": [
    "#sc.pp.subsample(adata_contrast,0.1)"
   ]
  },
  {
   "cell_type": "code",
   "execution_count": null,
   "id": "e055e8b6",
   "metadata": {},
   "outputs": [],
   "source": [
    "sc.pp.neighbors(adata_contrast,n_neighbors=10)\n",
    "sc.tl.umap(adata_contrast)"
   ]
  },
  {
   "cell_type": "code",
   "execution_count": null,
   "id": "e3298ee6",
   "metadata": {},
   "outputs": [],
   "source": [
    "sc.tl.leiden(adata_contrast,resolution=1.6)"
   ]
  },
  {
   "cell_type": "code",
   "execution_count": null,
   "id": "cd58232f",
   "metadata": {},
   "outputs": [],
   "source": [
    "adata_contrast.obs['prev_ct']=adata_contrast.obs['cell_id'].map(cell2leid)"
   ]
  },
  {
   "cell_type": "code",
   "execution_count": null,
   "id": "51da28e7",
   "metadata": {},
   "outputs": [],
   "source": [
    "sc.pl.umap(adata_contrast,color=['leiden','prev_ct'],cmap='viridis',ncols=1,legend_loc='on data')"
   ]
  },
  {
   "cell_type": "code",
   "execution_count": null,
   "id": "87ababc2",
   "metadata": {},
   "outputs": [],
   "source": [
    "sc.pl.umap(adata_contrast,color='nucleus_area_proportion',vmax=0.6)"
   ]
  },
  {
   "cell_type": "code",
   "execution_count": null,
   "id": "c3acbe40",
   "metadata": {},
   "outputs": [],
   "source": [
    "sc.pl.umap(adata_contrast,color='n_counts',vmax=40)"
   ]
  },
  {
   "cell_type": "code",
   "execution_count": null,
   "id": "d4db5307",
   "metadata": {
    "scrolled": false
   },
   "outputs": [],
   "source": [
    "sc.pl.umap(adata_contrast,color=['nuc_genes_proportion','cell_area','nuc_counts_proportion','nucleus_area_proportion','nuc_and_cyt_genes_proportion','cyt_genes_proportion'],cmap='viridis',ncols=2,legend_loc='on data',vmax='p95')"
   ]
  },
  {
   "cell_type": "code",
   "execution_count": null,
   "id": "65788fed",
   "metadata": {
    "scrolled": true
   },
   "outputs": [],
   "source": [
    "sc.set_figure_params(scanpy=True, dpi=150,figsize=(6,6))\n",
    "adata_contrast.obsm['spatial']=np.array([adata_contrast.obs['x_centroid'],adata_contrast.obs['y_centroid']]).transpose()\n",
    "sc.pl.spatial(adata_contrast,spot_size=20,color='leiden')"
   ]
  },
  {
   "cell_type": "code",
   "execution_count": null,
   "id": "f54fe525",
   "metadata": {},
   "outputs": [],
   "source": [
    "sc.set_figure_params(scanpy=True, dpi=150,figsize=(6,6))\n",
    "sc.pl.spatial(adata_contrast,spot_size=20,color='prev_ct')"
   ]
  },
  {
   "cell_type": "code",
   "execution_count": null,
   "id": "caf1ee08",
   "metadata": {},
   "outputs": [],
   "source": [
    "adata_contrast.obsm['spatial']=np.array([adata_contrast.obs['x_centroid'],adata_contrast.obs['y_centroid']]).transpose()\n",
    "sc.pl.spatial(adata_contrast,color='leiden',spot_size=30,groups=['1','14'])"
   ]
  },
  {
   "cell_type": "code",
   "execution_count": null,
   "id": "3de32313",
   "metadata": {},
   "outputs": [],
   "source": [
    "key='leiden'\n",
    "sc.tl.rank_genes_groups(adata_contrast, groupby=key, method='wilcoxon',rankby_abs=True)\n",
    "sc.pl.rank_genes_groups_matrixplot(adata_contrast,groupby=key,n_genes=4, swap_axes=False,use_raw=False,cmap='coolwarm',vmin=-1,vmax=1)#,save='deg.pdf')"
   ]
  },
  {
   "cell_type": "code",
   "execution_count": null,
   "id": "f4c2ee81",
   "metadata": {},
   "outputs": [],
   "source": [
    "key='leiden'\n",
    "sc.pl.heatmap(adata_contrast,adata_contrast.var.index[0:40],groupby=key,cmap='coolwarm',vmax=1,vmin=-1)"
   ]
  },
  {
   "cell_type": "code",
   "execution_count": null,
   "id": "42c4d82c",
   "metadata": {},
   "outputs": [],
   "source": [
    "sc.pl.heatmap(adata_contrast,adata_contrast.var.index[40:80],groupby=key,cmap='coolwarm',vmax=1,vmin=-1)"
   ]
  },
  {
   "cell_type": "code",
   "execution_count": null,
   "id": "23e7506f",
   "metadata": {},
   "outputs": [],
   "source": [
    "sc.pl.heatmap(adata_contrast,adata_contrast.var.index[80:120],groupby=key,cmap='coolwarm',vmax=1,vmin=-1)"
   ]
  },
  {
   "cell_type": "code",
   "execution_count": null,
   "id": "88815f71",
   "metadata": {},
   "outputs": [],
   "source": [
    "sc.pl.spatial(adatafilt,spot_size=20,color='leiden')"
   ]
  },
  {
   "cell_type": "code",
   "execution_count": null,
   "id": "713bd00f",
   "metadata": {},
   "outputs": [],
   "source": [
    "sc.tl.rank_genes_groups(adata_contrast, groupby=key, method='wilcoxon',rankby_abs=True)\n",
    "sc.pl.rank_genes_groups_heatmap(adata_contrast,groupby=key,n_genes=4, swap_axes=False,use_raw=False,cmap='coolwarm',vmin=-1,vmax=1)#,save='deg.pdf')"
   ]
  },
  {
   "cell_type": "code",
   "execution_count": null,
   "id": "b80b5df4",
   "metadata": {},
   "outputs": [],
   "source": [
    "sc.pl.rank_genes_groups_matrixplot(adata_contrast,groupby=key,n_genes=4, swap_axes=False,use_raw=False,cmap='coolwarm',vmin=-1,vmax=1)#,save='deg.pdf')"
   ]
  },
  {
   "cell_type": "code",
   "execution_count": null,
   "id": "d9f23666",
   "metadata": {},
   "outputs": [],
   "source": [
    "sc.pl.umap(adata_contrast,color=['leiden','Slc17a7','prev_ct'],cmap='coolwarm',ncols=2)"
   ]
  },
  {
   "cell_type": "code",
   "execution_count": null,
   "id": "3fec07cb",
   "metadata": {},
   "outputs": [],
   "source": [
    "adata_contrast.obsm['spatial']=np.array([adata_contrast.obs['x_centroid'],adata_contrast.obs['y_centroid']]).transpose()\n",
    "sc.pl.spatial(adata_contrast,color='leiden',spot_size=30,groups=['8','4'])"
   ]
  },
  {
   "cell_type": "markdown",
   "id": "f9554b3a",
   "metadata": {},
   "source": [
    "# Other stuff"
   ]
  },
  {
   "cell_type": "code",
   "execution_count": null,
   "id": "5f740d7e",
   "metadata": {},
   "outputs": [],
   "source": [
    "ssub=adatafilt.obs.loc[adatafilt.obs['n_counts']>500,:]"
   ]
  },
  {
   "cell_type": "code",
   "execution_count": null,
   "id": "a565fc6a",
   "metadata": {},
   "outputs": [],
   "source": [
    "ssub.sort_values(by='polarity_pc',ascending=False)['polarity_pc']"
   ]
  },
  {
   "cell_type": "code",
   "execution_count": null,
   "id": "e3584279",
   "metadata": {},
   "outputs": [],
   "source": [
    "for cidi in ssub.sort_values(by='polarity_pc',ascending=False)['cell_id'][0:10]:\n",
    "    polarity_visualizer(adatafilt,cell_id_sel=cidi,num=3,clust='leiden',gap=30)"
   ]
  },
  {
   "cell_type": "code",
   "execution_count": null,
   "id": "5eb12bc9",
   "metadata": {},
   "outputs": [],
   "source": [
    "polarity_visualizer(adatafilt,cell_id_sel='',num=3,clust='leiden',gap=30)"
   ]
  },
  {
   "cell_type": "code",
   "execution_count": null,
   "id": "e7221497",
   "metadata": {},
   "outputs": [],
   "source": [
    "plt.scatter(adatafilt.obs['polarity_pc'],adatafilt.obs['n_counts'],s=0.05)"
   ]
  },
  {
   "cell_type": "code",
   "execution_count": null,
   "id": "aeee5f7b",
   "metadata": {},
   "outputs": [],
   "source": [
    "nuc=adatafilt.uns['nuclear_expression']\n",
    "nuc.columns=nuc.columns+'_nuc'\n",
    "nuc=nuc.loc[nuc.index.isin(adatafilt.obs['cell_id']),:]\n",
    "cyt=adatafilt.uns['cytoplasmic_expression']\n",
    "cyt.columns=cyt.columns+'_cyt'\n",
    "cyt=cyt.loc[cyt.index.isin(adatafilt.obs['cell_id']),:]"
   ]
  },
  {
   "cell_type": "code",
   "execution_count": null,
   "id": "c34e1c93",
   "metadata": {},
   "outputs": [],
   "source": [
    "adata_double=sc.AnnData(pd.concat([nuc,cyt],axis=1))\n",
    "adata_double.obs=adatafilt.obs"
   ]
  },
  {
   "cell_type": "code",
   "execution_count": null,
   "id": "2e7067ce",
   "metadata": {},
   "outputs": [],
   "source": [
    "adata_double.raw=adata_double\n",
    "sc.pp.filter_cells(adata_double,min_counts=20)\n",
    "sc.pp.normalize_total(adata_double)\n",
    "sc.pp.log1p(adata_double)\n",
    "sc.pp.neighbors(adata_double)\n",
    "sc.tl.umap(adata_double)\n",
    "sc.tl.leiden(adata_double)"
   ]
  },
  {
   "cell_type": "code",
   "execution_count": null,
   "id": "07d654eb",
   "metadata": {},
   "outputs": [],
   "source": [
    "adata_double.obs['expression_leiden']=adatafilt.obs['leiden']"
   ]
  },
  {
   "cell_type": "code",
   "execution_count": null,
   "id": "cf75f03c",
   "metadata": {},
   "outputs": [],
   "source": [
    "sc.pl.umap(adata_double,color=['expression_leiden','leiden','nuc_proportion','nuc_and_cyt_proportion','cyt_proportion'],vmax='p99.9',cmap='viridis',s=2,ncols=2)"
   ]
  },
  {
   "cell_type": "code",
   "execution_count": null,
   "id": "6da5407a",
   "metadata": {},
   "outputs": [],
   "source": [
    "np.sum(adatafilt.uns['spots']['nucleus_distance']<)"
   ]
  },
  {
   "cell_type": "code",
   "execution_count": null,
   "id": "9164bdb6",
   "metadata": {},
   "outputs": [],
   "source": [
    "np.sum(np.sum(adatafilt.uns['spots']['overlaps_nucleus']==0))"
   ]
  },
  {
   "cell_type": "code",
   "execution_count": null,
   "id": "65083fbf",
   "metadata": {},
   "outputs": [],
   "source": [
    "np.sum(np.sum(adatafilt.uns['spots']['overlaps_nucleus']==1))"
   ]
  },
  {
   "cell_type": "code",
   "execution_count": null,
   "id": "0c85cb0e",
   "metadata": {},
   "outputs": [],
   "source": [
    "#plt.figure(figsize=(10,4))\n",
    "gr=adatafilt.obs.groupby('leiden').mean().loc[:,['nuc_counts','cyt_counts']]\n",
    "gr.plot(kind='bar',stacked=True,width=0.96,figsize=(10,4))"
   ]
  },
  {
   "cell_type": "code",
   "execution_count": null,
   "id": "5fc24072",
   "metadata": {},
   "outputs": [],
   "source": [
    "#plt.figure(figsize=(10,4))\n",
    "gr=adatafilt.obs.groupby('leiden').mean().loc[:,['nuc_and_cyt_genes_proportion','cyt_genes_proportion','nuc_genes_proportion']]\n",
    "gr.plot(kind='bar',stacked=True,width=0.96,figsize=(10,4))"
   ]
  },
  {
   "cell_type": "code",
   "execution_count": null,
   "id": "2c6206e4",
   "metadata": {},
   "outputs": [],
   "source": [
    "adatafilt.obsm['polarity'][adatafilt.raw.X<3]=np.nan\n",
    "adatafilt.obs['mean_polarization']=np.nanmean(adatafilt.obsm['polarity'],axis=1)\n",
    "adatafilt.obs['max_polarization']=np.nanmax(adatafilt.obsm['polarity'],axis=1)"
   ]
  },
  {
   "cell_type": "code",
   "execution_count": null,
   "id": "c98ff08f",
   "metadata": {
    "scrolled": false
   },
   "outputs": [],
   "source": [
    "sc.pl.umap(adatafilt,color=['leiden','mean_polarization','max_polarization'],vmax='p99.9',cmap='viridis',s=7,ncols=2)"
   ]
  },
  {
   "cell_type": "code",
   "execution_count": null,
   "id": "a5b4593d",
   "metadata": {},
   "outputs": [],
   "source": [
    "sc.tl.rank_genes_groups(adatafilt, groupby='leiden', method='wilcoxon')\n",
    "sc.pl.rank_genes_groups_dotplot(adatafilt, n_genes=2, swap_axes=False)#,save='deg.pdf')"
   ]
  },
  {
   "cell_type": "code",
   "execution_count": null,
   "id": "e633b707",
   "metadata": {},
   "outputs": [],
   "source": [
    "adatafilt.obsm['spatial']=np.array([adatafilt.obs['x_centroid'],adatafilt.obs['y_centroid']]).transpose()"
   ]
  },
  {
   "cell_type": "code",
   "execution_count": null,
   "id": "aecdabf2",
   "metadata": {},
   "outputs": [],
   "source": [
    "sc.set_figure_params(scanpy=True, dpi=150,figsize=(6,6))\n",
    "plt.rcParams['figure.facecolor'] = 'white'\n",
    "sc.pl.spatial(adatafilt,color='leiden',spot_size=50,vmax=5)"
   ]
  },
  {
   "cell_type": "code",
   "execution_count": null,
   "id": "4ac5350e",
   "metadata": {},
   "outputs": [],
   "source": [
    "sc.set_figure_params(scanpy=True, dpi=150,figsize=(6,6))\n",
    "plt.rcParams['figure.facecolor'] = 'white'\n",
    "sc.pl.spatial(adatafilt,color='cell_area',spot_size=20,vmax='p99')"
   ]
  },
  {
   "cell_type": "code",
   "execution_count": null,
   "id": "09fc6ee5",
   "metadata": {},
   "outputs": [],
   "source": [
    "adatapolarization=adatapolarization[:,adatapolarization.var.index[np.sum(adatapolarization.X>0,axis=0)>200]]"
   ]
  },
  {
   "cell_type": "code",
   "execution_count": null,
   "id": "d66ee3e6",
   "metadata": {},
   "outputs": [],
   "source": [
    "adatapolarization"
   ]
  },
  {
   "cell_type": "code",
   "execution_count": null,
   "id": "ffc413ab",
   "metadata": {
    "scrolled": false
   },
   "outputs": [],
   "source": [
    "sc.pl.heatmap(adatapolarization,adatapolarization.var.index,groupby='leiden',vmax=5,use_raw=False)"
   ]
  },
  {
   "cell_type": "code",
   "execution_count": null,
   "id": "c0010635",
   "metadata": {},
   "outputs": [],
   "source": [
    "cells=adatafilt.uns['spots']['cell_id'].unique()\n",
    "feats=adatafilt.uns['spots']['feature_name'].unique()\n",
    "positiondict=dict(zip(list(feats),range(0,len(feats))))\n",
    "resarray=np.zeros([len(cells),len(feats)])\n",
    "resx=np.zeros([len(cells),len(feats)])\n",
    "resy=np.zeros([len(cells),len(feats)])\n",
    "id2x2=dict(zip(adatafilt.obs['cell_id'],adatafilt.obs['x_centroid']))\n",
    "id2y2=dict(zip(adatafilt.obs['cell_id'],adatafilt.obs['y_centroid']))\n",
    "ee=0\n",
    "cell_ids=[]"
   ]
  },
  {
   "cell_type": "code",
   "execution_count": null,
   "id": "d543001e",
   "metadata": {},
   "outputs": [],
   "source": [
    "periall=[]\n",
    "ecceall=[]\n",
    "circuall=[]\n",
    "idisall=[]\n",
    "for g,a in tqdm(adatafilt.uns['spots'].groupby('cell_id')):\n",
    "    try:\n",
    "        peri,eccentricity,circularity=morphology_characteristics(points=a)\n",
    "        periall.append(peri)\n",
    "        ecceall.append(eccentricity)\n",
    "        circuall.append(circularity)\n",
    "        idisall.append(g)\n",
    "    except:\n",
    "        periall.append('nan')\n",
    "        ecceall.append('nan')\n",
    "        circuall.append('nan')\n",
    "        idisall.append(g)"
   ]
  },
  {
   "cell_type": "code",
   "execution_count": null,
   "id": "db90ae77",
   "metadata": {},
   "outputs": [],
   "source": [
    "id2peri=dict(zip(idisall,periall))\n",
    "id2ecc=dict(zip(idisall,ecceall))\n",
    "id2circu=dict(zip(idisall,circuall))"
   ]
  },
  {
   "cell_type": "code",
   "execution_count": null,
   "id": "32a45467",
   "metadata": {},
   "outputs": [],
   "source": [
    "adatafilt.obs['perimeter']=adatafilt.obs['cell_id'].map(id2peri)\n",
    "adatafilt.obs['eccentricity']=adatafilt.obs['cell_id'].map(id2ecc)\n",
    "adatafilt.obs['circularity']=adatafilt.obs['cell_id'].map(id2circu)"
   ]
  },
  {
   "cell_type": "code",
   "execution_count": null,
   "id": "44d2d58f",
   "metadata": {},
   "outputs": [],
   "source": [
    "adatafilt=adatafilt[adatafilt.obs['perimeter']!='nan']\n",
    "adatafilt=adatafilt[~adatafilt.obs['perimeter'].isna()]"
   ]
  },
  {
   "cell_type": "code",
   "execution_count": null,
   "id": "9e8e9d33",
   "metadata": {},
   "outputs": [],
   "source": [
    "adatafilt.obs['perimeter']=adatafilt.obs['perimeter'].astype(float)\n",
    "adatafilt.obs['eccentricity']=adatafilt.obs['eccentricity'].astype(float)\n",
    "adatafilt.obs['circularity']=adatafilt.obs['circularity'].astype(float)"
   ]
  },
  {
   "cell_type": "code",
   "execution_count": null,
   "id": "a1870846",
   "metadata": {},
   "outputs": [],
   "source": [
    "sc.set_figure_params(scanpy=True, dpi=80, dpi_save=150, frameon=True, vector_friendly=True, fontsize=14, figsize=(15,15), color_map=None, format='pdf', facecolor=None, transparent=False, ipython_format='png2x')\n",
    "sc.pl.spatial(adatafilt,color='circularity',spot_size=20,vmax='p99')"
   ]
  },
  {
   "cell_type": "markdown",
   "id": "c12c822c",
   "metadata": {},
   "source": [
    "# Trajectories"
   ]
  },
  {
   "cell_type": "code",
   "execution_count": null,
   "id": "a51a256a",
   "metadata": {},
   "outputs": [],
   "source": [
    "sc.pl.umap(adatafilt,color=['Pdgfra','Sox10','leiden'],vmax='p99.9',cmap='viridis',s=2,ncols=2)"
   ]
  },
  {
   "cell_type": "code",
   "execution_count": null,
   "id": "a3b36be4",
   "metadata": {},
   "outputs": [],
   "source": [
    "adatasub=adatafilt[adatafilt.obs['leiden'].isin(['0','16'])].copy()"
   ]
  },
  {
   "cell_type": "code",
   "execution_count": null,
   "id": "e075f6aa",
   "metadata": {},
   "outputs": [],
   "source": [
    "sc.pp.neighbors(adatasub)\n",
    "sc.tl.paga(adatasub)\n",
    "sc.pl.paga(adatasub,color='leiden',threshold=0.01)\n",
    "sc.tl.umap(adatasub)\n",
    "sc.pl.umap(adatasub,color='leiden')"
   ]
  },
  {
   "cell_type": "code",
   "execution_count": null,
   "id": "ce2295fb",
   "metadata": {},
   "outputs": [],
   "source": [
    "sc.pl.spatial(adatasub,color='leiden',spot_size=25)\n",
    "adatasub.uns['iroot'] = np.flatnonzero(adatasub.obs['leiden']  == '16')[0]\n",
    "sc.tl.dpt(adatasub)"
   ]
  },
  {
   "cell_type": "code",
   "execution_count": null,
   "id": "b6c3bf9c",
   "metadata": {},
   "outputs": [],
   "source": [
    "sc.pl.umap(adatasub,color=['dpt_pseudotime','leiden'])"
   ]
  },
  {
   "cell_type": "code",
   "execution_count": null,
   "id": "e5b69b90",
   "metadata": {},
   "outputs": [],
   "source": [
    "expre=adatasub.to_df()\n",
    "expre['dpt_pseudotime']=adatasub.obs['dpt_pseudotime']\n",
    "sorted_ind=expre.loc[expre['dpt_pseudotime'].sort_values().index,:]\n",
    "sorted_ind=sorted_ind.loc[:,np.max(sorted_ind,axis=0)>2]"
   ]
  },
  {
   "cell_type": "code",
   "execution_count": null,
   "id": "712ae844",
   "metadata": {},
   "outputs": [],
   "source": [
    "mag=sorted_ind.loc[:,:].transpose()\n",
    "mag=mag.div(mag.max(axis=1),axis=0)\n",
    "plt.figure(figsize=(15,8))\n",
    "sns.heatmap(mag)"
   ]
  },
  {
   "cell_type": "code",
   "execution_count": null,
   "id": "78cfb2e9",
   "metadata": {},
   "outputs": [],
   "source": [
    "sorted_ind=adatasub.obs.loc[adatasub.obs['dpt_pseudotime'].sort_values().index,:]\n",
    "mag=sorted_ind.loc[:,magnitudes].transpose()\n",
    "mag=mag.div(mag.max(axis=1),axis=0)\n",
    "plt.figure(figsize=(15,8))\n",
    "sns.heatmap(mag)"
   ]
  },
  {
   "cell_type": "markdown",
   "id": "f9e4d856",
   "metadata": {},
   "source": [
    "# Morphology related metrics"
   ]
  },
  {
   "cell_type": "code",
   "execution_count": null,
   "id": "d55ed01f",
   "metadata": {},
   "outputs": [],
   "source": [
    "def define_cell_polarities(adatafilt):\n",
    "    cells=adatafilt.uns['spots']['cell_id'].unique()\n",
    "    feats=adatafilt.uns['spots']['feature_name'].unique()\n",
    "    positiondict=dict(zip(list(feats),range(0,len(feats))))\n",
    "    resarray=np.zeros([len(cells),len(feats)])\n",
    "    resx=np.zeros([len(cells),len(feats)])\n",
    "    resy=np.zeros([len(cells),len(feats)])\n",
    "    id2x2=dict(zip(adatafilt.obs['cell_id'],adatafilt.obs['x_centroid']))\n",
    "    id2y2=dict(zip(adatafilt.obs['cell_id'],adatafilt.obs['y_centroid']))\n",
    "    ee=0\n",
    "    cell_ids=[]\n",
    "    for a,g in tqdm(adatafilt.uns['spots'].groupby('cell_id')):\n",
    "        xcell=id2x2[a]\n",
    "        ycell=id2y2[a]\n",
    "        ii=0\n",
    "        meang=g.groupby('feature_name').mean()\n",
    "        meang['polarity']=np.sqrt((meang['x_location']-xcell)**2+(meang['y_location']-ycell)**2)\n",
    "        #dici=dict(zip(meang.index,meang['nucleus_distance']))\n",
    "        resarray[ee,list(meang.index.map(positiondict))]=meang['polarity']\n",
    "        resx[ee,list(meang.index.map(positiondict))]=meang['x_location']-xcell\n",
    "        resy[ee,list(meang.index.map(positiondict))]=meang['y_location']-ycell\n",
    "        ee=ee+1\n",
    "        cell_ids.append(a)\n",
    "    polarity=pd.DataFrame(resarray,index=cell_ids,columns=feats)\n",
    "    xgene=pd.DataFrame(resx,index=cell_ids,columns=feats)\n",
    "    ygene=pd.DataFrame(resy,index=cell_ids,columns=feats)\n",
    "    adatafilt.obsm['polarity']=polarity.loc[adatafilt.obs['cell_id'],:]\n",
    "    adatafilt.obsm['polarity']=adatafilt.obsm['polarity'].loc[:,adatafilt.var['gene_id']]\n",
    "    adatafilt.obsm['xgene']=xgene.loc[adatafilt.obs['cell_id'],:]\n",
    "    adatafilt.obsm['xgene']=adatafilt.obsm['xgene'].loc[:,adatafilt.var['gene_id']]\n",
    "    adatafilt.obsm['ygene']=ygene.loc[adatafilt.obs['cell_id'],:]\n",
    "    adatafilt.obsm['ygene']=adatafilt.obsm['ygene'].loc[:,adatafilt.var['gene_id']]\n",
    "    adatafilt.obsm['polarity'][adatafilt.obsm['polarity']==0]=np.nan\n",
    "    adatafilt.obs['mean_polarity']=np.mean(adatafilt.obsm['polarity'],axis=1)\n",
    "    adatafilt.obs['max_polarity']=np.max(adatafilt.obsm['polarity'],axis=1)\n",
    "    return adatafilt"
   ]
  },
  {
   "cell_type": "markdown",
   "id": "f09f2743",
   "metadata": {},
   "source": [
    "# True interactions"
   ]
  },
  {
   "cell_type": "code",
   "execution_count": null,
   "id": "b0bb49cf",
   "metadata": {},
   "outputs": [],
   "source": [
    "adatafilt=reliable_polarity(adatafilt,radius=50)\n",
    "adatapolarization.obs['reliable_polarity']=adatafilt.obs['reliable_polarity']"
   ]
  },
  {
   "cell_type": "code",
   "execution_count": null,
   "id": "f0efbab5",
   "metadata": {},
   "outputs": [],
   "source": [
    "sc.pl.umap(adatafilt,color='reliable_polarity')"
   ]
  },
  {
   "cell_type": "code",
   "execution_count": null,
   "id": "1a6746d1",
   "metadata": {},
   "outputs": [],
   "source": [
    "cop=adatapolarization[adatapolarization.obs['good_interaction']=='yes'].copy()"
   ]
  },
  {
   "cell_type": "code",
   "execution_count": null,
   "id": "89dbaab6",
   "metadata": {},
   "outputs": [],
   "source": [
    "comatrix=cop.to_df()"
   ]
  },
  {
   "cell_type": "code",
   "execution_count": null,
   "id": "c99ea67b",
   "metadata": {},
   "outputs": [],
   "source": [
    "pd.DataFrame(np.nanmax(comatrix,axis=0),index=comatrix.columns).sort_values(by=0)"
   ]
  },
  {
   "cell_type": "code",
   "execution_count": null,
   "id": "d0a48744",
   "metadata": {
    "scrolled": true
   },
   "outputs": [],
   "source": [
    "for cell_id in cop.obs.sort_values(by='max_polarization',ascending=False).loc[:,['max_polarization']].head(70).index:\n",
    "    polarity_visualizer(adatafilt,cell_id_sel=cell_id,num=4)"
   ]
  },
  {
   "cell_type": "markdown",
   "id": "62af86d1",
   "metadata": {},
   "source": [
    "# Featurize, but only using extracellular reads in this case"
   ]
  },
  {
   "cell_type": "code",
   "execution_count": null,
   "id": "e7bb0b2d",
   "metadata": {},
   "outputs": [],
   "source": [
    "sc.pp.subsample(adatafilt,0.1)"
   ]
  },
  {
   "cell_type": "code",
   "execution_count": null,
   "id": "04d2aa44",
   "metadata": {},
   "outputs": [],
   "source": [
    "adatafilt.uns['spots']['feature_name']=adatafilt.uns['spots']['feature_name'].replace('_','')\n",
    "adatafilt.uns['spots']['cell_id']=adatafilt.uns['spots']['cell_id'].replace('_','')"
   ]
  },
  {
   "cell_type": "code",
   "execution_count": null,
   "id": "8b599641",
   "metadata": {},
   "outputs": [],
   "source": [
    "adatafilt.var"
   ]
  },
  {
   "cell_type": "code",
   "execution_count": null,
   "id": "d28d77dd",
   "metadata": {},
   "outputs": [],
   "source": [
    "adatafilt.uns['spots']=adatafilt.uns['spots'][adatafilt.uns['spots']['feature_name'].isin(list(adatafilt.var.loc[adatafilt.var['in_panel']=='gene','gene_id']))]"
   ]
  },
  {
   "cell_type": "code",
   "execution_count": null,
   "id": "f261c62d",
   "metadata": {},
   "outputs": [],
   "source": [
    "adataneigh=subcellular_featurization(adatafilt,knn=3)"
   ]
  },
  {
   "cell_type": "markdown",
   "id": "c04ffd4f",
   "metadata": {},
   "source": [
    "pip install libpysal\n",
    "pip install contextily"
   ]
  },
  {
   "cell_type": "code",
   "execution_count": null,
   "id": "23542ddd",
   "metadata": {},
   "outputs": [],
   "source": [
    "adataneigh.raw=adataneigh\n",
    "#sc.pp.filter_cells(adatafilt,min_counts=20)\n",
    "sc.pp.normalize_total(adataneigh)\n",
    "sc.pp.log1p(adataneigh)\n",
    "sc.pp.neighbors(adataneigh)\n",
    "sc.tl.umap(adataneigh)"
   ]
  },
  {
   "cell_type": "code",
   "execution_count": null,
   "id": "2fe2704f",
   "metadata": {},
   "outputs": [],
   "source": [
    "sc.tl.leiden(adataneigh,key_added='neigh_leiden')\n",
    "sc.pl.umap(adataneigh,color=['neigh_leiden'],vmax='p99.9',cmap='viridis',s=7,ncols=2)"
   ]
  },
  {
   "cell_type": "code",
   "execution_count": null,
   "id": "5f7bc46f",
   "metadata": {
    "scrolled": true
   },
   "outputs": [],
   "source": [
    "#adataneigh.obs['cell_id']=input_df['cell_id'].unique()"
   ]
  },
  {
   "cell_type": "code",
   "execution_count": null,
   "id": "8915a7aa",
   "metadata": {},
   "outputs": [],
   "source": [
    "adataneigh.write('/media/sergio/Meninges/unprocessed_adata/dev_HE27a_EdgeClust_pcw6_extracellular.h5ad')"
   ]
  },
  {
   "cell_type": "code",
   "execution_count": null,
   "id": "1f856953",
   "metadata": {},
   "outputs": [],
   "source": [
    "adataneigh.write('/media/sergio/Meninges/unprocessed_adata/dev_HE27a_EdgeClust_pcw6_extracellular.h5ad')"
   ]
  },
  {
   "cell_type": "code",
   "execution_count": null,
   "id": "9f8642ae",
   "metadata": {},
   "outputs": [],
   "source": [
    "sc.pp.filter_cells(adataneigh,min_genes=2)\n",
    "sc.pp.filter_cells(adataneigh,min_counts=1)\n",
    "sc.pp.filter_genes(adataneigh,min_cells=5)\n",
    "adataneigh.layers['raw']=adataneigh.X\n",
    "sc.pp.normalize_total(adataneigh)\n",
    "sc.pp.log1p(adataneigh)\n",
    "sc.pp.pca(adataneigh)\n",
    "sc.pp.neighbors(adataneigh,n_pcs=40,n_neighbors=8)\n",
    "sc.tl.umap(adataneigh,min_dist=0.05)\n",
    "sc.tl.leiden(adataneigh,resolution=1.2)"
   ]
  },
  {
   "cell_type": "code",
   "execution_count": null,
   "id": "44379709",
   "metadata": {},
   "outputs": [],
   "source": [
    "sc.pl.umap(adataneigh,color='leiden')"
   ]
  },
  {
   "cell_type": "code",
   "execution_count": null,
   "id": "d618747c",
   "metadata": {},
   "outputs": [],
   "source": [
    "expression=pd.crosstab(tr2['cell_id'],tr2['feature_name'])"
   ]
  },
  {
   "cell_type": "code",
   "execution_count": null,
   "id": "3320bec9",
   "metadata": {},
   "outputs": [],
   "source": [
    "adata_exp=sc.AnnData(expression)\n",
    "adata_exp=adata_exp[adataneigh.obs.index]"
   ]
  },
  {
   "cell_type": "code",
   "execution_count": null,
   "id": "ddbeb15b",
   "metadata": {},
   "outputs": [],
   "source": [
    "adata_exp.obs['total_counts']=np.sum(adata_exp.X,axis=1)"
   ]
  },
  {
   "cell_type": "code",
   "execution_count": null,
   "id": "1a45c7de",
   "metadata": {},
   "outputs": [],
   "source": [
    "perc=pd.DataFrame(adata_exp.X).div(list(adata_exp.obs['total_counts']),axis=0)"
   ]
  },
  {
   "cell_type": "code",
   "execution_count": null,
   "id": "e5871b00",
   "metadata": {},
   "outputs": [],
   "source": [
    "adata_expected=adata_exp.copy()"
   ]
  },
  {
   "cell_type": "code",
   "execution_count": null,
   "id": "ff08a4e7",
   "metadata": {},
   "outputs": [],
   "source": [
    "=(perc*perc).mul(list(adata_exp.obs['total_counts']),axis=0)"
   ]
  },
  {
   "cell_type": "code",
   "execution_count": null,
   "id": "440f30a2",
   "metadata": {},
   "outputs": [],
   "source": [
    "adata_ref=sc.read('/media/sergio/Meninges/nuclei_adata/adata_dev_meninges_he27_pcw6_with_10xclusters_annotation.h5ad')"
   ]
  },
  {
   "cell_type": "code",
   "execution_count": null,
   "id": "b0d8c8a8",
   "metadata": {},
   "outputs": [],
   "source": [
    "adata_ref2=adata_ref[adata_ref.obs['replicate']=='dev_HE27a']"
   ]
  },
  {
   "cell_type": "code",
   "execution_count": null,
   "id": "7c95472f",
   "metadata": {},
   "outputs": [],
   "source": [
    "id2ct=dict(zip(adata_ref2.obs['cell_id'],adata_ref2.obs['cell types']))"
   ]
  },
  {
   "cell_type": "code",
   "execution_count": null,
   "id": "47b552ee",
   "metadata": {},
   "outputs": [],
   "source": [
    "adataneigh.obs['cell_id']=adataneigh.obs.index"
   ]
  },
  {
   "cell_type": "code",
   "execution_count": null,
   "id": "eed23c0c",
   "metadata": {},
   "outputs": [],
   "source": [
    "adataneigh.obs['cell type']=adataneigh.obs['cell_id'].map(id2ct)"
   ]
  },
  {
   "cell_type": "code",
   "execution_count": null,
   "id": "36e7a7ee",
   "metadata": {},
   "outputs": [],
   "source": [
    "adata_mesenchymal=sc.read('/media/sergio/Meninges/nuclei_adata/adata_dev_meninges_with10xclusters_he24_pcw6_mesenchymal.h5ad')\n",
    "adata_mesenchymal=adata_mesenchymal[adata_mesenchymal.obs['replicate']=='dev_HE27a']"
   ]
  },
  {
   "cell_type": "code",
   "execution_count": null,
   "id": "3c8d21c5",
   "metadata": {},
   "outputs": [],
   "source": [
    "id2ctmes=dict(zip(adata_mesenchymal.obs['cell_id'],adata_mesenchymal.obs['leiden_2_0_sel']))\n",
    "adataneigh.obs['mes_ct']=adataneigh.obs['cell_id'].map(id2ctmes)"
   ]
  },
  {
   "cell_type": "code",
   "execution_count": null,
   "id": "f3ad6186",
   "metadata": {},
   "outputs": [],
   "source": [
    "adata_neural=sc.read('/media/sergio/Meninges/nuclei_adata/adata_dev_meninges_with10xclusters_he24_pcw6_neural.h5ad')\n",
    "adata_neural=adata_neural[adata_neural.obs['replicate']=='dev_HE27a']"
   ]
  },
  {
   "cell_type": "code",
   "execution_count": null,
   "id": "5dc8e345",
   "metadata": {},
   "outputs": [],
   "source": [
    "id2ctneu=dict(zip(adata_neural.obs['cell_id'],adata_neural.obs['leiden_2_0_sel']))\n",
    "adataneigh.obs['neu_ct']=adataneigh.obs['cell_id'].map(id2ctneu)"
   ]
  },
  {
   "cell_type": "code",
   "execution_count": null,
   "id": "0fddfde7",
   "metadata": {},
   "outputs": [],
   "source": [
    "adataneigh.obs['cell type']=adataneigh.obs['cell_id'].map(id2ct)"
   ]
  },
  {
   "cell_type": "code",
   "execution_count": null,
   "id": "99df1212",
   "metadata": {},
   "outputs": [],
   "source": [
    "adataneigh.write('/media/sergio/Meninges/unprocessed_adata/dev_HE27a_EdgeClust_processed.h5ad')"
   ]
  },
  {
   "cell_type": "code",
   "execution_count": null,
   "id": "b7c6fadc",
   "metadata": {},
   "outputs": [],
   "source": [
    "adataneigh=sc.read('/media/sergio/Meninges/unprocessed_adata/dev_HE27a_EdgeClust_processed.h5ad')"
   ]
  },
  {
   "cell_type": "code",
   "execution_count": null,
   "id": "a466c885",
   "metadata": {},
   "outputs": [],
   "source": [
    "id2subcelclust=dict(zip(adataneigh.obs['cell_id'],adataneigh.obs['leiden']))"
   ]
  },
  {
   "cell_type": "code",
   "execution_count": null,
   "id": "287576ab",
   "metadata": {},
   "outputs": [],
   "source": [
    "adata_ref2.obs['subcellular_cluster']=adata_ref2.obs['cell_id'].map(id2subcelclust)"
   ]
  },
  {
   "cell_type": "code",
   "execution_count": null,
   "id": "ac248b76",
   "metadata": {},
   "outputs": [],
   "source": [
    "adata_ref2"
   ]
  },
  {
   "cell_type": "code",
   "execution_count": null,
   "id": "8f89fd65",
   "metadata": {},
   "outputs": [],
   "source": [
    "id2x=dict(zip(adata_ref2.obs['cell_id'],adata_ref2.obs['x_centroid']))\n",
    "id2y=dict(zip(adata_ref2.obs['cell_id'],adata_ref2.obs['y_centroid']))"
   ]
  },
  {
   "cell_type": "code",
   "execution_count": null,
   "id": "7f7a0abe",
   "metadata": {},
   "outputs": [],
   "source": [
    "adataneigh.obs['x_centroid']=adataneigh.obs['cell_id'].map(id2x)\n",
    "adataneigh.obs['y_centroid']=adataneigh.obs['cell_id'].map(id2y)"
   ]
  },
  {
   "cell_type": "code",
   "execution_count": null,
   "id": "a05e707c",
   "metadata": {},
   "outputs": [],
   "source": [
    "#adataneigh2=adataneigh[adataneigh.obs['leiden'].isin(['10','18','1','16','15','28','5','28','24','40','0'])]\n",
    "adataneigh2=adataneigh[adataneigh.obs['leiden'].isin(['31','34','23','7','12','44'])]\n"
   ]
  },
  {
   "cell_type": "code",
   "execution_count": null,
   "id": "6c827898",
   "metadata": {},
   "outputs": [],
   "source": [
    "sc.pl.umap(adataneigh2,color=['dpt_pseudotime','leiden'])"
   ]
  },
  {
   "cell_type": "code",
   "execution_count": null,
   "id": "79160852",
   "metadata": {},
   "outputs": [],
   "source": [
    "sc.pp.log1p(adataneigh2)\n",
    "sc.tl.rank_genes_groups(adataneigh2,groupby='leiden')\n",
    "sc.pl.rank_genes_groups(adataneigh2,fontsize=20,n_genes=10)"
   ]
  },
  {
   "cell_type": "code",
   "execution_count": null,
   "id": "c8766c0e",
   "metadata": {},
   "outputs": [],
   "source": [
    "paths = [('path1', ['31','7','12']),\n",
    "         ('path2', ['31','34','23'])]"
   ]
  },
  {
   "cell_type": "code",
   "execution_count": null,
   "id": "3b7e2a0d",
   "metadata": {},
   "outputs": [],
   "source": [
    "GENES=['SOX9_EMX2','TOP2A_EMX2','EMX2_SOX2','HMGCS1_MOXD1','NTRK2_HMGCS1','NTRK2_TOP2A','TRPM3_PAX6','PAX6_COL2A1','RSPO2_RSPO3',\n",
    "'RSPO3_EMX2','OTX2_TRPM3','LMX1A_TRPM3','ACTG2_HMGCS1']"
   ]
  },
  {
   "cell_type": "code",
   "execution_count": null,
   "id": "534653e9",
   "metadata": {
    "scrolled": false
   },
   "outputs": [],
   "source": [
    "_, axs = plt.subplots(ncols=2, figsize=(6, 2.5), gridspec_kw={'wspace': 0.05, 'left': 0.12})\n",
    "plt.subplots_adjust(left=0.05, right=0.98, top=0.82, bottom=0.2)\n",
    "for ipath, (descr, path) in enumerate(paths):\n",
    "    pp, data = sc.pl.paga_path(\n",
    "        adataneigh2, path, GENES,\n",
    "        show_node_names=False,\n",
    "        ax=axs[ipath],\n",
    "        ytick_fontsize=12,\n",
    "        left_margin=0.15,\n",
    "        n_avg=50,\n",
    "        annotations=['dpt_pseudotime'],\n",
    "        show_yticks=True if ipath==0 else False,\n",
    "        show_colorbar=False,\n",
    "        color_map='Greys',\n",
    "        groups_key='leiden',\n",
    "        color_maps_annotations={'dpt_pseudotime': 'viridis'},\n",
    "        title='{} path'.format(descr),\n",
    "        return_data=True,\n",
    "        show=False)\n",
    "    \n",
    "    plt.show()\n",
    "    datas=data.sort_values(by='distance')\n",
    "    plt.figure()\n",
    "    sns.clustermap(datas.iloc[:,:-2].transpose(),col_cluster=False,row_cluster=False,cmap='Greys',col_colors=datas['groups'].astype(int).astype(str).map(dictcol),figsize=(8,10))\n",
    "    plt.show()\n",
    "#    data.to_csv('./write/paga_path_{}.csv'.format(descr))\n",
    "#pl.savefig('./figures/paga_path_paul15.pdf')\n",
    "#plt.show()\n"
   ]
  },
  {
   "cell_type": "markdown",
   "id": "0ea9f628",
   "metadata": {},
   "source": [
    "# Subcellular_clustering_score"
   ]
  },
  {
   "cell_type": "code",
   "execution_count": null,
   "id": "8be4077f",
   "metadata": {},
   "outputs": [],
   "source": [
    "adataneigh=sc.read('/media/sergio/Meninges/unprocessed_adata/dev_HE27a_EdgeClust_processed.h5ad')"
   ]
  },
  {
   "cell_type": "code",
   "execution_count": null,
   "id": "1355708d",
   "metadata": {},
   "outputs": [],
   "source": [
    "gens=np.unique([a.split('_')[0] for a in adataneigh.var.index])"
   ]
  },
  {
   "cell_type": "code",
   "execution_count": null,
   "id": "428a13bc",
   "metadata": {},
   "outputs": [],
   "source": [
    "op1=[a.split('_')[0] for a in adataneigh.var.index]\n",
    "op2=[a.split('_')[1] for a in adataneigh.var.index]"
   ]
  },
  {
   "cell_type": "code",
   "execution_count": null,
   "id": "a5aed43e",
   "metadata": {},
   "outputs": [],
   "source": [
    "adatasol=adataneigh[:,adataneigh.var.index.isin(allself)].copy()"
   ]
  },
  {
   "cell_type": "code",
   "execution_count": null,
   "id": "eb46b635",
   "metadata": {},
   "outputs": [],
   "source": [
    "adatasol.var.index=[el.split('_')[0] for el in adatasol.var.index]"
   ]
  },
  {
   "cell_type": "code",
   "execution_count": null,
   "id": "1d4cae0f",
   "metadata": {},
   "outputs": [],
   "source": [
    "adata_ref=sc.read('/media/sergio/Meninges/nuclei_adata/dev_HE24-Men.h5ad')"
   ]
  },
  {
   "cell_type": "code",
   "execution_count": null,
   "id": "3b679db7",
   "metadata": {},
   "outputs": [],
   "source": [
    "adata_ref.var.index=adata_ref.var['feature_name']"
   ]
  },
  {
   "cell_type": "code",
   "execution_count": null,
   "id": "44587ce1",
   "metadata": {},
   "outputs": [],
   "source": [
    "adata_ref=adata_ref[:,adatasol.var.index]"
   ]
  },
  {
   "cell_type": "code",
   "execution_count": null,
   "id": "017ca31b",
   "metadata": {},
   "outputs": [],
   "source": [
    "adatasol=adatasol[adatasol.obs.index.isin(adata_ref.obs.index),:]\n",
    "adata_ref=adata_ref[adata_ref.obs.index.isin(adatasol.obs.index),:]\n",
    "adatasol=adatasol[adata_ref.obs.index,:]"
   ]
  },
  {
   "cell_type": "code",
   "execution_count": null,
   "id": "24feb0b7",
   "metadata": {},
   "outputs": [],
   "source": [
    "adatasol.shape"
   ]
  },
  {
   "cell_type": "code",
   "execution_count": null,
   "id": "c543101f",
   "metadata": {},
   "outputs": [],
   "source": [
    "adata_ref.shape"
   ]
  },
  {
   "cell_type": "code",
   "execution_count": null,
   "id": "4991035f",
   "metadata": {},
   "outputs": [],
   "source": [
    "adatamoon=adatasol.copy()"
   ]
  },
  {
   "cell_type": "code",
   "execution_count": null,
   "id": "4ae34c3c",
   "metadata": {},
   "outputs": [],
   "source": [
    "adatamoon.X=adatasol.X/((adata_ref.X)+1)"
   ]
  },
  {
   "cell_type": "code",
   "execution_count": null,
   "id": "7166c0eb",
   "metadata": {},
   "outputs": [],
   "source": [
    "adata_ref.obsm['X_umap']=adatamoon.obsm['X_umap']"
   ]
  },
  {
   "cell_type": "code",
   "execution_count": null,
   "id": "2b2f38d7",
   "metadata": {},
   "outputs": [],
   "source": [
    "adata_ref.obs['cell type']=adatamoon.obs['cell type']"
   ]
  },
  {
   "cell_type": "code",
   "execution_count": null,
   "id": "1e4bd289",
   "metadata": {},
   "outputs": [],
   "source": [
    "sc.pl.dotplot(adata_ref,adata_ref.var.index[0:50],groupby='cell type')"
   ]
  },
  {
   "cell_type": "code",
   "execution_count": null,
   "id": "c0484d87",
   "metadata": {
    "scrolled": true
   },
   "outputs": [],
   "source": [
    "sc.pl.dotplot(adatamoon,adatamoon.var.index,groupby='cell type',swap_axes=True)"
   ]
  },
  {
   "cell_type": "code",
   "execution_count": null,
   "id": "ac58cf02",
   "metadata": {},
   "outputs": [],
   "source": [
    "sc.set_figure_params(scanpy=True, dpi=80, dpi_save=150, frameon=True, vector_friendly=True, fontsize=14, figsize=(5,5), color_map=None, format='pdf', facecolor=None, transparent=False, ipython_format='png2x')\n",
    "g='FOLR1'\n",
    "sc.pl.umap(adatamoon,color=[g,'cell type'],vmax='p99',legend_loc='on data',legend_fontsize=5)\n",
    "sc.pl.umap(adata_ref,color=[g],vmax='p99')\n",
    "sc.pl.dotplot(adatamoon,[g],groupby='cell type',swap_axes=True)\n",
    "sc.pl.dotplot(adata_ref,[g],groupby='cell type',swap_axes=True)"
   ]
  },
  {
   "cell_type": "code",
   "execution_count": null,
   "id": "386fc49b",
   "metadata": {},
   "outputs": [],
   "source": [
    "sc.set_figure_params(scanpy=True, dpi=80, dpi_save=150, frameon=True, vector_friendly=True, fontsize=14, figsize=(5,5), color_map=None, format='pdf', facecolor=None, transparent=False, ipython_format='png2x')\n",
    "g='THBS2'\n",
    "sc.pl.umap(adatamoon,color=[g,'cell type'],vmax='p99',legend_loc='on data',legend_fontsize=5)\n",
    "sc.pl.umap(adata_ref,color=[g],vmax='p99')\n",
    "sc.pl.dotplot(adatamoon,[g],groupby='cell type',swap_axes=True)\n",
    "sc.pl.dotplot(adata_ref,[g],groupby='cell type',swap_axes=True)"
   ]
  },
  {
   "cell_type": "code",
   "execution_count": null,
   "id": "1f349847",
   "metadata": {},
   "outputs": [],
   "source": [
    "sc.pl.dotplot(adatamoon,adatamoon.var.index[100:200],groupby='cell type')"
   ]
  },
  {
   "cell_type": "code",
   "execution_count": null,
   "id": "29f10d06",
   "metadata": {},
   "outputs": [],
   "source": [
    "sc.pl.umap(adatamoon,color='cell type',legend_loc='on data',legend_fontsize=4)"
   ]
  },
  {
   "cell_type": "code",
   "execution_count": null,
   "id": "342675e6",
   "metadata": {},
   "outputs": [],
   "source": [
    "adatamoon.layers['raw']=adatamoon.X"
   ]
  },
  {
   "cell_type": "code",
   "execution_count": null,
   "id": "e2f3e12e",
   "metadata": {},
   "outputs": [],
   "source": [
    "\n",
    "sc.tl.rank_genes_groups(adatamoon,groupby='cell type')\n",
    "sc.pl.rank_genes_groups(adatamoon,fontsize=20,n_genes=4)"
   ]
  },
  {
   "cell_type": "code",
   "execution_count": null,
   "id": "aa7ded4c",
   "metadata": {},
   "outputs": [],
   "source": [
    "sc.set_figure_params(scanpy=True, dpi=80, dpi_save=150, frameon=True, vector_friendly=True, fontsize=14, figsize=(15,15), color_map=None, format='pdf', facecolor=None, transparent=False, ipython_format='png2x')\n",
    "sc.pl.umap(adatamoon,color='cell type',legend_loc='on data',legend_fontsize=4)"
   ]
  }
 ],
 "metadata": {
  "kernelspec": {
   "display_name": "Python 3 (ipykernel)",
   "language": "python",
   "name": "python3"
  },
  "language_info": {
   "codemirror_mode": {
    "name": "ipython",
    "version": 3
   },
   "file_extension": ".py",
   "mimetype": "text/x-python",
   "name": "python",
   "nbconvert_exporter": "python",
   "pygments_lexer": "ipython3",
   "version": "3.12.2"
  }
 },
 "nbformat": 4,
 "nbformat_minor": 5
}
