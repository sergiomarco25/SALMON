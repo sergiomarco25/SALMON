{
 "cells": [
  {
   "cell_type": "code",
   "execution_count": 1,
   "id": "e70d45e1",
   "metadata": {},
   "outputs": [],
   "source": [
    "import numpy as np\n",
    "import pandas as pd\n",
    "import scanpy as sc\n",
    "import seaborn as sns\n",
    "import matplotlib.pyplot as plt\n",
    "#import squidpy as sq\n",
    "from tqdm import tqdm"
   ]
  },
  {
   "cell_type": "code",
   "execution_count": 2,
   "id": "8244e461",
   "metadata": {},
   "outputs": [],
   "source": [
    "import sys\n",
    "import os \n",
    "from pathlib import Path"
   ]
  },
  {
   "cell_type": "code",
   "execution_count": 3,
   "id": "3d0e1b7a",
   "metadata": {},
   "outputs": [
    {
     "data": {
      "text/plain": [
       "'/Users/omercagatay/Desktop/Thesis/git_repo/SALMON/notebooks/metrics'"
      ]
     },
     "execution_count": 3,
     "metadata": {},
     "output_type": "execute_result"
    }
   ],
   "source": [
    "notebook_dir = os.getcwd()\n",
    "notebook_dir"
   ]
  },
  {
   "cell_type": "code",
   "execution_count": 4,
   "id": "a06e95a8",
   "metadata": {},
   "outputs": [
    {
     "data": {
      "text/plain": [
       "PosixPath('/Users/omercagatay/Desktop/Thesis')"
      ]
     },
     "execution_count": 4,
     "metadata": {},
     "output_type": "execute_result"
    }
   ],
   "source": [
    "Path(notebook_dir).parents[3]"
   ]
  },
  {
   "cell_type": "code",
   "execution_count": 5,
   "id": "05069b08",
   "metadata": {},
   "outputs": [],
   "source": [
    "os.chdir(Path(notebook_dir).parents[3])"
   ]
  },
  {
   "cell_type": "markdown",
   "id": "62ff7f0b",
   "metadata": {},
   "source": [
    "# Read Data "
   ]
  },
  {
   "cell_type": "markdown",
   "id": "adfd9e92",
   "metadata": {},
   "source": [
    "## Cell Feature Matrix"
   ]
  },
  {
   "cell_type": "code",
   "execution_count": 6,
   "id": "8aaea178",
   "metadata": {},
   "outputs": [],
   "source": [
    "adata = sc.read_10x_h5('data/Xenium_V1_mouse_pup_outs/cell_feature_matrix.h5') \n",
    "#adata = sc.read('data/Xenium_V1_mouse_pup_outs/adata_filtered.h5ad') "
   ]
  },
  {
   "cell_type": "code",
   "execution_count": 7,
   "id": "3d9ebe86",
   "metadata": {},
   "outputs": [],
   "source": [
    "adata.var = adata.var.rename(columns={\"gene_ids\":\"Ensemble ID\"})\n",
    "#adata.var.reset_index(inplace=True, drop = False, names= \"gene_name\")\n",
    "#adata.obs.reset_index(inplace=True, drop=False, names= \"cell_id\")"
   ]
  },
  {
   "cell_type": "markdown",
   "id": "e853c889",
   "metadata": {},
   "source": [
    "## Cell Summary "
   ]
  },
  {
   "cell_type": "code",
   "execution_count": 8,
   "id": "bf8d798b",
   "metadata": {},
   "outputs": [],
   "source": [
    "df_cells = pd.read_csv(\"data/Xenium_V1_mouse_pup_outs/cells.csv.gz\")"
   ]
  },
  {
   "cell_type": "code",
   "execution_count": 9,
   "id": "59b78e85",
   "metadata": {},
   "outputs": [
    {
     "data": {
      "text/plain": [
       "cell_id\n",
       "aaaabgpa-1    1\n",
       "jlcihdnp-1    1\n",
       "jlcifjco-1    1\n",
       "jlciffio-1    1\n",
       "jlcienmn-1    1\n",
       "             ..\n",
       "enilhfik-1    1\n",
       "enilhckc-1    1\n",
       "enilegml-1    1\n",
       "enildhge-1    1\n",
       "oinfkihb-1    1\n",
       "Name: count, Length: 1355849, dtype: int64"
      ]
     },
     "execution_count": 9,
     "metadata": {},
     "output_type": "execute_result"
    }
   ],
   "source": [
    "df_cells.cell_id.value_counts()"
   ]
  },
  {
   "cell_type": "code",
   "execution_count": 10,
   "id": "ee1ed151",
   "metadata": {},
   "outputs": [],
   "source": [
    "df_adata_obs = df_cells[['cell_id','x_centroid',\"y_centroid\", \"transcript_counts\", \"total_counts\", \"cell_area\", \"nucleus_area\"]]"
   ]
  },
  {
   "cell_type": "code",
   "execution_count": 11,
   "id": "4fe3fa0f",
   "metadata": {},
   "outputs": [],
   "source": [
    "adata.obs = df_adata_obs.copy()"
   ]
  },
  {
   "cell_type": "code",
   "execution_count": 12,
   "id": "b7fe59db",
   "metadata": {},
   "outputs": [
    {
     "data": {
      "text/html": [
       "<div>\n",
       "<style scoped>\n",
       "    .dataframe tbody tr th:only-of-type {\n",
       "        vertical-align: middle;\n",
       "    }\n",
       "\n",
       "    .dataframe tbody tr th {\n",
       "        vertical-align: top;\n",
       "    }\n",
       "\n",
       "    .dataframe thead th {\n",
       "        text-align: right;\n",
       "    }\n",
       "</style>\n",
       "<table border=\"1\" class=\"dataframe\">\n",
       "  <thead>\n",
       "    <tr style=\"text-align: right;\">\n",
       "      <th></th>\n",
       "      <th>cell_id</th>\n",
       "      <th>x_centroid</th>\n",
       "      <th>y_centroid</th>\n",
       "      <th>transcript_counts</th>\n",
       "      <th>total_counts</th>\n",
       "      <th>cell_area</th>\n",
       "      <th>nucleus_area</th>\n",
       "    </tr>\n",
       "  </thead>\n",
       "  <tbody>\n",
       "    <tr>\n",
       "      <th>0</th>\n",
       "      <td>aaaabgpa-1</td>\n",
       "      <td>850.288391</td>\n",
       "      <td>10613.065430</td>\n",
       "      <td>338</td>\n",
       "      <td>338</td>\n",
       "      <td>235.264071</td>\n",
       "      <td>49.310627</td>\n",
       "    </tr>\n",
       "    <tr>\n",
       "      <th>1</th>\n",
       "      <td>aaaabjde-1</td>\n",
       "      <td>837.167175</td>\n",
       "      <td>10610.744141</td>\n",
       "      <td>319</td>\n",
       "      <td>319</td>\n",
       "      <td>246.598290</td>\n",
       "      <td>42.266252</td>\n",
       "    </tr>\n",
       "    <tr>\n",
       "      <th>2</th>\n",
       "      <td>aaaacikn-1</td>\n",
       "      <td>835.130371</td>\n",
       "      <td>10622.626953</td>\n",
       "      <td>252</td>\n",
       "      <td>252</td>\n",
       "      <td>152.041099</td>\n",
       "      <td>40.821251</td>\n",
       "    </tr>\n",
       "    <tr>\n",
       "      <th>3</th>\n",
       "      <td>aaaackbp-1</td>\n",
       "      <td>823.748047</td>\n",
       "      <td>10620.277344</td>\n",
       "      <td>276</td>\n",
       "      <td>276</td>\n",
       "      <td>232.283758</td>\n",
       "      <td>17.069063</td>\n",
       "    </tr>\n",
       "    <tr>\n",
       "      <th>4</th>\n",
       "      <td>aaaacllf-1</td>\n",
       "      <td>842.690186</td>\n",
       "      <td>10630.465820</td>\n",
       "      <td>196</td>\n",
       "      <td>196</td>\n",
       "      <td>153.170006</td>\n",
       "      <td>28.990314</td>\n",
       "    </tr>\n",
       "    <tr>\n",
       "      <th>...</th>\n",
       "      <td>...</td>\n",
       "      <td>...</td>\n",
       "      <td>...</td>\n",
       "      <td>...</td>\n",
       "      <td>...</td>\n",
       "      <td>...</td>\n",
       "      <td>...</td>\n",
       "    </tr>\n",
       "    <tr>\n",
       "      <th>1355844</th>\n",
       "      <td>oinfhojg-1</td>\n",
       "      <td>9908.918945</td>\n",
       "      <td>19650.691406</td>\n",
       "      <td>85</td>\n",
       "      <td>85</td>\n",
       "      <td>59.064377</td>\n",
       "      <td>15.804688</td>\n",
       "    </tr>\n",
       "    <tr>\n",
       "      <th>1355845</th>\n",
       "      <td>oinfhphb-1</td>\n",
       "      <td>9911.258789</td>\n",
       "      <td>19618.589844</td>\n",
       "      <td>106</td>\n",
       "      <td>106</td>\n",
       "      <td>35.402501</td>\n",
       "      <td>22.442657</td>\n",
       "    </tr>\n",
       "    <tr>\n",
       "      <th>1355846</th>\n",
       "      <td>oinfieej-1</td>\n",
       "      <td>9911.923828</td>\n",
       "      <td>19655.921875</td>\n",
       "      <td>70</td>\n",
       "      <td>70</td>\n",
       "      <td>32.331876</td>\n",
       "      <td>13.456563</td>\n",
       "    </tr>\n",
       "    <tr>\n",
       "      <th>1355847</th>\n",
       "      <td>oinfkcfi-1</td>\n",
       "      <td>9913.118164</td>\n",
       "      <td>19636.181641</td>\n",
       "      <td>64</td>\n",
       "      <td>64</td>\n",
       "      <td>32.106095</td>\n",
       "      <td>11.243907</td>\n",
       "    </tr>\n",
       "    <tr>\n",
       "      <th>1355848</th>\n",
       "      <td>oinfkihb-1</td>\n",
       "      <td>9912.643555</td>\n",
       "      <td>19623.726562</td>\n",
       "      <td>52</td>\n",
       "      <td>52</td>\n",
       "      <td>20.997657</td>\n",
       "      <td>14.675782</td>\n",
       "    </tr>\n",
       "  </tbody>\n",
       "</table>\n",
       "<p>1355849 rows × 7 columns</p>\n",
       "</div>"
      ],
      "text/plain": [
       "            cell_id   x_centroid    y_centroid  transcript_counts  \\\n",
       "0        aaaabgpa-1   850.288391  10613.065430                338   \n",
       "1        aaaabjde-1   837.167175  10610.744141                319   \n",
       "2        aaaacikn-1   835.130371  10622.626953                252   \n",
       "3        aaaackbp-1   823.748047  10620.277344                276   \n",
       "4        aaaacllf-1   842.690186  10630.465820                196   \n",
       "...             ...          ...           ...                ...   \n",
       "1355844  oinfhojg-1  9908.918945  19650.691406                 85   \n",
       "1355845  oinfhphb-1  9911.258789  19618.589844                106   \n",
       "1355846  oinfieej-1  9911.923828  19655.921875                 70   \n",
       "1355847  oinfkcfi-1  9913.118164  19636.181641                 64   \n",
       "1355848  oinfkihb-1  9912.643555  19623.726562                 52   \n",
       "\n",
       "         total_counts   cell_area  nucleus_area  \n",
       "0                 338  235.264071     49.310627  \n",
       "1                 319  246.598290     42.266252  \n",
       "2                 252  152.041099     40.821251  \n",
       "3                 276  232.283758     17.069063  \n",
       "4                 196  153.170006     28.990314  \n",
       "...               ...         ...           ...  \n",
       "1355844            85   59.064377     15.804688  \n",
       "1355845           106   35.402501     22.442657  \n",
       "1355846            70   32.331876     13.456563  \n",
       "1355847            64   32.106095     11.243907  \n",
       "1355848            52   20.997657     14.675782  \n",
       "\n",
       "[1355849 rows x 7 columns]"
      ]
     },
     "execution_count": 12,
     "metadata": {},
     "output_type": "execute_result"
    }
   ],
   "source": [
    "adata.obs"
   ]
  },
  {
   "cell_type": "code",
   "execution_count": 13,
   "id": "409568fd",
   "metadata": {},
   "outputs": [],
   "source": [
    "adata.obs.set_index(\"cell_id\",inplace=True)"
   ]
  },
  {
   "cell_type": "code",
   "execution_count": 14,
   "id": "7d5c7ff7",
   "metadata": {},
   "outputs": [],
   "source": [
    "del df_adata_obs\n",
    "del df_cells"
   ]
  },
  {
   "cell_type": "markdown",
   "id": "91bcd11a",
   "metadata": {},
   "source": [
    "## Transcripts"
   ]
  },
  {
   "cell_type": "code",
   "execution_count": 15,
   "id": "ce1d69d5",
   "metadata": {},
   "outputs": [],
   "source": [
    "transcripts = pd.read_csv(\"data/Xenium_V1_mouse_pup_outs/transcripts_filtered_gut.csv\")"
   ]
  },
  {
   "cell_type": "code",
   "execution_count": 16,
   "id": "c46ad2a4",
   "metadata": {},
   "outputs": [],
   "source": [
    "transcripts[\"cell_mapped\"] = transcripts[\"cell_id\"].apply(lambda x: \"unassigned\" if x == \"UNASSIGNED\" else \"assigned\")"
   ]
  },
  {
   "cell_type": "code",
   "execution_count": 17,
   "id": "77a03914",
   "metadata": {},
   "outputs": [],
   "source": [
    "tr = transcripts[transcripts[\"cell_id\"] != \"UNASSIGNED\" ]\n",
    "tr.reset_index(inplace=True, drop=True)\n",
    "tr = tr.drop(columns=[\"Unnamed: 0\"])"
   ]
  },
  {
   "cell_type": "code",
   "execution_count": 18,
   "id": "2ef896a3",
   "metadata": {},
   "outputs": [
    {
     "data": {
      "text/html": [
       "<div>\n",
       "<style scoped>\n",
       "    .dataframe tbody tr th:only-of-type {\n",
       "        vertical-align: middle;\n",
       "    }\n",
       "\n",
       "    .dataframe tbody tr th {\n",
       "        vertical-align: top;\n",
       "    }\n",
       "\n",
       "    .dataframe thead th {\n",
       "        text-align: right;\n",
       "    }\n",
       "</style>\n",
       "<table border=\"1\" class=\"dataframe\">\n",
       "  <thead>\n",
       "    <tr style=\"text-align: right;\">\n",
       "      <th></th>\n",
       "      <th>transcript_id</th>\n",
       "      <th>cell_id</th>\n",
       "      <th>overlaps_nucleus</th>\n",
       "      <th>feature_name</th>\n",
       "      <th>x_location</th>\n",
       "      <th>y_location</th>\n",
       "      <th>z_location</th>\n",
       "      <th>qv</th>\n",
       "      <th>fov_name</th>\n",
       "      <th>nucleus_distance</th>\n",
       "      <th>cell_mapped</th>\n",
       "    </tr>\n",
       "  </thead>\n",
       "  <tbody>\n",
       "    <tr>\n",
       "      <th>0</th>\n",
       "      <td>282179351358717</td>\n",
       "      <td>cjceeepn-1</td>\n",
       "      <td>0</td>\n",
       "      <td>Fibin</td>\n",
       "      <td>4848.1240</td>\n",
       "      <td>4498.7305</td>\n",
       "      <td>21.928871</td>\n",
       "      <td>40.000000</td>\n",
       "      <td>G8</td>\n",
       "      <td>0.584109</td>\n",
       "      <td>assigned</td>\n",
       "    </tr>\n",
       "    <tr>\n",
       "      <th>1</th>\n",
       "      <td>282179351417454</td>\n",
       "      <td>cjceeepn-1</td>\n",
       "      <td>0</td>\n",
       "      <td>Myoz2</td>\n",
       "      <td>4844.3447</td>\n",
       "      <td>4486.2490</td>\n",
       "      <td>20.381886</td>\n",
       "      <td>40.000000</td>\n",
       "      <td>G8</td>\n",
       "      <td>12.603382</td>\n",
       "      <td>assigned</td>\n",
       "    </tr>\n",
       "    <tr>\n",
       "      <th>2</th>\n",
       "      <td>282179351417474</td>\n",
       "      <td>cjceeepn-1</td>\n",
       "      <td>0</td>\n",
       "      <td>Myoz2</td>\n",
       "      <td>4845.1177</td>\n",
       "      <td>4487.4224</td>\n",
       "      <td>20.421465</td>\n",
       "      <td>40.000000</td>\n",
       "      <td>G8</td>\n",
       "      <td>11.202755</td>\n",
       "      <td>assigned</td>\n",
       "    </tr>\n",
       "    <tr>\n",
       "      <th>3</th>\n",
       "      <td>282179351569878</td>\n",
       "      <td>cjceeepn-1</td>\n",
       "      <td>1</td>\n",
       "      <td>Upk3b</td>\n",
       "      <td>4849.0360</td>\n",
       "      <td>4498.8696</td>\n",
       "      <td>22.161554</td>\n",
       "      <td>16.672361</td>\n",
       "      <td>G8</td>\n",
       "      <td>0.000000</td>\n",
       "      <td>assigned</td>\n",
       "    </tr>\n",
       "    <tr>\n",
       "      <th>4</th>\n",
       "      <td>282179351641159</td>\n",
       "      <td>cjceeepn-1</td>\n",
       "      <td>0</td>\n",
       "      <td>Calcrl</td>\n",
       "      <td>4846.2040</td>\n",
       "      <td>4488.2515</td>\n",
       "      <td>20.463503</td>\n",
       "      <td>40.000000</td>\n",
       "      <td>G8</td>\n",
       "      <td>9.954653</td>\n",
       "      <td>assigned</td>\n",
       "    </tr>\n",
       "    <tr>\n",
       "      <th>...</th>\n",
       "      <td>...</td>\n",
       "      <td>...</td>\n",
       "      <td>...</td>\n",
       "      <td>...</td>\n",
       "      <td>...</td>\n",
       "      <td>...</td>\n",
       "      <td>...</td>\n",
       "      <td>...</td>\n",
       "      <td>...</td>\n",
       "      <td>...</td>\n",
       "      <td>...</td>\n",
       "    </tr>\n",
       "    <tr>\n",
       "      <th>2318953</th>\n",
       "      <td>282192237251365</td>\n",
       "      <td>apnmcbdl-1</td>\n",
       "      <td>0</td>\n",
       "      <td>Myl9</td>\n",
       "      <td>6215.2710</td>\n",
       "      <td>5075.3950</td>\n",
       "      <td>21.892443</td>\n",
       "      <td>16.658100</td>\n",
       "      <td>H11</td>\n",
       "      <td>1.935795</td>\n",
       "      <td>assigned</td>\n",
       "    </tr>\n",
       "    <tr>\n",
       "      <th>2318954</th>\n",
       "      <td>282192237251366</td>\n",
       "      <td>liocdlff-1</td>\n",
       "      <td>0</td>\n",
       "      <td>Myl9</td>\n",
       "      <td>6215.2800</td>\n",
       "      <td>5055.4795</td>\n",
       "      <td>24.919008</td>\n",
       "      <td>27.758255</td>\n",
       "      <td>H11</td>\n",
       "      <td>1.933230</td>\n",
       "      <td>assigned</td>\n",
       "    </tr>\n",
       "    <tr>\n",
       "      <th>2318955</th>\n",
       "      <td>282192237251384</td>\n",
       "      <td>apnmeebl-1</td>\n",
       "      <td>1</td>\n",
       "      <td>Pck1</td>\n",
       "      <td>6216.5600</td>\n",
       "      <td>5071.6494</td>\n",
       "      <td>27.098642</td>\n",
       "      <td>7.151604</td>\n",
       "      <td>H11</td>\n",
       "      <td>0.000000</td>\n",
       "      <td>assigned</td>\n",
       "    </tr>\n",
       "    <tr>\n",
       "      <th>2318956</th>\n",
       "      <td>282192237251387</td>\n",
       "      <td>apnmeebl-1</td>\n",
       "      <td>0</td>\n",
       "      <td>Chodl</td>\n",
       "      <td>6216.8000</td>\n",
       "      <td>5076.4805</td>\n",
       "      <td>23.685452</td>\n",
       "      <td>40.000000</td>\n",
       "      <td>H11</td>\n",
       "      <td>3.255371</td>\n",
       "      <td>assigned</td>\n",
       "    </tr>\n",
       "    <tr>\n",
       "      <th>2318957</th>\n",
       "      <td>282192237251393</td>\n",
       "      <td>apnmeebl-1</td>\n",
       "      <td>1</td>\n",
       "      <td>Myl9</td>\n",
       "      <td>6217.2725</td>\n",
       "      <td>5065.8203</td>\n",
       "      <td>19.803452</td>\n",
       "      <td>36.900640</td>\n",
       "      <td>H11</td>\n",
       "      <td>0.000000</td>\n",
       "      <td>assigned</td>\n",
       "    </tr>\n",
       "  </tbody>\n",
       "</table>\n",
       "<p>2318958 rows × 11 columns</p>\n",
       "</div>"
      ],
      "text/plain": [
       "           transcript_id     cell_id  overlaps_nucleus feature_name  \\\n",
       "0        282179351358717  cjceeepn-1                 0        Fibin   \n",
       "1        282179351417454  cjceeepn-1                 0        Myoz2   \n",
       "2        282179351417474  cjceeepn-1                 0        Myoz2   \n",
       "3        282179351569878  cjceeepn-1                 1        Upk3b   \n",
       "4        282179351641159  cjceeepn-1                 0       Calcrl   \n",
       "...                  ...         ...               ...          ...   \n",
       "2318953  282192237251365  apnmcbdl-1                 0         Myl9   \n",
       "2318954  282192237251366  liocdlff-1                 0         Myl9   \n",
       "2318955  282192237251384  apnmeebl-1                 1         Pck1   \n",
       "2318956  282192237251387  apnmeebl-1                 0        Chodl   \n",
       "2318957  282192237251393  apnmeebl-1                 1         Myl9   \n",
       "\n",
       "         x_location  y_location  z_location         qv fov_name  \\\n",
       "0         4848.1240   4498.7305   21.928871  40.000000       G8   \n",
       "1         4844.3447   4486.2490   20.381886  40.000000       G8   \n",
       "2         4845.1177   4487.4224   20.421465  40.000000       G8   \n",
       "3         4849.0360   4498.8696   22.161554  16.672361       G8   \n",
       "4         4846.2040   4488.2515   20.463503  40.000000       G8   \n",
       "...             ...         ...         ...        ...      ...   \n",
       "2318953   6215.2710   5075.3950   21.892443  16.658100      H11   \n",
       "2318954   6215.2800   5055.4795   24.919008  27.758255      H11   \n",
       "2318955   6216.5600   5071.6494   27.098642   7.151604      H11   \n",
       "2318956   6216.8000   5076.4805   23.685452  40.000000      H11   \n",
       "2318957   6217.2725   5065.8203   19.803452  36.900640      H11   \n",
       "\n",
       "         nucleus_distance cell_mapped  \n",
       "0                0.584109    assigned  \n",
       "1               12.603382    assigned  \n",
       "2               11.202755    assigned  \n",
       "3                0.000000    assigned  \n",
       "4                9.954653    assigned  \n",
       "...                   ...         ...  \n",
       "2318953          1.935795    assigned  \n",
       "2318954          1.933230    assigned  \n",
       "2318955          0.000000    assigned  \n",
       "2318956          3.255371    assigned  \n",
       "2318957          0.000000    assigned  \n",
       "\n",
       "[2318958 rows x 11 columns]"
      ]
     },
     "execution_count": 18,
     "metadata": {},
     "output_type": "execute_result"
    }
   ],
   "source": [
    "tr"
   ]
  },
  {
   "cell_type": "code",
   "execution_count": 19,
   "id": "c61ac27b",
   "metadata": {},
   "outputs": [],
   "source": [
    "tr_both = tr.groupby('cell_id')['overlaps_nucleus'].agg(\n",
    "    takes_0 = lambda x: 1 if 0 in x.values else 0,\n",
    "    takes_1 = lambda x: 1 if 1 in x.values else 0,\n",
    "    takes_both=lambda x: 1 if {0, 1}.issubset(x.values) else 0\n",
    ").reset_index()\n",
    "\n",
    "tr = tr.merge(tr_both, on=\"cell_id\", how=\"left\" )\n",
    "tr = tr[tr[\"takes_both\"]==1]\n"
   ]
  },
  {
   "cell_type": "code",
   "execution_count": 21,
   "id": "08a5e88c",
   "metadata": {},
   "outputs": [
    {
     "data": {
      "text/plain": [
       "takes_1\n",
       "1    9683\n",
       "0     107\n",
       "Name: count, dtype: int64"
      ]
     },
     "execution_count": 21,
     "metadata": {},
     "output_type": "execute_result"
    }
   ],
   "source": [
    "tr_both.takes_1.value_counts()"
   ]
  },
  {
   "cell_type": "code",
   "execution_count": 20,
   "id": "749b7ab9",
   "metadata": {},
   "outputs": [
    {
     "data": {
      "text/plain": [
       "takes_both\n",
       "1    9681\n",
       "0     109\n",
       "Name: count, dtype: int64"
      ]
     },
     "execution_count": 20,
     "metadata": {},
     "output_type": "execute_result"
    }
   ],
   "source": [
    "tr_both.takes_both.value_counts()"
   ]
  },
  {
   "cell_type": "code",
   "execution_count": 22,
   "id": "4a6b598a",
   "metadata": {},
   "outputs": [],
   "source": [
    "tr = tr[tr[\"takes_both\"]==1]"
   ]
  },
  {
   "cell_type": "code",
   "execution_count": 23,
   "id": "29e2b056",
   "metadata": {},
   "outputs": [],
   "source": [
    "tr = tr.drop(columns=[\"takes_0\",\"takes_1\",\"takes_both\"])\n",
    "tr = tr[tr[\"feature_name\"]!=\"Fam25c\"]"
   ]
  },
  {
   "cell_type": "code",
   "execution_count": 25,
   "id": "c8d5f47c",
   "metadata": {},
   "outputs": [],
   "source": [
    "adata = adata[:,adata.var.index!=\"Fam25c\"]"
   ]
  },
  {
   "cell_type": "code",
   "execution_count": 26,
   "id": "41e2119a",
   "metadata": {},
   "outputs": [
    {
     "data": {
      "text/plain": [
       "View of AnnData object with n_obs × n_vars = 1355849 × 378\n",
       "    obs: 'x_centroid', 'y_centroid', 'transcript_counts', 'total_counts', 'cell_area', 'nucleus_area'\n",
       "    var: 'Ensemble ID', 'feature_types', 'genome'"
      ]
     },
     "execution_count": 26,
     "metadata": {},
     "output_type": "execute_result"
    }
   ],
   "source": [
    "adata"
   ]
  },
  {
   "cell_type": "code",
   "execution_count": 27,
   "id": "45cd2bd2",
   "metadata": {},
   "outputs": [],
   "source": [
    "# divide data in nuclei and cytopasm\n",
    "tn = tr[tr['overlaps_nucleus'] == 1]\n",
    "tc = tr[tr['overlaps_nucleus'] == 0]\n",
    "\n",
    "# create the cellxgene matrix for nuc counts and cytoplasmic\n",
    "nuc = pd.crosstab(tn['cell_id'],tn['feature_name'])\n",
    "cyt = pd.crosstab(tc['cell_id'],tc['feature_name'])"
   ]
  },
  {
   "cell_type": "code",
   "execution_count": 28,
   "id": "4bfae87c",
   "metadata": {},
   "outputs": [],
   "source": [
    "#get the cells which has a transcripts mappep to it \n",
    "adata = adata[adata.obs.index.isin(nuc.index)]\n",
    "adata = adata[adata.obs.index.isin(cyt.index)]"
   ]
  },
  {
   "cell_type": "code",
   "execution_count": 29,
   "id": "149a7d7e",
   "metadata": {},
   "outputs": [
    {
     "data": {
      "text/plain": [
       "View of AnnData object with n_obs × n_vars = 9681 × 378\n",
       "    obs: 'x_centroid', 'y_centroid', 'transcript_counts', 'total_counts', 'cell_area', 'nucleus_area'\n",
       "    var: 'Ensemble ID', 'feature_types', 'genome'"
      ]
     },
     "execution_count": 29,
     "metadata": {},
     "output_type": "execute_result"
    }
   ],
   "source": [
    "adata"
   ]
  },
  {
   "cell_type": "code",
   "execution_count": 30,
   "id": "1d03dad8",
   "metadata": {},
   "outputs": [],
   "source": [
    "# create \"spliced\", \"unspliced\" layers since scvelo looks for them\n",
    "nucsort = nuc.loc[adata.obs.index,adata.var.index]\n",
    "cytsort = cyt.loc[adata.obs.index,adata.var.index]"
   ]
  },
  {
   "cell_type": "code",
   "execution_count": 33,
   "id": "512221a8",
   "metadata": {},
   "outputs": [
    {
     "name": "stderr",
     "output_type": "stream",
     "text": [
      "/var/folders/n1/3rys77050fl0ptsh50jc4t_40000gn/T/ipykernel_6042/2007995298.py:1: ImplicitModificationWarning: Setting element `.layers['spliced']` of view, initializing view as actual.\n",
      "  adata.layers['spliced'] = np.array(cytsort)\n"
     ]
    }
   ],
   "source": [
    "adata.layers['spliced'] = np.array(cytsort)\n",
    "adata.layers['unspliced'] = np.array(nucsort)"
   ]
  },
  {
   "cell_type": "code",
   "execution_count": 34,
   "id": "7d7f2a84",
   "metadata": {},
   "outputs": [
    {
     "data": {
      "text/plain": [
       "Layers with keys: spliced, unspliced"
      ]
     },
     "execution_count": 34,
     "metadata": {},
     "output_type": "execute_result"
    }
   ],
   "source": [
    "adata.layers"
   ]
  },
  {
   "cell_type": "code",
   "execution_count": 35,
   "id": "6cfd34e0",
   "metadata": {},
   "outputs": [
    {
     "data": {
      "text/plain": [
       "AnnData object with n_obs × n_vars = 9681 × 378\n",
       "    obs: 'x_centroid', 'y_centroid', 'transcript_counts', 'total_counts', 'cell_area', 'nucleus_area'\n",
       "    var: 'Ensemble ID', 'feature_types', 'genome'\n",
       "    layers: 'spliced', 'unspliced'"
      ]
     },
     "execution_count": 35,
     "metadata": {},
     "output_type": "execute_result"
    }
   ],
   "source": [
    "adata"
   ]
  },
  {
   "cell_type": "code",
   "execution_count": 37,
   "id": "599fbefd",
   "metadata": {},
   "outputs": [],
   "source": [
    "adata.uns['spots'] = tr"
   ]
  },
  {
   "cell_type": "code",
   "execution_count": 38,
   "id": "4b290541",
   "metadata": {},
   "outputs": [],
   "source": [
    "adata.obsm[\"spatial\"] = adata.obs[[\"x_centroid\", \"y_centroid\"]].copy().to_numpy()"
   ]
  },
  {
   "cell_type": "code",
   "execution_count": 41,
   "id": "fed496d4",
   "metadata": {},
   "outputs": [],
   "source": [
    "adata.write(\"data/Xenium_V1_mouse_pup_outs/adata_gut_transcripts.h5ad\")"
   ]
  }
 ],
 "metadata": {
  "kernelspec": {
   "display_name": "Python 3 (ipykernel)",
   "language": "python",
   "name": "python3"
  },
  "language_info": {
   "codemirror_mode": {
    "name": "ipython",
    "version": 3
   },
   "file_extension": ".py",
   "mimetype": "text/x-python",
   "name": "python",
   "nbconvert_exporter": "python",
   "pygments_lexer": "ipython3",
   "version": "3.12.2"
  }
 },
 "nbformat": 4,
 "nbformat_minor": 5
}
