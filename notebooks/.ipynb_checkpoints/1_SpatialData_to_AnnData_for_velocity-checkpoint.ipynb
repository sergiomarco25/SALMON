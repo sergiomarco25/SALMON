{
 "cells": [
  {
   "cell_type": "code",
   "execution_count": 1,
   "id": "0076c18e",
   "metadata": {},
   "outputs": [
    {
     "name": "stderr",
     "output_type": "stream",
     "text": [
      "/home/sergio/anaconda3/envs/spatialdata/lib/python3.9/site-packages/dask/dataframe/_pyarrow_compat.py:21: UserWarning: You are using pyarrow version 12.0.0 which is known to be insecure. See https://www.cve.org/CVERecord?id=CVE-2023-47248 for further details. Please upgrade to pyarrow>=14.0.1 or install pyarrow-hotfix to patch your current version.\n",
      "  warnings.warn(\n"
     ]
    }
   ],
   "source": [
    "import spatialdata as sd\n",
    "import scanpy as sc\n",
    "import spatialdata_plot"
   ]
  },
  {
   "cell_type": "code",
   "execution_count": 2,
   "id": "b75e544a",
   "metadata": {},
   "outputs": [],
   "source": [
    "f='/media/sergio/Meninges/SpatialData_formatted/meninges_h27a'"
   ]
  },
  {
   "cell_type": "code",
   "execution_count": 3,
   "id": "5aa70c9b",
   "metadata": {},
   "outputs": [
    {
     "name": "stdout",
     "output_type": "stream",
     "text": [
      "\u001b[34mINFO    \u001b[0m Feature key `feature_name`could be of type `pd.Categorical`. Consider casting it.                         \n",
      "\u001b[34mINFO    \u001b[0m Feature key `feature_name`could be of type `pd.Categorical`. Consider casting it.                         \n"
     ]
    },
    {
     "name": "stderr",
     "output_type": "stream",
     "text": [
      "/home/sergio/anaconda3/envs/spatialdata/lib/python3.9/site-packages/anndata/_core/anndata.py:117: ImplicitModificationWarning: Transforming to str index.\n",
      "  warnings.warn(\"Transforming to str index.\", ImplicitModificationWarning)\n"
     ]
    }
   ],
   "source": [
    "sdata=sd.SpatialData.read(f)"
   ]
  },
  {
   "cell_type": "code",
   "execution_count": 4,
   "id": "53ee6615",
   "metadata": {},
   "outputs": [],
   "source": [
    "adata=sdata.tables['table']"
   ]
  },
  {
   "cell_type": "code",
   "execution_count": 5,
   "id": "bd120479",
   "metadata": {},
   "outputs": [
    {
     "name": "stderr",
     "output_type": "stream",
     "text": [
      "/home/sergio/anaconda3/envs/spatialdata/lib/python3.9/site-packages/dask/dataframe/core.py:4975: UserWarning: Boolean Series key will be reindexed to match DataFrame index.\n",
      "  meta = self._meta[_extract_meta(key)]\n"
     ]
    }
   ],
   "source": [
    "spotsn=sdata.points['transcripts'][sdata.points['transcripts']['overlaps_nucleus'].compute()==1]"
   ]
  },
  {
   "cell_type": "code",
   "execution_count": null,
   "id": "8b292015",
   "metadata": {},
   "outputs": [
    {
     "name": "stderr",
     "output_type": "stream",
     "text": [
      "/home/sergio/anaconda3/envs/spatialdata/lib/python3.9/site-packages/dask/core.py:127: UserWarning: Boolean Series key will be reindexed to match DataFrame index.\n",
      "  return func(*(_execute_task(a, cache) for a in args))\n",
      "/home/sergio/anaconda3/envs/spatialdata/lib/python3.9/site-packages/dask/core.py:127: UserWarning: Boolean Series key will be reindexed to match DataFrame index.\n",
      "  return func(*(_execute_task(a, cache) for a in args))\n"
     ]
    }
   ],
   "source": [
    "tn=spotsn.loc[:,['feature_name','cell_id']].compute()"
   ]
  },
  {
   "cell_type": "code",
   "execution_count": null,
   "id": "7ef9a8d5",
   "metadata": {},
   "outputs": [],
   "source": [
    "#get cytoplasmic expression\n",
    "spotsc=sdata.points['transcripts'][sdata.points['transcripts']['overlaps_nucleus'].compute()==0]\n",
    "tc=spotsc.loc[:,['feature_name','cell_id']].compute()"
   ]
  },
  {
   "cell_type": "code",
   "execution_count": null,
   "id": "d9ef2f50",
   "metadata": {},
   "outputs": [],
   "source": [
    "tr2['centroid_distance']=np.sqrt((tr2['x']-tr2['x_cell'])**2+(tr2['y']-tr2['y_cell'])**2)\n",
    "adata.obs['cell_id']=adata.obs.index\n",
    "adata_with_counts.obs.index.name='indi'\n",
    "# divide data in nuclei and cytopasm\n",
    "tn=tr2[tr2['overlaps_nucleus']==1]\n",
    "tc=tr2[tr2['overlaps_nucleus']==0]\n",
    "# create the cellxgene matrix for nuc counts and cytoplasmic\n",
    "nuc=pd.crosstab(tn['cell_id'],tn['gene'])\n",
    "cyt=pd.crosstab(tc['cell_id'],tc['gene'])\n",
    "#adata.var.index=adata.raw.var.index\n",
    "adata=adata_with_counts[adata_with_counts.obs['cell_id'].isin(nuc.index)]\n",
    "adata=adata[adata.obs['cell_id'].isin(cyt.index)]\n",
    "nucsort=nuc.loc[adata.obs['cell_id'],adata.var.index]\n",
    "cytsort=cyt.loc[adata.obs['cell_id'],adata.var.index]\n",
    "adata.layers['spliced']=np.array(cytsort)\n",
    "adata.layers['unspliced']=np.array(nucsort)\n",
    "adata.obs['cell type']=adata.obs['cell_id'].map(id2Class) # you don't need this"
   ]
  },
  {
   "cell_type": "code",
   "execution_count": null,
   "id": "d536f071",
   "metadata": {},
   "outputs": [],
   "source": []
  }
 ],
 "metadata": {
  "kernelspec": {
   "display_name": "SpatialData2",
   "language": "python",
   "name": "spatialdata2"
  },
  "language_info": {
   "codemirror_mode": {
    "name": "ipython",
    "version": 3
   },
   "file_extension": ".py",
   "mimetype": "text/x-python",
   "name": "python",
   "nbconvert_exporter": "python",
   "pygments_lexer": "ipython3",
   "version": "3.9.16"
  }
 },
 "nbformat": 4,
 "nbformat_minor": 5
}
