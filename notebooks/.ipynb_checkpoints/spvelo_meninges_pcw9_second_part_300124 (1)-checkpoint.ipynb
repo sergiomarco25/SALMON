{
 "cells": [
  {
   "cell_type": "code",
   "execution_count": null,
   "id": "9a215677",
   "metadata": {},
   "outputs": [],
   "source": [
    "import scvelo as scv\n",
    "import scanpy as sc\n",
    "import pandas as pd\n",
    "import numpy as np\n",
    "import matplotlib.pyplot as plt"
   ]
  },
  {
   "cell_type": "code",
   "execution_count": null,
   "id": "759c0a87",
   "metadata": {},
   "outputs": [],
   "source": [
    "data=pd.read_csv('/media/sergio/Meninges/unprocessed_adata/dev_HE24-Men_with_cosine_sub.csv')"
   ]
  },
  {
   "cell_type": "markdown",
   "id": "a0c70870",
   "metadata": {},
   "source": [
    "## filter based on cosine"
   ]
  },
  {
   "cell_type": "code",
   "execution_count": null,
   "id": "7db0aad8",
   "metadata": {},
   "outputs": [],
   "source": [
    "dd=plt.hist(data['cosine'],200)"
   ]
  },
  {
   "cell_type": "code",
   "execution_count": null,
   "id": "041524cd",
   "metadata": {},
   "outputs": [],
   "source": [
    "np.sum(data['cosine']>0.95)/data.shape[0]"
   ]
  },
  {
   "cell_type": "code",
   "execution_count": null,
   "id": "f12e4d4c",
   "metadata": {},
   "outputs": [],
   "source": [
    "data=data[data['cosine']>0.95]"
   ]
  },
  {
   "cell_type": "code",
   "execution_count": null,
   "id": "48ba331e",
   "metadata": {},
   "outputs": [],
   "source": [
    "cellinfo=data.groupby('cell_id').min()\n",
    "id2cosine=dict(zip(cellinfo.index,cellinfo['cosine']))\n",
    "genexp=pd.crosstab(data['cell_id'],data['gene'])"
   ]
  },
  {
   "cell_type": "code",
   "execution_count": null,
   "id": "591e6666",
   "metadata": {},
   "outputs": [],
   "source": [
    "adata=sc.AnnData(genexp)"
   ]
  },
  {
   "cell_type": "code",
   "execution_count": null,
   "id": "923c510f",
   "metadata": {},
   "outputs": [],
   "source": [
    "sc.pp.filter_cells(adata,min_counts=20)\n",
    "sc.pp.normalize_total(adata)\n",
    "sc.pp.log1p(adata)\n",
    "sc.pp.pca(adata)\n",
    "sc.pp.neighbors(adata,n_neighbors=12,n_pcs=0)\n",
    "sc.tl.umap(adata,min_dist=0.05)\n",
    "sc.tl.leiden(adata)"
   ]
  },
  {
   "cell_type": "code",
   "execution_count": null,
   "id": "d9b66369",
   "metadata": {},
   "outputs": [],
   "source": [
    "adata.write('/media/sergio/Meninges/unprocessed_adata/dev_HE24-Men_with_cosine_sub_input.h5ad')"
   ]
  },
  {
   "cell_type": "code",
   "execution_count": null,
   "id": "90fcc532",
   "metadata": {},
   "outputs": [],
   "source": [
    "sc.pl.umap(adata,color='leiden')"
   ]
  },
  {
   "cell_type": "code",
   "execution_count": null,
   "id": "7e55a30a",
   "metadata": {},
   "outputs": [],
   "source": [
    "adata_with_counts=adata.copy()"
   ]
  },
  {
   "cell_type": "code",
   "execution_count": null,
   "id": "f4f84888",
   "metadata": {},
   "outputs": [],
   "source": [
    "# NOT IMPORTANT FOR YOU OMER"
   ]
  },
  {
   "cell_type": "code",
   "execution_count": null,
   "id": "50ff8b14",
   "metadata": {},
   "outputs": [],
   "source": [
    "adata_ref=sc.read('/media/sergio/Meninges/nuclei_adata/adata_dev_meninges_he24_pcw9_final_clusters.h5ad')"
   ]
  },
  {
   "cell_type": "code",
   "execution_count": null,
   "id": "6fa5b1d6",
   "metadata": {},
   "outputs": [],
   "source": [
    "adata_ref=adata_ref[adata_ref.obs['replicate']=='dev_HE24-Men']\n",
    "adata_ref.var.index=adata_ref.raw.var.index\n",
    "id2x=dict(zip(adata_ref.obs['cell_id'],adata_ref.obs['x_centroid']))\n",
    "id2y=dict(zip(adata_ref.obs['cell_id'],adata_ref.obs['y_centroid']))\n",
    "id2Class=dict(zip(adata_ref.obs['cell_id'],adata_ref.obs['cell type']))"
   ]
  },
  {
   "cell_type": "code",
   "execution_count": null,
   "id": "9faa666e",
   "metadata": {},
   "outputs": [],
   "source": []
  },
  {
   "cell_type": "code",
   "execution_count": null,
   "id": "a731dcf0",
   "metadata": {},
   "outputs": [],
   "source": [
    "data['x_cell']=data['cell_id'].map(id2x)\n",
    "data['y_cell']=data['cell_id'].map(id2y)\n",
    "data['cell type']=data['cell_id'].map(id2Class)"
   ]
  },
  {
   "cell_type": "code",
   "execution_count": null,
   "id": "cc046281",
   "metadata": {},
   "outputs": [],
   "source": [
    "tr2=data.copy()"
   ]
  },
  {
   "cell_type": "code",
   "execution_count": null,
   "id": "4a888c1f",
   "metadata": {},
   "outputs": [],
   "source": []
  },
  {
   "cell_type": "code",
   "execution_count": null,
   "id": "05d83590",
   "metadata": {},
   "outputs": [],
   "source": []
  },
  {
   "cell_type": "code",
   "execution_count": null,
   "id": "0a50df6c",
   "metadata": {},
   "outputs": [],
   "source": [
    "# tr2 is more or less what you have on transcripts.csv / transcripts.parquet"
   ]
  },
  {
   "cell_type": "code",
   "execution_count": null,
   "id": "ead33348",
   "metadata": {},
   "outputs": [],
   "source": [
    "tr2['centroid_distance']=np.sqrt((tr2['x']-tr2['x_cell'])**2+(tr2['y']-tr2['y_cell'])**2)\n",
    "adata_with_counts.obs['cell_id']=adata_with_counts.obs.index\n",
    "adata_with_counts.obs.index.name='indi'\n",
    "# divide data in nuclei and cytopasm\n",
    "tn=tr2[tr2['overlaps_nucleus']==1]\n",
    "tc=tr2[tr2['overlaps_nucleus']==0]\n",
    "# create the cellxgene matrix for nuc counts and cytoplasmic\n",
    "nuc=pd.crosstab(tn['cell_id'],tn['gene'])\n",
    "cyt=pd.crosstab(tc['cell_id'],tc['gene'])\n",
    "#adata.var.index=adata.raw.var.index\n",
    "adata=adata_with_counts[adata_with_counts.obs['cell_id'].isin(nuc.index)]\n",
    "adata=adata[adata.obs['cell_id'].isin(cyt.index)]\n",
    "nucsort=nuc.loc[adata.obs['cell_id'],adata.var.index]\n",
    "cytsort=cyt.loc[adata.obs['cell_id'],adata.var.index]\n",
    "adata.layers['spliced']=np.array(cytsort)\n",
    "adata.layers['unspliced']=np.array(nucsort)\n",
    "adata.obs['cell type']=adata.obs['cell_id'].map(id2Class) # you don't need this"
   ]
  },
  {
   "cell_type": "code",
   "execution_count": null,
   "id": "eb3309d2",
   "metadata": {},
   "outputs": [],
   "source": [
    "adata.write('/media/sergio/Meninges/unprocessed_adata/dev_HE24-Men_with_cosine_sub_input.h5ad')"
   ]
  },
  {
   "cell_type": "markdown",
   "id": "2ca76fb5",
   "metadata": {},
   "source": [
    "# Deterministic velocity"
   ]
  },
  {
   "cell_type": "code",
   "execution_count": null,
   "id": "cbe24c3b",
   "metadata": {},
   "outputs": [],
   "source": [
    "adata=sc.read('/media/sergio/Meninges/unprocessed_adata/dev_HE24-Men_with_cosine_sub_input.h5ad')"
   ]
  },
  {
   "cell_type": "code",
   "execution_count": null,
   "id": "00a4f010",
   "metadata": {},
   "outputs": [],
   "source": [
    "scv.pp.filter_and_normalize(adata)\n",
    "scv.pp.moments(adata)\n",
    "scv.tl.velocity(adata, mode='deterministic')\n",
    "scv.tl.velocity_graph(adata)"
   ]
  },
  {
   "cell_type": "code",
   "execution_count": null,
   "id": "84f086e3",
   "metadata": {},
   "outputs": [],
   "source": [
    "adata.obs['x']=adata.obs['cell_id'].map(id2x)\n",
    "adata.obs['y']=adata.obs['cell_id'].map(id2y)\n",
    "adata.obsm['spatial']=np.array(adata.obs.loc[:,['x','y']])\n",
    "adata.obs['cell type']=adata.obs['cell type'].astype('category')\n",
    "adata.obs['cell type']=adata.obs['cell type'].astype(str)\n",
    "adata.obs['cell type']=adata.obs['cell type'].astype('category')\n",
    "obs_vals = adata.obs['cell type']#.astype('category')\n",
    "obs_vals.cat.categories = obs_vals.cat.categories.astype(str)\n",
    "sc.pl.umap(adata,color='cell type',s=2)\n",
    "scv.pl.velocity_embedding_grid(adata, basis='umap',color='cell type',density=2)"
   ]
  },
  {
   "cell_type": "code",
   "execution_count": null,
   "id": "57bab834",
   "metadata": {},
   "outputs": [],
   "source": [
    "sc.set_figure_params(scanpy=True, dpi=80, dpi_save=150, frameon=True, vector_friendly=True, fontsize=14, figsize=(10,10), color_map=None, format='pdf', facecolor=None, transparent=False, ipython_format='png2x')\n",
    "scv.pl.velocity_embedding_stream(adata, basis='umap',color='cell type',density=3, legend_fontsize=3)"
   ]
  },
  {
   "cell_type": "code",
   "execution_count": null,
   "id": "80c00a7c",
   "metadata": {},
   "outputs": [],
   "source": [
    "adata.write('/media/sergio/Meninges/unprocessed_adata/dev_HE24-Men_with_cosine_sub_input_velocity_deterministic.h5ad')"
   ]
  },
  {
   "cell_type": "markdown",
   "id": "e020fdaa",
   "metadata": {},
   "source": [
    "# start with dynamic velocity"
   ]
  },
  {
   "cell_type": "code",
   "execution_count": null,
   "id": "74069cab",
   "metadata": {},
   "outputs": [],
   "source": [
    "adata=sc.read('/media/sergio/Meninges/unprocessed_adata/dev_HE24-Men_with_cosine_sub_input.h5ad')"
   ]
  },
  {
   "cell_type": "code",
   "execution_count": null,
   "id": "eee00ac5",
   "metadata": {},
   "outputs": [],
   "source": [
    "scv.pp.moments(adata)"
   ]
  },
  {
   "cell_type": "code",
   "execution_count": null,
   "id": "04b9830a",
   "metadata": {
    "scrolled": true
   },
   "outputs": [],
   "source": [
    "scv.tl.recover_dynamics(adata)\n",
    "scv.tl.velocity(adata, mode='dynamical')"
   ]
  },
  {
   "cell_type": "code",
   "execution_count": null,
   "id": "f8ebfea2",
   "metadata": {},
   "outputs": [],
   "source": [
    "adata.write('/media/sergio/Meninges/unprocessed_adata/dev_HE24-Men_with_cosine_sub_input_velocity_dynamic.h5ad')"
   ]
  },
  {
   "cell_type": "code",
   "execution_count": null,
   "id": "d7064ad0",
   "metadata": {},
   "outputs": [],
   "source": [
    "df = adata.var\n",
    "df = df[(df['fit_likelihood'] > .1) & df['velocity_genes'] == True]\n",
    "kwargs = dict(xscale='log', fontsize=16)\n",
    "with scv.GridSpec(ncols=3) as pl:\n",
    "    pl.hist(df['fit_alpha'], xlabel='transcription rate', **kwargs)\n",
    "    pl.hist(df['fit_beta'] * df['fit_scaling'], xlabel='splicing rate', xticks=[.1, .4, 1], **kwargs)\n",
    "    pl.hist(df['fit_gamma'], xlabel='degradation rate', xticks=[.1, .4, 1], **kwargs)\n",
    "\n",
    "scv.get_df(adata, 'fit*', dropna=True).head()"
   ]
  },
  {
   "cell_type": "code",
   "execution_count": null,
   "id": "e51fecf1",
   "metadata": {},
   "outputs": [],
   "source": [
    "scv.tl.velocity_graph(adata)"
   ]
  },
  {
   "cell_type": "code",
   "execution_count": null,
   "id": "7a624f8b",
   "metadata": {},
   "outputs": [],
   "source": [
    "adata.obs['x']=adata.obs['cell_id'].map(id2x)\n",
    "adata.obs['y']=adata.obs['cell_id'].map(id2y)\n",
    "adata.obsm['spatial']=np.array(adata.obs.loc[:,['x','y']])\n",
    "adata.obs['cell type']=adata.obs['cell type'].astype('category')\n",
    "adata.obs['cell type']=adata.obs['cell type'].astype(str)\n",
    "adata.obs['cell type']=adata.obs['cell type'].astype('category')\n",
    "obs_vals = adata.obs['cell type']#.astype('category')\n",
    "obs_vals.cat.categories = obs_vals.cat.categories.astype(str)\n",
    "sc.pl.umap(adata,color='cell type',s=2)\n",
    "scv.pl.velocity_embedding_grid(adata, basis='umap',color='cell type',density=2)"
   ]
  },
  {
   "cell_type": "code",
   "execution_count": null,
   "id": "70a17a43",
   "metadata": {},
   "outputs": [],
   "source": [
    "scv.tl.latent_time(adata)\n",
    "scv.pl.scatter(adata, color='latent_time', color_map='gnuplot', size=80)"
   ]
  },
  {
   "cell_type": "code",
   "execution_count": null,
   "id": "824a4ae3",
   "metadata": {},
   "outputs": [],
   "source": [
    "scv.pl.velocity_embedding_stream(adata, basis='umap',color='cell type',density=2)"
   ]
  },
  {
   "cell_type": "code",
   "execution_count": null,
   "id": "ad4770af",
   "metadata": {},
   "outputs": [],
   "source": [
    "adata.var['fit_likelihood'].sort_values(ascending=False).head(50)"
   ]
  },
  {
   "cell_type": "code",
   "execution_count": null,
   "id": "4cc7836a",
   "metadata": {},
   "outputs": [],
   "source": [
    "top_genes = adata.var['fit_likelihood'].sort_values(ascending=False).index\n",
    "scv.pl.scatter(adata, basis=top_genes[:15], ncols=5, frameon=False)"
   ]
  },
  {
   "cell_type": "code",
   "execution_count": null,
   "id": "18160412",
   "metadata": {},
   "outputs": [],
   "source": [
    "top_genes = adata.var['fit_likelihood'].sort_values(ascending=False).index\n",
    "scv.pl.scatter(adata, basis=top_genes[-20:], ncols=5, frameon=False)"
   ]
  },
  {
   "cell_type": "markdown",
   "id": "78f304e1",
   "metadata": {},
   "source": [
    "# start with stochastic velocity"
   ]
  },
  {
   "cell_type": "code",
   "execution_count": null,
   "id": "da26e4c7",
   "metadata": {},
   "outputs": [],
   "source": [
    "adata=sc.read('/media/sergio/Meninges/unprocessed_adata/dev_HE24-Men_with_cosine_sub_input.h5ad')"
   ]
  },
  {
   "cell_type": "code",
   "execution_count": null,
   "id": "8e0653ef",
   "metadata": {},
   "outputs": [],
   "source": [
    "scv.pp.filter_and_normalize(adata)\n",
    "scv.pp.moments(adata,n_neighbors=50)\n",
    "scv.tl.velocity(adata, mode='stochastic')"
   ]
  },
  {
   "cell_type": "code",
   "execution_count": null,
   "id": "90f21f9a",
   "metadata": {},
   "outputs": [],
   "source": [
    "scv.tl.velocity_graph(adata)"
   ]
  },
  {
   "cell_type": "code",
   "execution_count": null,
   "id": "4cbbe0ee",
   "metadata": {},
   "outputs": [],
   "source": [
    "scv.pl.velocity_embedding_grid(adata, basis='umap')"
   ]
  },
  {
   "cell_type": "code",
   "execution_count": null,
   "id": "1a939c3a",
   "metadata": {},
   "outputs": [],
   "source": [
    "adata.obs['x']=adata.obs['cell_id'].map(id2x)\n",
    "adata.obs['y']=adata.obs['cell_id'].map(id2y)\n",
    "adata.obsm['spatial']=np.array(adata.obs.loc[:,['x','y']])\n",
    "adata.obs['cell type']=adata.obs['cell type'].astype('category')\n",
    "adata.obs['cell type']=adata.obs['cell type'].astype(str)\n",
    "adata.obs['cell type']=adata.obs['cell type'].astype('category')\n",
    "obs_vals = adata.obs['cell type']#.astype('category')\n",
    "obs_vals.cat.categories = obs_vals.cat.categories.astype(str)\n",
    "sc.pl.umap(adata,color='cell type',s=2)\n",
    "scv.pl.velocity_embedding_grid(adata, basis='umap',color='cell type')"
   ]
  },
  {
   "cell_type": "code",
   "execution_count": null,
   "id": "cac57aaf",
   "metadata": {},
   "outputs": [],
   "source": []
  },
  {
   "cell_type": "code",
   "execution_count": null,
   "id": "5f240fd4",
   "metadata": {},
   "outputs": [],
   "source": [
    "sc.set_figure_params(scanpy=True, dpi=80, dpi_save=150, frameon=True, vector_friendly=True, fontsize=14, figsize=(10,10), color_map=None, format='pdf', facecolor=None, transparent=False, ipython_format='png2x')\n",
    "scv.pl.velocity_embedding_stream(adata, basis='umap',color='cell type',density=3, legend_fontsize=3)"
   ]
  },
  {
   "cell_type": "code",
   "execution_count": null,
   "id": "2aa37ae3",
   "metadata": {},
   "outputs": [],
   "source": [
    "adata.write('/media/sergio/Meninges/unprocessed_adata/dev_HE24-Men_with_cosine_sub_input_for_velocity.h5ad')"
   ]
  },
  {
   "cell_type": "code",
   "execution_count": null,
   "id": "a499d1cc",
   "metadata": {},
   "outputs": [],
   "source": [
    "adata=sc.read('/media/sergio/Meninges/unprocessed_adata/dev_HE24-Men_with_cosine_sub_input_for_velocity.h5ad')"
   ]
  },
  {
   "cell_type": "code",
   "execution_count": null,
   "id": "2edaa925",
   "metadata": {},
   "outputs": [],
   "source": [
    "sc.pl.umap(adata,color=['ALDH1A2','cell type'],vmax='p99')"
   ]
  },
  {
   "cell_type": "code",
   "execution_count": null,
   "id": "7bcc4ee9",
   "metadata": {},
   "outputs": [],
   "source": [
    "sc.pl.umap(adata,color=['FOXC1'],vmax='p99')"
   ]
  },
  {
   "cell_type": "code",
   "execution_count": null,
   "id": "fb71bbbc",
   "metadata": {},
   "outputs": [],
   "source": [
    "scv.pl.velocity_embedding_grid(adata, basis='umap',color='cell type')"
   ]
  },
  {
   "cell_type": "code",
   "execution_count": null,
   "id": "623bbfb9",
   "metadata": {
    "scrolled": false
   },
   "outputs": [],
   "source": [
    "sc.set_figure_params(scanpy=True, dpi=80, dpi_save=150, frameon=True, vector_friendly=True, fontsize=14, figsize=(10,10), color_map=None, format='pdf', facecolor=None, transparent=False, ipython_format='png2x')\n",
    "scv.pl.velocity_embedding_stream(adata, basis='umap',color='cell type',density=3, legend_fontsize=8)"
   ]
  },
  {
   "cell_type": "code",
   "execution_count": null,
   "id": "570edd68",
   "metadata": {},
   "outputs": [],
   "source": [
    "sc.pl.umap(adata,color=['CCN3','CDH1','SLC47A1','KCNMA1'],vmax=1) #'SLC23A6' #'PDGDS'"
   ]
  },
  {
   "cell_type": "code",
   "execution_count": null,
   "id": "a831d721",
   "metadata": {},
   "outputs": [],
   "source": [
    "sc.set_figure_params(scanpy=True, dpi=80, dpi_save=150, frameon=True, vector_friendly=True, fontsize=14, figsize=(10,10), color_map=None, format='pdf', facecolor=None, transparent=False, ipython_format='png2x')\n",
    "sc.pl.dotplot(adata,['SLC22A6','PTGDS','CCN3','CDH1','SLC47A1','KCNMA1','HHIP','MFAP5'],groupby='cell type')"
   ]
  },
  {
   "cell_type": "code",
   "execution_count": null,
   "id": "051973b0",
   "metadata": {},
   "outputs": [],
   "source": [
    "sc.set_figure_params(scanpy=True, dpi=80, dpi_save=150, frameon=True, vector_friendly=True, fontsize=14, figsize=(10,10), color_map=None, format='pdf', facecolor=None, transparent=False, ipython_format='png2x')\n",
    "scv.pl.velocity_embedding_grid(adata, basis='umap',density=2,color='cell type')"
   ]
  },
  {
   "cell_type": "code",
   "execution_count": null,
   "id": "139cf799",
   "metadata": {},
   "outputs": [],
   "source": [
    "sc.pl.umap(adata,color=['velocity_self_transition'],s=5,vmax=0.4)"
   ]
  },
  {
   "cell_type": "code",
   "execution_count": null,
   "id": "f22acd95",
   "metadata": {},
   "outputs": [],
   "source": [
    "adata.obs['cosine']=adata.obs['cell_id'].map(id2cosine)"
   ]
  },
  {
   "cell_type": "code",
   "execution_count": null,
   "id": "60932c61",
   "metadata": {},
   "outputs": [],
   "source": [
    "sc.pl.umap(adata,color='cosine',cmap='coolwarm',vmax='p95')"
   ]
  },
  {
   "cell_type": "code",
   "execution_count": null,
   "id": "37162109",
   "metadata": {},
   "outputs": [],
   "source": [
    "adata.obsm['spatial']=np.array(pd.DataFrame(adata.obsm['X_spatial']).fillna(0))\n",
    "adata.obsm['X_spatial']=np.array(pd.DataFrame(adata.obsm['X_spatial']).fillna(0))"
   ]
  },
  {
   "cell_type": "code",
   "execution_count": null,
   "id": "01121e18",
   "metadata": {},
   "outputs": [],
   "source": [
    "sc.set_figure_params(scanpy=True, dpi=80, dpi_save=150, frameon=True, vector_friendly=True, fontsize=14, figsize=(20,20), color_map=None, format='pdf', facecolor=None, transparent=False, ipython_format='png2x')\n",
    "sc.pl.spatial(adata,spot_size=10,color='cell type',legend_loc=None)"
   ]
  },
  {
   "cell_type": "markdown",
   "id": "bce49c1f",
   "metadata": {},
   "source": [
    "# Analysis of Dura trajectories"
   ]
  },
  {
   "cell_type": "code",
   "execution_count": null,
   "id": "4e65fe34",
   "metadata": {},
   "outputs": [],
   "source": [
    "selected=['Dura-outer 2','Dura-outer 3','Dura-inner','Dura-outer cycling','Future skull bone boundaries','Future inner skull bone']\n",
    "adc=adata[adata.obs['cell type'].isin(selected)].copy()\n",
    "sc.pp.neighbors(adc,n_neighbors=20,n_pcs=0)\n",
    "sc.tl.umap(adc,min_dist=0.2)\n",
    "sc.tl.leiden(adc,key_added='leiden_sub')"
   ]
  },
  {
   "cell_type": "code",
   "execution_count": null,
   "id": "ce6ff8e9",
   "metadata": {},
   "outputs": [],
   "source": [
    "sc.set_figure_params(scanpy=True, dpi=80, dpi_save=150, frameon=True, vector_friendly=True, fontsize=14, figsize=(6,6), color_map=None, format='pdf', facecolor=None, transparent=False, ipython_format='png2x')\n",
    "sc.pl.umap(adc,color='cell type',s=20)"
   ]
  },
  {
   "cell_type": "code",
   "execution_count": null,
   "id": "69224b57",
   "metadata": {},
   "outputs": [],
   "source": [
    "scv.pp.filter_and_normalize(adc)\n",
    "scv.pp.moments(adc)\n",
    "scv.tl.velocity(adc, mode='stochastic')\n",
    "scv.tl.velocity_graph(adc)"
   ]
  },
  {
   "cell_type": "code",
   "execution_count": null,
   "id": "439baca0",
   "metadata": {},
   "outputs": [],
   "source": [
    "scv.pl.velocity_embedding_grid(adc, basis='umap',color='cell type')\n",
    "scv.pl.velocity_embedding_stream(adc, basis='umap',color='cell type')\n",
    "scv.pl.velocity_embedding_grid(adc, basis='spatial',color='cell type',density=1,n_neighbors=None,smooth=1.5)"
   ]
  },
  {
   "cell_type": "code",
   "execution_count": null,
   "id": "56cf3b86",
   "metadata": {},
   "outputs": [],
   "source": [
    "scv.pl.velocity_embedding_grid(adc, basis='spatial',color='leiden_sub',density=1,n_neighbors=None,smooth=1.5)"
   ]
  },
  {
   "cell_type": "code",
   "execution_count": null,
   "id": "b87b8881",
   "metadata": {},
   "outputs": [],
   "source": [
    "sc.pl.umap(adc,color='COL15A1',vmax=1)"
   ]
  },
  {
   "cell_type": "code",
   "execution_count": null,
   "id": "2d409d5f",
   "metadata": {},
   "outputs": [],
   "source": [
    "sc.pl.umap(adc,color='leiden_sub')"
   ]
  },
  {
   "cell_type": "code",
   "execution_count": null,
   "id": "a6e48d9e",
   "metadata": {},
   "outputs": [],
   "source": [
    "sc.tl.rank_genes_groups(adc, groupby='leiden_sub', method='wilcoxon')\n",
    "sc.pl.rank_genes_groups_dotplot(adc, n_genes=5, swap_axes=False)#,save='deg.pdf')"
   ]
  },
  {
   "cell_type": "code",
   "execution_count": null,
   "id": "57a4b02f",
   "metadata": {},
   "outputs": [],
   "source": [
    "sc.pl.spatial(adc,color='COL15A1',vmax='p99',spot_size=20)"
   ]
  },
  {
   "cell_type": "code",
   "execution_count": null,
   "id": "4b92c0d8",
   "metadata": {},
   "outputs": [],
   "source": [
    "scv.tl.velocity_confidence(adc)\n",
    "keys = 'velocity_length', 'velocity_confidence'\n",
    "scv.pl.scatter(adc, c=keys, cmap='coolwarm', perc=[5, 95])"
   ]
  },
  {
   "cell_type": "code",
   "execution_count": null,
   "id": "d9ab74f7",
   "metadata": {},
   "outputs": [],
   "source": [
    "scv.pl.velocity_embedding(adc, arrow_length=6, arrow_size=2, dpi=120,color='cell type')"
   ]
  },
  {
   "cell_type": "code",
   "execution_count": null,
   "id": "d82dae63",
   "metadata": {},
   "outputs": [],
   "source": [
    "scv.tl.rank_velocity_genes(adc, groupby='cell type', min_corr=.3)\n",
    "df = scv.DataFrame(adc.uns['rank_velocity_genes']['names'])\n",
    "df.head()"
   ]
  },
  {
   "cell_type": "code",
   "execution_count": null,
   "id": "54924e82",
   "metadata": {},
   "outputs": [],
   "source": [
    "kwargs = dict(frameon=False, size=10, linewidth=1.5,\n",
    "              add_outline='Dura-inner,Dura-outer 2')\n",
    "\n",
    "scv.pl.scatter(adc, df['Dura-inner'][:5], ylabel='Dura-inner',color='cell type')\n",
    "scv.pl.scatter(adc, df['Dura-outer 2'][:5], ylabel='Dura-outer 2',color='cell type')"
   ]
  },
  {
   "cell_type": "code",
   "execution_count": null,
   "id": "7d7324f5",
   "metadata": {},
   "outputs": [],
   "source": [
    "scv.pl.velocity(adc, ['KLF5','DCLK1','MME','AIF1'], ncols=2, add_outline=True)"
   ]
  },
  {
   "cell_type": "code",
   "execution_count": null,
   "id": "1df7a19f",
   "metadata": {},
   "outputs": [],
   "source": [
    "adc.write('/media/sergio/Meninges/unprocessed_adata/dev_HE24-Men_DURA_velocity.h5ad')"
   ]
  },
  {
   "cell_type": "markdown",
   "id": "6cf8bf47",
   "metadata": {},
   "source": [
    "# Analysis of pia/arachnoid diff trajectories"
   ]
  },
  {
   "cell_type": "code",
   "execution_count": null,
   "id": "6fa327b5",
   "metadata": {},
   "outputs": [],
   "source": [
    "selected=['Pia','Arachnoid']\n",
    "adc=adata[adata.obs['cell type'].isin(selected)].copy()\n",
    "sc.pp.neighbors(adc,n_neighbors=10,n_pcs=0)\n",
    "sc.tl.umap(adc,min_dist=0.1)\n",
    "sc.tl.leiden(adc,key_added='leiden_sub')"
   ]
  },
  {
   "cell_type": "code",
   "execution_count": null,
   "id": "8ff8943e",
   "metadata": {},
   "outputs": [],
   "source": [
    "sc.pl.umap(adc,color='cell type')"
   ]
  },
  {
   "cell_type": "code",
   "execution_count": null,
   "id": "a11ee0b0",
   "metadata": {},
   "outputs": [],
   "source": [
    "scv.pp.filter_and_normalize(adc)\n",
    "scv.pp.moments(adc)\n",
    "scv.tl.velocity(adc, mode='stochastic')\n",
    "scv.tl.velocity_graph(adc)"
   ]
  },
  {
   "cell_type": "code",
   "execution_count": null,
   "id": "b34a1ee0",
   "metadata": {},
   "outputs": [],
   "source": [
    "scv.pl.velocity_embedding_grid(adc, basis='umap',color='cell type')\n",
    "scv.pl.velocity_embedding_stream(adc, basis='umap',color='cell type')\n",
    "scv.pl.velocity_embedding_grid(adc, basis='spatial',color='cell type',density=1,n_neighbors=None)"
   ]
  },
  {
   "cell_type": "code",
   "execution_count": null,
   "id": "f5faf647",
   "metadata": {},
   "outputs": [],
   "source": [
    "adc.write('/media/sergio/Meninges/unprocessed_adata/dev_HE24-Men_PIA_velocity.h5ad')"
   ]
  },
  {
   "cell_type": "code",
   "execution_count": null,
   "id": "7c1be914",
   "metadata": {},
   "outputs": [],
   "source": [
    "adc=sc.read('/media/sergio/Meninges/unprocessed_adata/dev_HE24-Men_PIA_velocity.h5ad')"
   ]
  },
  {
   "cell_type": "code",
   "execution_count": null,
   "id": "1462f575",
   "metadata": {},
   "outputs": [],
   "source": [
    "sc.pl.umap(adc,color=['LAMC3','COL15A1','SLC1A3','FOXC1','NID1','SLC22A6','FXYD5','SLC7A11','CCN3','APOD'],vmax='p99',s=40,ncols=2)"
   ]
  },
  {
   "cell_type": "code",
   "execution_count": null,
   "id": "75ed8fb2",
   "metadata": {},
   "outputs": [],
   "source": [
    "scv.tl.velocity_confidence(adc)\n",
    "keys = 'velocity_length', 'velocity_confidence'\n",
    "scv.pl.scatter(adc, c=keys, cmap='coolwarm', perc=[5, 95])"
   ]
  },
  {
   "cell_type": "markdown",
   "id": "ee613299",
   "metadata": {},
   "source": [
    "# Neuronal trajectories"
   ]
  },
  {
   "cell_type": "code",
   "execution_count": null,
   "id": "02abe2e3",
   "metadata": {},
   "outputs": [],
   "source": [
    "selected=['SVZ-IZ', 'Inner SVZ-IZ','IZ-cortical plate','Anterior cortical plate','Cortical Plate',\n",
    "         'Outer cortical plate','Subpallium VZ','VZ','Cortical plate cells','SVZ','Inner SVZ ','Cortical plate']\n",
    "adata.obs['selected']=adata.obs['cell type'].isin(selected).astype(str)"
   ]
  },
  {
   "cell_type": "code",
   "execution_count": null,
   "id": "f30ff5fc",
   "metadata": {},
   "outputs": [],
   "source": [
    "adc=adata[adata.obs['cell type'].isin(selected)].copy()\n",
    "sc.pp.neighbors(adc,n_neighbors=10,n_pcs=0)\n",
    "sc.tl.umap(adc,min_dist=0.1)\n",
    "sc.tl.leiden(adc,key_added='leiden_sub')"
   ]
  },
  {
   "cell_type": "code",
   "execution_count": null,
   "id": "d64216b9",
   "metadata": {},
   "outputs": [],
   "source": [
    "scv.pp.filter_and_normalize(adc)\n",
    "scv.pp.moments(adc)\n",
    "scv.tl.velocity(adc, mode='stochastic')\n",
    "scv.tl.velocity_graph(adc)"
   ]
  },
  {
   "cell_type": "code",
   "execution_count": null,
   "id": "6e904422",
   "metadata": {},
   "outputs": [],
   "source": [
    "sc.pl.umap(adc,color='cell type')"
   ]
  },
  {
   "cell_type": "code",
   "execution_count": null,
   "id": "6f80cc9d",
   "metadata": {},
   "outputs": [],
   "source": [
    "scv.set_figure_params(dpi_save=800)\n",
    "scv.pl.velocity_embedding_grid(adc, basis='umap',color='cell type',arrow_size=3,arrow_length=3,arrow_color='black',density=0.7,save='spatial-velo_umap.png',alpha=0.9,figsize=(10,10),s=2)"
   ]
  },
  {
   "cell_type": "code",
   "execution_count": null,
   "id": "0e442528",
   "metadata": {},
   "outputs": [],
   "source": [
    "scv.pl.velocity_embedding_stream(adc, basis='spatial',color='cell type',legend_loc='right margin',s=20,save='spati.png',dpi=300)"
   ]
  },
  {
   "cell_type": "code",
   "execution_count": null,
   "id": "5df3cfbd",
   "metadata": {},
   "outputs": [],
   "source": [
    "scv.pl.velocity_embedding_grid(adc, basis='umap',color='cell type')\n",
    "scv.pl.velocity_embedding_stream(adc, basis='umap',color='cell type',legend_loc='right margin')\n",
    "scv.pl.velocity_embedding_grid(adc, basis='spatial',color='cell type')#density=1,n_neighbors=None"
   ]
  },
  {
   "cell_type": "code",
   "execution_count": null,
   "id": "08924a62",
   "metadata": {},
   "outputs": [],
   "source": [
    "scv.pl.velocity_embedding(adc, arrow_length=2, arrow_size=5, dpi=120,color='cell type',basis='spatial',outline_width=0,linewidth=0)"
   ]
  },
  {
   "cell_type": "code",
   "execution_count": null,
   "id": "d7812f6f",
   "metadata": {},
   "outputs": [],
   "source": [
    "scv.set_figure_params(dpi_save=800)\n",
    "scv.pl.velocity_embedding_stream(adc, basis='spatial',color='cell type',density=2,figsize=(10,10),legend_loc='right margin',\n",
    "                                smooth=1,X_grid=False, V_grid=None,save='spatial_scvelo.png',alpha=0.9,s=2)"
   ]
  },
  {
   "cell_type": "code",
   "execution_count": null,
   "id": "eea37edb",
   "metadata": {},
   "outputs": [],
   "source": [
    "adc.write('/media/sergio/Meninges/unprocessed_adata/dev_HE24-Men_NEURONAL_velocity.h5ad')"
   ]
  },
  {
   "cell_type": "code",
   "execution_count": null,
   "id": "14be6a6e",
   "metadata": {},
   "outputs": [],
   "source": [
    "adc=sc.read('/media/sergio/Meninges/unprocessed_adata/dev_HE24-Men_NEURONAL_velocity.h5ad')"
   ]
  },
  {
   "cell_type": "markdown",
   "id": "b562f281",
   "metadata": {},
   "source": [
    "# General analysis"
   ]
  },
  {
   "cell_type": "code",
   "execution_count": null,
   "id": "193726c3",
   "metadata": {},
   "outputs": [],
   "source": [
    "sc.set_figure_params(scanpy=True, dpi=80, dpi_save=150, frameon=True, vector_friendly=True, fontsize=14, figsize=(10,10), color_map=None, format='pdf', facecolor=None, transparent=False, ipython_format='png2x')\n",
    "scv.pl.velocity_embedding_stream(adata, basis='spatial',color='cell type',density=3)"
   ]
  },
  {
   "cell_type": "code",
   "execution_count": null,
   "id": "eefb5ddc",
   "metadata": {},
   "outputs": [],
   "source": [
    "sc.pl.umap(adata,color='cell type')"
   ]
  },
  {
   "cell_type": "code",
   "execution_count": null,
   "id": "b8a605f3",
   "metadata": {},
   "outputs": [],
   "source": [
    "sc.set_figure_params(scanpy=True, dpi=80, dpi_save=150, frameon=True, vector_friendly=True, fontsize=14, figsize=(10,10), color_map=None, format='pdf', facecolor=None, transparent=False, ipython_format='png2x')\n",
    "scv.pl.velocity_embedding_stream(adata, basis='spatial',color='cell type',density=10,smooth=1)"
   ]
  },
  {
   "cell_type": "code",
   "execution_count": null,
   "id": "f7cb9506",
   "metadata": {},
   "outputs": [],
   "source": [
    "scv.pl.scatter(adata, basis=adata.var.index[0:15], ncols=3,color='cell type',s=30)"
   ]
  },
  {
   "cell_type": "code",
   "execution_count": null,
   "id": "d81049d4",
   "metadata": {
    "scrolled": true
   },
   "outputs": [],
   "source": [
    "for g in adata.var.index[31:50]:\n",
    "    scv.pl.velocity(adata,[g], ncols=2)"
   ]
  },
  {
   "cell_type": "code",
   "execution_count": null,
   "id": "abf90559",
   "metadata": {},
   "outputs": [],
   "source": []
  },
  {
   "cell_type": "code",
   "execution_count": null,
   "id": "552c3fe0",
   "metadata": {},
   "outputs": [],
   "source": [
    "scv.tl.velocity_confidence(adata)\n",
    "keys = 'velocity_length', 'velocity_confidence'\n",
    "scv.pl.scatter(adata, c=keys, cmap='coolwarm', perc=[5, 95])"
   ]
  },
  {
   "cell_type": "code",
   "execution_count": null,
   "id": "3dccefbf",
   "metadata": {},
   "outputs": [],
   "source": [
    "adata=sc.read('/media/sergio/Meninges/unprocessed_adata/dev_HE24-Men_with_cosine_sub_input.h5ad')"
   ]
  },
  {
   "cell_type": "code",
   "execution_count": null,
   "id": "5628c738",
   "metadata": {},
   "outputs": [],
   "source": [
    "sc.set_figure_params(scanpy=True, dpi=80, dpi_save=150, frameon=True, vector_friendly=True, fontsize=14, figsize=(10,10), color_map=None, format='pdf', facecolor=None, transparent=False, ipython_format='png2x')\n",
    "scv.pl.velocity_embedding_stream(adata, basis='umap',color='cell type',density=3, legend_fontsize=3)"
   ]
  },
  {
   "cell_type": "code",
   "execution_count": null,
   "id": "996d5d82",
   "metadata": {},
   "outputs": [],
   "source": []
  },
  {
   "cell_type": "code",
   "execution_count": null,
   "id": "e16ba2a0",
   "metadata": {},
   "outputs": [],
   "source": []
  },
  {
   "cell_type": "code",
   "execution_count": null,
   "id": "434c608c",
   "metadata": {},
   "outputs": [],
   "source": []
  },
  {
   "cell_type": "code",
   "execution_count": null,
   "id": "4112d2b5",
   "metadata": {},
   "outputs": [],
   "source": [
    "sc.pp.subsample(adata,0.1)"
   ]
  },
  {
   "cell_type": "code",
   "execution_count": null,
   "id": "7bba3084",
   "metadata": {},
   "outputs": [],
   "source": [
    "scv.tl.recover_dynamics(adata)"
   ]
  },
  {
   "cell_type": "code",
   "execution_count": null,
   "id": "8af2d257",
   "metadata": {},
   "outputs": [],
   "source": [
    "scv.tl.recover_dynamics(adata)\n",
    "scv.tl.velocity(adata, mode='dynamical')"
   ]
  },
  {
   "cell_type": "code",
   "execution_count": null,
   "id": "b6247a50",
   "metadata": {},
   "outputs": [],
   "source": [
    "adata.write('/media/sergio/Meninges/unprocessed_adata/dev_HE24-Men_with_cosine_sub_input_01_dynamical_model.h5ad')"
   ]
  },
  {
   "cell_type": "code",
   "execution_count": null,
   "id": "20b5aa54",
   "metadata": {},
   "outputs": [],
   "source": [
    "df = adata.var\n",
    "df = df[(df['fit_likelihood'] > .1) & df['velocity_genes'] == True]\n",
    "\n",
    "kwargs = dict(xscale='log', fontsize=16)\n",
    "with scv.GridSpec(ncols=3) as pl:\n",
    "    pl.hist(df['fit_alpha'], xlabel='transcription rate', **kwargs)\n",
    "    pl.hist(df['fit_beta'] * df['fit_scaling'], xlabel='splicing rate', xticks=[.1, .4, 1], **kwargs)\n",
    "    pl.hist(df['fit_gamma'], xlabel='degradation rate', xticks=[.1, .4, 1], **kwargs)\n",
    "\n",
    "scv.get_df(adata, 'fit*', dropna=True).head()"
   ]
  },
  {
   "cell_type": "code",
   "execution_count": null,
   "id": "18a4d231",
   "metadata": {},
   "outputs": [],
   "source": []
  },
  {
   "cell_type": "code",
   "execution_count": null,
   "id": "64b2d43e",
   "metadata": {},
   "outputs": [],
   "source": []
  },
  {
   "cell_type": "code",
   "execution_count": null,
   "id": "c4b938b4",
   "metadata": {},
   "outputs": [],
   "source": [
    "#adataneigh=sc.read('/media/sergio/Meninges/unprocessed_adata/dev_HE27a_EdgeClust_pcw6.h5ad')"
   ]
  },
  {
   "cell_type": "code",
   "execution_count": null,
   "id": "a553b47c",
   "metadata": {},
   "outputs": [],
   "source": [
    "adata"
   ]
  },
  {
   "cell_type": "code",
   "execution_count": null,
   "id": "0d3975ef",
   "metadata": {},
   "outputs": [],
   "source": [
    "adataneigh.obs['x_umap']=[e[0] for e in  adataneigh.obsm['X_umap']]\n",
    "adataneigh.obs['y_umap']=[e[1] for e in  adataneigh.obsm['X_umap']]"
   ]
  },
  {
   "cell_type": "code",
   "execution_count": null,
   "id": "88755a09",
   "metadata": {},
   "outputs": [],
   "source": [
    "xdic=dict(zip(adataneigh.obs['cell_id'],adataneigh.obs['x_umap']))\n",
    "ydic=dict(zip(adataneigh.obs['cell_id'],adataneigh.obs['y_umap']))"
   ]
  },
  {
   "cell_type": "code",
   "execution_count": null,
   "id": "9b6aed3e",
   "metadata": {},
   "outputs": [],
   "source": [
    "adata.obs['edge_X']=adata.obs['cell_id'].map(xdic)\n",
    "adata.obs['edge_Y']=adata.obs['cell_id'].map(ydic)"
   ]
  },
  {
   "cell_type": "code",
   "execution_count": null,
   "id": "13d24bc2",
   "metadata": {},
   "outputs": [],
   "source": [
    "adata.obsm['edge']=np.array(adata.obs.loc[:,['edge_X','edge_Y']])"
   ]
  },
  {
   "cell_type": "code",
   "execution_count": null,
   "id": "5085ea5b",
   "metadata": {},
   "outputs": [],
   "source": []
  },
  {
   "cell_type": "code",
   "execution_count": null,
   "id": "4c0f98ab",
   "metadata": {
    "scrolled": false
   },
   "outputs": [],
   "source": [
    "sc.set_figure_params(scanpy=True, dpi=80, dpi_save=150, frameon=True, vector_friendly=True, fontsize=14, figsize=(10,10), color_map=None, format='pdf', facecolor=None, transparent=False, ipython_format='png2x')\n",
    "scv.pl.velocity_embedding_stream(adata, basis='edge',color='cell type',density=3)"
   ]
  },
  {
   "cell_type": "code",
   "execution_count": null,
   "id": "aee0c1f5",
   "metadata": {},
   "outputs": [],
   "source": []
  },
  {
   "cell_type": "code",
   "execution_count": null,
   "id": "8cc23418",
   "metadata": {},
   "outputs": [],
   "source": [
    "scv.pl.velocity_embedding(adata, arrow_length=3, arrow_size=2, dpi=120,color='cell type')"
   ]
  },
  {
   "cell_type": "code",
   "execution_count": null,
   "id": "963d6934",
   "metadata": {},
   "outputs": [],
   "source": [
    "pathsave='/media/sergio/Meninges/nuclei_adata/meninges_pcw6_velocity.h5ad'\n",
    "adata.write(pathsave)"
   ]
  },
  {
   "cell_type": "code",
   "execution_count": null,
   "id": "99d70709",
   "metadata": {},
   "outputs": [],
   "source": [
    "pathsave='/media/sergio/Meninges/nuclei_adata/meninges_pcw9_velocity.h5ad'\n",
    "adata2=sc.read(pathsave)"
   ]
  },
  {
   "cell_type": "code",
   "execution_count": null,
   "id": "a5fe864e",
   "metadata": {},
   "outputs": [],
   "source": []
  },
  {
   "cell_type": "code",
   "execution_count": null,
   "id": "97103d44",
   "metadata": {},
   "outputs": [],
   "source": []
  },
  {
   "cell_type": "code",
   "execution_count": null,
   "id": "d46f484d",
   "metadata": {},
   "outputs": [],
   "source": []
  }
 ],
 "metadata": {
  "kernelspec": {
   "display_name": "scvelo",
   "language": "python",
   "name": "scvelo"
  },
  "language_info": {
   "codemirror_mode": {
    "name": "ipython",
    "version": 3
   },
   "file_extension": ".py",
   "mimetype": "text/x-python",
   "name": "python",
   "nbconvert_exporter": "python",
   "pygments_lexer": "ipython3",
   "version": "3.8.10"
  }
 },
 "nbformat": 4,
 "nbformat_minor": 5
}
