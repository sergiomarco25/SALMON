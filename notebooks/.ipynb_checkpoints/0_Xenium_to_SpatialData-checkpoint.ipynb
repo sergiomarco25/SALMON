{
 "cells": [
  {
   "cell_type": "code",
   "execution_count": 1,
   "id": "b2ae0d48",
   "metadata": {},
   "outputs": [
    {
     "name": "stderr",
     "output_type": "stream",
     "text": [
      "/home/sergio/anaconda3/envs/spatialdata/lib/python3.9/site-packages/geopandas/_compat.py:124: UserWarning: The Shapely GEOS version (3.11.1-CAPI-1.17.1) is incompatible with the GEOS version PyGEOS was compiled with (3.10.4-CAPI-1.16.2). Conversions between both will be slow.\n",
      "  warnings.warn(\n",
      "/home/sergio/anaconda3/envs/spatialdata/lib/python3.9/site-packages/spatialdata/__init__.py:9: UserWarning: Geopandas was set to use PyGEOS, changing to shapely 2.0 with:\n",
      "\n",
      "\tgeopandas.options.use_pygeos = True\n",
      "\n",
      "If you intended to use PyGEOS, set the option to False.\n",
      "  _check_geopandas_using_shapely()\n"
     ]
    }
   ],
   "source": [
    "import spatialdata as sd"
   ]
  },
  {
   "cell_type": "code",
   "execution_count": 2,
   "id": "8a4aedbb",
   "metadata": {},
   "outputs": [],
   "source": [
    "from spatialdata_io import xenium"
   ]
  },
  {
   "cell_type": "code",
   "execution_count": 3,
   "id": "e843eed1",
   "metadata": {},
   "outputs": [],
   "source": [
    "path='/media/sergio/Meninges/meninges/20230705__20230705_MENINGES_ELIN_run2/output-XETG00047__0005264__HE27a__20230705__134603'\n"
   ]
  },
  {
   "cell_type": "code",
   "execution_count": null,
   "id": "096b5b4b",
   "metadata": {},
   "outputs": [
    {
     "name": "stdout",
     "output_type": "stream",
     "text": [
      "\u001b[34mINFO    \u001b[0m reading                                                                                                   \n",
      "         \u001b[35m/media/sergio/Meninges/meninges/20230705__20230705_MENINGES_ELIN_run2/output-XETG00047__0005264__HE27a__20\u001b[0m\n",
      "         \u001b[35m230705__134603/\u001b[0m\u001b[95mcell_feature_matrix.h5\u001b[0m                                                                     \n"
     ]
    },
    {
     "name": "stderr",
     "output_type": "stream",
     "text": [
      "/home/sergio/anaconda3/envs/spatialdata/lib/python3.9/site-packages/spatialdata_io/readers/xenium.py:194: UserWarning: Converting `region_key: region` to categorical dtype.\n",
      "  table = TableModel.parse(adata, region=specs[\"region\"], region_key=\"region\", instance_key=str(XeniumKeys.CELL_ID))\n"
     ]
    }
   ],
   "source": [
    "sdata=xenium(path)"
   ]
  },
  {
   "cell_type": "code",
   "execution_count": null,
   "id": "6911d31e",
   "metadata": {},
   "outputs": [],
   "source": [
    "path_to_write=''"
   ]
  },
  {
   "cell_type": "code",
   "execution_count": null,
   "id": "c0a8fc52",
   "metadata": {},
   "outputs": [],
   "source": [
    "sdata=spatialdata_io.xenium(path)"
   ]
  }
 ],
 "metadata": {
  "kernelspec": {
   "display_name": "SpatialData2",
   "language": "python",
   "name": "spatialdata2"
  },
  "language_info": {
   "codemirror_mode": {
    "name": "ipython",
    "version": 3
   },
   "file_extension": ".py",
   "mimetype": "text/x-python",
   "name": "python",
   "nbconvert_exporter": "python",
   "pygments_lexer": "ipython3",
   "version": "3.9.16"
  }
 },
 "nbformat": 4,
 "nbformat_minor": 5
}
