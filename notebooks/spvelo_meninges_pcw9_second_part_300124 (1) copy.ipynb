{
 "cells": [
  {
   "cell_type": "code",
   "execution_count": 1,
   "id": "9a215677",
   "metadata": {},
   "outputs": [
    {
     "name": "stdout",
     "output_type": "stream",
     "text": [
      "Intel MKL WARNING: Support of Intel(R) Streaming SIMD Extensions 4.2 (Intel(R) SSE4.2) enabled only processors has been deprecated. Intel oneAPI Math Kernel Library 2025.0 will require Intel(R) Advanced Vector Extensions (Intel(R) AVX) instructions.\n",
      "Intel MKL WARNING: Support of Intel(R) Streaming SIMD Extensions 4.2 (Intel(R) SSE4.2) enabled only processors has been deprecated. Intel oneAPI Math Kernel Library 2025.0 will require Intel(R) Advanced Vector Extensions (Intel(R) AVX) instructions.\n"
     ]
    }
   ],
   "source": [
    "import scvelo as scv\n",
    "import scanpy as sc\n",
    "import pandas as pd\n",
    "import numpy as np\n",
    "import matplotlib.pyplot as plt\n",
    "import os\n",
    "from pathlib import Path"
   ]
  },
  {
   "cell_type": "code",
   "execution_count": 2,
   "id": "6e28c578",
   "metadata": {},
   "outputs": [
    {
     "data": {
      "text/plain": [
       "'/Users/omercagatay/Desktop/Thesis/git_repo/SALMON/notebooks'"
      ]
     },
     "execution_count": 2,
     "metadata": {},
     "output_type": "execute_result"
    }
   ],
   "source": [
    "notebook_dir = os.getcwd()\n",
    "notebook_dir"
   ]
  },
  {
   "cell_type": "code",
   "execution_count": 3,
   "id": "25b38f98",
   "metadata": {},
   "outputs": [
    {
     "data": {
      "text/plain": [
       "'/Users/omercagatay/Desktop/Thesis'"
      ]
     },
     "execution_count": 3,
     "metadata": {},
     "output_type": "execute_result"
    }
   ],
   "source": [
    "abs_path = str(Path(notebook_dir).parents[2])\n",
    "os.chdir(abs_path)\n",
    "os.getcwd()"
   ]
  },
  {
   "cell_type": "markdown",
   "id": "d3018c74",
   "metadata": {},
   "source": [
    "# Cell Feature Matrix"
   ]
  },
  {
   "cell_type": "code",
   "execution_count": 4,
   "id": "9c81086f",
   "metadata": {},
   "outputs": [
    {
     "data": {
      "text/plain": [
       "AnnData object with n_obs × n_vars = 1355849 × 379\n",
       "    var: 'gene_ids', 'feature_types', 'genome'"
      ]
     },
     "execution_count": 4,
     "metadata": {},
     "output_type": "execute_result"
    }
   ],
   "source": [
    "adata = sc.read_10x_h5('data/Xenium_V1_mouse_pup_outs/cell_feature_matrix.h5') \n",
    "adata"
   ]
  },
  {
   "cell_type": "code",
   "execution_count": 5,
   "id": "03b6f2cd",
   "metadata": {},
   "outputs": [],
   "source": [
    "adata.var = adata.var.rename(columns={\"gene_ids\":\"Ensemble ID\"})\n",
    "adata.var.reset_index(inplace=True, drop = False, names= \"gene_name\")"
   ]
  },
  {
   "cell_type": "code",
   "execution_count": 6,
   "id": "9ac54614",
   "metadata": {},
   "outputs": [
    {
     "data": {
      "text/html": [
       "<div>\n",
       "<style scoped>\n",
       "    .dataframe tbody tr th:only-of-type {\n",
       "        vertical-align: middle;\n",
       "    }\n",
       "\n",
       "    .dataframe tbody tr th {\n",
       "        vertical-align: top;\n",
       "    }\n",
       "\n",
       "    .dataframe thead th {\n",
       "        text-align: right;\n",
       "    }\n",
       "</style>\n",
       "<table border=\"1\" class=\"dataframe\">\n",
       "  <thead>\n",
       "    <tr style=\"text-align: right;\">\n",
       "      <th></th>\n",
       "      <th>gene_name</th>\n",
       "      <th>Ensemble ID</th>\n",
       "      <th>feature_types</th>\n",
       "      <th>genome</th>\n",
       "    </tr>\n",
       "  </thead>\n",
       "  <tbody>\n",
       "    <tr>\n",
       "      <th>0</th>\n",
       "      <td>0610005C13Rik</td>\n",
       "      <td>ENSMUSG00000109644</td>\n",
       "      <td>Gene Expression</td>\n",
       "      <td>Unknown</td>\n",
       "    </tr>\n",
       "    <tr>\n",
       "      <th>1</th>\n",
       "      <td>1110017D15Rik</td>\n",
       "      <td>ENSMUSG00000028441</td>\n",
       "      <td>Gene Expression</td>\n",
       "      <td>Unknown</td>\n",
       "    </tr>\n",
       "    <tr>\n",
       "      <th>2</th>\n",
       "      <td>2610528A11Rik</td>\n",
       "      <td>ENSMUSG00000096001</td>\n",
       "      <td>Gene Expression</td>\n",
       "      <td>Unknown</td>\n",
       "    </tr>\n",
       "    <tr>\n",
       "      <th>3</th>\n",
       "      <td>5330417C22Rik</td>\n",
       "      <td>ENSMUSG00000040412</td>\n",
       "      <td>Gene Expression</td>\n",
       "      <td>Unknown</td>\n",
       "    </tr>\n",
       "    <tr>\n",
       "      <th>4</th>\n",
       "      <td>6330403K07Rik</td>\n",
       "      <td>ENSMUSG00000018451</td>\n",
       "      <td>Gene Expression</td>\n",
       "      <td>Unknown</td>\n",
       "    </tr>\n",
       "    <tr>\n",
       "      <th>...</th>\n",
       "      <td>...</td>\n",
       "      <td>...</td>\n",
       "      <td>...</td>\n",
       "      <td>...</td>\n",
       "    </tr>\n",
       "    <tr>\n",
       "      <th>374</th>\n",
       "      <td>Vsnl1</td>\n",
       "      <td>ENSMUSG00000054459</td>\n",
       "      <td>Gene Expression</td>\n",
       "      <td>Unknown</td>\n",
       "    </tr>\n",
       "    <tr>\n",
       "      <th>375</th>\n",
       "      <td>Vsx2</td>\n",
       "      <td>ENSMUSG00000021239</td>\n",
       "      <td>Gene Expression</td>\n",
       "      <td>Unknown</td>\n",
       "    </tr>\n",
       "    <tr>\n",
       "      <th>376</th>\n",
       "      <td>Vwf</td>\n",
       "      <td>ENSMUSG00000001930</td>\n",
       "      <td>Gene Expression</td>\n",
       "      <td>Unknown</td>\n",
       "    </tr>\n",
       "    <tr>\n",
       "      <th>377</th>\n",
       "      <td>Wif1</td>\n",
       "      <td>ENSMUSG00000020218</td>\n",
       "      <td>Gene Expression</td>\n",
       "      <td>Unknown</td>\n",
       "    </tr>\n",
       "    <tr>\n",
       "      <th>378</th>\n",
       "      <td>Wnt3</td>\n",
       "      <td>ENSMUSG00000000125</td>\n",
       "      <td>Gene Expression</td>\n",
       "      <td>Unknown</td>\n",
       "    </tr>\n",
       "  </tbody>\n",
       "</table>\n",
       "<p>379 rows × 4 columns</p>\n",
       "</div>"
      ],
      "text/plain": [
       "         gene_name         Ensemble ID    feature_types   genome\n",
       "0    0610005C13Rik  ENSMUSG00000109644  Gene Expression  Unknown\n",
       "1    1110017D15Rik  ENSMUSG00000028441  Gene Expression  Unknown\n",
       "2    2610528A11Rik  ENSMUSG00000096001  Gene Expression  Unknown\n",
       "3    5330417C22Rik  ENSMUSG00000040412  Gene Expression  Unknown\n",
       "4    6330403K07Rik  ENSMUSG00000018451  Gene Expression  Unknown\n",
       "..             ...                 ...              ...      ...\n",
       "374          Vsnl1  ENSMUSG00000054459  Gene Expression  Unknown\n",
       "375           Vsx2  ENSMUSG00000021239  Gene Expression  Unknown\n",
       "376            Vwf  ENSMUSG00000001930  Gene Expression  Unknown\n",
       "377           Wif1  ENSMUSG00000020218  Gene Expression  Unknown\n",
       "378           Wnt3  ENSMUSG00000000125  Gene Expression  Unknown\n",
       "\n",
       "[379 rows x 4 columns]"
      ]
     },
     "execution_count": 6,
     "metadata": {},
     "output_type": "execute_result"
    }
   ],
   "source": [
    "adata.var"
   ]
  },
  {
   "cell_type": "code",
   "execution_count": 7,
   "id": "fda34453",
   "metadata": {},
   "outputs": [],
   "source": [
    "adata.obs.reset_index(inplace=True, drop=False, names= \"cell_id\")"
   ]
  },
  {
   "cell_type": "code",
   "execution_count": 8,
   "id": "9f1e4dd9",
   "metadata": {},
   "outputs": [
    {
     "data": {
      "text/html": [
       "<div>\n",
       "<style scoped>\n",
       "    .dataframe tbody tr th:only-of-type {\n",
       "        vertical-align: middle;\n",
       "    }\n",
       "\n",
       "    .dataframe tbody tr th {\n",
       "        vertical-align: top;\n",
       "    }\n",
       "\n",
       "    .dataframe thead th {\n",
       "        text-align: right;\n",
       "    }\n",
       "</style>\n",
       "<table border=\"1\" class=\"dataframe\">\n",
       "  <thead>\n",
       "    <tr style=\"text-align: right;\">\n",
       "      <th></th>\n",
       "      <th>cell_id</th>\n",
       "    </tr>\n",
       "  </thead>\n",
       "  <tbody>\n",
       "    <tr>\n",
       "      <th>0</th>\n",
       "      <td>aaaabgpa-1</td>\n",
       "    </tr>\n",
       "    <tr>\n",
       "      <th>1</th>\n",
       "      <td>aaaabjde-1</td>\n",
       "    </tr>\n",
       "    <tr>\n",
       "      <th>2</th>\n",
       "      <td>aaaacikn-1</td>\n",
       "    </tr>\n",
       "    <tr>\n",
       "      <th>3</th>\n",
       "      <td>aaaackbp-1</td>\n",
       "    </tr>\n",
       "    <tr>\n",
       "      <th>4</th>\n",
       "      <td>aaaacllf-1</td>\n",
       "    </tr>\n",
       "    <tr>\n",
       "      <th>...</th>\n",
       "      <td>...</td>\n",
       "    </tr>\n",
       "    <tr>\n",
       "      <th>1355844</th>\n",
       "      <td>oinfhojg-1</td>\n",
       "    </tr>\n",
       "    <tr>\n",
       "      <th>1355845</th>\n",
       "      <td>oinfhphb-1</td>\n",
       "    </tr>\n",
       "    <tr>\n",
       "      <th>1355846</th>\n",
       "      <td>oinfieej-1</td>\n",
       "    </tr>\n",
       "    <tr>\n",
       "      <th>1355847</th>\n",
       "      <td>oinfkcfi-1</td>\n",
       "    </tr>\n",
       "    <tr>\n",
       "      <th>1355848</th>\n",
       "      <td>oinfkihb-1</td>\n",
       "    </tr>\n",
       "  </tbody>\n",
       "</table>\n",
       "<p>1355849 rows × 1 columns</p>\n",
       "</div>"
      ],
      "text/plain": [
       "            cell_id\n",
       "0        aaaabgpa-1\n",
       "1        aaaabjde-1\n",
       "2        aaaacikn-1\n",
       "3        aaaackbp-1\n",
       "4        aaaacllf-1\n",
       "...             ...\n",
       "1355844  oinfhojg-1\n",
       "1355845  oinfhphb-1\n",
       "1355846  oinfieej-1\n",
       "1355847  oinfkcfi-1\n",
       "1355848  oinfkihb-1\n",
       "\n",
       "[1355849 rows x 1 columns]"
      ]
     },
     "execution_count": 8,
     "metadata": {},
     "output_type": "execute_result"
    }
   ],
   "source": [
    "adata.obs"
   ]
  },
  {
   "cell_type": "markdown",
   "id": "6adf12fe",
   "metadata": {},
   "source": [
    "# Transcripts \n",
    "- a specific area was chosen:\n",
    "- Filtered Area (µm^2): 4718255.63\n",
    "- X,Y = ([1829.62 , 5763.16],[4351.43 , 5550.92])\n",
    "<img src = \"../../../data/images/selected_location.png\" width=\"800\">\n"
   ]
  },
  {
   "cell_type": "code",
   "execution_count": 19,
   "id": "657a7fdf",
   "metadata": {},
   "outputs": [],
   "source": [
    "transcripts = pd.read_csv(\"data/Xenium_V1_mouse_pup_outs/transcripts_filtered.csv\")"
   ]
  },
  {
   "cell_type": "code",
   "execution_count": 20,
   "id": "6253200f",
   "metadata": {},
   "outputs": [
    {
     "data": {
      "text/html": [
       "<div>\n",
       "<style scoped>\n",
       "    .dataframe tbody tr th:only-of-type {\n",
       "        vertical-align: middle;\n",
       "    }\n",
       "\n",
       "    .dataframe tbody tr th {\n",
       "        vertical-align: top;\n",
       "    }\n",
       "\n",
       "    .dataframe thead th {\n",
       "        text-align: right;\n",
       "    }\n",
       "</style>\n",
       "<table border=\"1\" class=\"dataframe\">\n",
       "  <thead>\n",
       "    <tr style=\"text-align: right;\">\n",
       "      <th></th>\n",
       "      <th>Unnamed: 0</th>\n",
       "      <th>transcript_id</th>\n",
       "      <th>cell_id</th>\n",
       "      <th>overlaps_nucleus</th>\n",
       "      <th>feature_name</th>\n",
       "      <th>x_location</th>\n",
       "      <th>y_location</th>\n",
       "      <th>z_location</th>\n",
       "      <th>qv</th>\n",
       "      <th>fov_name</th>\n",
       "      <th>nucleus_distance</th>\n",
       "    </tr>\n",
       "  </thead>\n",
       "  <tbody>\n",
       "    <tr>\n",
       "      <th>0</th>\n",
       "      <td>376372</td>\n",
       "      <td>282162171478017</td>\n",
       "      <td>UNASSIGNED</td>\n",
       "      <td>0</td>\n",
       "      <td>Anxa2</td>\n",
       "      <td>1831.5410</td>\n",
       "      <td>4396.8660</td>\n",
       "      <td>22.472996</td>\n",
       "      <td>36.826744</td>\n",
       "      <td>G4</td>\n",
       "      <td>360.896850</td>\n",
       "    </tr>\n",
       "    <tr>\n",
       "      <th>1</th>\n",
       "      <td>376373</td>\n",
       "      <td>282162171478282</td>\n",
       "      <td>UNASSIGNED</td>\n",
       "      <td>0</td>\n",
       "      <td>A330076H08Rik</td>\n",
       "      <td>1964.3933</td>\n",
       "      <td>4417.3290</td>\n",
       "      <td>22.552227</td>\n",
       "      <td>40.000000</td>\n",
       "      <td>G4</td>\n",
       "      <td>256.039180</td>\n",
       "    </tr>\n",
       "    <tr>\n",
       "      <th>2</th>\n",
       "      <td>376374</td>\n",
       "      <td>282162171478570</td>\n",
       "      <td>UNASSIGNED</td>\n",
       "      <td>0</td>\n",
       "      <td>Anxa2</td>\n",
       "      <td>1982.3236</td>\n",
       "      <td>4457.7080</td>\n",
       "      <td>22.599802</td>\n",
       "      <td>40.000000</td>\n",
       "      <td>G4</td>\n",
       "      <td>230.132110</td>\n",
       "    </tr>\n",
       "    <tr>\n",
       "      <th>3</th>\n",
       "      <td>376377</td>\n",
       "      <td>282162171506407</td>\n",
       "      <td>UNASSIGNED</td>\n",
       "      <td>0</td>\n",
       "      <td>Hmgcs2</td>\n",
       "      <td>1843.5664</td>\n",
       "      <td>4436.0884</td>\n",
       "      <td>22.532753</td>\n",
       "      <td>40.000000</td>\n",
       "      <td>G4</td>\n",
       "      <td>370.543100</td>\n",
       "    </tr>\n",
       "    <tr>\n",
       "      <th>4</th>\n",
       "      <td>376378</td>\n",
       "      <td>282162171515351</td>\n",
       "      <td>UNASSIGNED</td>\n",
       "      <td>0</td>\n",
       "      <td>Celf3</td>\n",
       "      <td>1842.2109</td>\n",
       "      <td>4484.6553</td>\n",
       "      <td>22.656452</td>\n",
       "      <td>40.000000</td>\n",
       "      <td>G4</td>\n",
       "      <td>363.108400</td>\n",
       "    </tr>\n",
       "    <tr>\n",
       "      <th>...</th>\n",
       "      <td>...</td>\n",
       "      <td>...</td>\n",
       "      <td>...</td>\n",
       "      <td>...</td>\n",
       "      <td>...</td>\n",
       "      <td>...</td>\n",
       "      <td>...</td>\n",
       "      <td>...</td>\n",
       "      <td>...</td>\n",
       "      <td>...</td>\n",
       "      <td>...</td>\n",
       "    </tr>\n",
       "    <tr>\n",
       "      <th>8027937</th>\n",
       "      <td>3945921</td>\n",
       "      <td>282187942270866</td>\n",
       "      <td>amiiijhf-1</td>\n",
       "      <td>1</td>\n",
       "      <td>Krt19</td>\n",
       "      <td>5756.5327</td>\n",
       "      <td>5549.8228</td>\n",
       "      <td>26.122461</td>\n",
       "      <td>26.422700</td>\n",
       "      <td>H10</td>\n",
       "      <td>0.000000</td>\n",
       "    </tr>\n",
       "    <tr>\n",
       "      <th>8027938</th>\n",
       "      <td>3945937</td>\n",
       "      <td>282187942270897</td>\n",
       "      <td>amiiijhf-1</td>\n",
       "      <td>1</td>\n",
       "      <td>Krt19</td>\n",
       "      <td>5757.9770</td>\n",
       "      <td>5550.0537</td>\n",
       "      <td>21.278362</td>\n",
       "      <td>40.000000</td>\n",
       "      <td>H10</td>\n",
       "      <td>0.000000</td>\n",
       "    </tr>\n",
       "    <tr>\n",
       "      <th>8027939</th>\n",
       "      <td>3945943</td>\n",
       "      <td>282187942270904</td>\n",
       "      <td>amiibcmi-1</td>\n",
       "      <td>0</td>\n",
       "      <td>Krt19</td>\n",
       "      <td>5758.3780</td>\n",
       "      <td>5534.4660</td>\n",
       "      <td>23.390993</td>\n",
       "      <td>28.166980</td>\n",
       "      <td>H10</td>\n",
       "      <td>1.227634</td>\n",
       "    </tr>\n",
       "    <tr>\n",
       "      <th>8027940</th>\n",
       "      <td>3945961</td>\n",
       "      <td>282187942270950</td>\n",
       "      <td>amiiijhf-1</td>\n",
       "      <td>1</td>\n",
       "      <td>Krt19</td>\n",
       "      <td>5761.3994</td>\n",
       "      <td>5548.9434</td>\n",
       "      <td>25.935236</td>\n",
       "      <td>40.000000</td>\n",
       "      <td>H10</td>\n",
       "      <td>0.000000</td>\n",
       "    </tr>\n",
       "    <tr>\n",
       "      <th>8027941</th>\n",
       "      <td>3945967</td>\n",
       "      <td>282187942270969</td>\n",
       "      <td>amiiijhf-1</td>\n",
       "      <td>0</td>\n",
       "      <td>Krt19</td>\n",
       "      <td>5762.2515</td>\n",
       "      <td>5548.5757</td>\n",
       "      <td>23.364403</td>\n",
       "      <td>40.000000</td>\n",
       "      <td>H10</td>\n",
       "      <td>0.675128</td>\n",
       "    </tr>\n",
       "  </tbody>\n",
       "</table>\n",
       "<p>8027942 rows × 11 columns</p>\n",
       "</div>"
      ],
      "text/plain": [
       "         Unnamed: 0    transcript_id     cell_id  overlaps_nucleus  \\\n",
       "0            376372  282162171478017  UNASSIGNED                 0   \n",
       "1            376373  282162171478282  UNASSIGNED                 0   \n",
       "2            376374  282162171478570  UNASSIGNED                 0   \n",
       "3            376377  282162171506407  UNASSIGNED                 0   \n",
       "4            376378  282162171515351  UNASSIGNED                 0   \n",
       "...             ...              ...         ...               ...   \n",
       "8027937     3945921  282187942270866  amiiijhf-1                 1   \n",
       "8027938     3945937  282187942270897  amiiijhf-1                 1   \n",
       "8027939     3945943  282187942270904  amiibcmi-1                 0   \n",
       "8027940     3945961  282187942270950  amiiijhf-1                 1   \n",
       "8027941     3945967  282187942270969  amiiijhf-1                 0   \n",
       "\n",
       "          feature_name  x_location  y_location  z_location         qv  \\\n",
       "0                Anxa2   1831.5410   4396.8660   22.472996  36.826744   \n",
       "1        A330076H08Rik   1964.3933   4417.3290   22.552227  40.000000   \n",
       "2                Anxa2   1982.3236   4457.7080   22.599802  40.000000   \n",
       "3               Hmgcs2   1843.5664   4436.0884   22.532753  40.000000   \n",
       "4                Celf3   1842.2109   4484.6553   22.656452  40.000000   \n",
       "...                ...         ...         ...         ...        ...   \n",
       "8027937          Krt19   5756.5327   5549.8228   26.122461  26.422700   \n",
       "8027938          Krt19   5757.9770   5550.0537   21.278362  40.000000   \n",
       "8027939          Krt19   5758.3780   5534.4660   23.390993  28.166980   \n",
       "8027940          Krt19   5761.3994   5548.9434   25.935236  40.000000   \n",
       "8027941          Krt19   5762.2515   5548.5757   23.364403  40.000000   \n",
       "\n",
       "        fov_name  nucleus_distance  \n",
       "0             G4        360.896850  \n",
       "1             G4        256.039180  \n",
       "2             G4        230.132110  \n",
       "3             G4        370.543100  \n",
       "4             G4        363.108400  \n",
       "...          ...               ...  \n",
       "8027937      H10          0.000000  \n",
       "8027938      H10          0.000000  \n",
       "8027939      H10          1.227634  \n",
       "8027940      H10          0.000000  \n",
       "8027941      H10          0.675128  \n",
       "\n",
       "[8027942 rows x 11 columns]"
      ]
     },
     "execution_count": 20,
     "metadata": {},
     "output_type": "execute_result"
    }
   ],
   "source": [
    "transcripts"
   ]
  },
  {
   "cell_type": "code",
   "execution_count": 51,
   "id": "ff497f53",
   "metadata": {},
   "outputs": [
    {
     "data": {
      "text/plain": [
       "cell_id\n",
       "UNASSIGNED    38795\n",
       "hbifmeic-1     1461\n",
       "hnbpmnpi-1     1418\n",
       "lcnkidde-1     1378\n",
       "glloioje-1     1364\n",
       "              ...  \n",
       "albgplki-1        1\n",
       "glnencin-1        1\n",
       "hmofpogk-1        1\n",
       "mhhlambg-1        1\n",
       "hmohoojf-1        1\n",
       "Name: count, Length: 39981, dtype: int64"
      ]
     },
     "execution_count": 51,
     "metadata": {},
     "output_type": "execute_result"
    }
   ],
   "source": [
    "transcripts.cell_id.value_counts()"
   ]
  },
  {
   "cell_type": "markdown",
   "id": "0d8f0c54",
   "metadata": {},
   "source": [
    "# Cell Summary "
   ]
  },
  {
   "cell_type": "code",
   "execution_count": 9,
   "id": "2f273086",
   "metadata": {},
   "outputs": [],
   "source": [
    "df_cells = pd.read_csv(\"data/Xenium_V1_mouse_pup_outs/cells.csv.gz\")"
   ]
  },
  {
   "cell_type": "code",
   "execution_count": 10,
   "id": "95206ddd",
   "metadata": {},
   "outputs": [
    {
     "data": {
      "text/html": [
       "<div>\n",
       "<style scoped>\n",
       "    .dataframe tbody tr th:only-of-type {\n",
       "        vertical-align: middle;\n",
       "    }\n",
       "\n",
       "    .dataframe tbody tr th {\n",
       "        vertical-align: top;\n",
       "    }\n",
       "\n",
       "    .dataframe thead th {\n",
       "        text-align: right;\n",
       "    }\n",
       "</style>\n",
       "<table border=\"1\" class=\"dataframe\">\n",
       "  <thead>\n",
       "    <tr style=\"text-align: right;\">\n",
       "      <th></th>\n",
       "      <th>cell_id</th>\n",
       "      <th>x_centroid</th>\n",
       "      <th>y_centroid</th>\n",
       "      <th>transcript_counts</th>\n",
       "      <th>control_probe_counts</th>\n",
       "      <th>control_codeword_counts</th>\n",
       "      <th>unassigned_codeword_counts</th>\n",
       "      <th>deprecated_codeword_counts</th>\n",
       "      <th>total_counts</th>\n",
       "      <th>cell_area</th>\n",
       "      <th>nucleus_area</th>\n",
       "    </tr>\n",
       "  </thead>\n",
       "  <tbody>\n",
       "    <tr>\n",
       "      <th>0</th>\n",
       "      <td>aaaabgpa-1</td>\n",
       "      <td>850.288391</td>\n",
       "      <td>10613.065430</td>\n",
       "      <td>338</td>\n",
       "      <td>0</td>\n",
       "      <td>0</td>\n",
       "      <td>0</td>\n",
       "      <td>0</td>\n",
       "      <td>338</td>\n",
       "      <td>235.264071</td>\n",
       "      <td>49.310627</td>\n",
       "    </tr>\n",
       "    <tr>\n",
       "      <th>1</th>\n",
       "      <td>aaaabjde-1</td>\n",
       "      <td>837.167175</td>\n",
       "      <td>10610.744141</td>\n",
       "      <td>319</td>\n",
       "      <td>0</td>\n",
       "      <td>0</td>\n",
       "      <td>0</td>\n",
       "      <td>0</td>\n",
       "      <td>319</td>\n",
       "      <td>246.598290</td>\n",
       "      <td>42.266252</td>\n",
       "    </tr>\n",
       "    <tr>\n",
       "      <th>2</th>\n",
       "      <td>aaaacikn-1</td>\n",
       "      <td>835.130371</td>\n",
       "      <td>10622.626953</td>\n",
       "      <td>252</td>\n",
       "      <td>0</td>\n",
       "      <td>0</td>\n",
       "      <td>0</td>\n",
       "      <td>0</td>\n",
       "      <td>252</td>\n",
       "      <td>152.041099</td>\n",
       "      <td>40.821251</td>\n",
       "    </tr>\n",
       "    <tr>\n",
       "      <th>3</th>\n",
       "      <td>aaaackbp-1</td>\n",
       "      <td>823.748047</td>\n",
       "      <td>10620.277344</td>\n",
       "      <td>276</td>\n",
       "      <td>0</td>\n",
       "      <td>0</td>\n",
       "      <td>0</td>\n",
       "      <td>0</td>\n",
       "      <td>276</td>\n",
       "      <td>232.283758</td>\n",
       "      <td>17.069063</td>\n",
       "    </tr>\n",
       "    <tr>\n",
       "      <th>4</th>\n",
       "      <td>aaaacllf-1</td>\n",
       "      <td>842.690186</td>\n",
       "      <td>10630.465820</td>\n",
       "      <td>196</td>\n",
       "      <td>0</td>\n",
       "      <td>0</td>\n",
       "      <td>0</td>\n",
       "      <td>0</td>\n",
       "      <td>196</td>\n",
       "      <td>153.170006</td>\n",
       "      <td>28.990314</td>\n",
       "    </tr>\n",
       "    <tr>\n",
       "      <th>...</th>\n",
       "      <td>...</td>\n",
       "      <td>...</td>\n",
       "      <td>...</td>\n",
       "      <td>...</td>\n",
       "      <td>...</td>\n",
       "      <td>...</td>\n",
       "      <td>...</td>\n",
       "      <td>...</td>\n",
       "      <td>...</td>\n",
       "      <td>...</td>\n",
       "      <td>...</td>\n",
       "    </tr>\n",
       "    <tr>\n",
       "      <th>1355844</th>\n",
       "      <td>oinfhojg-1</td>\n",
       "      <td>9908.918945</td>\n",
       "      <td>19650.691406</td>\n",
       "      <td>85</td>\n",
       "      <td>0</td>\n",
       "      <td>0</td>\n",
       "      <td>0</td>\n",
       "      <td>0</td>\n",
       "      <td>85</td>\n",
       "      <td>59.064377</td>\n",
       "      <td>15.804688</td>\n",
       "    </tr>\n",
       "    <tr>\n",
       "      <th>1355845</th>\n",
       "      <td>oinfhphb-1</td>\n",
       "      <td>9911.258789</td>\n",
       "      <td>19618.589844</td>\n",
       "      <td>106</td>\n",
       "      <td>0</td>\n",
       "      <td>0</td>\n",
       "      <td>0</td>\n",
       "      <td>0</td>\n",
       "      <td>106</td>\n",
       "      <td>35.402501</td>\n",
       "      <td>22.442657</td>\n",
       "    </tr>\n",
       "    <tr>\n",
       "      <th>1355846</th>\n",
       "      <td>oinfieej-1</td>\n",
       "      <td>9911.923828</td>\n",
       "      <td>19655.921875</td>\n",
       "      <td>70</td>\n",
       "      <td>0</td>\n",
       "      <td>0</td>\n",
       "      <td>0</td>\n",
       "      <td>0</td>\n",
       "      <td>70</td>\n",
       "      <td>32.331876</td>\n",
       "      <td>13.456563</td>\n",
       "    </tr>\n",
       "    <tr>\n",
       "      <th>1355847</th>\n",
       "      <td>oinfkcfi-1</td>\n",
       "      <td>9913.118164</td>\n",
       "      <td>19636.181641</td>\n",
       "      <td>64</td>\n",
       "      <td>0</td>\n",
       "      <td>0</td>\n",
       "      <td>0</td>\n",
       "      <td>0</td>\n",
       "      <td>64</td>\n",
       "      <td>32.106095</td>\n",
       "      <td>11.243907</td>\n",
       "    </tr>\n",
       "    <tr>\n",
       "      <th>1355848</th>\n",
       "      <td>oinfkihb-1</td>\n",
       "      <td>9912.643555</td>\n",
       "      <td>19623.726562</td>\n",
       "      <td>52</td>\n",
       "      <td>0</td>\n",
       "      <td>0</td>\n",
       "      <td>0</td>\n",
       "      <td>0</td>\n",
       "      <td>52</td>\n",
       "      <td>20.997657</td>\n",
       "      <td>14.675782</td>\n",
       "    </tr>\n",
       "  </tbody>\n",
       "</table>\n",
       "<p>1355849 rows × 11 columns</p>\n",
       "</div>"
      ],
      "text/plain": [
       "            cell_id   x_centroid    y_centroid  transcript_counts  \\\n",
       "0        aaaabgpa-1   850.288391  10613.065430                338   \n",
       "1        aaaabjde-1   837.167175  10610.744141                319   \n",
       "2        aaaacikn-1   835.130371  10622.626953                252   \n",
       "3        aaaackbp-1   823.748047  10620.277344                276   \n",
       "4        aaaacllf-1   842.690186  10630.465820                196   \n",
       "...             ...          ...           ...                ...   \n",
       "1355844  oinfhojg-1  9908.918945  19650.691406                 85   \n",
       "1355845  oinfhphb-1  9911.258789  19618.589844                106   \n",
       "1355846  oinfieej-1  9911.923828  19655.921875                 70   \n",
       "1355847  oinfkcfi-1  9913.118164  19636.181641                 64   \n",
       "1355848  oinfkihb-1  9912.643555  19623.726562                 52   \n",
       "\n",
       "         control_probe_counts  control_codeword_counts  \\\n",
       "0                           0                        0   \n",
       "1                           0                        0   \n",
       "2                           0                        0   \n",
       "3                           0                        0   \n",
       "4                           0                        0   \n",
       "...                       ...                      ...   \n",
       "1355844                     0                        0   \n",
       "1355845                     0                        0   \n",
       "1355846                     0                        0   \n",
       "1355847                     0                        0   \n",
       "1355848                     0                        0   \n",
       "\n",
       "         unassigned_codeword_counts  deprecated_codeword_counts  total_counts  \\\n",
       "0                                 0                           0           338   \n",
       "1                                 0                           0           319   \n",
       "2                                 0                           0           252   \n",
       "3                                 0                           0           276   \n",
       "4                                 0                           0           196   \n",
       "...                             ...                         ...           ...   \n",
       "1355844                           0                           0            85   \n",
       "1355845                           0                           0           106   \n",
       "1355846                           0                           0            70   \n",
       "1355847                           0                           0            64   \n",
       "1355848                           0                           0            52   \n",
       "\n",
       "          cell_area  nucleus_area  \n",
       "0        235.264071     49.310627  \n",
       "1        246.598290     42.266252  \n",
       "2        152.041099     40.821251  \n",
       "3        232.283758     17.069063  \n",
       "4        153.170006     28.990314  \n",
       "...             ...           ...  \n",
       "1355844   59.064377     15.804688  \n",
       "1355845   35.402501     22.442657  \n",
       "1355846   32.331876     13.456563  \n",
       "1355847   32.106095     11.243907  \n",
       "1355848   20.997657     14.675782  \n",
       "\n",
       "[1355849 rows x 11 columns]"
      ]
     },
     "execution_count": 10,
     "metadata": {},
     "output_type": "execute_result"
    }
   ],
   "source": [
    "df_cells"
   ]
  },
  {
   "cell_type": "markdown",
   "id": "aa9acb4e",
   "metadata": {},
   "source": [
    "- Way of map to cell_id to locations:\n",
    "- for Xenium outputs one can direcly copy cell summary to adata.obs"
   ]
  },
  {
   "cell_type": "code",
   "execution_count": 11,
   "id": "3556b0f9",
   "metadata": {},
   "outputs": [],
   "source": [
    "\n",
    "id2x=dict(zip(df_cells['cell_id'],df_cells['x_centroid']))\n",
    "adata.obs['x_centroid']=adata.obs['cell_id'].map(id2x)\n",
    "id2y = dict(zip(df_cells['cell_id'],df_cells['y_centroid']))\n",
    "adata.obs['y_centroid']=adata.obs['cell_id'].map(id2y)"
   ]
  },
  {
   "cell_type": "code",
   "execution_count": 12,
   "id": "cb8743e9",
   "metadata": {},
   "outputs": [],
   "source": [
    "df_adata_obs = df_cells[['cell_id','x_centroid',\"y_centroid\", \"transcript_counts\", \"total_counts\", \"cell_area\", \"nucleus_area\"]]"
   ]
  },
  {
   "cell_type": "code",
   "execution_count": 13,
   "id": "488547f4",
   "metadata": {},
   "outputs": [],
   "source": [
    "adata.obs = df_adata_obs.copy()"
   ]
  },
  {
   "cell_type": "code",
   "execution_count": 14,
   "id": "5efc4ab2",
   "metadata": {},
   "outputs": [],
   "source": [
    "del df_adata_obs\n",
    "del df_cells"
   ]
  },
  {
   "cell_type": "code",
   "execution_count": 15,
   "id": "f51686cf",
   "metadata": {},
   "outputs": [
    {
     "data": {
      "text/plain": [
       "AnnData object with n_obs × n_vars = 1355849 × 379\n",
       "    obs: 'cell_id', 'x_centroid', 'y_centroid', 'transcript_counts', 'total_counts', 'cell_area', 'nucleus_area'\n",
       "    var: 'gene_name', 'Ensemble ID', 'feature_types', 'genome'"
      ]
     },
     "execution_count": 15,
     "metadata": {},
     "output_type": "execute_result"
    }
   ],
   "source": [
    "adata"
   ]
  },
  {
   "cell_type": "code",
   "execution_count": 16,
   "id": "e28b6828",
   "metadata": {},
   "outputs": [],
   "source": [
    "adata_filtered = adata[(adata.obs[\"x_centroid\"]>=1829.62) & \n",
    "      (adata.obs[\"x_centroid\"]<=5763.16) &\n",
    "      (adata.obs[\"y_centroid\"]>=4351.43) & \n",
    "      (adata.obs[\"y_centroid\"]<=5550.92) ]"
   ]
  },
  {
   "cell_type": "code",
   "execution_count": 17,
   "id": "f7c4b430",
   "metadata": {},
   "outputs": [
    {
     "data": {
      "text/plain": [
       "View of AnnData object with n_obs × n_vars = 39555 × 379\n",
       "    obs: 'cell_id', 'x_centroid', 'y_centroid', 'transcript_counts', 'total_counts', 'cell_area', 'nucleus_area'\n",
       "    var: 'gene_name', 'Ensemble ID', 'feature_types', 'genome'"
      ]
     },
     "execution_count": 17,
     "metadata": {},
     "output_type": "execute_result"
    }
   ],
   "source": [
    "adata_filtered"
   ]
  },
  {
   "cell_type": "code",
   "execution_count": 18,
   "id": "cd63cc4f",
   "metadata": {},
   "outputs": [],
   "source": [
    "adata_filtered.write(\"data/Xenium_V1_mouse_pup_outs/adata_location_filtered.h5ad\")"
   ]
  },
  {
   "cell_type": "code",
   "execution_count": 53,
   "id": "8cad4282",
   "metadata": {},
   "outputs": [],
   "source": [
    "sc.pp.filter_cells(adata_filtered,min_counts=20)"
   ]
  },
  {
   "cell_type": "code",
   "execution_count": null,
   "id": "923c510f",
   "metadata": {},
   "outputs": [],
   "source": [
    "sc.pp.filter_cells(adata,min_counts=20)\n",
    "sc.pp.normalize_total(adata)\n",
    "sc.pp.log1p(adata)\n",
    "sc.pp.pca(adata)\n",
    "sc.pp.neighbors(adata,n_neighbors=12,n_pcs=0)\n",
    "sc.tl.umap(adata,min_dist=0.05)\n",
    "sc.tl.leiden(adata)"
   ]
  },
  {
   "cell_type": "code",
   "execution_count": null,
   "id": "f4f84888",
   "metadata": {},
   "outputs": [],
   "source": [
    "# NOT IMPORTANT FOR YOU OMER"
   ]
  },
  {
   "cell_type": "code",
   "execution_count": null,
   "id": "50ff8b14",
   "metadata": {},
   "outputs": [],
   "source": [
    "adata_ref=sc.read('/media/sergio/Meninges/nuclei_adata/adata_dev_meninges_he24_pcw9_final_clusters.h5ad')"
   ]
  },
  {
   "cell_type": "markdown",
   "id": "f3e4e693",
   "metadata": {},
   "source": [
    "# Working on transcripts "
   ]
  },
  {
   "cell_type": "code",
   "execution_count": 82,
   "id": "879558e5",
   "metadata": {},
   "outputs": [
    {
     "data": {
      "text/html": [
       "<div>\n",
       "<style scoped>\n",
       "    .dataframe tbody tr th:only-of-type {\n",
       "        vertical-align: middle;\n",
       "    }\n",
       "\n",
       "    .dataframe tbody tr th {\n",
       "        vertical-align: top;\n",
       "    }\n",
       "\n",
       "    .dataframe thead th {\n",
       "        text-align: right;\n",
       "    }\n",
       "</style>\n",
       "<table border=\"1\" class=\"dataframe\">\n",
       "  <thead>\n",
       "    <tr style=\"text-align: right;\">\n",
       "      <th></th>\n",
       "      <th>Unnamed: 0</th>\n",
       "      <th>transcript_id</th>\n",
       "      <th>cell_id</th>\n",
       "      <th>overlaps_nucleus</th>\n",
       "      <th>feature_name</th>\n",
       "      <th>x_location</th>\n",
       "      <th>y_location</th>\n",
       "      <th>z_location</th>\n",
       "      <th>qv</th>\n",
       "      <th>fov_name</th>\n",
       "      <th>nucleus_distance</th>\n",
       "    </tr>\n",
       "  </thead>\n",
       "  <tbody>\n",
       "    <tr>\n",
       "      <th>0</th>\n",
       "      <td>376372</td>\n",
       "      <td>282162171478017</td>\n",
       "      <td>UNASSIGNED</td>\n",
       "      <td>0</td>\n",
       "      <td>Anxa2</td>\n",
       "      <td>1831.5410</td>\n",
       "      <td>4396.8660</td>\n",
       "      <td>22.472996</td>\n",
       "      <td>36.826744</td>\n",
       "      <td>G4</td>\n",
       "      <td>360.896850</td>\n",
       "    </tr>\n",
       "    <tr>\n",
       "      <th>1</th>\n",
       "      <td>376373</td>\n",
       "      <td>282162171478282</td>\n",
       "      <td>UNASSIGNED</td>\n",
       "      <td>0</td>\n",
       "      <td>A330076H08Rik</td>\n",
       "      <td>1964.3933</td>\n",
       "      <td>4417.3290</td>\n",
       "      <td>22.552227</td>\n",
       "      <td>40.000000</td>\n",
       "      <td>G4</td>\n",
       "      <td>256.039180</td>\n",
       "    </tr>\n",
       "    <tr>\n",
       "      <th>2</th>\n",
       "      <td>376374</td>\n",
       "      <td>282162171478570</td>\n",
       "      <td>UNASSIGNED</td>\n",
       "      <td>0</td>\n",
       "      <td>Anxa2</td>\n",
       "      <td>1982.3236</td>\n",
       "      <td>4457.7080</td>\n",
       "      <td>22.599802</td>\n",
       "      <td>40.000000</td>\n",
       "      <td>G4</td>\n",
       "      <td>230.132110</td>\n",
       "    </tr>\n",
       "    <tr>\n",
       "      <th>3</th>\n",
       "      <td>376377</td>\n",
       "      <td>282162171506407</td>\n",
       "      <td>UNASSIGNED</td>\n",
       "      <td>0</td>\n",
       "      <td>Hmgcs2</td>\n",
       "      <td>1843.5664</td>\n",
       "      <td>4436.0884</td>\n",
       "      <td>22.532753</td>\n",
       "      <td>40.000000</td>\n",
       "      <td>G4</td>\n",
       "      <td>370.543100</td>\n",
       "    </tr>\n",
       "    <tr>\n",
       "      <th>4</th>\n",
       "      <td>376378</td>\n",
       "      <td>282162171515351</td>\n",
       "      <td>UNASSIGNED</td>\n",
       "      <td>0</td>\n",
       "      <td>Celf3</td>\n",
       "      <td>1842.2109</td>\n",
       "      <td>4484.6553</td>\n",
       "      <td>22.656452</td>\n",
       "      <td>40.000000</td>\n",
       "      <td>G4</td>\n",
       "      <td>363.108400</td>\n",
       "    </tr>\n",
       "    <tr>\n",
       "      <th>...</th>\n",
       "      <td>...</td>\n",
       "      <td>...</td>\n",
       "      <td>...</td>\n",
       "      <td>...</td>\n",
       "      <td>...</td>\n",
       "      <td>...</td>\n",
       "      <td>...</td>\n",
       "      <td>...</td>\n",
       "      <td>...</td>\n",
       "      <td>...</td>\n",
       "      <td>...</td>\n",
       "    </tr>\n",
       "    <tr>\n",
       "      <th>8027937</th>\n",
       "      <td>3945921</td>\n",
       "      <td>282187942270866</td>\n",
       "      <td>amiiijhf-1</td>\n",
       "      <td>1</td>\n",
       "      <td>Krt19</td>\n",
       "      <td>5756.5327</td>\n",
       "      <td>5549.8228</td>\n",
       "      <td>26.122461</td>\n",
       "      <td>26.422700</td>\n",
       "      <td>H10</td>\n",
       "      <td>0.000000</td>\n",
       "    </tr>\n",
       "    <tr>\n",
       "      <th>8027938</th>\n",
       "      <td>3945937</td>\n",
       "      <td>282187942270897</td>\n",
       "      <td>amiiijhf-1</td>\n",
       "      <td>1</td>\n",
       "      <td>Krt19</td>\n",
       "      <td>5757.9770</td>\n",
       "      <td>5550.0537</td>\n",
       "      <td>21.278362</td>\n",
       "      <td>40.000000</td>\n",
       "      <td>H10</td>\n",
       "      <td>0.000000</td>\n",
       "    </tr>\n",
       "    <tr>\n",
       "      <th>8027939</th>\n",
       "      <td>3945943</td>\n",
       "      <td>282187942270904</td>\n",
       "      <td>amiibcmi-1</td>\n",
       "      <td>0</td>\n",
       "      <td>Krt19</td>\n",
       "      <td>5758.3780</td>\n",
       "      <td>5534.4660</td>\n",
       "      <td>23.390993</td>\n",
       "      <td>28.166980</td>\n",
       "      <td>H10</td>\n",
       "      <td>1.227634</td>\n",
       "    </tr>\n",
       "    <tr>\n",
       "      <th>8027940</th>\n",
       "      <td>3945961</td>\n",
       "      <td>282187942270950</td>\n",
       "      <td>amiiijhf-1</td>\n",
       "      <td>1</td>\n",
       "      <td>Krt19</td>\n",
       "      <td>5761.3994</td>\n",
       "      <td>5548.9434</td>\n",
       "      <td>25.935236</td>\n",
       "      <td>40.000000</td>\n",
       "      <td>H10</td>\n",
       "      <td>0.000000</td>\n",
       "    </tr>\n",
       "    <tr>\n",
       "      <th>8027941</th>\n",
       "      <td>3945967</td>\n",
       "      <td>282187942270969</td>\n",
       "      <td>amiiijhf-1</td>\n",
       "      <td>0</td>\n",
       "      <td>Krt19</td>\n",
       "      <td>5762.2515</td>\n",
       "      <td>5548.5757</td>\n",
       "      <td>23.364403</td>\n",
       "      <td>40.000000</td>\n",
       "      <td>H10</td>\n",
       "      <td>0.675128</td>\n",
       "    </tr>\n",
       "  </tbody>\n",
       "</table>\n",
       "<p>8027942 rows × 11 columns</p>\n",
       "</div>"
      ],
      "text/plain": [
       "         Unnamed: 0    transcript_id     cell_id  overlaps_nucleus  \\\n",
       "0            376372  282162171478017  UNASSIGNED                 0   \n",
       "1            376373  282162171478282  UNASSIGNED                 0   \n",
       "2            376374  282162171478570  UNASSIGNED                 0   \n",
       "3            376377  282162171506407  UNASSIGNED                 0   \n",
       "4            376378  282162171515351  UNASSIGNED                 0   \n",
       "...             ...              ...         ...               ...   \n",
       "8027937     3945921  282187942270866  amiiijhf-1                 1   \n",
       "8027938     3945937  282187942270897  amiiijhf-1                 1   \n",
       "8027939     3945943  282187942270904  amiibcmi-1                 0   \n",
       "8027940     3945961  282187942270950  amiiijhf-1                 1   \n",
       "8027941     3945967  282187942270969  amiiijhf-1                 0   \n",
       "\n",
       "          feature_name  x_location  y_location  z_location         qv  \\\n",
       "0                Anxa2   1831.5410   4396.8660   22.472996  36.826744   \n",
       "1        A330076H08Rik   1964.3933   4417.3290   22.552227  40.000000   \n",
       "2                Anxa2   1982.3236   4457.7080   22.599802  40.000000   \n",
       "3               Hmgcs2   1843.5664   4436.0884   22.532753  40.000000   \n",
       "4                Celf3   1842.2109   4484.6553   22.656452  40.000000   \n",
       "...                ...         ...         ...         ...        ...   \n",
       "8027937          Krt19   5756.5327   5549.8228   26.122461  26.422700   \n",
       "8027938          Krt19   5757.9770   5550.0537   21.278362  40.000000   \n",
       "8027939          Krt19   5758.3780   5534.4660   23.390993  28.166980   \n",
       "8027940          Krt19   5761.3994   5548.9434   25.935236  40.000000   \n",
       "8027941          Krt19   5762.2515   5548.5757   23.364403  40.000000   \n",
       "\n",
       "        fov_name  nucleus_distance  \n",
       "0             G4        360.896850  \n",
       "1             G4        256.039180  \n",
       "2             G4        230.132110  \n",
       "3             G4        370.543100  \n",
       "4             G4        363.108400  \n",
       "...          ...               ...  \n",
       "8027937      H10          0.000000  \n",
       "8027938      H10          0.000000  \n",
       "8027939      H10          1.227634  \n",
       "8027940      H10          0.000000  \n",
       "8027941      H10          0.675128  \n",
       "\n",
       "[8027942 rows x 11 columns]"
      ]
     },
     "execution_count": 82,
     "metadata": {},
     "output_type": "execute_result"
    }
   ],
   "source": [
    "transcripts"
   ]
  },
  {
   "cell_type": "code",
   "execution_count": null,
   "id": "4a888c1f",
   "metadata": {},
   "outputs": [],
   "source": [
    "transcripts['centroid_distance']=np.sqrt((tr2['x']-tr2['x_cell'])**2+(tr2['y']-tr2['y_cell'])**2)"
   ]
  },
  {
   "cell_type": "code",
   "execution_count": 75,
   "id": "08df53ba",
   "metadata": {},
   "outputs": [
    {
     "data": {
      "text/html": [
       "<div>\n",
       "<style scoped>\n",
       "    .dataframe tbody tr th:only-of-type {\n",
       "        vertical-align: middle;\n",
       "    }\n",
       "\n",
       "    .dataframe tbody tr th {\n",
       "        vertical-align: top;\n",
       "    }\n",
       "\n",
       "    .dataframe thead th {\n",
       "        text-align: right;\n",
       "    }\n",
       "</style>\n",
       "<table border=\"1\" class=\"dataframe\">\n",
       "  <thead>\n",
       "    <tr style=\"text-align: right;\">\n",
       "      <th></th>\n",
       "      <th>cell_id</th>\n",
       "      <th>x_centroid</th>\n",
       "      <th>y_centroid</th>\n",
       "      <th>transcript_counts</th>\n",
       "      <th>total_counts</th>\n",
       "      <th>cell_area</th>\n",
       "      <th>nucleus_area</th>\n",
       "    </tr>\n",
       "  </thead>\n",
       "  <tbody>\n",
       "    <tr>\n",
       "      <th>17210</th>\n",
       "      <td>acpcjcfh-1</td>\n",
       "      <td>2491.694824</td>\n",
       "      <td>4513.833984</td>\n",
       "      <td>73</td>\n",
       "      <td>73</td>\n",
       "      <td>79.204065</td>\n",
       "      <td>27.951720</td>\n",
       "    </tr>\n",
       "    <tr>\n",
       "      <th>17211</th>\n",
       "      <td>acpcjpmd-1</td>\n",
       "      <td>2487.518311</td>\n",
       "      <td>4511.704102</td>\n",
       "      <td>75</td>\n",
       "      <td>75</td>\n",
       "      <td>51.342658</td>\n",
       "      <td>26.777657</td>\n",
       "    </tr>\n",
       "    <tr>\n",
       "      <th>17212</th>\n",
       "      <td>acpclemn-1</td>\n",
       "      <td>2478.066650</td>\n",
       "      <td>4512.388184</td>\n",
       "      <td>461</td>\n",
       "      <td>461</td>\n",
       "      <td>302.050167</td>\n",
       "      <td>59.109533</td>\n",
       "    </tr>\n",
       "    <tr>\n",
       "      <th>17213</th>\n",
       "      <td>acpcloep-1</td>\n",
       "      <td>2481.229736</td>\n",
       "      <td>4526.103027</td>\n",
       "      <td>143</td>\n",
       "      <td>143</td>\n",
       "      <td>110.226410</td>\n",
       "      <td>31.022345</td>\n",
       "    </tr>\n",
       "    <tr>\n",
       "      <th>17214</th>\n",
       "      <td>acpcmlbo-1</td>\n",
       "      <td>2487.909912</td>\n",
       "      <td>4526.550293</td>\n",
       "      <td>83</td>\n",
       "      <td>83</td>\n",
       "      <td>73.017659</td>\n",
       "      <td>25.152032</td>\n",
       "    </tr>\n",
       "    <tr>\n",
       "      <th>...</th>\n",
       "      <td>...</td>\n",
       "      <td>...</td>\n",
       "      <td>...</td>\n",
       "      <td>...</td>\n",
       "      <td>...</td>\n",
       "      <td>...</td>\n",
       "      <td>...</td>\n",
       "    </tr>\n",
       "    <tr>\n",
       "      <th>1164208</th>\n",
       "      <td>mhpomnnj-1</td>\n",
       "      <td>3359.225342</td>\n",
       "      <td>5096.339355</td>\n",
       "      <td>73</td>\n",
       "      <td>73</td>\n",
       "      <td>57.438752</td>\n",
       "      <td>6.231563</td>\n",
       "    </tr>\n",
       "    <tr>\n",
       "      <th>1164209</th>\n",
       "      <td>mhpopemo-1</td>\n",
       "      <td>3363.566162</td>\n",
       "      <td>5121.825684</td>\n",
       "      <td>104</td>\n",
       "      <td>104</td>\n",
       "      <td>42.175939</td>\n",
       "      <td>29.757970</td>\n",
       "    </tr>\n",
       "    <tr>\n",
       "      <th>1164210</th>\n",
       "      <td>mhpoplgm-1</td>\n",
       "      <td>3362.412598</td>\n",
       "      <td>5103.554199</td>\n",
       "      <td>81</td>\n",
       "      <td>81</td>\n",
       "      <td>35.312189</td>\n",
       "      <td>18.785001</td>\n",
       "    </tr>\n",
       "    <tr>\n",
       "      <th>1164211</th>\n",
       "      <td>mhppblnl-1</td>\n",
       "      <td>3363.900146</td>\n",
       "      <td>5149.480469</td>\n",
       "      <td>34</td>\n",
       "      <td>34</td>\n",
       "      <td>17.972188</td>\n",
       "      <td>14.043594</td>\n",
       "    </tr>\n",
       "    <tr>\n",
       "      <th>1164212</th>\n",
       "      <td>mhppbmhi-1</td>\n",
       "      <td>3354.370361</td>\n",
       "      <td>5154.437012</td>\n",
       "      <td>98</td>\n",
       "      <td>98</td>\n",
       "      <td>43.620939</td>\n",
       "      <td>20.907345</td>\n",
       "    </tr>\n",
       "  </tbody>\n",
       "</table>\n",
       "<p>39555 rows × 7 columns</p>\n",
       "</div>"
      ],
      "text/plain": [
       "            cell_id   x_centroid   y_centroid  transcript_counts  \\\n",
       "17210    acpcjcfh-1  2491.694824  4513.833984                 73   \n",
       "17211    acpcjpmd-1  2487.518311  4511.704102                 75   \n",
       "17212    acpclemn-1  2478.066650  4512.388184                461   \n",
       "17213    acpcloep-1  2481.229736  4526.103027                143   \n",
       "17214    acpcmlbo-1  2487.909912  4526.550293                 83   \n",
       "...             ...          ...          ...                ...   \n",
       "1164208  mhpomnnj-1  3359.225342  5096.339355                 73   \n",
       "1164209  mhpopemo-1  3363.566162  5121.825684                104   \n",
       "1164210  mhpoplgm-1  3362.412598  5103.554199                 81   \n",
       "1164211  mhppblnl-1  3363.900146  5149.480469                 34   \n",
       "1164212  mhppbmhi-1  3354.370361  5154.437012                 98   \n",
       "\n",
       "         total_counts   cell_area  nucleus_area  \n",
       "17210              73   79.204065     27.951720  \n",
       "17211              75   51.342658     26.777657  \n",
       "17212             461  302.050167     59.109533  \n",
       "17213             143  110.226410     31.022345  \n",
       "17214              83   73.017659     25.152032  \n",
       "...               ...         ...           ...  \n",
       "1164208            73   57.438752      6.231563  \n",
       "1164209           104   42.175939     29.757970  \n",
       "1164210            81   35.312189     18.785001  \n",
       "1164211            34   17.972188     14.043594  \n",
       "1164212            98   43.620939     20.907345  \n",
       "\n",
       "[39555 rows x 7 columns]"
      ]
     },
     "execution_count": 75,
     "metadata": {},
     "output_type": "execute_result"
    }
   ],
   "source": [
    "adata_filtered.obs"
   ]
  },
  {
   "cell_type": "code",
   "execution_count": 85,
   "id": "6c7bcc13",
   "metadata": {},
   "outputs": [
    {
     "data": {
      "text/plain": [
       "overlaps_nucleus\n",
       "0    38795\n",
       "Name: count, dtype: int64"
      ]
     },
     "execution_count": 85,
     "metadata": {},
     "output_type": "execute_result"
    }
   ],
   "source": [
    "transcripts[transcripts[\"cell_id\"]==\"UNASSIGNED\"].overlaps_nucleus.value_counts() "
   ]
  },
  {
   "cell_type": "code",
   "execution_count": 76,
   "id": "37a43d47",
   "metadata": {},
   "outputs": [],
   "source": [
    "cell_locations = adata.obs.copy()"
   ]
  },
  {
   "cell_type": "code",
   "execution_count": 86,
   "id": "782ac8ef",
   "metadata": {},
   "outputs": [],
   "source": [
    "dft = transcripts.iloc[0:10]\n",
    "dfc = cell_locations.iloc[0:6]"
   ]
  },
  {
   "cell_type": "code",
   "execution_count": null,
   "id": "f512f8d9",
   "metadata": {},
   "outputs": [],
   "source": [
    "\n",
    "def euclidean_distance(x1, y1, x2, y2):\n",
    "    return np.sqrt((x2 - x1) ** 2 + (y2 - y1) ** 2)\n",
    "\n",
    "closest_objects = []\n",
    "for index_t, row_t in transcripts.iterrows():\n",
    "    distances = cell_locations.apply(\n",
    "        lambda row1: euclidean_distance(dft['x_location'], dft['y_location'], dfc['x_centroid'], dfc['y_centroid']),\n",
    "        axis=1\n",
    "    )\n",
    "    closest_index = distances.idxmin()\n",
    "    closest_objects.append(dfc.loc[closest_index, 'cell_id'])\n",
    "\n",
    "# Add the closest object information to df2\n",
    "dft['closest_id'] = closest_objects\n",
    "\n"
   ]
  },
  {
   "cell_type": "code",
   "execution_count": 78,
   "id": "26b5af73",
   "metadata": {},
   "outputs": [
    {
     "ename": "KeyboardInterrupt",
     "evalue": "",
     "output_type": "error",
     "traceback": [
      "\u001b[0;31m---------------------------------------------------------------------------\u001b[0m",
      "\u001b[0;31mKeyboardInterrupt\u001b[0m                         Traceback (most recent call last)",
      "Cell \u001b[0;32mIn[78], line 6\u001b[0m\n\u001b[1;32m      4\u001b[0m closest_objects \u001b[38;5;241m=\u001b[39m []\n\u001b[1;32m      5\u001b[0m \u001b[38;5;28;01mfor\u001b[39;00m index_t, row_t \u001b[38;5;129;01min\u001b[39;00m transcripts\u001b[38;5;241m.\u001b[39miterrows():\n\u001b[0;32m----> 6\u001b[0m     distances \u001b[38;5;241m=\u001b[39m \u001b[43mcell_locations\u001b[49m\u001b[38;5;241;43m.\u001b[39;49m\u001b[43mapply\u001b[49m\u001b[43m(\u001b[49m\n\u001b[1;32m      7\u001b[0m \u001b[43m        \u001b[49m\u001b[38;5;28;43;01mlambda\u001b[39;49;00m\u001b[43m \u001b[49m\u001b[43mrow1\u001b[49m\u001b[43m:\u001b[49m\u001b[43m \u001b[49m\u001b[43meuclidean_distance\u001b[49m\u001b[43m(\u001b[49m\u001b[43mrow_t\u001b[49m\u001b[43m[\u001b[49m\u001b[38;5;124;43m'\u001b[39;49m\u001b[38;5;124;43mx_location\u001b[39;49m\u001b[38;5;124;43m'\u001b[39;49m\u001b[43m]\u001b[49m\u001b[43m,\u001b[49m\u001b[43m \u001b[49m\u001b[43mrow_t\u001b[49m\u001b[43m[\u001b[49m\u001b[38;5;124;43m'\u001b[39;49m\u001b[38;5;124;43my_location\u001b[39;49m\u001b[38;5;124;43m'\u001b[39;49m\u001b[43m]\u001b[49m\u001b[43m,\u001b[49m\u001b[43m \u001b[49m\u001b[43mrow1\u001b[49m\u001b[43m[\u001b[49m\u001b[38;5;124;43m'\u001b[39;49m\u001b[38;5;124;43mx_centroid\u001b[39;49m\u001b[38;5;124;43m'\u001b[39;49m\u001b[43m]\u001b[49m\u001b[43m,\u001b[49m\u001b[43m \u001b[49m\u001b[43mrow1\u001b[49m\u001b[43m[\u001b[49m\u001b[38;5;124;43m'\u001b[39;49m\u001b[38;5;124;43my_centroid\u001b[39;49m\u001b[38;5;124;43m'\u001b[39;49m\u001b[43m]\u001b[49m\u001b[43m)\u001b[49m\u001b[43m,\u001b[49m\n\u001b[1;32m      8\u001b[0m \u001b[43m        \u001b[49m\u001b[43maxis\u001b[49m\u001b[38;5;241;43m=\u001b[39;49m\u001b[38;5;241;43m1\u001b[39;49m\n\u001b[1;32m      9\u001b[0m \u001b[43m    \u001b[49m\u001b[43m)\u001b[49m\n\u001b[1;32m     10\u001b[0m     closest_index \u001b[38;5;241m=\u001b[39m distances\u001b[38;5;241m.\u001b[39midxmin()\n\u001b[1;32m     11\u001b[0m     closest_objects\u001b[38;5;241m.\u001b[39mappend(cell_locations\u001b[38;5;241m.\u001b[39mloc[closest_index, \u001b[38;5;124m'\u001b[39m\u001b[38;5;124mcell_id\u001b[39m\u001b[38;5;124m'\u001b[39m])\n",
      "File \u001b[0;32m/opt/anaconda3/envs/scvelo/lib/python3.12/site-packages/pandas/core/frame.py:10374\u001b[0m, in \u001b[0;36mDataFrame.apply\u001b[0;34m(self, func, axis, raw, result_type, args, by_row, engine, engine_kwargs, **kwargs)\u001b[0m\n\u001b[1;32m  10360\u001b[0m \u001b[38;5;28;01mfrom\u001b[39;00m \u001b[38;5;21;01mpandas\u001b[39;00m\u001b[38;5;21;01m.\u001b[39;00m\u001b[38;5;21;01mcore\u001b[39;00m\u001b[38;5;21;01m.\u001b[39;00m\u001b[38;5;21;01mapply\u001b[39;00m \u001b[38;5;28;01mimport\u001b[39;00m frame_apply\n\u001b[1;32m  10362\u001b[0m op \u001b[38;5;241m=\u001b[39m frame_apply(\n\u001b[1;32m  10363\u001b[0m     \u001b[38;5;28mself\u001b[39m,\n\u001b[1;32m  10364\u001b[0m     func\u001b[38;5;241m=\u001b[39mfunc,\n\u001b[0;32m   (...)\u001b[0m\n\u001b[1;32m  10372\u001b[0m     kwargs\u001b[38;5;241m=\u001b[39mkwargs,\n\u001b[1;32m  10373\u001b[0m )\n\u001b[0;32m> 10374\u001b[0m \u001b[38;5;28;01mreturn\u001b[39;00m \u001b[43mop\u001b[49m\u001b[38;5;241;43m.\u001b[39;49m\u001b[43mapply\u001b[49m\u001b[43m(\u001b[49m\u001b[43m)\u001b[49m\u001b[38;5;241m.\u001b[39m__finalize__(\u001b[38;5;28mself\u001b[39m, method\u001b[38;5;241m=\u001b[39m\u001b[38;5;124m\"\u001b[39m\u001b[38;5;124mapply\u001b[39m\u001b[38;5;124m\"\u001b[39m)\n",
      "File \u001b[0;32m/opt/anaconda3/envs/scvelo/lib/python3.12/site-packages/pandas/core/apply.py:916\u001b[0m, in \u001b[0;36mFrameApply.apply\u001b[0;34m(self)\u001b[0m\n\u001b[1;32m    913\u001b[0m \u001b[38;5;28;01melif\u001b[39;00m \u001b[38;5;28mself\u001b[39m\u001b[38;5;241m.\u001b[39mraw:\n\u001b[1;32m    914\u001b[0m     \u001b[38;5;28;01mreturn\u001b[39;00m \u001b[38;5;28mself\u001b[39m\u001b[38;5;241m.\u001b[39mapply_raw(engine\u001b[38;5;241m=\u001b[39m\u001b[38;5;28mself\u001b[39m\u001b[38;5;241m.\u001b[39mengine, engine_kwargs\u001b[38;5;241m=\u001b[39m\u001b[38;5;28mself\u001b[39m\u001b[38;5;241m.\u001b[39mengine_kwargs)\n\u001b[0;32m--> 916\u001b[0m \u001b[38;5;28;01mreturn\u001b[39;00m \u001b[38;5;28;43mself\u001b[39;49m\u001b[38;5;241;43m.\u001b[39;49m\u001b[43mapply_standard\u001b[49m\u001b[43m(\u001b[49m\u001b[43m)\u001b[49m\n",
      "File \u001b[0;32m/opt/anaconda3/envs/scvelo/lib/python3.12/site-packages/pandas/core/apply.py:1063\u001b[0m, in \u001b[0;36mFrameApply.apply_standard\u001b[0;34m(self)\u001b[0m\n\u001b[1;32m   1061\u001b[0m \u001b[38;5;28;01mdef\u001b[39;00m \u001b[38;5;21mapply_standard\u001b[39m(\u001b[38;5;28mself\u001b[39m):\n\u001b[1;32m   1062\u001b[0m     \u001b[38;5;28;01mif\u001b[39;00m \u001b[38;5;28mself\u001b[39m\u001b[38;5;241m.\u001b[39mengine \u001b[38;5;241m==\u001b[39m \u001b[38;5;124m\"\u001b[39m\u001b[38;5;124mpython\u001b[39m\u001b[38;5;124m\"\u001b[39m:\n\u001b[0;32m-> 1063\u001b[0m         results, res_index \u001b[38;5;241m=\u001b[39m \u001b[38;5;28;43mself\u001b[39;49m\u001b[38;5;241;43m.\u001b[39;49m\u001b[43mapply_series_generator\u001b[49m\u001b[43m(\u001b[49m\u001b[43m)\u001b[49m\n\u001b[1;32m   1064\u001b[0m     \u001b[38;5;28;01melse\u001b[39;00m:\n\u001b[1;32m   1065\u001b[0m         results, res_index \u001b[38;5;241m=\u001b[39m \u001b[38;5;28mself\u001b[39m\u001b[38;5;241m.\u001b[39mapply_series_numba()\n",
      "File \u001b[0;32m/opt/anaconda3/envs/scvelo/lib/python3.12/site-packages/pandas/core/apply.py:1081\u001b[0m, in \u001b[0;36mFrameApply.apply_series_generator\u001b[0;34m(self)\u001b[0m\n\u001b[1;32m   1078\u001b[0m \u001b[38;5;28;01mwith\u001b[39;00m option_context(\u001b[38;5;124m\"\u001b[39m\u001b[38;5;124mmode.chained_assignment\u001b[39m\u001b[38;5;124m\"\u001b[39m, \u001b[38;5;28;01mNone\u001b[39;00m):\n\u001b[1;32m   1079\u001b[0m     \u001b[38;5;28;01mfor\u001b[39;00m i, v \u001b[38;5;129;01min\u001b[39;00m \u001b[38;5;28menumerate\u001b[39m(series_gen):\n\u001b[1;32m   1080\u001b[0m         \u001b[38;5;66;03m# ignore SettingWithCopy here in case the user mutates\u001b[39;00m\n\u001b[0;32m-> 1081\u001b[0m         results[i] \u001b[38;5;241m=\u001b[39m \u001b[38;5;28;43mself\u001b[39;49m\u001b[38;5;241;43m.\u001b[39;49m\u001b[43mfunc\u001b[49m\u001b[43m(\u001b[49m\u001b[43mv\u001b[49m\u001b[43m,\u001b[49m\u001b[43m \u001b[49m\u001b[38;5;241;43m*\u001b[39;49m\u001b[38;5;28;43mself\u001b[39;49m\u001b[38;5;241;43m.\u001b[39;49m\u001b[43margs\u001b[49m\u001b[43m,\u001b[49m\u001b[43m \u001b[49m\u001b[38;5;241;43m*\u001b[39;49m\u001b[38;5;241;43m*\u001b[39;49m\u001b[38;5;28;43mself\u001b[39;49m\u001b[38;5;241;43m.\u001b[39;49m\u001b[43mkwargs\u001b[49m\u001b[43m)\u001b[49m\n\u001b[1;32m   1082\u001b[0m         \u001b[38;5;28;01mif\u001b[39;00m \u001b[38;5;28misinstance\u001b[39m(results[i], ABCSeries):\n\u001b[1;32m   1083\u001b[0m             \u001b[38;5;66;03m# If we have a view on v, we need to make a copy because\u001b[39;00m\n\u001b[1;32m   1084\u001b[0m             \u001b[38;5;66;03m#  series_generator will swap out the underlying data\u001b[39;00m\n\u001b[1;32m   1085\u001b[0m             results[i] \u001b[38;5;241m=\u001b[39m results[i]\u001b[38;5;241m.\u001b[39mcopy(deep\u001b[38;5;241m=\u001b[39m\u001b[38;5;28;01mFalse\u001b[39;00m)\n",
      "Cell \u001b[0;32mIn[78], line 7\u001b[0m, in \u001b[0;36m<lambda>\u001b[0;34m(row1)\u001b[0m\n\u001b[1;32m      4\u001b[0m closest_objects \u001b[38;5;241m=\u001b[39m []\n\u001b[1;32m      5\u001b[0m \u001b[38;5;28;01mfor\u001b[39;00m index_t, row_t \u001b[38;5;129;01min\u001b[39;00m transcripts\u001b[38;5;241m.\u001b[39miterrows():\n\u001b[1;32m      6\u001b[0m     distances \u001b[38;5;241m=\u001b[39m cell_locations\u001b[38;5;241m.\u001b[39mapply(\n\u001b[0;32m----> 7\u001b[0m         \u001b[38;5;28;01mlambda\u001b[39;00m row1: euclidean_distance(row_t[\u001b[38;5;124m'\u001b[39m\u001b[38;5;124mx_location\u001b[39m\u001b[38;5;124m'\u001b[39m], \u001b[43mrow_t\u001b[49m\u001b[43m[\u001b[49m\u001b[38;5;124;43m'\u001b[39;49m\u001b[38;5;124;43my_location\u001b[39;49m\u001b[38;5;124;43m'\u001b[39;49m\u001b[43m]\u001b[49m, row1[\u001b[38;5;124m'\u001b[39m\u001b[38;5;124mx_centroid\u001b[39m\u001b[38;5;124m'\u001b[39m], row1[\u001b[38;5;124m'\u001b[39m\u001b[38;5;124my_centroid\u001b[39m\u001b[38;5;124m'\u001b[39m]),\n\u001b[1;32m      8\u001b[0m         axis\u001b[38;5;241m=\u001b[39m\u001b[38;5;241m1\u001b[39m\n\u001b[1;32m      9\u001b[0m     )\n\u001b[1;32m     10\u001b[0m     closest_index \u001b[38;5;241m=\u001b[39m distances\u001b[38;5;241m.\u001b[39midxmin()\n\u001b[1;32m     11\u001b[0m     closest_objects\u001b[38;5;241m.\u001b[39mappend(cell_locations\u001b[38;5;241m.\u001b[39mloc[closest_index, \u001b[38;5;124m'\u001b[39m\u001b[38;5;124mcell_id\u001b[39m\u001b[38;5;124m'\u001b[39m])\n",
      "File \u001b[0;32m/opt/anaconda3/envs/scvelo/lib/python3.12/site-packages/pandas/core/series.py:1095\u001b[0m, in \u001b[0;36mSeries.__getitem__\u001b[0;34m(self, key)\u001b[0m\n\u001b[1;32m   1092\u001b[0m     out\u001b[38;5;241m.\u001b[39m_name \u001b[38;5;241m=\u001b[39m \u001b[38;5;28mself\u001b[39m\u001b[38;5;241m.\u001b[39m_name\n\u001b[1;32m   1093\u001b[0m     \u001b[38;5;28;01mreturn\u001b[39;00m out\u001b[38;5;241m.\u001b[39m__finalize__(\u001b[38;5;28mself\u001b[39m)\n\u001b[0;32m-> 1095\u001b[0m \u001b[38;5;28;01mdef\u001b[39;00m \u001b[38;5;21m__getitem__\u001b[39m(\u001b[38;5;28mself\u001b[39m, key):\n\u001b[1;32m   1096\u001b[0m     check_dict_or_set_indexers(key)\n\u001b[1;32m   1097\u001b[0m     key \u001b[38;5;241m=\u001b[39m com\u001b[38;5;241m.\u001b[39mapply_if_callable(key, \u001b[38;5;28mself\u001b[39m)\n",
      "\u001b[0;31mKeyboardInterrupt\u001b[0m: "
     ]
    }
   ],
   "source": [
    "\n",
    "def euclidean_distance(x1, y1, x2, y2):\n",
    "    return np.sqrt((x2 - x1) ** 2 + (y2 - y1) ** 2)\n",
    "\n",
    "closest_objects = []\n",
    "for index_t, row_t in transcripts.iterrows():\n",
    "    distances = cell_locations.apply(\n",
    "        lambda row1: euclidean_distance(row_t['x_location'], row_t['y_location'], row1['x_centroid'], row1['y_centroid']),\n",
    "        axis=1\n",
    "    )\n",
    "    closest_index = distances.idxmin()\n",
    "    closest_objects.append(cell_locations.loc[closest_index, 'cell_id'])\n",
    "\n",
    "# Add the closest object information to df2\n",
    "transcripts['closest_id'] = closest_objects\n",
    "\n"
   ]
  },
  {
   "cell_type": "code",
   "execution_count": 80,
   "id": "67f6f02c",
   "metadata": {},
   "outputs": [
    {
     "data": {
      "text/html": [
       "<div>\n",
       "<style scoped>\n",
       "    .dataframe tbody tr th:only-of-type {\n",
       "        vertical-align: middle;\n",
       "    }\n",
       "\n",
       "    .dataframe tbody tr th {\n",
       "        vertical-align: top;\n",
       "    }\n",
       "\n",
       "    .dataframe thead th {\n",
       "        text-align: right;\n",
       "    }\n",
       "</style>\n",
       "<table border=\"1\" class=\"dataframe\">\n",
       "  <thead>\n",
       "    <tr style=\"text-align: right;\">\n",
       "      <th></th>\n",
       "      <th>Unnamed: 0</th>\n",
       "      <th>transcript_id</th>\n",
       "      <th>cell_id</th>\n",
       "      <th>overlaps_nucleus</th>\n",
       "      <th>feature_name</th>\n",
       "      <th>x_location</th>\n",
       "      <th>y_location</th>\n",
       "      <th>z_location</th>\n",
       "      <th>qv</th>\n",
       "      <th>fov_name</th>\n",
       "      <th>nucleus_distance</th>\n",
       "    </tr>\n",
       "  </thead>\n",
       "  <tbody>\n",
       "    <tr>\n",
       "      <th>0</th>\n",
       "      <td>376372</td>\n",
       "      <td>282162171478017</td>\n",
       "      <td>UNASSIGNED</td>\n",
       "      <td>0</td>\n",
       "      <td>Anxa2</td>\n",
       "      <td>1831.5410</td>\n",
       "      <td>4396.8660</td>\n",
       "      <td>22.472996</td>\n",
       "      <td>36.826744</td>\n",
       "      <td>G4</td>\n",
       "      <td>360.89685</td>\n",
       "    </tr>\n",
       "    <tr>\n",
       "      <th>1</th>\n",
       "      <td>376373</td>\n",
       "      <td>282162171478282</td>\n",
       "      <td>UNASSIGNED</td>\n",
       "      <td>0</td>\n",
       "      <td>A330076H08Rik</td>\n",
       "      <td>1964.3933</td>\n",
       "      <td>4417.3290</td>\n",
       "      <td>22.552227</td>\n",
       "      <td>40.000000</td>\n",
       "      <td>G4</td>\n",
       "      <td>256.03918</td>\n",
       "    </tr>\n",
       "    <tr>\n",
       "      <th>2</th>\n",
       "      <td>376374</td>\n",
       "      <td>282162171478570</td>\n",
       "      <td>UNASSIGNED</td>\n",
       "      <td>0</td>\n",
       "      <td>Anxa2</td>\n",
       "      <td>1982.3236</td>\n",
       "      <td>4457.7080</td>\n",
       "      <td>22.599802</td>\n",
       "      <td>40.000000</td>\n",
       "      <td>G4</td>\n",
       "      <td>230.13211</td>\n",
       "    </tr>\n",
       "    <tr>\n",
       "      <th>3</th>\n",
       "      <td>376377</td>\n",
       "      <td>282162171506407</td>\n",
       "      <td>UNASSIGNED</td>\n",
       "      <td>0</td>\n",
       "      <td>Hmgcs2</td>\n",
       "      <td>1843.5664</td>\n",
       "      <td>4436.0884</td>\n",
       "      <td>22.532753</td>\n",
       "      <td>40.000000</td>\n",
       "      <td>G4</td>\n",
       "      <td>370.54310</td>\n",
       "    </tr>\n",
       "    <tr>\n",
       "      <th>4</th>\n",
       "      <td>376378</td>\n",
       "      <td>282162171515351</td>\n",
       "      <td>UNASSIGNED</td>\n",
       "      <td>0</td>\n",
       "      <td>Celf3</td>\n",
       "      <td>1842.2109</td>\n",
       "      <td>4484.6553</td>\n",
       "      <td>22.656452</td>\n",
       "      <td>40.000000</td>\n",
       "      <td>G4</td>\n",
       "      <td>363.10840</td>\n",
       "    </tr>\n",
       "  </tbody>\n",
       "</table>\n",
       "</div>"
      ],
      "text/plain": [
       "   Unnamed: 0    transcript_id     cell_id  overlaps_nucleus   feature_name  \\\n",
       "0      376372  282162171478017  UNASSIGNED                 0          Anxa2   \n",
       "1      376373  282162171478282  UNASSIGNED                 0  A330076H08Rik   \n",
       "2      376374  282162171478570  UNASSIGNED                 0          Anxa2   \n",
       "3      376377  282162171506407  UNASSIGNED                 0         Hmgcs2   \n",
       "4      376378  282162171515351  UNASSIGNED                 0          Celf3   \n",
       "\n",
       "   x_location  y_location  z_location         qv fov_name  nucleus_distance  \n",
       "0   1831.5410   4396.8660   22.472996  36.826744       G4         360.89685  \n",
       "1   1964.3933   4417.3290   22.552227  40.000000       G4         256.03918  \n",
       "2   1982.3236   4457.7080   22.599802  40.000000       G4         230.13211  \n",
       "3   1843.5664   4436.0884   22.532753  40.000000       G4         370.54310  \n",
       "4   1842.2109   4484.6553   22.656452  40.000000       G4         363.10840  "
      ]
     },
     "execution_count": 80,
     "metadata": {},
     "output_type": "execute_result"
    }
   ],
   "source": [
    "dft = transcripts.iloc[0:5]\n",
    "dfc = "
   ]
  },
  {
   "cell_type": "code",
   "execution_count": null,
   "id": "05d83590",
   "metadata": {},
   "outputs": [],
   "source": [
    "adata_with_counts.obs['cell_id']=adata_with_counts.obs.index\n",
    "adata_with_counts.obs.index.name='indi'"
   ]
  },
  {
   "cell_type": "code",
   "execution_count": null,
   "id": "0a50df6c",
   "metadata": {},
   "outputs": [],
   "source": [
    "# tr2 is more or less what you have on transcripts.csv / transcripts.parquet"
   ]
  },
  {
   "cell_type": "code",
   "execution_count": null,
   "id": "ead33348",
   "metadata": {},
   "outputs": [],
   "source": [
    "# divide data in nuclei and cytopasm\n",
    "tn=tr2[tr2['overlaps_nucleus']==1]\n",
    "tc=tr2[tr2['overlaps_nucleus']==0]\n",
    "# create the cellxgene matrix for nuc counts and cytoplasmic\n",
    "nuc=pd.crosstab(tn['cell_id'],tn['gene'])\n",
    "cyt=pd.crosstab(tc['cell_id'],tc['gene'])\n",
    "#adata.var.index=adata.raw.var.index\n",
    "adata=adata_with_counts[adata_with_counts.obs['cell_id'].isin(nuc.index)]\n",
    "adata=adata[adata.obs['cell_id'].isin(cyt.index)]\n",
    "nucsort=nuc.loc[adata.obs['cell_id'],adata.var.index]\n",
    "cytsort=cyt.loc[adata.obs['cell_id'],adata.var.index]\n",
    "adata.layers['spliced']=np.array(cytsort)\n",
    "adata.layers['unspliced']=np.array(nucsort)\n",
    "adata.obs['cell type']=adata.obs['cell_id'].map(id2Class) # you don't need this"
   ]
  },
  {
   "cell_type": "code",
   "execution_count": null,
   "id": "eb3309d2",
   "metadata": {},
   "outputs": [],
   "source": [
    "adata.write('/media/sergio/Meninges/unprocessed_adata/dev_HE24-Men_with_cosine_sub_input.h5ad')"
   ]
  },
  {
   "cell_type": "markdown",
   "id": "2ca76fb5",
   "metadata": {},
   "source": [
    "# Deterministic velocity"
   ]
  },
  {
   "cell_type": "code",
   "execution_count": null,
   "id": "cbe24c3b",
   "metadata": {},
   "outputs": [],
   "source": [
    "adata=sc.read('/media/sergio/Meninges/unprocessed_adata/dev_HE24-Men_with_cosine_sub_input.h5ad')"
   ]
  },
  {
   "cell_type": "code",
   "execution_count": null,
   "id": "00a4f010",
   "metadata": {},
   "outputs": [],
   "source": [
    "scv.pp.filter_and_normalize(adata)\n",
    "scv.pp.moments(adata)\n",
    "scv.tl.velocity(adata, mode='deterministic')\n",
    "scv.tl.velocity_graph(adata)"
   ]
  },
  {
   "cell_type": "code",
   "execution_count": null,
   "id": "84f086e3",
   "metadata": {},
   "outputs": [],
   "source": [
    "adata.obs['x']=adata.obs['cell_id'].map(id2x)\n",
    "adata.obs['y']=adata.obs['cell_id'].map(id2y)\n",
    "adata.obsm['spatial']=np.array(adata.obs.loc[:,['x','y']])\n",
    "adata.obs['cell type']=adata.obs['cell type'].astype('category')\n",
    "adata.obs['cell type']=adata.obs['cell type'].astype(str)\n",
    "adata.obs['cell type']=adata.obs['cell type'].astype('category')\n",
    "obs_vals = adata.obs['cell type']#.astype('category')\n",
    "obs_vals.cat.categories = obs_vals.cat.categories.astype(str)\n",
    "sc.pl.umap(adata,color='cell type',s=2)\n",
    "scv.pl.velocity_embedding_grid(adata, basis='umap',color='cell type',density=2)"
   ]
  },
  {
   "cell_type": "code",
   "execution_count": null,
   "id": "57bab834",
   "metadata": {},
   "outputs": [],
   "source": [
    "sc.set_figure_params(scanpy=True, dpi=80, dpi_save=150, frameon=True, vector_friendly=True, fontsize=14, figsize=(10,10), color_map=None, format='pdf', facecolor=None, transparent=False, ipython_format='png2x')\n",
    "scv.pl.velocity_embedding_stream(adata, basis='umap',color='cell type',density=3, legend_fontsize=3)"
   ]
  },
  {
   "cell_type": "code",
   "execution_count": null,
   "id": "80c00a7c",
   "metadata": {},
   "outputs": [],
   "source": [
    "adata.write('/media/sergio/Meninges/unprocessed_adata/dev_HE24-Men_with_cosine_sub_input_velocity_deterministic.h5ad')"
   ]
  },
  {
   "cell_type": "markdown",
   "id": "e020fdaa",
   "metadata": {},
   "source": [
    "# start with dynamic velocity"
   ]
  },
  {
   "cell_type": "code",
   "execution_count": null,
   "id": "74069cab",
   "metadata": {},
   "outputs": [],
   "source": [
    "adata=sc.read('/media/sergio/Meninges/unprocessed_adata/dev_HE24-Men_with_cosine_sub_input.h5ad')"
   ]
  },
  {
   "cell_type": "code",
   "execution_count": null,
   "id": "eee00ac5",
   "metadata": {},
   "outputs": [],
   "source": [
    "scv.pp.moments(adata)"
   ]
  },
  {
   "cell_type": "code",
   "execution_count": null,
   "id": "04b9830a",
   "metadata": {
    "scrolled": true
   },
   "outputs": [],
   "source": [
    "scv.tl.recover_dynamics(adata)\n",
    "scv.tl.velocity(adata, mode='dynamical')"
   ]
  },
  {
   "cell_type": "code",
   "execution_count": null,
   "id": "f8ebfea2",
   "metadata": {},
   "outputs": [],
   "source": [
    "adata.write('/media/sergio/Meninges/unprocessed_adata/dev_HE24-Men_with_cosine_sub_input_velocity_dynamic.h5ad')"
   ]
  },
  {
   "cell_type": "code",
   "execution_count": null,
   "id": "d7064ad0",
   "metadata": {},
   "outputs": [],
   "source": [
    "df = adata.var\n",
    "df = df[(df['fit_likelihood'] > .1) & df['velocity_genes'] == True]\n",
    "kwargs = dict(xscale='log', fontsize=16)\n",
    "with scv.GridSpec(ncols=3) as pl:\n",
    "    pl.hist(df['fit_alpha'], xlabel='transcription rate', **kwargs)\n",
    "    pl.hist(df['fit_beta'] * df['fit_scaling'], xlabel='splicing rate', xticks=[.1, .4, 1], **kwargs)\n",
    "    pl.hist(df['fit_gamma'], xlabel='degradation rate', xticks=[.1, .4, 1], **kwargs)\n",
    "\n",
    "scv.get_df(adata, 'fit*', dropna=True).head()"
   ]
  },
  {
   "cell_type": "code",
   "execution_count": null,
   "id": "e51fecf1",
   "metadata": {},
   "outputs": [],
   "source": [
    "scv.tl.velocity_graph(adata)"
   ]
  },
  {
   "cell_type": "code",
   "execution_count": null,
   "id": "7a624f8b",
   "metadata": {},
   "outputs": [],
   "source": [
    "adata.obs['x']=adata.obs['cell_id'].map(id2x)\n",
    "adata.obs['y']=adata.obs['cell_id'].map(id2y)\n",
    "adata.obsm['spatial']=np.array(adata.obs.loc[:,['x','y']])\n",
    "adata.obs['cell type']=adata.obs['cell type'].astype('category')\n",
    "adata.obs['cell type']=adata.obs['cell type'].astype(str)\n",
    "adata.obs['cell type']=adata.obs['cell type'].astype('category')\n",
    "obs_vals = adata.obs['cell type']#.astype('category')\n",
    "obs_vals.cat.categories = obs_vals.cat.categories.astype(str)\n",
    "sc.pl.umap(adata,color='cell type',s=2)\n",
    "scv.pl.velocity_embedding_grid(adata, basis='umap',color='cell type',density=2)"
   ]
  },
  {
   "cell_type": "code",
   "execution_count": null,
   "id": "70a17a43",
   "metadata": {},
   "outputs": [],
   "source": [
    "scv.tl.latent_time(adata)\n",
    "scv.pl.scatter(adata, color='latent_time', color_map='gnuplot', size=80)"
   ]
  },
  {
   "cell_type": "code",
   "execution_count": null,
   "id": "824a4ae3",
   "metadata": {},
   "outputs": [],
   "source": [
    "scv.pl.velocity_embedding_stream(adata, basis='umap',color='cell type',density=2)"
   ]
  },
  {
   "cell_type": "code",
   "execution_count": null,
   "id": "ad4770af",
   "metadata": {},
   "outputs": [],
   "source": [
    "adata.var['fit_likelihood'].sort_values(ascending=False).head(50)"
   ]
  },
  {
   "cell_type": "code",
   "execution_count": null,
   "id": "4cc7836a",
   "metadata": {},
   "outputs": [],
   "source": [
    "top_genes = adata.var['fit_likelihood'].sort_values(ascending=False).index\n",
    "scv.pl.scatter(adata, basis=top_genes[:15], ncols=5, frameon=False)"
   ]
  },
  {
   "cell_type": "code",
   "execution_count": null,
   "id": "18160412",
   "metadata": {},
   "outputs": [],
   "source": [
    "top_genes = adata.var['fit_likelihood'].sort_values(ascending=False).index\n",
    "scv.pl.scatter(adata, basis=top_genes[-20:], ncols=5, frameon=False)"
   ]
  },
  {
   "cell_type": "markdown",
   "id": "78f304e1",
   "metadata": {},
   "source": [
    "# start with stochastic velocity"
   ]
  },
  {
   "cell_type": "code",
   "execution_count": null,
   "id": "da26e4c7",
   "metadata": {},
   "outputs": [],
   "source": [
    "adata=sc.read('/media/sergio/Meninges/unprocessed_adata/dev_HE24-Men_with_cosine_sub_input.h5ad')"
   ]
  },
  {
   "cell_type": "code",
   "execution_count": null,
   "id": "8e0653ef",
   "metadata": {},
   "outputs": [],
   "source": [
    "scv.pp.filter_and_normalize(adata)\n",
    "scv.pp.moments(adata,n_neighbors=50)\n",
    "scv.tl.velocity(adata, mode='stochastic')"
   ]
  },
  {
   "cell_type": "code",
   "execution_count": null,
   "id": "90f21f9a",
   "metadata": {},
   "outputs": [],
   "source": [
    "scv.tl.velocity_graph(adata)"
   ]
  },
  {
   "cell_type": "code",
   "execution_count": null,
   "id": "4cbbe0ee",
   "metadata": {},
   "outputs": [],
   "source": [
    "scv.pl.velocity_embedding_grid(adata, basis='umap')"
   ]
  },
  {
   "cell_type": "code",
   "execution_count": null,
   "id": "1a939c3a",
   "metadata": {},
   "outputs": [],
   "source": [
    "adata.obs['x']=adata.obs['cell_id'].map(id2x)\n",
    "adata.obs['y']=adata.obs['cell_id'].map(id2y)\n",
    "adata.obsm['spatial']=np.array(adata.obs.loc[:,['x','y']])\n",
    "adata.obs['cell type']=adata.obs['cell type'].astype('category')\n",
    "adata.obs['cell type']=adata.obs['cell type'].astype(str)\n",
    "adata.obs['cell type']=adata.obs['cell type'].astype('category')\n",
    "obs_vals = adata.obs['cell type']#.astype('category')\n",
    "obs_vals.cat.categories = obs_vals.cat.categories.astype(str)\n",
    "sc.pl.umap(adata,color='cell type',s=2)\n",
    "scv.pl.velocity_embedding_grid(adata, basis='umap',color='cell type')"
   ]
  },
  {
   "cell_type": "code",
   "execution_count": null,
   "id": "cac57aaf",
   "metadata": {},
   "outputs": [],
   "source": []
  },
  {
   "cell_type": "code",
   "execution_count": null,
   "id": "5f240fd4",
   "metadata": {},
   "outputs": [],
   "source": [
    "sc.set_figure_params(scanpy=True, dpi=80, dpi_save=150, frameon=True, vector_friendly=True, fontsize=14, figsize=(10,10), color_map=None, format='pdf', facecolor=None, transparent=False, ipython_format='png2x')\n",
    "scv.pl.velocity_embedding_stream(adata, basis='umap',color='cell type',density=3, legend_fontsize=3)"
   ]
  },
  {
   "cell_type": "code",
   "execution_count": null,
   "id": "2aa37ae3",
   "metadata": {},
   "outputs": [],
   "source": [
    "adata.write('/media/sergio/Meninges/unprocessed_adata/dev_HE24-Men_with_cosine_sub_input_for_velocity.h5ad')"
   ]
  },
  {
   "cell_type": "code",
   "execution_count": null,
   "id": "a499d1cc",
   "metadata": {},
   "outputs": [],
   "source": [
    "adata=sc.read('/media/sergio/Meninges/unprocessed_adata/dev_HE24-Men_with_cosine_sub_input_for_velocity.h5ad')"
   ]
  },
  {
   "cell_type": "code",
   "execution_count": null,
   "id": "2edaa925",
   "metadata": {},
   "outputs": [],
   "source": [
    "sc.pl.umap(adata,color=['ALDH1A2','cell type'],vmax='p99')"
   ]
  },
  {
   "cell_type": "code",
   "execution_count": null,
   "id": "7bcc4ee9",
   "metadata": {},
   "outputs": [],
   "source": [
    "sc.pl.umap(adata,color=['FOXC1'],vmax='p99')"
   ]
  },
  {
   "cell_type": "code",
   "execution_count": null,
   "id": "fb71bbbc",
   "metadata": {},
   "outputs": [],
   "source": [
    "scv.pl.velocity_embedding_grid(adata, basis='umap',color='cell type')"
   ]
  },
  {
   "cell_type": "code",
   "execution_count": null,
   "id": "623bbfb9",
   "metadata": {
    "scrolled": false
   },
   "outputs": [],
   "source": [
    "sc.set_figure_params(scanpy=True, dpi=80, dpi_save=150, frameon=True, vector_friendly=True, fontsize=14, figsize=(10,10), color_map=None, format='pdf', facecolor=None, transparent=False, ipython_format='png2x')\n",
    "scv.pl.velocity_embedding_stream(adata, basis='umap',color='cell type',density=3, legend_fontsize=8)"
   ]
  },
  {
   "cell_type": "code",
   "execution_count": null,
   "id": "570edd68",
   "metadata": {},
   "outputs": [],
   "source": [
    "sc.pl.umap(adata,color=['CCN3','CDH1','SLC47A1','KCNMA1'],vmax=1) #'SLC23A6' #'PDGDS'"
   ]
  },
  {
   "cell_type": "code",
   "execution_count": null,
   "id": "a831d721",
   "metadata": {},
   "outputs": [],
   "source": [
    "sc.set_figure_params(scanpy=True, dpi=80, dpi_save=150, frameon=True, vector_friendly=True, fontsize=14, figsize=(10,10), color_map=None, format='pdf', facecolor=None, transparent=False, ipython_format='png2x')\n",
    "sc.pl.dotplot(adata,['SLC22A6','PTGDS','CCN3','CDH1','SLC47A1','KCNMA1','HHIP','MFAP5'],groupby='cell type')"
   ]
  },
  {
   "cell_type": "code",
   "execution_count": null,
   "id": "051973b0",
   "metadata": {},
   "outputs": [],
   "source": [
    "sc.set_figure_params(scanpy=True, dpi=80, dpi_save=150, frameon=True, vector_friendly=True, fontsize=14, figsize=(10,10), color_map=None, format='pdf', facecolor=None, transparent=False, ipython_format='png2x')\n",
    "scv.pl.velocity_embedding_grid(adata, basis='umap',density=2,color='cell type')"
   ]
  },
  {
   "cell_type": "code",
   "execution_count": null,
   "id": "139cf799",
   "metadata": {},
   "outputs": [],
   "source": [
    "sc.pl.umap(adata,color=['velocity_self_transition'],s=5,vmax=0.4)"
   ]
  },
  {
   "cell_type": "code",
   "execution_count": null,
   "id": "f22acd95",
   "metadata": {},
   "outputs": [],
   "source": [
    "adata.obs['cosine']=adata.obs['cell_id'].map(id2cosine)"
   ]
  },
  {
   "cell_type": "code",
   "execution_count": null,
   "id": "60932c61",
   "metadata": {},
   "outputs": [],
   "source": [
    "sc.pl.umap(adata,color='cosine',cmap='coolwarm',vmax='p95')"
   ]
  },
  {
   "cell_type": "code",
   "execution_count": null,
   "id": "37162109",
   "metadata": {},
   "outputs": [],
   "source": [
    "adata.obsm['spatial']=np.array(pd.DataFrame(adata.obsm['X_spatial']).fillna(0))\n",
    "adata.obsm['X_spatial']=np.array(pd.DataFrame(adata.obsm['X_spatial']).fillna(0))"
   ]
  },
  {
   "cell_type": "code",
   "execution_count": null,
   "id": "01121e18",
   "metadata": {},
   "outputs": [],
   "source": [
    "sc.set_figure_params(scanpy=True, dpi=80, dpi_save=150, frameon=True, vector_friendly=True, fontsize=14, figsize=(20,20), color_map=None, format='pdf', facecolor=None, transparent=False, ipython_format='png2x')\n",
    "sc.pl.spatial(adata,spot_size=10,color='cell type',legend_loc=None)"
   ]
  },
  {
   "cell_type": "markdown",
   "id": "bce49c1f",
   "metadata": {},
   "source": [
    "# Analysis of Dura trajectories"
   ]
  },
  {
   "cell_type": "code",
   "execution_count": null,
   "id": "4e65fe34",
   "metadata": {},
   "outputs": [],
   "source": [
    "selected=['Dura-outer 2','Dura-outer 3','Dura-inner','Dura-outer cycling','Future skull bone boundaries','Future inner skull bone']\n",
    "adc=adata[adata.obs['cell type'].isin(selected)].copy()\n",
    "sc.pp.neighbors(adc,n_neighbors=20,n_pcs=0)\n",
    "sc.tl.umap(adc,min_dist=0.2)\n",
    "sc.tl.leiden(adc,key_added='leiden_sub')"
   ]
  },
  {
   "cell_type": "code",
   "execution_count": null,
   "id": "ce6ff8e9",
   "metadata": {},
   "outputs": [],
   "source": [
    "sc.set_figure_params(scanpy=True, dpi=80, dpi_save=150, frameon=True, vector_friendly=True, fontsize=14, figsize=(6,6), color_map=None, format='pdf', facecolor=None, transparent=False, ipython_format='png2x')\n",
    "sc.pl.umap(adc,color='cell type',s=20)"
   ]
  },
  {
   "cell_type": "code",
   "execution_count": null,
   "id": "69224b57",
   "metadata": {},
   "outputs": [],
   "source": [
    "scv.pp.filter_and_normalize(adc)\n",
    "scv.pp.moments(adc)\n",
    "scv.tl.velocity(adc, mode='stochastic')\n",
    "scv.tl.velocity_graph(adc)"
   ]
  },
  {
   "cell_type": "code",
   "execution_count": null,
   "id": "439baca0",
   "metadata": {},
   "outputs": [],
   "source": [
    "scv.pl.velocity_embedding_grid(adc, basis='umap',color='cell type')\n",
    "scv.pl.velocity_embedding_stream(adc, basis='umap',color='cell type')\n",
    "scv.pl.velocity_embedding_grid(adc, basis='spatial',color='cell type',density=1,n_neighbors=None,smooth=1.5)"
   ]
  },
  {
   "cell_type": "code",
   "execution_count": null,
   "id": "56cf3b86",
   "metadata": {},
   "outputs": [],
   "source": [
    "scv.pl.velocity_embedding_grid(adc, basis='spatial',color='leiden_sub',density=1,n_neighbors=None,smooth=1.5)"
   ]
  },
  {
   "cell_type": "code",
   "execution_count": null,
   "id": "b87b8881",
   "metadata": {},
   "outputs": [],
   "source": [
    "sc.pl.umap(adc,color='COL15A1',vmax=1)"
   ]
  },
  {
   "cell_type": "code",
   "execution_count": null,
   "id": "2d409d5f",
   "metadata": {},
   "outputs": [],
   "source": [
    "sc.pl.umap(adc,color='leiden_sub')"
   ]
  },
  {
   "cell_type": "code",
   "execution_count": null,
   "id": "a6e48d9e",
   "metadata": {},
   "outputs": [],
   "source": [
    "sc.tl.rank_genes_groups(adc, groupby='leiden_sub', method='wilcoxon')\n",
    "sc.pl.rank_genes_groups_dotplot(adc, n_genes=5, swap_axes=False)#,save='deg.pdf')"
   ]
  },
  {
   "cell_type": "code",
   "execution_count": null,
   "id": "57a4b02f",
   "metadata": {},
   "outputs": [],
   "source": [
    "sc.pl.spatial(adc,color='COL15A1',vmax='p99',spot_size=20)"
   ]
  },
  {
   "cell_type": "code",
   "execution_count": null,
   "id": "4b92c0d8",
   "metadata": {},
   "outputs": [],
   "source": [
    "scv.tl.velocity_confidence(adc)\n",
    "keys = 'velocity_length', 'velocity_confidence'\n",
    "scv.pl.scatter(adc, c=keys, cmap='coolwarm', perc=[5, 95])"
   ]
  },
  {
   "cell_type": "code",
   "execution_count": null,
   "id": "d9ab74f7",
   "metadata": {},
   "outputs": [],
   "source": [
    "scv.pl.velocity_embedding(adc, arrow_length=6, arrow_size=2, dpi=120,color='cell type')"
   ]
  },
  {
   "cell_type": "code",
   "execution_count": null,
   "id": "d82dae63",
   "metadata": {},
   "outputs": [],
   "source": [
    "scv.tl.rank_velocity_genes(adc, groupby='cell type', min_corr=.3)\n",
    "df = scv.DataFrame(adc.uns['rank_velocity_genes']['names'])\n",
    "df.head()"
   ]
  },
  {
   "cell_type": "code",
   "execution_count": null,
   "id": "54924e82",
   "metadata": {},
   "outputs": [],
   "source": [
    "kwargs = dict(frameon=False, size=10, linewidth=1.5,\n",
    "              add_outline='Dura-inner,Dura-outer 2')\n",
    "\n",
    "scv.pl.scatter(adc, df['Dura-inner'][:5], ylabel='Dura-inner',color='cell type')\n",
    "scv.pl.scatter(adc, df['Dura-outer 2'][:5], ylabel='Dura-outer 2',color='cell type')"
   ]
  },
  {
   "cell_type": "code",
   "execution_count": null,
   "id": "7d7324f5",
   "metadata": {},
   "outputs": [],
   "source": [
    "scv.pl.velocity(adc, ['KLF5','DCLK1','MME','AIF1'], ncols=2, add_outline=True)"
   ]
  },
  {
   "cell_type": "code",
   "execution_count": null,
   "id": "1df7a19f",
   "metadata": {},
   "outputs": [],
   "source": [
    "adc.write('/media/sergio/Meninges/unprocessed_adata/dev_HE24-Men_DURA_velocity.h5ad')"
   ]
  },
  {
   "cell_type": "markdown",
   "id": "6cf8bf47",
   "metadata": {},
   "source": [
    "# Analysis of pia/arachnoid diff trajectories"
   ]
  },
  {
   "cell_type": "code",
   "execution_count": null,
   "id": "6fa327b5",
   "metadata": {},
   "outputs": [],
   "source": [
    "selected=['Pia','Arachnoid']\n",
    "adc=adata[adata.obs['cell type'].isin(selected)].copy()\n",
    "sc.pp.neighbors(adc,n_neighbors=10,n_pcs=0)\n",
    "sc.tl.umap(adc,min_dist=0.1)\n",
    "sc.tl.leiden(adc,key_added='leiden_sub')"
   ]
  },
  {
   "cell_type": "code",
   "execution_count": null,
   "id": "8ff8943e",
   "metadata": {},
   "outputs": [],
   "source": [
    "sc.pl.umap(adc,color='cell type')"
   ]
  },
  {
   "cell_type": "code",
   "execution_count": null,
   "id": "a11ee0b0",
   "metadata": {},
   "outputs": [],
   "source": [
    "scv.pp.filter_and_normalize(adc)\n",
    "scv.pp.moments(adc)\n",
    "scv.tl.velocity(adc, mode='stochastic')\n",
    "scv.tl.velocity_graph(adc)"
   ]
  },
  {
   "cell_type": "code",
   "execution_count": null,
   "id": "b34a1ee0",
   "metadata": {},
   "outputs": [],
   "source": [
    "scv.pl.velocity_embedding_grid(adc, basis='umap',color='cell type')\n",
    "scv.pl.velocity_embedding_stream(adc, basis='umap',color='cell type')\n",
    "scv.pl.velocity_embedding_grid(adc, basis='spatial',color='cell type',density=1,n_neighbors=None)"
   ]
  },
  {
   "cell_type": "code",
   "execution_count": null,
   "id": "f5faf647",
   "metadata": {},
   "outputs": [],
   "source": [
    "adc.write('/media/sergio/Meninges/unprocessed_adata/dev_HE24-Men_PIA_velocity.h5ad')"
   ]
  },
  {
   "cell_type": "code",
   "execution_count": null,
   "id": "7c1be914",
   "metadata": {},
   "outputs": [],
   "source": [
    "adc=sc.read('/media/sergio/Meninges/unprocessed_adata/dev_HE24-Men_PIA_velocity.h5ad')"
   ]
  },
  {
   "cell_type": "code",
   "execution_count": null,
   "id": "1462f575",
   "metadata": {},
   "outputs": [],
   "source": [
    "sc.pl.umap(adc,color=['LAMC3','COL15A1','SLC1A3','FOXC1','NID1','SLC22A6','FXYD5','SLC7A11','CCN3','APOD'],vmax='p99',s=40,ncols=2)"
   ]
  },
  {
   "cell_type": "code",
   "execution_count": null,
   "id": "75ed8fb2",
   "metadata": {},
   "outputs": [],
   "source": [
    "scv.tl.velocity_confidence(adc)\n",
    "keys = 'velocity_length', 'velocity_confidence'\n",
    "scv.pl.scatter(adc, c=keys, cmap='coolwarm', perc=[5, 95])"
   ]
  },
  {
   "cell_type": "markdown",
   "id": "ee613299",
   "metadata": {},
   "source": [
    "# Neuronal trajectories"
   ]
  },
  {
   "cell_type": "code",
   "execution_count": null,
   "id": "02abe2e3",
   "metadata": {},
   "outputs": [],
   "source": [
    "selected=['SVZ-IZ', 'Inner SVZ-IZ','IZ-cortical plate','Anterior cortical plate','Cortical Plate',\n",
    "         'Outer cortical plate','Subpallium VZ','VZ','Cortical plate cells','SVZ','Inner SVZ ','Cortical plate']\n",
    "adata.obs['selected']=adata.obs['cell type'].isin(selected).astype(str)"
   ]
  },
  {
   "cell_type": "code",
   "execution_count": null,
   "id": "f30ff5fc",
   "metadata": {},
   "outputs": [],
   "source": [
    "adc=adata[adata.obs['cell type'].isin(selected)].copy()\n",
    "sc.pp.neighbors(adc,n_neighbors=10,n_pcs=0)\n",
    "sc.tl.umap(adc,min_dist=0.1)\n",
    "sc.tl.leiden(adc,key_added='leiden_sub')"
   ]
  },
  {
   "cell_type": "code",
   "execution_count": null,
   "id": "d64216b9",
   "metadata": {},
   "outputs": [],
   "source": [
    "scv.pp.filter_and_normalize(adc)\n",
    "scv.pp.moments(adc)\n",
    "scv.tl.velocity(adc, mode='stochastic')\n",
    "scv.tl.velocity_graph(adc)"
   ]
  },
  {
   "cell_type": "code",
   "execution_count": null,
   "id": "6e904422",
   "metadata": {},
   "outputs": [],
   "source": [
    "sc.pl.umap(adc,color='cell type')"
   ]
  },
  {
   "cell_type": "code",
   "execution_count": null,
   "id": "6f80cc9d",
   "metadata": {},
   "outputs": [],
   "source": [
    "scv.set_figure_params(dpi_save=800)\n",
    "scv.pl.velocity_embedding_grid(adc, basis='umap',color='cell type',arrow_size=3,arrow_length=3,arrow_color='black',density=0.7,save='spatial-velo_umap.png',alpha=0.9,figsize=(10,10),s=2)"
   ]
  },
  {
   "cell_type": "code",
   "execution_count": null,
   "id": "0e442528",
   "metadata": {},
   "outputs": [],
   "source": [
    "scv.pl.velocity_embedding_stream(adc, basis='spatial',color='cell type',legend_loc='right margin',s=20,save='spati.png',dpi=300)"
   ]
  },
  {
   "cell_type": "code",
   "execution_count": null,
   "id": "5df3cfbd",
   "metadata": {},
   "outputs": [],
   "source": [
    "scv.pl.velocity_embedding_grid(adc, basis='umap',color='cell type')\n",
    "scv.pl.velocity_embedding_stream(adc, basis='umap',color='cell type',legend_loc='right margin')\n",
    "scv.pl.velocity_embedding_grid(adc, basis='spatial',color='cell type')#density=1,n_neighbors=None"
   ]
  },
  {
   "cell_type": "code",
   "execution_count": null,
   "id": "08924a62",
   "metadata": {},
   "outputs": [],
   "source": [
    "scv.pl.velocity_embedding(adc, arrow_length=2, arrow_size=5, dpi=120,color='cell type',basis='spatial',outline_width=0,linewidth=0)"
   ]
  },
  {
   "cell_type": "code",
   "execution_count": null,
   "id": "d7812f6f",
   "metadata": {},
   "outputs": [],
   "source": [
    "scv.set_figure_params(dpi_save=800)\n",
    "scv.pl.velocity_embedding_stream(adc, basis='spatial',color='cell type',density=2,figsize=(10,10),legend_loc='right margin',\n",
    "                                smooth=1,X_grid=False, V_grid=None,save='spatial_scvelo.png',alpha=0.9,s=2)"
   ]
  },
  {
   "cell_type": "code",
   "execution_count": null,
   "id": "eea37edb",
   "metadata": {},
   "outputs": [],
   "source": [
    "adc.write('/media/sergio/Meninges/unprocessed_adata/dev_HE24-Men_NEURONAL_velocity.h5ad')"
   ]
  },
  {
   "cell_type": "code",
   "execution_count": null,
   "id": "14be6a6e",
   "metadata": {},
   "outputs": [],
   "source": [
    "adc=sc.read('/media/sergio/Meninges/unprocessed_adata/dev_HE24-Men_NEURONAL_velocity.h5ad')"
   ]
  },
  {
   "cell_type": "markdown",
   "id": "b562f281",
   "metadata": {},
   "source": [
    "# General analysis"
   ]
  },
  {
   "cell_type": "code",
   "execution_count": null,
   "id": "193726c3",
   "metadata": {},
   "outputs": [],
   "source": [
    "sc.set_figure_params(scanpy=True, dpi=80, dpi_save=150, frameon=True, vector_friendly=True, fontsize=14, figsize=(10,10), color_map=None, format='pdf', facecolor=None, transparent=False, ipython_format='png2x')\n",
    "scv.pl.velocity_embedding_stream(adata, basis='spatial',color='cell type',density=3)"
   ]
  },
  {
   "cell_type": "code",
   "execution_count": null,
   "id": "eefb5ddc",
   "metadata": {},
   "outputs": [],
   "source": [
    "sc.pl.umap(adata,color='cell type')"
   ]
  },
  {
   "cell_type": "code",
   "execution_count": null,
   "id": "b8a605f3",
   "metadata": {},
   "outputs": [],
   "source": [
    "sc.set_figure_params(scanpy=True, dpi=80, dpi_save=150, frameon=True, vector_friendly=True, fontsize=14, figsize=(10,10), color_map=None, format='pdf', facecolor=None, transparent=False, ipython_format='png2x')\n",
    "scv.pl.velocity_embedding_stream(adata, basis='spatial',color='cell type',density=10,smooth=1)"
   ]
  },
  {
   "cell_type": "code",
   "execution_count": null,
   "id": "f7cb9506",
   "metadata": {},
   "outputs": [],
   "source": [
    "scv.pl.scatter(adata, basis=adata.var.index[0:15], ncols=3,color='cell type',s=30)"
   ]
  },
  {
   "cell_type": "code",
   "execution_count": null,
   "id": "d81049d4",
   "metadata": {
    "scrolled": true
   },
   "outputs": [],
   "source": [
    "for g in adata.var.index[31:50]:\n",
    "    scv.pl.velocity(adata,[g], ncols=2)"
   ]
  },
  {
   "cell_type": "code",
   "execution_count": null,
   "id": "552c3fe0",
   "metadata": {},
   "outputs": [],
   "source": [
    "scv.tl.velocity_confidence(adata)\n",
    "keys = 'velocity_length', 'velocity_confidence'\n",
    "scv.pl.scatter(adata, c=keys, cmap='coolwarm', perc=[5, 95])"
   ]
  },
  {
   "cell_type": "code",
   "execution_count": null,
   "id": "3dccefbf",
   "metadata": {},
   "outputs": [],
   "source": [
    "adata=sc.read('/media/sergio/Meninges/unprocessed_adata/dev_HE24-Men_with_cosine_sub_input.h5ad')"
   ]
  },
  {
   "cell_type": "code",
   "execution_count": null,
   "id": "5628c738",
   "metadata": {},
   "outputs": [],
   "source": [
    "sc.set_figure_params(scanpy=True, dpi=80, dpi_save=150, frameon=True, vector_friendly=True, fontsize=14, figsize=(10,10), color_map=None, format='pdf', facecolor=None, transparent=False, ipython_format='png2x')\n",
    "scv.pl.velocity_embedding_stream(adata, basis='umap',color='cell type',density=3, legend_fontsize=3)"
   ]
  },
  {
   "cell_type": "code",
   "execution_count": null,
   "id": "4112d2b5",
   "metadata": {},
   "outputs": [],
   "source": [
    "sc.pp.subsample(adata,0.1)"
   ]
  },
  {
   "cell_type": "code",
   "execution_count": null,
   "id": "7bba3084",
   "metadata": {},
   "outputs": [],
   "source": [
    "scv.tl.recover_dynamics(adata)"
   ]
  },
  {
   "cell_type": "code",
   "execution_count": null,
   "id": "8af2d257",
   "metadata": {},
   "outputs": [],
   "source": [
    "scv.tl.recover_dynamics(adata)\n",
    "scv.tl.velocity(adata, mode='dynamical')"
   ]
  },
  {
   "cell_type": "code",
   "execution_count": null,
   "id": "b6247a50",
   "metadata": {},
   "outputs": [],
   "source": [
    "adata.write('/media/sergio/Meninges/unprocessed_adata/dev_HE24-Men_with_cosine_sub_input_01_dynamical_model.h5ad')"
   ]
  },
  {
   "cell_type": "code",
   "execution_count": null,
   "id": "20b5aa54",
   "metadata": {},
   "outputs": [],
   "source": [
    "df = adata.var\n",
    "df = df[(df['fit_likelihood'] > .1) & df['velocity_genes'] == True]\n",
    "\n",
    "kwargs = dict(xscale='log', fontsize=16)\n",
    "with scv.GridSpec(ncols=3) as pl:\n",
    "    pl.hist(df['fit_alpha'], xlabel='transcription rate', **kwargs)\n",
    "    pl.hist(df['fit_beta'] * df['fit_scaling'], xlabel='splicing rate', xticks=[.1, .4, 1], **kwargs)\n",
    "    pl.hist(df['fit_gamma'], xlabel='degradation rate', xticks=[.1, .4, 1], **kwargs)\n",
    "\n",
    "scv.get_df(adata, 'fit*', dropna=True).head()"
   ]
  },
  {
   "cell_type": "code",
   "execution_count": null,
   "id": "c4b938b4",
   "metadata": {},
   "outputs": [],
   "source": [
    "#adataneigh=sc.read('/media/sergio/Meninges/unprocessed_adata/dev_HE27a_EdgeClust_pcw6.h5ad')"
   ]
  },
  {
   "cell_type": "code",
   "execution_count": null,
   "id": "a553b47c",
   "metadata": {},
   "outputs": [],
   "source": [
    "adata"
   ]
  },
  {
   "cell_type": "code",
   "execution_count": null,
   "id": "0d3975ef",
   "metadata": {},
   "outputs": [],
   "source": [
    "adataneigh.obs['x_umap']=[e[0] for e in  adataneigh.obsm['X_umap']]\n",
    "adataneigh.obs['y_umap']=[e[1] for e in  adataneigh.obsm['X_umap']]"
   ]
  },
  {
   "cell_type": "code",
   "execution_count": null,
   "id": "88755a09",
   "metadata": {},
   "outputs": [],
   "source": [
    "xdic=dict(zip(adataneigh.obs['cell_id'],adataneigh.obs['x_umap']))\n",
    "ydic=dict(zip(adataneigh.obs['cell_id'],adataneigh.obs['y_umap']))"
   ]
  },
  {
   "cell_type": "code",
   "execution_count": null,
   "id": "9b6aed3e",
   "metadata": {},
   "outputs": [],
   "source": [
    "adata.obs['edge_X']=adata.obs['cell_id'].map(xdic)\n",
    "adata.obs['edge_Y']=adata.obs['cell_id'].map(ydic)"
   ]
  },
  {
   "cell_type": "code",
   "execution_count": null,
   "id": "13d24bc2",
   "metadata": {},
   "outputs": [],
   "source": [
    "adata.obsm['edge']=np.array(adata.obs.loc[:,['edge_X','edge_Y']])"
   ]
  },
  {
   "cell_type": "code",
   "execution_count": null,
   "id": "4c0f98ab",
   "metadata": {
    "scrolled": false
   },
   "outputs": [],
   "source": [
    "sc.set_figure_params(scanpy=True, dpi=80, dpi_save=150, frameon=True, vector_friendly=True, fontsize=14, figsize=(10,10), color_map=None, format='pdf', facecolor=None, transparent=False, ipython_format='png2x')\n",
    "scv.pl.velocity_embedding_stream(adata, basis='edge',color='cell type',density=3)"
   ]
  },
  {
   "cell_type": "code",
   "execution_count": null,
   "id": "8cc23418",
   "metadata": {},
   "outputs": [],
   "source": [
    "scv.pl.velocity_embedding(adata, arrow_length=3, arrow_size=2, dpi=120,color='cell type')"
   ]
  },
  {
   "cell_type": "code",
   "execution_count": null,
   "id": "963d6934",
   "metadata": {},
   "outputs": [],
   "source": [
    "pathsave='/media/sergio/Meninges/nuclei_adata/meninges_pcw6_velocity.h5ad'\n",
    "adata.write(pathsave)"
   ]
  },
  {
   "cell_type": "code",
   "execution_count": null,
   "id": "99d70709",
   "metadata": {},
   "outputs": [],
   "source": [
    "pathsave='/media/sergio/Meninges/nuclei_adata/meninges_pcw9_velocity.h5ad'\n",
    "adata2=sc.read(pathsave)"
   ]
  }
 ],
 "metadata": {
  "kernelspec": {
   "display_name": "scvelo",
   "language": "python",
   "name": "python3"
  },
  "language_info": {
   "codemirror_mode": {
    "name": "ipython",
    "version": 3
   },
   "file_extension": ".py",
   "mimetype": "text/x-python",
   "name": "python",
   "nbconvert_exporter": "python",
   "pygments_lexer": "ipython3",
   "version": "3.1.undefined"
  }
 },
 "nbformat": 4,
 "nbformat_minor": 5
}
